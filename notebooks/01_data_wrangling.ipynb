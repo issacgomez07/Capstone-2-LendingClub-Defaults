{
 "cells": [
  {
   "cell_type": "raw",
   "metadata": {},
   "source": [
    "# 1 Data wrangling<a id='1_Data_wrangling'></a>"
   ]
  },
  {
   "cell_type": "markdown",
   "metadata": {},
   "source": [
    "## 1.1 Contents<a id='1.1_Contents'></a>\n",
    "* [1 Data wrangling](#1_Data_wrangling)\n",
    "  * [1.1 Contents](#1.1_Contents)\n",
    "  * [1.2 Introduction](#1.2_Introduction)\n",
    "  * [1.3 Imports](#1.3_Imports)\n",
    "  * [1.4 Load The Data](#1.4_Load_The_Data)\n",
    "  * [1.5 Explore The Data](#1.5_Explore_The_Data)\n",
    "    * [1.5.1 Number Of Missing Values By Column](#1.5.1_Number_Of_Missing_Values_By_Column)\n",
    "  * [1.6 Correcting Feature Types](#1.6_Correcting_Feature_Types)\n",
    "  * [1.7 Removing Data](#1.7_Removing_Data)\n",
    "    * [1.7.1 Irrelevant Features](#1.7.1_Irrelevant_Features)\n",
    "    * [1.7.2 Removing Null Values](#1.7.2_Removing_Null_Values)\n",
    "    * [1.7.3 Imputing Null Values](#1.7.3_Imputing_Null_Values)\n",
    "  * [1.8 Saving The Data](#1.8_Saving_The_Data)"
   ]
  },
  {
   "cell_type": "markdown",
   "metadata": {},
   "source": [
    "## 1.2 Introduction<a id='1.2_Introduction'></a>"
   ]
  },
  {
   "cell_type": "markdown",
   "metadata": {},
   "source": [
    "The first step will be collecting data, organizing it, and making sure it's well defined. The aim of the project is to create a model that will predict the likelihood of default. The data will need to be consistent and cleaned for the model to make accurate predictions."
   ]
  },
  {
   "cell_type": "markdown",
   "metadata": {},
   "source": [
    "## 1.3 Imports<a id='1.3_Imports'></a>"
   ]
  },
  {
   "cell_type": "code",
   "execution_count": 1,
   "metadata": {
    "scrolled": true
   },
   "outputs": [],
   "source": [
    "import pandas as pd\n",
    "import matplotlib.pyplot as plt\n",
    "import seaborn as sns\n",
    "import os\n",
    "import datetime as dt\n",
    "sns.set()\n",
    "pd.set_option('display.max_columns',50)"
   ]
  },
  {
   "cell_type": "markdown",
   "metadata": {},
   "source": [
    "First we import the appropriate libraries."
   ]
  },
  {
   "cell_type": "markdown",
   "metadata": {},
   "source": [
    "## 1.4 Load The Data<a id='1.4_Load_The_Data'></a>"
   ]
  },
  {
   "cell_type": "code",
   "execution_count": 2,
   "metadata": {},
   "outputs": [],
   "source": [
    "loan_default_data = pd.read_csv('../data/raw/loan_default_data.csv',index_col=0)"
   ]
  },
  {
   "cell_type": "markdown",
   "metadata": {},
   "source": [
    "Here we are loading the raw data into a pandas DataFrame."
   ]
  },
  {
   "cell_type": "code",
   "execution_count": 3,
   "metadata": {},
   "outputs": [
    {
     "name": "stdout",
     "output_type": "stream",
     "text": [
      "<class 'pandas.core.frame.DataFrame'>\n",
      "Int64Index: 38480 entries, 2 to 38480\n",
      "Data columns (total 36 columns):\n",
      " #   Column                  Non-Null Count  Dtype  \n",
      "---  ------                  --------------  -----  \n",
      " 0   id                      38480 non-null  int64  \n",
      " 1   member_id               38480 non-null  int64  \n",
      " 2   loan_amnt               38479 non-null  float64\n",
      " 3   funded_amnt             38479 non-null  float64\n",
      " 4   funded_amnt_inv         38479 non-null  float64\n",
      " 5   term                    38480 non-null  object \n",
      " 6   int_rate                38480 non-null  float64\n",
      " 7   installment             38479 non-null  float64\n",
      " 8   emp_length              37487 non-null  object \n",
      " 9   home_ownership          38480 non-null  object \n",
      " 10  annual_inc              38478 non-null  float64\n",
      " 11  verification_status     38480 non-null  object \n",
      " 12  issue_d                 38480 non-null  object \n",
      " 13  loan_status             38480 non-null  object \n",
      " 14  purpose                 38480 non-null  object \n",
      " 15  zip_code                38480 non-null  object \n",
      " 16  addr_state              38480 non-null  object \n",
      " 17  dti                     38480 non-null  float64\n",
      " 18  delinq_2yrs             38479 non-null  float64\n",
      " 19  earliest_cr_line        38480 non-null  object \n",
      " 20  inq_last_6mths          38479 non-null  float64\n",
      " 21  mths_since_last_delinq  14117 non-null  float64\n",
      " 22  open_acc                38479 non-null  float64\n",
      " 23  pub_rec                 38479 non-null  float64\n",
      " 24  revol_bal               38476 non-null  float64\n",
      " 25  revol_util              38421 non-null  object \n",
      " 26  total_acc               38479 non-null  float64\n",
      " 27  total_pymnt             38479 non-null  float64\n",
      " 28  total_pymnt_inv         38479 non-null  float64\n",
      " 29  total_rec_prncp         38479 non-null  float64\n",
      " 30  total_rec_int           38479 non-null  float64\n",
      " 31  last_pymnt_d            38409 non-null  object \n",
      " 32  last_pymnt_amnt         38479 non-null  float64\n",
      " 33  next_pymnt_d            3383 non-null   object \n",
      " 34  last_credit_pull_d      38477 non-null  object \n",
      " 35  repay_fail              38480 non-null  int64  \n",
      "dtypes: float64(19), int64(3), object(14)\n",
      "memory usage: 10.9+ MB\n"
     ]
    }
   ],
   "source": [
    "loan_default_data.info()"
   ]
  },
  {
   "cell_type": "markdown",
   "metadata": {},
   "source": [
    "Next, we check the data types and if there are missing values in the data. There seem to be data types incorrectly defined for some of the features, such as `revol_util` (revolving debt utilized), which should be represented as a float data type. We can see that some columns also have missing data, especially `mths_since_last_delinq`. Note that the feature we will be predicting, `repay_fail` (whether a borrower has defaulted), is included and has no missing values."
   ]
  },
  {
   "cell_type": "code",
   "execution_count": 4,
   "metadata": {
    "scrolled": true
   },
   "outputs": [
    {
     "data": {
      "text/html": [
       "<div>\n",
       "<style scoped>\n",
       "    .dataframe tbody tr th:only-of-type {\n",
       "        vertical-align: middle;\n",
       "    }\n",
       "\n",
       "    .dataframe tbody tr th {\n",
       "        vertical-align: top;\n",
       "    }\n",
       "\n",
       "    .dataframe thead th {\n",
       "        text-align: right;\n",
       "    }\n",
       "</style>\n",
       "<table border=\"1\" class=\"dataframe\">\n",
       "  <thead>\n",
       "    <tr style=\"text-align: right;\">\n",
       "      <th></th>\n",
       "      <th>id</th>\n",
       "      <th>member_id</th>\n",
       "      <th>loan_amnt</th>\n",
       "      <th>funded_amnt</th>\n",
       "      <th>funded_amnt_inv</th>\n",
       "      <th>term</th>\n",
       "      <th>int_rate</th>\n",
       "      <th>installment</th>\n",
       "      <th>emp_length</th>\n",
       "      <th>home_ownership</th>\n",
       "      <th>annual_inc</th>\n",
       "      <th>verification_status</th>\n",
       "      <th>issue_d</th>\n",
       "      <th>loan_status</th>\n",
       "      <th>purpose</th>\n",
       "      <th>zip_code</th>\n",
       "      <th>addr_state</th>\n",
       "      <th>dti</th>\n",
       "      <th>delinq_2yrs</th>\n",
       "      <th>earliest_cr_line</th>\n",
       "      <th>inq_last_6mths</th>\n",
       "      <th>mths_since_last_delinq</th>\n",
       "      <th>open_acc</th>\n",
       "      <th>pub_rec</th>\n",
       "      <th>revol_bal</th>\n",
       "      <th>revol_util</th>\n",
       "      <th>total_acc</th>\n",
       "      <th>total_pymnt</th>\n",
       "      <th>total_pymnt_inv</th>\n",
       "      <th>total_rec_prncp</th>\n",
       "      <th>total_rec_int</th>\n",
       "      <th>last_pymnt_d</th>\n",
       "      <th>last_pymnt_amnt</th>\n",
       "      <th>next_pymnt_d</th>\n",
       "      <th>last_credit_pull_d</th>\n",
       "      <th>repay_fail</th>\n",
       "    </tr>\n",
       "  </thead>\n",
       "  <tbody>\n",
       "    <tr>\n",
       "      <th>2</th>\n",
       "      <td>2</td>\n",
       "      <td>2</td>\n",
       "      <td>0.0</td>\n",
       "      <td>0.0</td>\n",
       "      <td>0.0</td>\n",
       "      <td>36 months</td>\n",
       "      <td>0.00</td>\n",
       "      <td>0.00</td>\n",
       "      <td>&lt; 1 year</td>\n",
       "      <td>RENT</td>\n",
       "      <td>0.0</td>\n",
       "      <td>Not Verified</td>\n",
       "      <td>Dec-99</td>\n",
       "      <td>Charged Off</td>\n",
       "      <td>major_purchase</td>\n",
       "      <td>000xx</td>\n",
       "      <td>ZZ</td>\n",
       "      <td>0.00</td>\n",
       "      <td>0.0</td>\n",
       "      <td>1-Jan</td>\n",
       "      <td>0.0</td>\n",
       "      <td>NaN</td>\n",
       "      <td>0.0</td>\n",
       "      <td>0.0</td>\n",
       "      <td>0.0</td>\n",
       "      <td>“0.00%”</td>\n",
       "      <td>1.0</td>\n",
       "      <td>0.000000</td>\n",
       "      <td>0.00</td>\n",
       "      <td>0.00</td>\n",
       "      <td>0.00</td>\n",
       "      <td>7-Jan</td>\n",
       "      <td>0.00</td>\n",
       "      <td>7-Jan</td>\n",
       "      <td>7-Jan</td>\n",
       "      <td>1</td>\n",
       "    </tr>\n",
       "    <tr>\n",
       "      <th>3</th>\n",
       "      <td>545583</td>\n",
       "      <td>703644</td>\n",
       "      <td>2500.0</td>\n",
       "      <td>2500.0</td>\n",
       "      <td>2500.0</td>\n",
       "      <td>36 months</td>\n",
       "      <td>13.98</td>\n",
       "      <td>85.42</td>\n",
       "      <td>4 years</td>\n",
       "      <td>RENT</td>\n",
       "      <td>20004.0</td>\n",
       "      <td>Not Verified</td>\n",
       "      <td>10-Jul</td>\n",
       "      <td>Does not meet the credit policy. Status:Fully ...</td>\n",
       "      <td>other</td>\n",
       "      <td>487xx</td>\n",
       "      <td>MI</td>\n",
       "      <td>19.86</td>\n",
       "      <td>0.0</td>\n",
       "      <td>5-Aug</td>\n",
       "      <td>5.0</td>\n",
       "      <td>NaN</td>\n",
       "      <td>7.0</td>\n",
       "      <td>0.0</td>\n",
       "      <td>981.0</td>\n",
       "      <td>21.30%</td>\n",
       "      <td>10.0</td>\n",
       "      <td>3075.291779</td>\n",
       "      <td>3075.29</td>\n",
       "      <td>2500.00</td>\n",
       "      <td>575.29</td>\n",
       "      <td>13-Jul</td>\n",
       "      <td>90.85</td>\n",
       "      <td>13-Aug</td>\n",
       "      <td>16-Jun</td>\n",
       "      <td>0</td>\n",
       "    </tr>\n",
       "    <tr>\n",
       "      <th>4</th>\n",
       "      <td>532101</td>\n",
       "      <td>687836</td>\n",
       "      <td>5000.0</td>\n",
       "      <td>5000.0</td>\n",
       "      <td>5000.0</td>\n",
       "      <td>36 months</td>\n",
       "      <td>15.95</td>\n",
       "      <td>175.67</td>\n",
       "      <td>4 years</td>\n",
       "      <td>RENT</td>\n",
       "      <td>59000.0</td>\n",
       "      <td>Not Verified</td>\n",
       "      <td>10-Jun</td>\n",
       "      <td>Charged Off</td>\n",
       "      <td>debt_consolidation</td>\n",
       "      <td>115xx</td>\n",
       "      <td>NY</td>\n",
       "      <td>19.57</td>\n",
       "      <td>0.0</td>\n",
       "      <td>Apr-94</td>\n",
       "      <td>1.0</td>\n",
       "      <td>59.0</td>\n",
       "      <td>7.0</td>\n",
       "      <td>0.0</td>\n",
       "      <td>18773.0</td>\n",
       "      <td>99.90%</td>\n",
       "      <td>15.0</td>\n",
       "      <td>2948.760000</td>\n",
       "      <td>2948.76</td>\n",
       "      <td>1909.02</td>\n",
       "      <td>873.81</td>\n",
       "      <td>11-Nov</td>\n",
       "      <td>175.67</td>\n",
       "      <td>NaN</td>\n",
       "      <td>12-Mar</td>\n",
       "      <td>1</td>\n",
       "    </tr>\n",
       "    <tr>\n",
       "      <th>5</th>\n",
       "      <td>877788</td>\n",
       "      <td>1092507</td>\n",
       "      <td>7000.0</td>\n",
       "      <td>7000.0</td>\n",
       "      <td>7000.0</td>\n",
       "      <td>36 months</td>\n",
       "      <td>9.91</td>\n",
       "      <td>225.58</td>\n",
       "      <td>10+ years</td>\n",
       "      <td>MORTGAGE</td>\n",
       "      <td>53796.0</td>\n",
       "      <td>Not Verified</td>\n",
       "      <td>11-Sep</td>\n",
       "      <td>Fully Paid</td>\n",
       "      <td>other</td>\n",
       "      <td>751xx</td>\n",
       "      <td>TX</td>\n",
       "      <td>10.80</td>\n",
       "      <td>3.0</td>\n",
       "      <td>Mar-98</td>\n",
       "      <td>3.0</td>\n",
       "      <td>3.0</td>\n",
       "      <td>7.0</td>\n",
       "      <td>0.0</td>\n",
       "      <td>3269.0</td>\n",
       "      <td>47.20%</td>\n",
       "      <td>20.0</td>\n",
       "      <td>8082.391880</td>\n",
       "      <td>8082.39</td>\n",
       "      <td>7000.00</td>\n",
       "      <td>1082.39</td>\n",
       "      <td>14-Mar</td>\n",
       "      <td>1550.27</td>\n",
       "      <td>NaN</td>\n",
       "      <td>14-Mar</td>\n",
       "      <td>0</td>\n",
       "    </tr>\n",
       "    <tr>\n",
       "      <th>6</th>\n",
       "      <td>875406</td>\n",
       "      <td>1089981</td>\n",
       "      <td>2000.0</td>\n",
       "      <td>2000.0</td>\n",
       "      <td>2000.0</td>\n",
       "      <td>36 months</td>\n",
       "      <td>5.42</td>\n",
       "      <td>60.32</td>\n",
       "      <td>10+ years</td>\n",
       "      <td>RENT</td>\n",
       "      <td>30000.0</td>\n",
       "      <td>Not Verified</td>\n",
       "      <td>11-Sep</td>\n",
       "      <td>Fully Paid</td>\n",
       "      <td>debt_consolidation</td>\n",
       "      <td>112xx</td>\n",
       "      <td>NY</td>\n",
       "      <td>3.60</td>\n",
       "      <td>0.0</td>\n",
       "      <td>Jan-75</td>\n",
       "      <td>0.0</td>\n",
       "      <td>72.0</td>\n",
       "      <td>7.0</td>\n",
       "      <td>0.0</td>\n",
       "      <td>0.0</td>\n",
       "      <td>0%</td>\n",
       "      <td>15.0</td>\n",
       "      <td>2161.663244</td>\n",
       "      <td>2161.66</td>\n",
       "      <td>2000.00</td>\n",
       "      <td>161.66</td>\n",
       "      <td>14-Feb</td>\n",
       "      <td>53.12</td>\n",
       "      <td>NaN</td>\n",
       "      <td>16-Jun</td>\n",
       "      <td>0</td>\n",
       "    </tr>\n",
       "  </tbody>\n",
       "</table>\n",
       "</div>"
      ],
      "text/plain": [
       "       id  member_id  loan_amnt  funded_amnt  funded_amnt_inv       term  \\\n",
       "2       2          2        0.0          0.0              0.0  36 months   \n",
       "3  545583     703644     2500.0       2500.0           2500.0  36 months   \n",
       "4  532101     687836     5000.0       5000.0           5000.0  36 months   \n",
       "5  877788    1092507     7000.0       7000.0           7000.0  36 months   \n",
       "6  875406    1089981     2000.0       2000.0           2000.0  36 months   \n",
       "\n",
       "   int_rate  installment emp_length home_ownership  annual_inc  \\\n",
       "2      0.00         0.00   < 1 year           RENT         0.0   \n",
       "3     13.98        85.42    4 years           RENT     20004.0   \n",
       "4     15.95       175.67    4 years           RENT     59000.0   \n",
       "5      9.91       225.58  10+ years       MORTGAGE     53796.0   \n",
       "6      5.42        60.32  10+ years           RENT     30000.0   \n",
       "\n",
       "  verification_status issue_d  \\\n",
       "2        Not Verified  Dec-99   \n",
       "3        Not Verified  10-Jul   \n",
       "4        Not Verified  10-Jun   \n",
       "5        Not Verified  11-Sep   \n",
       "6        Not Verified  11-Sep   \n",
       "\n",
       "                                         loan_status             purpose  \\\n",
       "2                                        Charged Off      major_purchase   \n",
       "3  Does not meet the credit policy. Status:Fully ...               other   \n",
       "4                                        Charged Off  debt_consolidation   \n",
       "5                                         Fully Paid               other   \n",
       "6                                         Fully Paid  debt_consolidation   \n",
       "\n",
       "  zip_code addr_state    dti  delinq_2yrs earliest_cr_line  inq_last_6mths  \\\n",
       "2    000xx         ZZ   0.00          0.0            1-Jan             0.0   \n",
       "3    487xx         MI  19.86          0.0            5-Aug             5.0   \n",
       "4    115xx         NY  19.57          0.0           Apr-94             1.0   \n",
       "5    751xx         TX  10.80          3.0           Mar-98             3.0   \n",
       "6    112xx         NY   3.60          0.0           Jan-75             0.0   \n",
       "\n",
       "   mths_since_last_delinq  open_acc  pub_rec  revol_bal revol_util  total_acc  \\\n",
       "2                     NaN       0.0      0.0        0.0    “0.00%”        1.0   \n",
       "3                     NaN       7.0      0.0      981.0     21.30%       10.0   \n",
       "4                    59.0       7.0      0.0    18773.0     99.90%       15.0   \n",
       "5                     3.0       7.0      0.0     3269.0     47.20%       20.0   \n",
       "6                    72.0       7.0      0.0        0.0         0%       15.0   \n",
       "\n",
       "   total_pymnt  total_pymnt_inv  total_rec_prncp  total_rec_int last_pymnt_d  \\\n",
       "2     0.000000             0.00             0.00           0.00        7-Jan   \n",
       "3  3075.291779          3075.29          2500.00         575.29       13-Jul   \n",
       "4  2948.760000          2948.76          1909.02         873.81       11-Nov   \n",
       "5  8082.391880          8082.39          7000.00        1082.39       14-Mar   \n",
       "6  2161.663244          2161.66          2000.00         161.66       14-Feb   \n",
       "\n",
       "   last_pymnt_amnt next_pymnt_d last_credit_pull_d  repay_fail  \n",
       "2             0.00        7-Jan              7-Jan           1  \n",
       "3            90.85       13-Aug             16-Jun           0  \n",
       "4           175.67          NaN             12-Mar           1  \n",
       "5          1550.27          NaN             14-Mar           0  \n",
       "6            53.12          NaN             16-Jun           0  "
      ]
     },
     "execution_count": 4,
     "metadata": {},
     "output_type": "execute_result"
    }
   ],
   "source": [
    "loan_default_data.head()"
   ]
  },
  {
   "cell_type": "markdown",
   "metadata": {},
   "source": [
    "It is always a good idea to get a quick summary of how the data looks. The first row holds missing values. We will be able to remove the first row and column. By inspection we can see that the zip codes are not fully given. The first row contains 'ZZ' as the state abbreviation under `addr_state`, possibly being the default null value for states. The `earliest_cr_line` dates are formatted differently, for the current year as DD-MM and for previous years MM-YY. As mentioned earlier, `revol_util` is shown as object type, and it is evident that it's because there may be several entries like the first entry with quotation marks, turning the data into strings."
   ]
  },
  {
   "cell_type": "markdown",
   "metadata": {},
   "source": [
    "## 1.5 Explore The Data<a id='1.5_Explore_The_Data'></a>"
   ]
  },
  {
   "cell_type": "markdown",
   "metadata": {},
   "source": [
    "### 1.5.1 Number Of Missing Values By Column<a id='1.5.1_Number_Of_Missing_Values_By_Column'></a>"
   ]
  },
  {
   "cell_type": "code",
   "execution_count": 5,
   "metadata": {},
   "outputs": [
    {
     "data": {
      "text/html": [
       "<div>\n",
       "<style scoped>\n",
       "    .dataframe tbody tr th:only-of-type {\n",
       "        vertical-align: middle;\n",
       "    }\n",
       "\n",
       "    .dataframe tbody tr th {\n",
       "        vertical-align: top;\n",
       "    }\n",
       "\n",
       "    .dataframe thead th {\n",
       "        text-align: right;\n",
       "    }\n",
       "</style>\n",
       "<table border=\"1\" class=\"dataframe\">\n",
       "  <thead>\n",
       "    <tr style=\"text-align: right;\">\n",
       "      <th></th>\n",
       "      <th>count</th>\n",
       "      <th>%</th>\n",
       "    </tr>\n",
       "  </thead>\n",
       "  <tbody>\n",
       "    <tr>\n",
       "      <th>next_pymnt_d</th>\n",
       "      <td>35097</td>\n",
       "      <td>91.208420</td>\n",
       "    </tr>\n",
       "    <tr>\n",
       "      <th>mths_since_last_delinq</th>\n",
       "      <td>24363</td>\n",
       "      <td>63.313410</td>\n",
       "    </tr>\n",
       "    <tr>\n",
       "      <th>emp_length</th>\n",
       "      <td>993</td>\n",
       "      <td>2.580561</td>\n",
       "    </tr>\n",
       "    <tr>\n",
       "      <th>last_pymnt_d</th>\n",
       "      <td>71</td>\n",
       "      <td>0.184511</td>\n",
       "    </tr>\n",
       "    <tr>\n",
       "      <th>revol_util</th>\n",
       "      <td>59</td>\n",
       "      <td>0.153326</td>\n",
       "    </tr>\n",
       "    <tr>\n",
       "      <th>revol_bal</th>\n",
       "      <td>4</td>\n",
       "      <td>0.010395</td>\n",
       "    </tr>\n",
       "    <tr>\n",
       "      <th>last_credit_pull_d</th>\n",
       "      <td>3</td>\n",
       "      <td>0.007796</td>\n",
       "    </tr>\n",
       "    <tr>\n",
       "      <th>annual_inc</th>\n",
       "      <td>2</td>\n",
       "      <td>0.005198</td>\n",
       "    </tr>\n",
       "    <tr>\n",
       "      <th>funded_amnt_inv</th>\n",
       "      <td>1</td>\n",
       "      <td>0.002599</td>\n",
       "    </tr>\n",
       "    <tr>\n",
       "      <th>total_pymnt_inv</th>\n",
       "      <td>1</td>\n",
       "      <td>0.002599</td>\n",
       "    </tr>\n",
       "    <tr>\n",
       "      <th>inq_last_6mths</th>\n",
       "      <td>1</td>\n",
       "      <td>0.002599</td>\n",
       "    </tr>\n",
       "    <tr>\n",
       "      <th>pub_rec</th>\n",
       "      <td>1</td>\n",
       "      <td>0.002599</td>\n",
       "    </tr>\n",
       "    <tr>\n",
       "      <th>total_acc</th>\n",
       "      <td>1</td>\n",
       "      <td>0.002599</td>\n",
       "    </tr>\n",
       "    <tr>\n",
       "      <th>total_pymnt</th>\n",
       "      <td>1</td>\n",
       "      <td>0.002599</td>\n",
       "    </tr>\n",
       "    <tr>\n",
       "      <th>total_rec_prncp</th>\n",
       "      <td>1</td>\n",
       "      <td>0.002599</td>\n",
       "    </tr>\n",
       "    <tr>\n",
       "      <th>total_rec_int</th>\n",
       "      <td>1</td>\n",
       "      <td>0.002599</td>\n",
       "    </tr>\n",
       "    <tr>\n",
       "      <th>open_acc</th>\n",
       "      <td>1</td>\n",
       "      <td>0.002599</td>\n",
       "    </tr>\n",
       "    <tr>\n",
       "      <th>last_pymnt_amnt</th>\n",
       "      <td>1</td>\n",
       "      <td>0.002599</td>\n",
       "    </tr>\n",
       "    <tr>\n",
       "      <th>loan_amnt</th>\n",
       "      <td>1</td>\n",
       "      <td>0.002599</td>\n",
       "    </tr>\n",
       "    <tr>\n",
       "      <th>installment</th>\n",
       "      <td>1</td>\n",
       "      <td>0.002599</td>\n",
       "    </tr>\n",
       "    <tr>\n",
       "      <th>funded_amnt</th>\n",
       "      <td>1</td>\n",
       "      <td>0.002599</td>\n",
       "    </tr>\n",
       "    <tr>\n",
       "      <th>delinq_2yrs</th>\n",
       "      <td>1</td>\n",
       "      <td>0.002599</td>\n",
       "    </tr>\n",
       "    <tr>\n",
       "      <th>id</th>\n",
       "      <td>0</td>\n",
       "      <td>0.000000</td>\n",
       "    </tr>\n",
       "    <tr>\n",
       "      <th>earliest_cr_line</th>\n",
       "      <td>0</td>\n",
       "      <td>0.000000</td>\n",
       "    </tr>\n",
       "    <tr>\n",
       "      <th>member_id</th>\n",
       "      <td>0</td>\n",
       "      <td>0.000000</td>\n",
       "    </tr>\n",
       "    <tr>\n",
       "      <th>dti</th>\n",
       "      <td>0</td>\n",
       "      <td>0.000000</td>\n",
       "    </tr>\n",
       "    <tr>\n",
       "      <th>addr_state</th>\n",
       "      <td>0</td>\n",
       "      <td>0.000000</td>\n",
       "    </tr>\n",
       "    <tr>\n",
       "      <th>zip_code</th>\n",
       "      <td>0</td>\n",
       "      <td>0.000000</td>\n",
       "    </tr>\n",
       "    <tr>\n",
       "      <th>purpose</th>\n",
       "      <td>0</td>\n",
       "      <td>0.000000</td>\n",
       "    </tr>\n",
       "    <tr>\n",
       "      <th>loan_status</th>\n",
       "      <td>0</td>\n",
       "      <td>0.000000</td>\n",
       "    </tr>\n",
       "    <tr>\n",
       "      <th>issue_d</th>\n",
       "      <td>0</td>\n",
       "      <td>0.000000</td>\n",
       "    </tr>\n",
       "    <tr>\n",
       "      <th>verification_status</th>\n",
       "      <td>0</td>\n",
       "      <td>0.000000</td>\n",
       "    </tr>\n",
       "    <tr>\n",
       "      <th>home_ownership</th>\n",
       "      <td>0</td>\n",
       "      <td>0.000000</td>\n",
       "    </tr>\n",
       "    <tr>\n",
       "      <th>int_rate</th>\n",
       "      <td>0</td>\n",
       "      <td>0.000000</td>\n",
       "    </tr>\n",
       "    <tr>\n",
       "      <th>term</th>\n",
       "      <td>0</td>\n",
       "      <td>0.000000</td>\n",
       "    </tr>\n",
       "    <tr>\n",
       "      <th>repay_fail</th>\n",
       "      <td>0</td>\n",
       "      <td>0.000000</td>\n",
       "    </tr>\n",
       "  </tbody>\n",
       "</table>\n",
       "</div>"
      ],
      "text/plain": [
       "                        count          %\n",
       "next_pymnt_d            35097  91.208420\n",
       "mths_since_last_delinq  24363  63.313410\n",
       "emp_length                993   2.580561\n",
       "last_pymnt_d               71   0.184511\n",
       "revol_util                 59   0.153326\n",
       "revol_bal                   4   0.010395\n",
       "last_credit_pull_d          3   0.007796\n",
       "annual_inc                  2   0.005198\n",
       "funded_amnt_inv             1   0.002599\n",
       "total_pymnt_inv             1   0.002599\n",
       "inq_last_6mths              1   0.002599\n",
       "pub_rec                     1   0.002599\n",
       "total_acc                   1   0.002599\n",
       "total_pymnt                 1   0.002599\n",
       "total_rec_prncp             1   0.002599\n",
       "total_rec_int               1   0.002599\n",
       "open_acc                    1   0.002599\n",
       "last_pymnt_amnt             1   0.002599\n",
       "loan_amnt                   1   0.002599\n",
       "installment                 1   0.002599\n",
       "funded_amnt                 1   0.002599\n",
       "delinq_2yrs                 1   0.002599\n",
       "id                          0   0.000000\n",
       "earliest_cr_line            0   0.000000\n",
       "member_id                   0   0.000000\n",
       "dti                         0   0.000000\n",
       "addr_state                  0   0.000000\n",
       "zip_code                    0   0.000000\n",
       "purpose                     0   0.000000\n",
       "loan_status                 0   0.000000\n",
       "issue_d                     0   0.000000\n",
       "verification_status         0   0.000000\n",
       "home_ownership              0   0.000000\n",
       "int_rate                    0   0.000000\n",
       "term                        0   0.000000\n",
       "repay_fail                  0   0.000000"
      ]
     },
     "execution_count": 5,
     "metadata": {},
     "output_type": "execute_result"
    }
   ],
   "source": [
    "missing = pd.concat([loan_default_data.isnull().sum(), 100 * loan_default_data.isnull().mean()], axis=1)\n",
    "missing.columns=['count', '%']\n",
    "missing.sort_values(by=['count'], ascending = False)"
   ]
  },
  {
   "cell_type": "markdown",
   "metadata": {},
   "source": [
    "There are only two columns that are missing a majority of their features. `next_pymnt_d` (next payment date) is missing over 90% of its entries. Fortunately, with our objective being predicting the likelihood of a loan default, this feature is likely not significant in determining a default. `mths_since_last_delinq` (months since last delinquency) likely holds more power in determining default, but with most of the entries missing we will need to get rid of the column altogether. Fortunately, the next largest percentage of missing data is just over 2% for `emp_length` (employment length). Our data looks very promising to utilize."
   ]
  },
  {
   "cell_type": "code",
   "execution_count": 6,
   "metadata": {},
   "outputs": [],
   "source": [
    "loan_defaulted = loan_default_data[loan_default_data['repay_fail'] == 1]\n",
    "loan_not_defaulted = loan_default_data[loan_default_data['repay_fail'] == 0]"
   ]
  },
  {
   "cell_type": "markdown",
   "metadata": {},
   "source": [
    "The feature that the model will be predicting is `repay_fail`. It is worth checking that the null values aren't exclusive to when a loan has defaulted (i,e. `repay_fail`= 1). We'll split up the data into two sets, defaulted loans and non-defaulted loans. Then compare how many null values are in each set of data to see if they are distributed equally."
   ]
  },
  {
   "cell_type": "code",
   "execution_count": 7,
   "metadata": {},
   "outputs": [
    {
     "data": {
      "text/html": [
       "<div>\n",
       "<style scoped>\n",
       "    .dataframe tbody tr th:only-of-type {\n",
       "        vertical-align: middle;\n",
       "    }\n",
       "\n",
       "    .dataframe tbody tr th {\n",
       "        vertical-align: top;\n",
       "    }\n",
       "\n",
       "    .dataframe thead th {\n",
       "        text-align: right;\n",
       "    }\n",
       "</style>\n",
       "<table border=\"1\" class=\"dataframe\">\n",
       "  <thead>\n",
       "    <tr style=\"text-align: right;\">\n",
       "      <th></th>\n",
       "      <th>count</th>\n",
       "      <th>%</th>\n",
       "    </tr>\n",
       "  </thead>\n",
       "  <tbody>\n",
       "    <tr>\n",
       "      <th>next_pymnt_d</th>\n",
       "      <td>5110</td>\n",
       "      <td>87.665123</td>\n",
       "    </tr>\n",
       "    <tr>\n",
       "      <th>mths_since_last_delinq</th>\n",
       "      <td>3445</td>\n",
       "      <td>59.101046</td>\n",
       "    </tr>\n",
       "    <tr>\n",
       "      <th>emp_length</th>\n",
       "      <td>219</td>\n",
       "      <td>3.757077</td>\n",
       "    </tr>\n",
       "    <tr>\n",
       "      <th>last_pymnt_d</th>\n",
       "      <td>71</td>\n",
       "      <td>1.218048</td>\n",
       "    </tr>\n",
       "    <tr>\n",
       "      <th>revol_util</th>\n",
       "      <td>19</td>\n",
       "      <td>0.325956</td>\n",
       "    </tr>\n",
       "    <tr>\n",
       "      <th>last_credit_pull_d</th>\n",
       "      <td>1</td>\n",
       "      <td>0.017156</td>\n",
       "    </tr>\n",
       "    <tr>\n",
       "      <th>revol_bal</th>\n",
       "      <td>1</td>\n",
       "      <td>0.017156</td>\n",
       "    </tr>\n",
       "    <tr>\n",
       "      <th>annual_inc</th>\n",
       "      <td>1</td>\n",
       "      <td>0.017156</td>\n",
       "    </tr>\n",
       "    <tr>\n",
       "      <th>id</th>\n",
       "      <td>0</td>\n",
       "      <td>0.000000</td>\n",
       "    </tr>\n",
       "    <tr>\n",
       "      <th>total_acc</th>\n",
       "      <td>0</td>\n",
       "      <td>0.000000</td>\n",
       "    </tr>\n",
       "    <tr>\n",
       "      <th>open_acc</th>\n",
       "      <td>0</td>\n",
       "      <td>0.000000</td>\n",
       "    </tr>\n",
       "    <tr>\n",
       "      <th>pub_rec</th>\n",
       "      <td>0</td>\n",
       "      <td>0.000000</td>\n",
       "    </tr>\n",
       "    <tr>\n",
       "      <th>total_pymnt_inv</th>\n",
       "      <td>0</td>\n",
       "      <td>0.000000</td>\n",
       "    </tr>\n",
       "    <tr>\n",
       "      <th>total_pymnt</th>\n",
       "      <td>0</td>\n",
       "      <td>0.000000</td>\n",
       "    </tr>\n",
       "    <tr>\n",
       "      <th>earliest_cr_line</th>\n",
       "      <td>0</td>\n",
       "      <td>0.000000</td>\n",
       "    </tr>\n",
       "    <tr>\n",
       "      <th>total_rec_prncp</th>\n",
       "      <td>0</td>\n",
       "      <td>0.000000</td>\n",
       "    </tr>\n",
       "    <tr>\n",
       "      <th>total_rec_int</th>\n",
       "      <td>0</td>\n",
       "      <td>0.000000</td>\n",
       "    </tr>\n",
       "    <tr>\n",
       "      <th>last_pymnt_amnt</th>\n",
       "      <td>0</td>\n",
       "      <td>0.000000</td>\n",
       "    </tr>\n",
       "    <tr>\n",
       "      <th>inq_last_6mths</th>\n",
       "      <td>0</td>\n",
       "      <td>0.000000</td>\n",
       "    </tr>\n",
       "    <tr>\n",
       "      <th>delinq_2yrs</th>\n",
       "      <td>0</td>\n",
       "      <td>0.000000</td>\n",
       "    </tr>\n",
       "    <tr>\n",
       "      <th>member_id</th>\n",
       "      <td>0</td>\n",
       "      <td>0.000000</td>\n",
       "    </tr>\n",
       "    <tr>\n",
       "      <th>dti</th>\n",
       "      <td>0</td>\n",
       "      <td>0.000000</td>\n",
       "    </tr>\n",
       "    <tr>\n",
       "      <th>addr_state</th>\n",
       "      <td>0</td>\n",
       "      <td>0.000000</td>\n",
       "    </tr>\n",
       "    <tr>\n",
       "      <th>zip_code</th>\n",
       "      <td>0</td>\n",
       "      <td>0.000000</td>\n",
       "    </tr>\n",
       "    <tr>\n",
       "      <th>purpose</th>\n",
       "      <td>0</td>\n",
       "      <td>0.000000</td>\n",
       "    </tr>\n",
       "    <tr>\n",
       "      <th>loan_status</th>\n",
       "      <td>0</td>\n",
       "      <td>0.000000</td>\n",
       "    </tr>\n",
       "    <tr>\n",
       "      <th>issue_d</th>\n",
       "      <td>0</td>\n",
       "      <td>0.000000</td>\n",
       "    </tr>\n",
       "    <tr>\n",
       "      <th>verification_status</th>\n",
       "      <td>0</td>\n",
       "      <td>0.000000</td>\n",
       "    </tr>\n",
       "    <tr>\n",
       "      <th>home_ownership</th>\n",
       "      <td>0</td>\n",
       "      <td>0.000000</td>\n",
       "    </tr>\n",
       "    <tr>\n",
       "      <th>installment</th>\n",
       "      <td>0</td>\n",
       "      <td>0.000000</td>\n",
       "    </tr>\n",
       "    <tr>\n",
       "      <th>int_rate</th>\n",
       "      <td>0</td>\n",
       "      <td>0.000000</td>\n",
       "    </tr>\n",
       "    <tr>\n",
       "      <th>term</th>\n",
       "      <td>0</td>\n",
       "      <td>0.000000</td>\n",
       "    </tr>\n",
       "    <tr>\n",
       "      <th>funded_amnt_inv</th>\n",
       "      <td>0</td>\n",
       "      <td>0.000000</td>\n",
       "    </tr>\n",
       "    <tr>\n",
       "      <th>funded_amnt</th>\n",
       "      <td>0</td>\n",
       "      <td>0.000000</td>\n",
       "    </tr>\n",
       "    <tr>\n",
       "      <th>loan_amnt</th>\n",
       "      <td>0</td>\n",
       "      <td>0.000000</td>\n",
       "    </tr>\n",
       "    <tr>\n",
       "      <th>repay_fail</th>\n",
       "      <td>0</td>\n",
       "      <td>0.000000</td>\n",
       "    </tr>\n",
       "  </tbody>\n",
       "</table>\n",
       "</div>"
      ],
      "text/plain": [
       "                        count          %\n",
       "next_pymnt_d             5110  87.665123\n",
       "mths_since_last_delinq   3445  59.101046\n",
       "emp_length                219   3.757077\n",
       "last_pymnt_d               71   1.218048\n",
       "revol_util                 19   0.325956\n",
       "last_credit_pull_d          1   0.017156\n",
       "revol_bal                   1   0.017156\n",
       "annual_inc                  1   0.017156\n",
       "id                          0   0.000000\n",
       "total_acc                   0   0.000000\n",
       "open_acc                    0   0.000000\n",
       "pub_rec                     0   0.000000\n",
       "total_pymnt_inv             0   0.000000\n",
       "total_pymnt                 0   0.000000\n",
       "earliest_cr_line            0   0.000000\n",
       "total_rec_prncp             0   0.000000\n",
       "total_rec_int               0   0.000000\n",
       "last_pymnt_amnt             0   0.000000\n",
       "inq_last_6mths              0   0.000000\n",
       "delinq_2yrs                 0   0.000000\n",
       "member_id                   0   0.000000\n",
       "dti                         0   0.000000\n",
       "addr_state                  0   0.000000\n",
       "zip_code                    0   0.000000\n",
       "purpose                     0   0.000000\n",
       "loan_status                 0   0.000000\n",
       "issue_d                     0   0.000000\n",
       "verification_status         0   0.000000\n",
       "home_ownership              0   0.000000\n",
       "installment                 0   0.000000\n",
       "int_rate                    0   0.000000\n",
       "term                        0   0.000000\n",
       "funded_amnt_inv             0   0.000000\n",
       "funded_amnt                 0   0.000000\n",
       "loan_amnt                   0   0.000000\n",
       "repay_fail                  0   0.000000"
      ]
     },
     "execution_count": 7,
     "metadata": {},
     "output_type": "execute_result"
    }
   ],
   "source": [
    "missing = pd.concat([loan_defaulted.isnull().sum(), 100 * loan_defaulted.isnull().mean()], axis=1)\n",
    "missing.columns=['count', '%']\n",
    "missing.sort_values(by=['count'], ascending = False)"
   ]
  },
  {
   "cell_type": "markdown",
   "metadata": {},
   "source": [
    "The distribution of null values for defaulted loans is almost equal to the distribution of null values for the entirety of the data set, that is a good sign."
   ]
  },
  {
   "cell_type": "code",
   "execution_count": 8,
   "metadata": {},
   "outputs": [
    {
     "data": {
      "text/html": [
       "<div>\n",
       "<style scoped>\n",
       "    .dataframe tbody tr th:only-of-type {\n",
       "        vertical-align: middle;\n",
       "    }\n",
       "\n",
       "    .dataframe tbody tr th {\n",
       "        vertical-align: top;\n",
       "    }\n",
       "\n",
       "    .dataframe thead th {\n",
       "        text-align: right;\n",
       "    }\n",
       "</style>\n",
       "<table border=\"1\" class=\"dataframe\">\n",
       "  <thead>\n",
       "    <tr style=\"text-align: right;\">\n",
       "      <th></th>\n",
       "      <th>count</th>\n",
       "      <th>%</th>\n",
       "    </tr>\n",
       "  </thead>\n",
       "  <tbody>\n",
       "    <tr>\n",
       "      <th>next_pymnt_d</th>\n",
       "      <td>29987</td>\n",
       "      <td>91.840985</td>\n",
       "    </tr>\n",
       "    <tr>\n",
       "      <th>mths_since_last_delinq</th>\n",
       "      <td>20918</td>\n",
       "      <td>64.065419</td>\n",
       "    </tr>\n",
       "    <tr>\n",
       "      <th>emp_length</th>\n",
       "      <td>774</td>\n",
       "      <td>2.370525</td>\n",
       "    </tr>\n",
       "    <tr>\n",
       "      <th>revol_util</th>\n",
       "      <td>40</td>\n",
       "      <td>0.122508</td>\n",
       "    </tr>\n",
       "    <tr>\n",
       "      <th>revol_bal</th>\n",
       "      <td>3</td>\n",
       "      <td>0.009188</td>\n",
       "    </tr>\n",
       "    <tr>\n",
       "      <th>last_credit_pull_d</th>\n",
       "      <td>2</td>\n",
       "      <td>0.006125</td>\n",
       "    </tr>\n",
       "    <tr>\n",
       "      <th>total_rec_prncp</th>\n",
       "      <td>1</td>\n",
       "      <td>0.003063</td>\n",
       "    </tr>\n",
       "    <tr>\n",
       "      <th>inq_last_6mths</th>\n",
       "      <td>1</td>\n",
       "      <td>0.003063</td>\n",
       "    </tr>\n",
       "    <tr>\n",
       "      <th>pub_rec</th>\n",
       "      <td>1</td>\n",
       "      <td>0.003063</td>\n",
       "    </tr>\n",
       "    <tr>\n",
       "      <th>total_acc</th>\n",
       "      <td>1</td>\n",
       "      <td>0.003063</td>\n",
       "    </tr>\n",
       "    <tr>\n",
       "      <th>total_pymnt</th>\n",
       "      <td>1</td>\n",
       "      <td>0.003063</td>\n",
       "    </tr>\n",
       "    <tr>\n",
       "      <th>total_pymnt_inv</th>\n",
       "      <td>1</td>\n",
       "      <td>0.003063</td>\n",
       "    </tr>\n",
       "    <tr>\n",
       "      <th>delinq_2yrs</th>\n",
       "      <td>1</td>\n",
       "      <td>0.003063</td>\n",
       "    </tr>\n",
       "    <tr>\n",
       "      <th>total_rec_int</th>\n",
       "      <td>1</td>\n",
       "      <td>0.003063</td>\n",
       "    </tr>\n",
       "    <tr>\n",
       "      <th>open_acc</th>\n",
       "      <td>1</td>\n",
       "      <td>0.003063</td>\n",
       "    </tr>\n",
       "    <tr>\n",
       "      <th>annual_inc</th>\n",
       "      <td>1</td>\n",
       "      <td>0.003063</td>\n",
       "    </tr>\n",
       "    <tr>\n",
       "      <th>last_pymnt_amnt</th>\n",
       "      <td>1</td>\n",
       "      <td>0.003063</td>\n",
       "    </tr>\n",
       "    <tr>\n",
       "      <th>installment</th>\n",
       "      <td>1</td>\n",
       "      <td>0.003063</td>\n",
       "    </tr>\n",
       "    <tr>\n",
       "      <th>funded_amnt_inv</th>\n",
       "      <td>1</td>\n",
       "      <td>0.003063</td>\n",
       "    </tr>\n",
       "    <tr>\n",
       "      <th>funded_amnt</th>\n",
       "      <td>1</td>\n",
       "      <td>0.003063</td>\n",
       "    </tr>\n",
       "    <tr>\n",
       "      <th>loan_amnt</th>\n",
       "      <td>1</td>\n",
       "      <td>0.003063</td>\n",
       "    </tr>\n",
       "    <tr>\n",
       "      <th>last_pymnt_d</th>\n",
       "      <td>0</td>\n",
       "      <td>0.000000</td>\n",
       "    </tr>\n",
       "    <tr>\n",
       "      <th>id</th>\n",
       "      <td>0</td>\n",
       "      <td>0.000000</td>\n",
       "    </tr>\n",
       "    <tr>\n",
       "      <th>earliest_cr_line</th>\n",
       "      <td>0</td>\n",
       "      <td>0.000000</td>\n",
       "    </tr>\n",
       "    <tr>\n",
       "      <th>member_id</th>\n",
       "      <td>0</td>\n",
       "      <td>0.000000</td>\n",
       "    </tr>\n",
       "    <tr>\n",
       "      <th>dti</th>\n",
       "      <td>0</td>\n",
       "      <td>0.000000</td>\n",
       "    </tr>\n",
       "    <tr>\n",
       "      <th>addr_state</th>\n",
       "      <td>0</td>\n",
       "      <td>0.000000</td>\n",
       "    </tr>\n",
       "    <tr>\n",
       "      <th>zip_code</th>\n",
       "      <td>0</td>\n",
       "      <td>0.000000</td>\n",
       "    </tr>\n",
       "    <tr>\n",
       "      <th>purpose</th>\n",
       "      <td>0</td>\n",
       "      <td>0.000000</td>\n",
       "    </tr>\n",
       "    <tr>\n",
       "      <th>loan_status</th>\n",
       "      <td>0</td>\n",
       "      <td>0.000000</td>\n",
       "    </tr>\n",
       "    <tr>\n",
       "      <th>issue_d</th>\n",
       "      <td>0</td>\n",
       "      <td>0.000000</td>\n",
       "    </tr>\n",
       "    <tr>\n",
       "      <th>verification_status</th>\n",
       "      <td>0</td>\n",
       "      <td>0.000000</td>\n",
       "    </tr>\n",
       "    <tr>\n",
       "      <th>home_ownership</th>\n",
       "      <td>0</td>\n",
       "      <td>0.000000</td>\n",
       "    </tr>\n",
       "    <tr>\n",
       "      <th>int_rate</th>\n",
       "      <td>0</td>\n",
       "      <td>0.000000</td>\n",
       "    </tr>\n",
       "    <tr>\n",
       "      <th>term</th>\n",
       "      <td>0</td>\n",
       "      <td>0.000000</td>\n",
       "    </tr>\n",
       "    <tr>\n",
       "      <th>repay_fail</th>\n",
       "      <td>0</td>\n",
       "      <td>0.000000</td>\n",
       "    </tr>\n",
       "  </tbody>\n",
       "</table>\n",
       "</div>"
      ],
      "text/plain": [
       "                        count          %\n",
       "next_pymnt_d            29987  91.840985\n",
       "mths_since_last_delinq  20918  64.065419\n",
       "emp_length                774   2.370525\n",
       "revol_util                 40   0.122508\n",
       "revol_bal                   3   0.009188\n",
       "last_credit_pull_d          2   0.006125\n",
       "total_rec_prncp             1   0.003063\n",
       "inq_last_6mths              1   0.003063\n",
       "pub_rec                     1   0.003063\n",
       "total_acc                   1   0.003063\n",
       "total_pymnt                 1   0.003063\n",
       "total_pymnt_inv             1   0.003063\n",
       "delinq_2yrs                 1   0.003063\n",
       "total_rec_int               1   0.003063\n",
       "open_acc                    1   0.003063\n",
       "annual_inc                  1   0.003063\n",
       "last_pymnt_amnt             1   0.003063\n",
       "installment                 1   0.003063\n",
       "funded_amnt_inv             1   0.003063\n",
       "funded_amnt                 1   0.003063\n",
       "loan_amnt                   1   0.003063\n",
       "last_pymnt_d                0   0.000000\n",
       "id                          0   0.000000\n",
       "earliest_cr_line            0   0.000000\n",
       "member_id                   0   0.000000\n",
       "dti                         0   0.000000\n",
       "addr_state                  0   0.000000\n",
       "zip_code                    0   0.000000\n",
       "purpose                     0   0.000000\n",
       "loan_status                 0   0.000000\n",
       "issue_d                     0   0.000000\n",
       "verification_status         0   0.000000\n",
       "home_ownership              0   0.000000\n",
       "int_rate                    0   0.000000\n",
       "term                        0   0.000000\n",
       "repay_fail                  0   0.000000"
      ]
     },
     "execution_count": 8,
     "metadata": {},
     "output_type": "execute_result"
    }
   ],
   "source": [
    "missing = pd.concat([loan_not_defaulted.isnull().sum(), 100 * loan_not_defaulted.isnull().mean()], axis=1)\n",
    "missing.columns=['count', '%']\n",
    "missing.sort_values(by=['count'], ascending = False)"
   ]
  },
  {
   "cell_type": "markdown",
   "metadata": {},
   "source": [
    "The same goes for the non-defaulted loans. `last_pymnt_d` (Last payment date) has more missing values for loans defaulted, which makes sense if they are defaulting on their loans and haven't made a payment at all. `emp_length` has a slightly higher percentage of missing values for loans defaulted also. The other null values are distributed more equal, confirming that the missing values aren't particularly exlusive to the defaulted loans."
   ]
  },
  {
   "cell_type": "markdown",
   "metadata": {},
   "source": [
    "## 1.6 Correcting Feature Types<a id='1.6_Correcting_Feature_Types'></a>"
   ]
  },
  {
   "cell_type": "markdown",
   "metadata": {},
   "source": [
    "### 1.6.1 Categorical Features<a id='1.6_Categorical_Features'></a>"
   ]
  },
  {
   "cell_type": "markdown",
   "metadata": {},
   "source": [
    "It is worth noting that some of the columns in the data are categorical although numeric, such as `repay_fail` (whether the client defaulted or not) and the .info() method has captured the feature as an integer data type. We'll correct the data types for the features that are misrepresented, check for the redundant unique values for categorical types, and format features for consistency where needed. From the brief inspection earlier, most numeric features were represented correctly, so we will mostly look through the categorical features."
   ]
  },
  {
   "cell_type": "code",
   "execution_count": 9,
   "metadata": {},
   "outputs": [
    {
     "data": {
      "text/plain": [
       "36 months    28593\n",
       "60 months     9887\n",
       "Name: term, dtype: int64"
      ]
     },
     "execution_count": 9,
     "metadata": {},
     "output_type": "execute_result"
    }
   ],
   "source": [
    "loan_default_data['term'].value_counts()"
   ]
  },
  {
   "cell_type": "markdown",
   "metadata": {},
   "source": [
    "It may be useful converting the term feature to a numerical type in case we encounter loan terms that do not fall under these two categories."
   ]
  },
  {
   "cell_type": "code",
   "execution_count": 10,
   "metadata": {},
   "outputs": [
    {
     "data": {
      "text/plain": [
       "36    28593\n",
       "60     9887\n",
       "Name: term, dtype: int64"
      ]
     },
     "execution_count": 10,
     "metadata": {},
     "output_type": "execute_result"
    }
   ],
   "source": [
    "loan_default_data['term'] = loan_default_data['term'].str.extract('(\\d+)')\n",
    "\n",
    "loan_default_data['term'] = loan_default_data['term'].astype('int')\n",
    "\n",
    "loan_default_data['term'].value_counts()"
   ]
  },
  {
   "cell_type": "code",
   "execution_count": 11,
   "metadata": {
    "scrolled": true
   },
   "outputs": [
    {
     "data": {
      "text/plain": [
       "10+ years    8465\n",
       "< 1 year     4565\n",
       "2 years      4292\n",
       "3 years      3939\n",
       "4 years      3314\n",
       "1 year       3254\n",
       "5 years      3171\n",
       "6 years      2144\n",
       "7 years      1702\n",
       "8 years      1445\n",
       "9 years      1196\n",
       "Name: emp_length, dtype: int64"
      ]
     },
     "execution_count": 11,
     "metadata": {},
     "output_type": "execute_result"
    }
   ],
   "source": [
    "loan_default_data['emp_length'].value_counts()"
   ]
  },
  {
   "cell_type": "markdown",
   "metadata": {},
   "source": [
    "Most clients have been employed for over 10 years. Interestingly, not considering the clients who have been working for 10+ years, the number of clients is more or less inversely correlated with length of employment. The trend likely continues after 10 years as well, but is consolidated into one category. It may be useful to convert the column to an integer type so then we won't have to worry about one-hot encoding when training the model. "
   ]
  },
  {
   "cell_type": "code",
   "execution_count": 12,
   "metadata": {},
   "outputs": [
    {
     "data": {
      "text/plain": [
       "8        77736.0\n",
       "38       10000.0\n",
       "52       73000.0\n",
       "68       29184.0\n",
       "145      35000.0\n",
       "          ...   \n",
       "38337    90000.0\n",
       "38371    39828.0\n",
       "38382    30000.0\n",
       "38444    24000.0\n",
       "38461    86400.0\n",
       "Name: annual_inc, Length: 993, dtype: float64"
      ]
     },
     "execution_count": 12,
     "metadata": {},
     "output_type": "execute_result"
    }
   ],
   "source": [
    "loan_default_data[loan_default_data['emp_length'].isna()]['annual_inc']"
   ]
  },
  {
   "cell_type": "markdown",
   "metadata": {},
   "source": [
    "Although there are missing employment lengths, there is still annual income for the missing employment lengths."
   ]
  },
  {
   "cell_type": "code",
   "execution_count": 13,
   "metadata": {},
   "outputs": [
    {
     "data": {
      "text/plain": [
       "RENT        18253\n",
       "MORTGAGE    17140\n",
       "OWN          2958\n",
       "OTHER         125\n",
       "NONE            4\n",
       "Name: home_ownership, dtype: int64"
      ]
     },
     "execution_count": 13,
     "metadata": {},
     "output_type": "execute_result"
    }
   ],
   "source": [
    "loan_default_data['home_ownership'].value_counts()"
   ]
  },
  {
   "cell_type": "markdown",
   "metadata": {},
   "source": [
    "Most people rent or have a mortgage on their home. The 4 who have 'NONE' can be consolidated with 'OTHER'."
   ]
  },
  {
   "cell_type": "code",
   "execution_count": 14,
   "metadata": {},
   "outputs": [
    {
     "data": {
      "text/plain": [
       "RENT        18253\n",
       "MORTGAGE    17140\n",
       "OWN          2958\n",
       "OTHER         129\n",
       "Name: home_ownership, dtype: int64"
      ]
     },
     "execution_count": 14,
     "metadata": {},
     "output_type": "execute_result"
    }
   ],
   "source": [
    "condition = loan_default_data['home_ownership'].str.contains('OTHER|NONE')\n",
    "\n",
    "#We'll define a new DataFrame that will encompass the corrections made to the data types\n",
    "loan_default_corrected_types = loan_default_data.copy()\n",
    "\n",
    "loan_default_corrected_types.loc[condition, 'home_ownership'] = 'OTHER'\n",
    "\n",
    "loan_default_corrected_types['home_ownership'].value_counts()"
   ]
  },
  {
   "cell_type": "markdown",
   "metadata": {},
   "source": [
    "This will make 'OTHER' more useful for the model. "
   ]
  },
  {
   "cell_type": "code",
   "execution_count": 15,
   "metadata": {},
   "outputs": [
    {
     "data": {
      "text/plain": [
       "Not Verified       16962\n",
       "Verified           12170\n",
       "Source Verified     9348\n",
       "Name: verification_status, dtype: int64"
      ]
     },
     "execution_count": 15,
     "metadata": {},
     "output_type": "execute_result"
    }
   ],
   "source": [
    "loan_default_corrected_types['verification_status'].value_counts()"
   ]
  },
  {
   "cell_type": "markdown",
   "metadata": {},
   "source": [
    "There are three verification categories; however, we could combine 'Verified' and 'Source Verified'."
   ]
  },
  {
   "cell_type": "code",
   "execution_count": 16,
   "metadata": {},
   "outputs": [
    {
     "data": {
      "text/plain": [
       "Verified        21518\n",
       "Not Verified    16962\n",
       "Name: verification_status, dtype: int64"
      ]
     },
     "execution_count": 16,
     "metadata": {},
     "output_type": "execute_result"
    }
   ],
   "source": [
    "loan_default_corrected_types.loc[:,'verification_status'].replace({'Source Verified':'Verified'}, inplace=True)\n",
    "\n",
    "loan_default_corrected_types['verification_status'].value_counts()"
   ]
  },
  {
   "cell_type": "markdown",
   "metadata": {},
   "source": [
    "Next, we will check the `loan_status` unique values."
   ]
  },
  {
   "cell_type": "code",
   "execution_count": 17,
   "metadata": {},
   "outputs": [
    {
     "data": {
      "text/plain": [
       "Fully Paid                                             29987\n",
       "Charged Off                                             5111\n",
       "Does not meet the credit policy. Status:Fully Paid      1782\n",
       "Current                                                  867\n",
       "Does not meet the credit policy. Status:Charged Off      689\n",
       "Late (31-120 days)                                        20\n",
       "In Grace Period                                           15\n",
       "Late (16-30 days)                                          7\n",
       "Default                                                    2\n",
       "Name: loan_status, dtype: int64"
      ]
     },
     "execution_count": 17,
     "metadata": {},
     "output_type": "execute_result"
    }
   ],
   "source": [
    "loan_default_corrected_types['loan_status'].value_counts()"
   ]
  },
  {
   "cell_type": "markdown",
   "metadata": {},
   "source": [
    "We can consolidate the long strings into their respective categories of 'Fully Paid' and 'Charged off'."
   ]
  },
  {
   "cell_type": "code",
   "execution_count": 18,
   "metadata": {
    "scrolled": true
   },
   "outputs": [
    {
     "data": {
      "text/plain": [
       "Fully Paid            31769\n",
       "Charged Off            5800\n",
       "Current                 867\n",
       "Late (31-120 days)       20\n",
       "In Grace Period          15\n",
       "Late (16-30 days)         7\n",
       "Default                   2\n",
       "Name: loan_status, dtype: int64"
      ]
     },
     "execution_count": 18,
     "metadata": {},
     "output_type": "execute_result"
    }
   ],
   "source": [
    "condition_1 = loan_default_corrected_types['loan_status'].str.contains('Fully Paid') \n",
    "condition_2 = loan_default_corrected_types['loan_status'].str.contains('Charged Off') \n",
    "\n",
    "loan_default_corrected_types.loc[condition_1, 'loan_status'] = 'Fully Paid'\n",
    "loan_default_corrected_types.loc[condition_2, 'loan_status'] = 'Charged Off'\n",
    "\n",
    "loan_default_corrected_types['loan_status'].value_counts()"
   ]
  },
  {
   "cell_type": "markdown",
   "metadata": {},
   "source": [
    "As a sanity check, we can see if the number of defaults and delinquent loans match the defaults in the `repay_fail` column. We can confirm this by calling value counts on the defaulted loans."
   ]
  },
  {
   "cell_type": "code",
   "execution_count": 19,
   "metadata": {},
   "outputs": [
    {
     "data": {
      "text/plain": [
       "Charged Off           5800\n",
       "Late (31-120 days)      20\n",
       "Late (16-30 days)        7\n",
       "Default                  2\n",
       "Name: loan_status, dtype: int64"
      ]
     },
     "execution_count": 19,
     "metadata": {},
     "output_type": "execute_result"
    }
   ],
   "source": [
    "loan_default_corrected_types[loan_default_corrected_types['repay_fail'] == 1]['loan_status'].value_counts()"
   ]
  },
  {
   "cell_type": "markdown",
   "metadata": {},
   "source": [
    "`repay_fail` is counting the 'Charged Off', 'Late (31-120 days)', 'Late (16-30 days)', and 'Default' categories."
   ]
  },
  {
   "cell_type": "code",
   "execution_count": 20,
   "metadata": {},
   "outputs": [
    {
     "data": {
      "text/plain": [
       "debt_consolidation    17917\n",
       "credit_card            4974\n",
       "other                  3950\n",
       "home_improvement       2901\n",
       "major_purchase         2079\n",
       "small_business         1808\n",
       "car                    1481\n",
       "wedding                 909\n",
       "medical                 675\n",
       "moving                  562\n",
       "house                   387\n",
       "educational             386\n",
       "vacation                360\n",
       "renewable_energy         91\n",
       "Name: purpose, dtype: int64"
      ]
     },
     "execution_count": 20,
     "metadata": {},
     "output_type": "execute_result"
    }
   ],
   "source": [
    "loan_default_corrected_types['purpose'].value_counts()"
   ]
  },
  {
   "cell_type": "markdown",
   "metadata": {},
   "source": [
    "There are several categories here which could pose an issue when we get to creating the model. Categories could potentially be combined here to avoid the issue. We could consolidate 'home_improvement' and 'house' now."
   ]
  },
  {
   "cell_type": "code",
   "execution_count": 21,
   "metadata": {},
   "outputs": [],
   "source": [
    "loan_default_corrected_types.loc[:,'purpose'].replace({'house':'home_improvement'}, inplace=True)"
   ]
  },
  {
   "cell_type": "code",
   "execution_count": 22,
   "metadata": {},
   "outputs": [
    {
     "data": {
      "text/plain": [
       "2    000xx\n",
       "3    487xx\n",
       "4    115xx\n",
       "5    751xx\n",
       "6    112xx\n",
       "Name: zip_code, dtype: object"
      ]
     },
     "execution_count": 22,
     "metadata": {},
     "output_type": "execute_result"
    }
   ],
   "source": [
    "loan_default_corrected_types['zip_code'].head()"
   ]
  },
  {
   "cell_type": "markdown",
   "metadata": {},
   "source": [
    "The zip codes are formatted to where only the state can be determined. It would be redundant to keep both the zip code and state columns since they are conveying the same information."
   ]
  },
  {
   "cell_type": "code",
   "execution_count": 23,
   "metadata": {},
   "outputs": [
    {
     "data": {
      "text/plain": [
       "CA    6754\n",
       "NY    3702\n",
       "FL    2803\n",
       "TX    2633\n",
       "NJ    1795\n",
       "IL    1523\n",
       "PA    1491\n",
       "GA    1371\n",
       "VA    1343\n",
       "MA    1285\n",
       "OH    1209\n",
       "MD    1010\n",
       "AZ     856\n",
       "WA     798\n",
       "CO     771\n",
       "NC     747\n",
       "CT     722\n",
       "MI     708\n",
       "MO     677\n",
       "MN     597\n",
       "NV     485\n",
       "WI     473\n",
       "AL     439\n",
       "SC     438\n",
       "OR     419\n",
       "LA     415\n",
       "KY     313\n",
       "OK     284\n",
       "KS     271\n",
       "UT     254\n",
       "AR     238\n",
       "DC     196\n",
       "NM     186\n",
       "RI     186\n",
       "NH     170\n",
       "HI     168\n",
       "WV     166\n",
       "DE     124\n",
       "MT      88\n",
       "WY      78\n",
       "AK      77\n",
       "SD      57\n",
       "VT      52\n",
       "TN      30\n",
       "MS      24\n",
       "IN      19\n",
       "IA      12\n",
       "NE      10\n",
       "ID       8\n",
       "ME       3\n",
       "AA       1\n",
       "ZZ       1\n",
       "Name: addr_state, dtype: int64"
      ]
     },
     "execution_count": 23,
     "metadata": {},
     "output_type": "execute_result"
    }
   ],
   "source": [
    "loan_default_corrected_types['addr_state'].value_counts()"
   ]
  },
  {
   "cell_type": "markdown",
   "metadata": {},
   "source": [
    "For the `addr_state` (address state), there should be fifty states. We can see that 'ZZ' and 'AA' are acting as placeholders for null values. We know that is the case for the first row. Let's see what row has 'AA' for a state."
   ]
  },
  {
   "cell_type": "code",
   "execution_count": 24,
   "metadata": {},
   "outputs": [
    {
     "data": {
      "text/html": [
       "<div>\n",
       "<style scoped>\n",
       "    .dataframe tbody tr th:only-of-type {\n",
       "        vertical-align: middle;\n",
       "    }\n",
       "\n",
       "    .dataframe tbody tr th {\n",
       "        vertical-align: top;\n",
       "    }\n",
       "\n",
       "    .dataframe thead th {\n",
       "        text-align: right;\n",
       "    }\n",
       "</style>\n",
       "<table border=\"1\" class=\"dataframe\">\n",
       "  <thead>\n",
       "    <tr style=\"text-align: right;\">\n",
       "      <th></th>\n",
       "      <th>id</th>\n",
       "      <th>member_id</th>\n",
       "      <th>loan_amnt</th>\n",
       "      <th>funded_amnt</th>\n",
       "      <th>funded_amnt_inv</th>\n",
       "      <th>term</th>\n",
       "      <th>int_rate</th>\n",
       "      <th>installment</th>\n",
       "      <th>emp_length</th>\n",
       "      <th>home_ownership</th>\n",
       "      <th>annual_inc</th>\n",
       "      <th>verification_status</th>\n",
       "      <th>issue_d</th>\n",
       "      <th>loan_status</th>\n",
       "      <th>purpose</th>\n",
       "      <th>zip_code</th>\n",
       "      <th>addr_state</th>\n",
       "      <th>dti</th>\n",
       "      <th>delinq_2yrs</th>\n",
       "      <th>earliest_cr_line</th>\n",
       "      <th>inq_last_6mths</th>\n",
       "      <th>mths_since_last_delinq</th>\n",
       "      <th>open_acc</th>\n",
       "      <th>pub_rec</th>\n",
       "      <th>revol_bal</th>\n",
       "      <th>revol_util</th>\n",
       "      <th>total_acc</th>\n",
       "      <th>total_pymnt</th>\n",
       "      <th>total_pymnt_inv</th>\n",
       "      <th>total_rec_prncp</th>\n",
       "      <th>total_rec_int</th>\n",
       "      <th>last_pymnt_d</th>\n",
       "      <th>last_pymnt_amnt</th>\n",
       "      <th>next_pymnt_d</th>\n",
       "      <th>last_credit_pull_d</th>\n",
       "      <th>repay_fail</th>\n",
       "    </tr>\n",
       "  </thead>\n",
       "  <tbody>\n",
       "    <tr>\n",
       "      <th>1</th>\n",
       "      <td>1</td>\n",
       "      <td>1</td>\n",
       "      <td>NaN</td>\n",
       "      <td>NaN</td>\n",
       "      <td>NaN</td>\n",
       "      <td>60</td>\n",
       "      <td>100.99</td>\n",
       "      <td>NaN</td>\n",
       "      <td>10+ years</td>\n",
       "      <td>MORTGAGE</td>\n",
       "      <td>NaN</td>\n",
       "      <td>Verified</td>\n",
       "      <td>7-Jan</td>\n",
       "      <td>Current</td>\n",
       "      <td>credit_card</td>\n",
       "      <td>999xx</td>\n",
       "      <td>AA</td>\n",
       "      <td>100.0</td>\n",
       "      <td>NaN</td>\n",
       "      <td>Dec-99</td>\n",
       "      <td>NaN</td>\n",
       "      <td>0.0</td>\n",
       "      <td>NaN</td>\n",
       "      <td>NaN</td>\n",
       "      <td>NaN</td>\n",
       "      <td>“100.00%”</td>\n",
       "      <td>NaN</td>\n",
       "      <td>NaN</td>\n",
       "      <td>NaN</td>\n",
       "      <td>NaN</td>\n",
       "      <td>NaN</td>\n",
       "      <td>Jan-99</td>\n",
       "      <td>NaN</td>\n",
       "      <td>Jan-99</td>\n",
       "      <td>Jan-99</td>\n",
       "      <td>0</td>\n",
       "    </tr>\n",
       "  </tbody>\n",
       "</table>\n",
       "</div>"
      ],
      "text/plain": [
       "   id  member_id  loan_amnt  funded_amnt  funded_amnt_inv  term  int_rate  \\\n",
       "1   1          1        NaN          NaN              NaN    60    100.99   \n",
       "\n",
       "   installment emp_length home_ownership  annual_inc verification_status  \\\n",
       "1          NaN  10+ years       MORTGAGE         NaN            Verified   \n",
       "\n",
       "  issue_d loan_status      purpose zip_code addr_state    dti  delinq_2yrs  \\\n",
       "1   7-Jan     Current  credit_card    999xx         AA  100.0          NaN   \n",
       "\n",
       "  earliest_cr_line  inq_last_6mths  mths_since_last_delinq  open_acc  pub_rec  \\\n",
       "1           Dec-99             NaN                     0.0       NaN      NaN   \n",
       "\n",
       "   revol_bal revol_util  total_acc  total_pymnt  total_pymnt_inv  \\\n",
       "1        NaN  “100.00%”        NaN          NaN              NaN   \n",
       "\n",
       "   total_rec_prncp  total_rec_int last_pymnt_d  last_pymnt_amnt next_pymnt_d  \\\n",
       "1              NaN            NaN       Jan-99              NaN       Jan-99   \n",
       "\n",
       "  last_credit_pull_d  repay_fail  \n",
       "1             Jan-99           0  "
      ]
     },
     "execution_count": 24,
     "metadata": {},
     "output_type": "execute_result"
    }
   ],
   "source": [
    "loan_default_corrected_types[loan_default_corrected_types['addr_state'] == 'AA']"
   ]
  },
  {
   "cell_type": "markdown",
   "metadata": {},
   "source": [
    "This row also contains null values. We'll be removing this entry as well."
   ]
  },
  {
   "cell_type": "markdown",
   "metadata": {},
   "source": [
    "### 1.6.2 Datetime Features<a id='1.6.2_Datetime_Features'></a>"
   ]
  },
  {
   "cell_type": "code",
   "execution_count": 25,
   "metadata": {},
   "outputs": [
    {
     "data": {
      "text/plain": [
       "dtype('O')"
      ]
     },
     "execution_count": 25,
     "metadata": {},
     "output_type": "execute_result"
    }
   ],
   "source": [
    "loan_default_corrected_types['issue_d'].dtype"
   ]
  },
  {
   "cell_type": "markdown",
   "metadata": {},
   "source": [
    "The `issue_d` (issue date) column is of object type and we will convert it to datetime. But first, we need to find out what year the data was extracted. There are many dates that are formated without the year, suggesting that they are in the 'current year' of the data. For example:"
   ]
  },
  {
   "cell_type": "code",
   "execution_count": 26,
   "metadata": {},
   "outputs": [
    {
     "data": {
      "text/plain": [
       "2        Dec-99\n",
       "3        10-Jul\n",
       "4        10-Jun\n",
       "5        11-Sep\n",
       "6        11-Sep\n",
       "          ...  \n",
       "38476    11-Aug\n",
       "38477    11-Aug\n",
       "38478    10-May\n",
       "38479    11-Jul\n",
       "38480    11-Nov\n",
       "Name: issue_d, Length: 38480, dtype: object"
      ]
     },
     "execution_count": 26,
     "metadata": {},
     "output_type": "execute_result"
    }
   ],
   "source": [
    "loan_default_corrected_types['issue_d']"
   ]
  },
  {
   "cell_type": "markdown",
   "metadata": {},
   "source": [
    "All the dates displayed (besides the first date from the null observation) are in the 'current year'."
   ]
  },
  {
   "cell_type": "code",
   "execution_count": 27,
   "metadata": {},
   "outputs": [],
   "source": [
    "df_dates = loan_default_corrected_types.loc[:,['issue_d','earliest_cr_line','last_pymnt_d','next_pymnt_d','last_credit_pull_d']]"
   ]
  },
  {
   "cell_type": "markdown",
   "metadata": {},
   "source": [
    "First we will gather all the date columns."
   ]
  },
  {
   "cell_type": "code",
   "execution_count": 28,
   "metadata": {
    "scrolled": false
   },
   "outputs": [
    {
     "data": {
      "image/png": "[encoded data removed]",
      "text/plain": [
       "<Figure size 1500x1500 with 6 Axes>"
      ]
     },
     "metadata": {},
     "output_type": "display_data"
    }
   ],
   "source": [
    "fig, ax = plt.subplots(3,2, figsize=(15,15))\n",
    "\n",
    "for idx, col in enumerate(df_dates.columns):\n",
    "    df_dates[col] = pd.to_datetime(df_dates[col], errors='coerce')\n",
    "    \n",
    "    if idx < 3:\n",
    "        ax[idx,0].hist(df_dates[col])\n",
    "        ax[idx,0].set_title(f'{col}')\n",
    "        ax[idx,0].tick_params(axis='x', rotation=45)\n",
    "    else:\n",
    "        ax[idx-3,1].hist(df_dates[col])\n",
    "        ax[idx-3,1].set_title(f'{col}')\n",
    "        ax[idx-3,1].tick_params(axis='x', rotation=45)\n",
    "\n",
    "plt.tight_layout()\n",
    "plt.show()"
   ]
  },
  {
   "cell_type": "markdown",
   "metadata": {},
   "source": [
    "The histograms give us a display of the dates for the different observations. The only one with many observations is from the `earliest_cr_line` column. The rest show only one observation, meaning the to_datetime() function was not able to convert the dates to datetime format because they were in 'DD-MMM' format as we saw in the `issue_d` column above. With the `earliest_cr_line` column, we can see in what year the data reaches its end (somewhere around the year 2000). There is an incorrect date that shows its past 2060. Let's see what the max year is while disregarding the incorrect date. "
   ]
  },
  {
   "cell_type": "code",
   "execution_count": 29,
   "metadata": {
    "scrolled": true
   },
   "outputs": [
    {
     "data": {
      "text/plain": [
       "Timestamp('1999-12-01 00:00:00')"
      ]
     },
     "execution_count": 29,
     "metadata": {},
     "output_type": "execute_result"
    }
   ],
   "source": [
    "df_dates.query('earliest_cr_line < 2023').earliest_cr_line.max()"
   ]
  },
  {
   "cell_type": "markdown",
   "metadata": {},
   "source": [
    "The most recent year displayed in the data, then, is in 1999. This means that the dates formatted as 'DD-MMM' are referring to the year 2000. We'll create a function to convert all dates into the correct format."
   ]
  },
  {
   "cell_type": "code",
   "execution_count": 30,
   "metadata": {},
   "outputs": [
    {
     "name": "stdout",
     "output_type": "stream",
     "text": [
      "<class 'pandas.core.frame.DataFrame'>\n",
      "Int64Index: 38480 entries, 2 to 38480\n",
      "Data columns (total 5 columns):\n",
      " #   Column              Non-Null Count  Dtype         \n",
      "---  ------              --------------  -----         \n",
      " 0   issue_d             38480 non-null  datetime64[ns]\n",
      " 1   earliest_cr_line    38480 non-null  datetime64[ns]\n",
      " 2   last_pymnt_d        38409 non-null  datetime64[ns]\n",
      " 3   next_pymnt_d        3383 non-null   datetime64[ns]\n",
      " 4   last_credit_pull_d  38477 non-null  datetime64[ns]\n",
      "dtypes: datetime64[ns](5)\n",
      "memory usage: 1.8 MB\n"
     ]
    }
   ],
   "source": [
    "def date_parser(date_str):\n",
    "    '''Converts dates of formats DD-MMM and MMM-YY to datetime objects.\n",
    "    DD-MMM formats are converted to the current year.'''\n",
    "    data_year = 2000\n",
    "    try:\n",
    "        # try to parse current year dates as 'DD-MMM'\n",
    "        return dt.datetime.strptime(f\"{date_str}-{data_year}\", \"%d-%b-%Y\")\n",
    "    except:\n",
    "        try:\n",
    "                # try to parse previous year dates as 'MMM-YY'\n",
    "            return dt.datetime.strptime(f\"{date_str}\", \"%b-%y\")\n",
    "        except:\n",
    "            return pd.NaT  # return Not a Time for unparseable formats\n",
    "\n",
    "for col in df_dates.columns:\n",
    "    loan_default_corrected_types[col] = loan_default_corrected_types[col].apply(date_parser)\n",
    "\n",
    "loan_default_corrected_types[df_dates.columns].info()"
   ]
  },
  {
   "cell_type": "markdown",
   "metadata": {},
   "source": [
    "The dates were successfully converted to datetime objects."
   ]
  },
  {
   "cell_type": "code",
   "execution_count": 31,
   "metadata": {},
   "outputs": [
    {
     "name": "stdout",
     "output_type": "stream",
     "text": [
      "issue_d: 0\n",
      "earliest_cr_line: 88\n",
      "last_pymnt_d: 0\n",
      "next_pymnt_d: 0\n",
      "last_credit_pull_d: 0\n"
     ]
    }
   ],
   "source": [
    "latest_date = '2000-12-31'\n",
    "\n",
    "for col in df_dates.columns:\n",
    "    num_future_dates = loan_default_corrected_types.query(f'{col} > \"{latest_date}\"')[col].count()\n",
    "    print(f'{col}: {num_future_dates}')"
   ]
  },
  {
   "cell_type": "markdown",
   "metadata": {},
   "source": [
    "This check shows us how many dates are past the latest date possible in the data. There seems to be an issue with the `earliest_cr_line` column, and it is likely the dates that were identified to be around 2060."
   ]
  },
  {
   "cell_type": "code",
   "execution_count": 32,
   "metadata": {},
   "outputs": [
    {
     "data": {
      "text/plain": [
       "763    2063-03-01\n",
       "1116   2066-03-01\n",
       "1151   2068-09-01\n",
       "1447   2064-09-01\n",
       "1614   2067-11-01\n",
       "Name: earliest_cr_line, dtype: datetime64[ns]"
      ]
     },
     "execution_count": 32,
     "metadata": {},
     "output_type": "execute_result"
    }
   ],
   "source": [
    "loan_default_corrected_types.query('earliest_cr_line > \"2000-12-31\"')['earliest_cr_line'].head()"
   ]
  },
  {
   "cell_type": "markdown",
   "metadata": {},
   "source": [
    "Our suspicions have been confirmed. Lets check to see what the dates were at these indices before they were converted to datetime to check if they may have been a different date before."
   ]
  },
  {
   "cell_type": "code",
   "execution_count": 33,
   "metadata": {},
   "outputs": [
    {
     "data": {
      "text/plain": [
       "763     Mar-63\n",
       "1116    Mar-66\n",
       "1151    Sep-68\n",
       "1447    Sep-64\n",
       "1614    Nov-67\n",
       "Name: earliest_cr_line, dtype: object"
      ]
     },
     "execution_count": 33,
     "metadata": {},
     "output_type": "execute_result"
    }
   ],
   "source": [
    "loan_default_data.iloc[[762,1115,1150,1446,1613]]['earliest_cr_line']"
   ]
  },
  {
   "cell_type": "markdown",
   "metadata": {},
   "source": [
    "As suspected, the data inherently carried these errors. Lets change these dates to the latest date possible in the data: '2000-12-31'. "
   ]
  },
  {
   "cell_type": "code",
   "execution_count": 34,
   "metadata": {},
   "outputs": [
    {
     "data": {
      "text/plain": [
       "763    2000-12-31\n",
       "1116   2000-12-31\n",
       "1151   2000-12-31\n",
       "1447   2000-12-31\n",
       "1614   2000-12-31\n",
       "Name: earliest_cr_line, dtype: datetime64[ns]"
      ]
     },
     "execution_count": 34,
     "metadata": {},
     "output_type": "execute_result"
    }
   ],
   "source": [
    "loan_default_corrected_types.loc[\n",
    "    loan_default_corrected_types['earliest_cr_line'] > latest_date, 'earliest_cr_line'] = latest_date\n",
    "\n",
    "loan_default_corrected_types.loc[loan_default_corrected_types['earliest_cr_line'] == latest_date, 'earliest_cr_line'].head()"
   ]
  },
  {
   "cell_type": "markdown",
   "metadata": {},
   "source": [
    "Lets iterate through all the date columns and confirm they do not have future dates."
   ]
  },
  {
   "cell_type": "code",
   "execution_count": 35,
   "metadata": {},
   "outputs": [
    {
     "name": "stdout",
     "output_type": "stream",
     "text": [
      "issue_d: 0\n",
      "earliest_cr_line: 0\n",
      "last_pymnt_d: 0\n",
      "next_pymnt_d: 0\n",
      "last_credit_pull_d: 0\n"
     ]
    }
   ],
   "source": [
    "for col in df_dates.columns:\n",
    "    num_future_dates = loan_default_corrected_types.query(f'{col} > \"{latest_date}\"')[col].count()\n",
    "    print(f'{col}: {num_future_dates}')"
   ]
  },
  {
   "cell_type": "markdown",
   "metadata": {},
   "source": [
    "All the datetime features are now correctly represented."
   ]
  },
  {
   "cell_type": "markdown",
   "metadata": {},
   "source": [
    "### 1.6.3 Numeric Features<a id='1.6.3_Numeric_Features'></a>"
   ]
  },
  {
   "cell_type": "markdown",
   "metadata": {},
   "source": [
    "From earlier inspection of `revol_util` (revolving debt utilized), we saw that it should be a percentage, representing the percentage of the limit utilizied, but it is listed as object type. In the first row we see there are quotation marks around the null value for `revol_util`. We'll strip the strings from anything non-numeric and convert them to floats."
   ]
  },
  {
   "cell_type": "code",
   "execution_count": 36,
   "metadata": {},
   "outputs": [
    {
     "data": {
      "text/plain": [
       "2     0.0\n",
       "3    21.3\n",
       "4    99.9\n",
       "5    47.2\n",
       "6     0.0\n",
       "Name: revol_util, dtype: float64"
      ]
     },
     "execution_count": 36,
     "metadata": {},
     "output_type": "execute_result"
    }
   ],
   "source": [
    "corrected_percentages = loan_default_corrected_types['revol_util'].astype(str).str.replace('[^0-9.]', '', regex=True)\n",
    "\n",
    "loan_default_corrected_types['revol_util'] = pd.to_numeric(corrected_percentages, errors='coerce')\n",
    "\n",
    "loan_default_corrected_types['revol_util'].head()"
   ]
  },
  {
   "cell_type": "markdown",
   "metadata": {},
   "source": [
    "The feature is now correctly represented as a float. The rest of the numeric features were correctly represented upon initial inspection."
   ]
  },
  {
   "cell_type": "markdown",
   "metadata": {},
   "source": [
    "## 1.7 Removing Data<a id='1.7_Removing_Data'></a>"
   ]
  },
  {
   "cell_type": "markdown",
   "metadata": {},
   "source": [
    "### 1.7.1 Irrelevant Features<a id='1.7.1_Irrelevant_Features'></a>"
   ]
  },
  {
   "cell_type": "markdown",
   "metadata": {},
   "source": [
    "Recall that the purpose of the model will be to predict if a borrower is likely to default on a loan. The inputs of the model will then have to be based on features with information gathered at the application process. There are features included in the data that pertain to information gathered after the loan was funded. This is data that we can therefore remove. "
   ]
  },
  {
   "cell_type": "code",
   "execution_count": 37,
   "metadata": {},
   "outputs": [
    {
     "data": {
      "text/html": [
       "<div>\n",
       "<style scoped>\n",
       "    .dataframe tbody tr th:only-of-type {\n",
       "        vertical-align: middle;\n",
       "    }\n",
       "\n",
       "    .dataframe tbody tr th {\n",
       "        vertical-align: top;\n",
       "    }\n",
       "\n",
       "    .dataframe thead th {\n",
       "        text-align: right;\n",
       "    }\n",
       "</style>\n",
       "<table border=\"1\" class=\"dataframe\">\n",
       "  <thead>\n",
       "    <tr style=\"text-align: right;\">\n",
       "      <th></th>\n",
       "      <th>loan_amnt</th>\n",
       "      <th>term</th>\n",
       "      <th>int_rate</th>\n",
       "      <th>installment</th>\n",
       "      <th>emp_length</th>\n",
       "      <th>home_ownership</th>\n",
       "      <th>annual_inc</th>\n",
       "      <th>verification_status</th>\n",
       "      <th>purpose</th>\n",
       "      <th>addr_state</th>\n",
       "      <th>dti</th>\n",
       "      <th>delinq_2yrs</th>\n",
       "      <th>earliest_cr_line</th>\n",
       "      <th>inq_last_6mths</th>\n",
       "      <th>open_acc</th>\n",
       "      <th>pub_rec</th>\n",
       "      <th>revol_bal</th>\n",
       "      <th>revol_util</th>\n",
       "      <th>total_acc</th>\n",
       "      <th>repay_fail</th>\n",
       "    </tr>\n",
       "  </thead>\n",
       "  <tbody>\n",
       "    <tr>\n",
       "      <th>2</th>\n",
       "      <td>0.0</td>\n",
       "      <td>36</td>\n",
       "      <td>0.00</td>\n",
       "      <td>0.00</td>\n",
       "      <td>&lt; 1 year</td>\n",
       "      <td>RENT</td>\n",
       "      <td>0.0</td>\n",
       "      <td>Not Verified</td>\n",
       "      <td>major_purchase</td>\n",
       "      <td>ZZ</td>\n",
       "      <td>0.00</td>\n",
       "      <td>0.0</td>\n",
       "      <td>2000-01-01</td>\n",
       "      <td>0.0</td>\n",
       "      <td>0.0</td>\n",
       "      <td>0.0</td>\n",
       "      <td>0.0</td>\n",
       "      <td>0.0</td>\n",
       "      <td>1.0</td>\n",
       "      <td>1</td>\n",
       "    </tr>\n",
       "    <tr>\n",
       "      <th>3</th>\n",
       "      <td>2500.0</td>\n",
       "      <td>36</td>\n",
       "      <td>13.98</td>\n",
       "      <td>85.42</td>\n",
       "      <td>4 years</td>\n",
       "      <td>RENT</td>\n",
       "      <td>20004.0</td>\n",
       "      <td>Not Verified</td>\n",
       "      <td>other</td>\n",
       "      <td>MI</td>\n",
       "      <td>19.86</td>\n",
       "      <td>0.0</td>\n",
       "      <td>2000-08-05</td>\n",
       "      <td>5.0</td>\n",
       "      <td>7.0</td>\n",
       "      <td>0.0</td>\n",
       "      <td>981.0</td>\n",
       "      <td>21.3</td>\n",
       "      <td>10.0</td>\n",
       "      <td>0</td>\n",
       "    </tr>\n",
       "    <tr>\n",
       "      <th>4</th>\n",
       "      <td>5000.0</td>\n",
       "      <td>36</td>\n",
       "      <td>15.95</td>\n",
       "      <td>175.67</td>\n",
       "      <td>4 years</td>\n",
       "      <td>RENT</td>\n",
       "      <td>59000.0</td>\n",
       "      <td>Not Verified</td>\n",
       "      <td>debt_consolidation</td>\n",
       "      <td>NY</td>\n",
       "      <td>19.57</td>\n",
       "      <td>0.0</td>\n",
       "      <td>1994-04-01</td>\n",
       "      <td>1.0</td>\n",
       "      <td>7.0</td>\n",
       "      <td>0.0</td>\n",
       "      <td>18773.0</td>\n",
       "      <td>99.9</td>\n",
       "      <td>15.0</td>\n",
       "      <td>1</td>\n",
       "    </tr>\n",
       "    <tr>\n",
       "      <th>5</th>\n",
       "      <td>7000.0</td>\n",
       "      <td>36</td>\n",
       "      <td>9.91</td>\n",
       "      <td>225.58</td>\n",
       "      <td>10+ years</td>\n",
       "      <td>MORTGAGE</td>\n",
       "      <td>53796.0</td>\n",
       "      <td>Not Verified</td>\n",
       "      <td>other</td>\n",
       "      <td>TX</td>\n",
       "      <td>10.80</td>\n",
       "      <td>3.0</td>\n",
       "      <td>1998-03-01</td>\n",
       "      <td>3.0</td>\n",
       "      <td>7.0</td>\n",
       "      <td>0.0</td>\n",
       "      <td>3269.0</td>\n",
       "      <td>47.2</td>\n",
       "      <td>20.0</td>\n",
       "      <td>0</td>\n",
       "    </tr>\n",
       "    <tr>\n",
       "      <th>6</th>\n",
       "      <td>2000.0</td>\n",
       "      <td>36</td>\n",
       "      <td>5.42</td>\n",
       "      <td>60.32</td>\n",
       "      <td>10+ years</td>\n",
       "      <td>RENT</td>\n",
       "      <td>30000.0</td>\n",
       "      <td>Not Verified</td>\n",
       "      <td>debt_consolidation</td>\n",
       "      <td>NY</td>\n",
       "      <td>3.60</td>\n",
       "      <td>0.0</td>\n",
       "      <td>1975-01-01</td>\n",
       "      <td>0.0</td>\n",
       "      <td>7.0</td>\n",
       "      <td>0.0</td>\n",
       "      <td>0.0</td>\n",
       "      <td>0.0</td>\n",
       "      <td>15.0</td>\n",
       "      <td>0</td>\n",
       "    </tr>\n",
       "  </tbody>\n",
       "</table>\n",
       "</div>"
      ],
      "text/plain": [
       "   loan_amnt  term  int_rate  installment emp_length home_ownership  \\\n",
       "2        0.0    36      0.00         0.00   < 1 year           RENT   \n",
       "3     2500.0    36     13.98        85.42    4 years           RENT   \n",
       "4     5000.0    36     15.95       175.67    4 years           RENT   \n",
       "5     7000.0    36      9.91       225.58  10+ years       MORTGAGE   \n",
       "6     2000.0    36      5.42        60.32  10+ years           RENT   \n",
       "\n",
       "   annual_inc verification_status             purpose addr_state    dti  \\\n",
       "2         0.0        Not Verified      major_purchase         ZZ   0.00   \n",
       "3     20004.0        Not Verified               other         MI  19.86   \n",
       "4     59000.0        Not Verified  debt_consolidation         NY  19.57   \n",
       "5     53796.0        Not Verified               other         TX  10.80   \n",
       "6     30000.0        Not Verified  debt_consolidation         NY   3.60   \n",
       "\n",
       "   delinq_2yrs earliest_cr_line  inq_last_6mths  open_acc  pub_rec  revol_bal  \\\n",
       "2          0.0       2000-01-01             0.0       0.0      0.0        0.0   \n",
       "3          0.0       2000-08-05             5.0       7.0      0.0      981.0   \n",
       "4          0.0       1994-04-01             1.0       7.0      0.0    18773.0   \n",
       "5          3.0       1998-03-01             3.0       7.0      0.0     3269.0   \n",
       "6          0.0       1975-01-01             0.0       7.0      0.0        0.0   \n",
       "\n",
       "   revol_util  total_acc  repay_fail  \n",
       "2         0.0        1.0           1  \n",
       "3        21.3       10.0           0  \n",
       "4        99.9       15.0           1  \n",
       "5        47.2       20.0           0  \n",
       "6         0.0       15.0           0  "
      ]
     },
     "execution_count": 37,
     "metadata": {},
     "output_type": "execute_result"
    }
   ],
   "source": [
    "#Creating the variable for the new DataFrame loan_default_clean that will store the relevant and cleaned data\n",
    "\n",
    "columns = ['loan_amnt','term','int_rate','installment','emp_length','home_ownership','annual_inc','verification_status',\n",
    "          'purpose','addr_state','dti','delinq_2yrs','earliest_cr_line','inq_last_6mths','open_acc','pub_rec','revol_bal',\n",
    "           'revol_util','total_acc','repay_fail']\n",
    "\n",
    "loan_default_clean = loan_default_corrected_types.loc[:,columns]\n",
    "\n",
    "loan_default_clean.head()"
   ]
  },
  {
   "cell_type": "markdown",
   "metadata": {},
   "source": [
    "The rest of the columns are information gathered after the loan is funded. We are also exlcuding `mths_since_last_delinq` since there were many dates that are ahead of today's date, this column will likely have values that misrepresent the data."
   ]
  },
  {
   "cell_type": "markdown",
   "metadata": {},
   "source": [
    "### 1.7.2 Removing Null Values<a id='1.7.2_Removing_Null_Values'></a>"
   ]
  },
  {
   "cell_type": "markdown",
   "metadata": {},
   "source": [
    "There were two rows we found where there were null values. The rows had states 'ZZ' and 'AA'."
   ]
  },
  {
   "cell_type": "code",
   "execution_count": 38,
   "metadata": {},
   "outputs": [
    {
     "data": {
      "text/html": [
       "<div>\n",
       "<style scoped>\n",
       "    .dataframe tbody tr th:only-of-type {\n",
       "        vertical-align: middle;\n",
       "    }\n",
       "\n",
       "    .dataframe tbody tr th {\n",
       "        vertical-align: top;\n",
       "    }\n",
       "\n",
       "    .dataframe thead th {\n",
       "        text-align: right;\n",
       "    }\n",
       "</style>\n",
       "<table border=\"1\" class=\"dataframe\">\n",
       "  <thead>\n",
       "    <tr style=\"text-align: right;\">\n",
       "      <th></th>\n",
       "      <th>loan_amnt</th>\n",
       "      <th>term</th>\n",
       "      <th>int_rate</th>\n",
       "      <th>installment</th>\n",
       "      <th>emp_length</th>\n",
       "      <th>home_ownership</th>\n",
       "      <th>annual_inc</th>\n",
       "      <th>verification_status</th>\n",
       "      <th>purpose</th>\n",
       "      <th>addr_state</th>\n",
       "      <th>dti</th>\n",
       "      <th>delinq_2yrs</th>\n",
       "      <th>earliest_cr_line</th>\n",
       "      <th>inq_last_6mths</th>\n",
       "      <th>open_acc</th>\n",
       "      <th>pub_rec</th>\n",
       "      <th>revol_bal</th>\n",
       "      <th>revol_util</th>\n",
       "      <th>total_acc</th>\n",
       "      <th>repay_fail</th>\n",
       "    </tr>\n",
       "  </thead>\n",
       "  <tbody>\n",
       "    <tr>\n",
       "      <th>2</th>\n",
       "      <td>0.0</td>\n",
       "      <td>36</td>\n",
       "      <td>0.00</td>\n",
       "      <td>0.0</td>\n",
       "      <td>&lt; 1 year</td>\n",
       "      <td>RENT</td>\n",
       "      <td>0.0</td>\n",
       "      <td>Not Verified</td>\n",
       "      <td>major_purchase</td>\n",
       "      <td>ZZ</td>\n",
       "      <td>0.0</td>\n",
       "      <td>0.0</td>\n",
       "      <td>2000-01-01</td>\n",
       "      <td>0.0</td>\n",
       "      <td>0.0</td>\n",
       "      <td>0.0</td>\n",
       "      <td>0.0</td>\n",
       "      <td>0.0</td>\n",
       "      <td>1.0</td>\n",
       "      <td>1</td>\n",
       "    </tr>\n",
       "    <tr>\n",
       "      <th>1</th>\n",
       "      <td>NaN</td>\n",
       "      <td>60</td>\n",
       "      <td>100.99</td>\n",
       "      <td>NaN</td>\n",
       "      <td>10+ years</td>\n",
       "      <td>MORTGAGE</td>\n",
       "      <td>NaN</td>\n",
       "      <td>Verified</td>\n",
       "      <td>credit_card</td>\n",
       "      <td>AA</td>\n",
       "      <td>100.0</td>\n",
       "      <td>NaN</td>\n",
       "      <td>1999-12-01</td>\n",
       "      <td>NaN</td>\n",
       "      <td>NaN</td>\n",
       "      <td>NaN</td>\n",
       "      <td>NaN</td>\n",
       "      <td>100.0</td>\n",
       "      <td>NaN</td>\n",
       "      <td>0</td>\n",
       "    </tr>\n",
       "  </tbody>\n",
       "</table>\n",
       "</div>"
      ],
      "text/plain": [
       "   loan_amnt  term  int_rate  installment emp_length home_ownership  \\\n",
       "2        0.0    36      0.00          0.0   < 1 year           RENT   \n",
       "1        NaN    60    100.99          NaN  10+ years       MORTGAGE   \n",
       "\n",
       "   annual_inc verification_status         purpose addr_state    dti  \\\n",
       "2         0.0        Not Verified  major_purchase         ZZ    0.0   \n",
       "1         NaN            Verified     credit_card         AA  100.0   \n",
       "\n",
       "   delinq_2yrs earliest_cr_line  inq_last_6mths  open_acc  pub_rec  revol_bal  \\\n",
       "2          0.0       2000-01-01             0.0       0.0      0.0        0.0   \n",
       "1          NaN       1999-12-01             NaN       NaN      NaN        NaN   \n",
       "\n",
       "   revol_util  total_acc  repay_fail  \n",
       "2         0.0        1.0           1  \n",
       "1       100.0        NaN           0  "
      ]
     },
     "execution_count": 38,
     "metadata": {},
     "output_type": "execute_result"
    }
   ],
   "source": [
    "loan_default_clean[(loan_default_clean['addr_state'] == 'ZZ') | (loan_default_clean['addr_state'] == 'AA')]"
   ]
  },
  {
   "cell_type": "markdown",
   "metadata": {},
   "source": [
    "We can safely remove these rows since they do not contain any valuable information."
   ]
  },
  {
   "cell_type": "code",
   "execution_count": 39,
   "metadata": {},
   "outputs": [],
   "source": [
    "condition = (loan_default_clean['addr_state'] == 'ZZ') | (loan_default_clean['addr_state'] == 'AA') \n",
    "\n",
    "loan_default_clean = loan_default_clean.drop(loan_default_clean[condition].index)"
   ]
  },
  {
   "cell_type": "markdown",
   "metadata": {},
   "source": [
    "We can check the states to see if they've been dropped."
   ]
  },
  {
   "cell_type": "code",
   "execution_count": 40,
   "metadata": {},
   "outputs": [
    {
     "data": {
      "text/plain": [
       "array(['MI', 'NY', 'TX', 'AL', 'AZ', 'MO', 'OH', 'CA', 'AR', 'NJ', 'WI',\n",
       "       'VA', 'GA', 'FL', 'AK', 'MA', 'MN', 'MD', 'NV', 'KY', 'IL', 'NH',\n",
       "       'CT', 'WA', 'NC', 'SD', 'UT', 'OR', 'DC', 'WY', 'KS', 'PA', 'SC',\n",
       "       'RI', 'HI', 'LA', 'CO', 'WV', 'OK', 'VT', 'MT', 'NM', 'DE', 'TN',\n",
       "       'MS', 'NE', 'IN', 'ID', 'IA', 'ME'], dtype=object)"
      ]
     },
     "execution_count": 40,
     "metadata": {},
     "output_type": "execute_result"
    }
   ],
   "source": [
    "loan_default_clean['addr_state'].unique()"
   ]
  },
  {
   "cell_type": "code",
   "execution_count": 41,
   "metadata": {},
   "outputs": [
    {
     "data": {
      "text/plain": [
       "50"
      ]
     },
     "execution_count": 41,
     "metadata": {},
     "output_type": "execute_result"
    }
   ],
   "source": [
    "loan_default_clean['addr_state'].nunique()"
   ]
  },
  {
   "cell_type": "markdown",
   "metadata": {},
   "source": [
    "There are only the 50 states now and no sign of the null values."
   ]
  },
  {
   "cell_type": "markdown",
   "metadata": {},
   "source": [
    "### 1.7.3 Imputing Null Values<a id='1.7.3_Imputing_Null_Values'></a>"
   ]
  },
  {
   "cell_type": "markdown",
   "metadata": {},
   "source": [
    "`emp_length` had a more significant amount of missing values, and we will be imputing those with the mode. "
   ]
  },
  {
   "cell_type": "code",
   "execution_count": 42,
   "metadata": {},
   "outputs": [
    {
     "name": "stdout",
     "output_type": "stream",
     "text": [
      "<class 'pandas.core.series.Series'>\n",
      "Int64Index: 38478 entries, 3 to 38480\n",
      "Series name: emp_length\n",
      "Non-Null Count  Dtype \n",
      "--------------  ----- \n",
      "38478 non-null  object\n",
      "dtypes: object(1)\n",
      "memory usage: 601.2+ KB\n"
     ]
    }
   ],
   "source": [
    "condition = loan_default_clean['emp_length'].isna()\n",
    "\n",
    "loan_default_clean.loc[condition,'emp_length'] = '10+ years'\n",
    "\n",
    "loan_default_clean['emp_length'].info()"
   ]
  },
  {
   "cell_type": "code",
   "execution_count": 43,
   "metadata": {},
   "outputs": [
    {
     "data": {
      "text/plain": [
       "10+ years    9457\n",
       "< 1 year     4564\n",
       "2 years      4292\n",
       "3 years      3939\n",
       "4 years      3314\n",
       "1 year       3254\n",
       "5 years      3171\n",
       "6 years      2144\n",
       "7 years      1702\n",
       "8 years      1445\n",
       "9 years      1196\n",
       "Name: emp_length, dtype: int64"
      ]
     },
     "execution_count": 43,
     "metadata": {},
     "output_type": "execute_result"
    }
   ],
   "source": [
    "loan_default_clean['emp_length'].value_counts()"
   ]
  },
  {
   "cell_type": "markdown",
   "metadata": {},
   "source": [
    "There are now no missing values in the `emp_length` feature."
   ]
  },
  {
   "cell_type": "code",
   "execution_count": 44,
   "metadata": {},
   "outputs": [
    {
     "name": "stdout",
     "output_type": "stream",
     "text": [
      "<class 'pandas.core.frame.DataFrame'>\n",
      "Int64Index: 38478 entries, 3 to 38480\n",
      "Data columns (total 20 columns):\n",
      " #   Column               Non-Null Count  Dtype         \n",
      "---  ------               --------------  -----         \n",
      " 0   loan_amnt            38478 non-null  float64       \n",
      " 1   term                 38478 non-null  int32         \n",
      " 2   int_rate             38478 non-null  float64       \n",
      " 3   installment          38478 non-null  float64       \n",
      " 4   emp_length           38478 non-null  object        \n",
      " 5   home_ownership       38478 non-null  object        \n",
      " 6   annual_inc           38477 non-null  float64       \n",
      " 7   verification_status  38478 non-null  object        \n",
      " 8   purpose              38478 non-null  object        \n",
      " 9   addr_state           38478 non-null  object        \n",
      " 10  dti                  38478 non-null  float64       \n",
      " 11  delinq_2yrs          38478 non-null  float64       \n",
      " 12  earliest_cr_line     38478 non-null  datetime64[ns]\n",
      " 13  inq_last_6mths       38478 non-null  float64       \n",
      " 14  open_acc             38478 non-null  float64       \n",
      " 15  pub_rec              38478 non-null  float64       \n",
      " 16  revol_bal            38475 non-null  float64       \n",
      " 17  revol_util           38419 non-null  float64       \n",
      " 18  total_acc            38478 non-null  float64       \n",
      " 19  repay_fail           38478 non-null  int64         \n",
      "dtypes: datetime64[ns](1), float64(12), int32(1), int64(1), object(5)\n",
      "memory usage: 6.0+ MB\n"
     ]
    }
   ],
   "source": [
    "loan_default_clean.info()"
   ]
  },
  {
   "cell_type": "markdown",
   "metadata": {},
   "source": [
    "There are still a couple of missing values sprinkled throughout the dataset. Fortunately it is very minimal and we are able to drop the missing values without getting rid of too much data."
   ]
  },
  {
   "cell_type": "code",
   "execution_count": 45,
   "metadata": {},
   "outputs": [],
   "source": [
    "loan_default_clean.dropna(inplace=True)"
   ]
  },
  {
   "cell_type": "code",
   "execution_count": 46,
   "metadata": {
    "scrolled": false
   },
   "outputs": [
    {
     "name": "stdout",
     "output_type": "stream",
     "text": [
      "<class 'pandas.core.frame.DataFrame'>\n",
      "Int64Index: 38415 entries, 3 to 38480\n",
      "Data columns (total 20 columns):\n",
      " #   Column               Non-Null Count  Dtype         \n",
      "---  ------               --------------  -----         \n",
      " 0   loan_amnt            38415 non-null  float64       \n",
      " 1   term                 38415 non-null  int32         \n",
      " 2   int_rate             38415 non-null  float64       \n",
      " 3   installment          38415 non-null  float64       \n",
      " 4   emp_length           38415 non-null  object        \n",
      " 5   home_ownership       38415 non-null  object        \n",
      " 6   annual_inc           38415 non-null  float64       \n",
      " 7   verification_status  38415 non-null  object        \n",
      " 8   purpose              38415 non-null  object        \n",
      " 9   addr_state           38415 non-null  object        \n",
      " 10  dti                  38415 non-null  float64       \n",
      " 11  delinq_2yrs          38415 non-null  float64       \n",
      " 12  earliest_cr_line     38415 non-null  datetime64[ns]\n",
      " 13  inq_last_6mths       38415 non-null  float64       \n",
      " 14  open_acc             38415 non-null  float64       \n",
      " 15  pub_rec              38415 non-null  float64       \n",
      " 16  revol_bal            38415 non-null  float64       \n",
      " 17  revol_util           38415 non-null  float64       \n",
      " 18  total_acc            38415 non-null  float64       \n",
      " 19  repay_fail           38415 non-null  int64         \n",
      "dtypes: datetime64[ns](1), float64(12), int32(1), int64(1), object(5)\n",
      "memory usage: 6.0+ MB\n"
     ]
    }
   ],
   "source": [
    "loan_default_clean.info()"
   ]
  },
  {
   "cell_type": "markdown",
   "metadata": {},
   "source": [
    "Now there is no missing data. Hurray!"
   ]
  },
  {
   "cell_type": "markdown",
   "metadata": {},
   "source": [
    "## 1.8 Saving The Data<a id='1.8_Saving_The_Data'></a>"
   ]
  },
  {
   "cell_type": "code",
   "execution_count": 47,
   "metadata": {},
   "outputs": [],
   "source": [
    "loan_default_clean.to_csv('../data/interim/loan_default_clean.csv')"
   ]
  },
  {
   "cell_type": "markdown",
   "metadata": {},
   "source": [
    "The data has now been saved for the next step."
   ]
  }
 ],
 "metadata": {
  "kernelspec": {
   "display_name": "Python 3 (ipykernel)",
   "language": "python",
   "name": "python3"
  },
  "language_info": {
   "codemirror_mode": {
    "name": "ipython",
    "version": 3
   },
   "file_extension": ".py",
   "mimetype": "text/x-python",
   "name": "python",
   "nbconvert_exporter": "python",
   "pygments_lexer": "ipython3",
   "version": "3.10.9"
  },
  "toc": {
   "base_numbering": 1,
   "nav_menu": {},
   "number_sections": true,
   "sideBar": true,
   "skip_h1_title": false,
   "title_cell": "Table of Contents",
   "title_sidebar": "Contents",
   "toc_cell": false,
   "toc_position": {},
   "toc_section_display": true,
   "toc_window_display": true
  },
  "varInspector": {
   "cols": {
    "lenName": 16,
    "lenType": 16,
    "lenVar": 40
   },
   "kernels_config": {
    "python": {
     "delete_cmd_postfix": "",
     "delete_cmd_prefix": "del ",
     "library": "var_list.py",
     "varRefreshCmd": "print(var_dic_list())"
    },
    "r": {
     "delete_cmd_postfix": ") ",
     "delete_cmd_prefix": "rm(",
     "library": "var_list.r",
     "varRefreshCmd": "cat(var_dic_list()) "
    }
   },
   "types_to_exclude": [
    "module",
    "function",
    "builtin_function_or_method",
    "instance",
    "_Feature"
   ],
   "window_display": false
  }
 },
 "nbformat": 4,
 "nbformat_minor": 4
}
