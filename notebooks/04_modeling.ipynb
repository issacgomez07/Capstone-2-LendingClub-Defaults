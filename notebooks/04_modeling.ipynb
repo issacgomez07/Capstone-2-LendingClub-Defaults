{
 "cells": [
  {
   "cell_type": "markdown",
   "metadata": {},
   "source": [
    "# 4 Modeling<a id='4_Modeling'></a>"
   ]
  },
  {
   "cell_type": "markdown",
   "metadata": {},
   "source": [
    "## 4.1 Contents<a id='4.1_Contents'></a>\n",
    "* [4 Modeling](#3_Modeling)\n",
    "  * [4.1 Contents](#4.1_Contents)\n",
    "  * [4.2 Introduction](#4.2_Introduction)\n",
    "  * [4.3 Imports](#4.3_Imports)\n",
    "  * [4.4 Load Data](#4.4_Load_Data)\n",
    "  * [4.5 Reviewing Superficial Modeling](#4.5_Reviewing_Superficial_Modeling)\n",
    "  * [4.6 XGBoost Classifier](#4.6_XGBoost_Classifier)\n",
    "      * [4.6.1 Initial Fit](#4.6.1_Initial_Fit)\n",
    "      * [4.6.2 Oversampling](#4.6.2_Oversampling)\n",
    "      * [4.6.3 Cross Validation](#4.6.3_Cross_Validation)    \n",
    "  * [4.7 Bernoulli Naive Bayes](#4.7_Bernoulli_Naive_Bayes)\n",
    "      * [4.7.1 Initial Fit](#4.7.1_Initial_Fit)\n",
    "      * [4.7.2 Oversampling](#4.7.2_Oversampling)\n",
    "      * [4.7.3 Cross Validation](#4.7.3_Cross_Validation)\n",
    "  * [4.8 Linear Discriminant Analysis](#4.8_Linear_Discriminant_Analysis)\n",
    "      * [4.8.1 Initial Fit](#4.8.1_Initial_Fit)\n",
    "      * [4.8.2 Oversampling](#4.8.2_Oversampling)\n",
    "      * [4.8.3 Cross Validation](#4.8.3_Cross_Validation)\n",
    "  * [4.9 Optimizing XGBoost](#4.9_Optimizing_XGBoost)\n",
    "  * [4.10 Test On Unseen Data](#4.10_Test_On_Unseen_Data)\n",
    "      * [4.10.1 Load Data](#4.10.1_Load_Data)\n",
    "      * [4.10.2 Data Wrangling](#4.10.2_Data_Wrangling)\n",
    "      * [4.10.3 Missing Features](#4.10.3_Missing_Features)\n",
    "      * [4.10.4 Retrain Model](#4.10.4_Retrain_Model)\n",
    "      * [4.10.5 One-Hot Encoding](#4.10.5_One-Hot_Encoding)\n",
    "      * [4.10.6 Test Model](#4.10.6_Test_Model)\n",
    "  * [4.11 Retrain with Unseen Data](#4.11_Retrain_with_Unseen_Data)"
   ]
  },
  {
   "cell_type": "markdown",
   "metadata": {},
   "source": [
    "## 4.2 Introduction<a id='4.2_Introduction'></a>"
   ]
  },
  {
   "cell_type": "markdown",
   "metadata": {},
   "source": [
    "The final step of the project will be to figure out which model will make the most accurate and efficient classifications for predicting which loans are likely to default. Then we will optimize the model's predicitive power to maximize its classification capability."
   ]
  },
  {
   "cell_type": "markdown",
   "metadata": {},
   "source": [
    "## 4.3 Imports<a id='4.3_Imports'></a>"
   ]
  },
  {
   "cell_type": "code",
   "execution_count": 1,
   "metadata": {},
   "outputs": [],
   "source": [
    "import pandas as pd\n",
    "import numpy as np\n",
    "import os\n",
    "import matplotlib.pyplot as plt\n",
    "import seaborn as sns\n",
    "from sklearn.model_selection import train_test_split, GridSearchCV\n",
    "from sklearn.metrics import classification_report, roc_auc_score, precision_recall_curve, f1_score\n",
    "from sklearn.naive_bayes import BernoulliNB\n",
    "from sklearn.discriminant_analysis import LinearDiscriminantAnalysis\n",
    "from sklearn.utils import resample\n",
    "from sklearn.model_selection import cross_val_score, learning_curve, validation_curve\n",
    "from sklearn.impute import KNNImputer\n",
    "from xgboost import XGBClassifier\n",
    "import warnings\n",
    "warnings.filterwarnings('ignore')\n",
    "\n",
    "sns.set()\n",
    "pd.set_option('display.max_columns',50)"
   ]
  },
  {
   "cell_type": "markdown",
   "metadata": {},
   "source": [
    "First, we import the appropriate libraries we will need to achieve our goal. We imported the `warnings` library and filter any warnings for cleaner output."
   ]
  },
  {
   "cell_type": "markdown",
   "metadata": {},
   "source": [
    "## 4.4 Load Data<a id='4.4_Load_Data'></a>"
   ]
  },
  {
   "cell_type": "code",
   "execution_count": 2,
   "metadata": {
    "scrolled": false
   },
   "outputs": [],
   "source": [
    "df_encoded = pd.read_csv('../data/processed/df_encoded.csv', index_col=0)"
   ]
  },
  {
   "cell_type": "markdown",
   "metadata": {},
   "source": [
    "We load in the encoded dataset generated in the previous step where we pre-processed the data. We will not review with .head() since there are many columns now created from the one-hot encoding."
   ]
  },
  {
   "cell_type": "markdown",
   "metadata": {},
   "source": [
    "## 4.5 Reviewing Superficial Modeling<a id='4.5_Reviewing_Superficial_Modeling'></a>"
   ]
  },
  {
   "cell_type": "code",
   "execution_count": 3,
   "metadata": {},
   "outputs": [],
   "source": [
    "models = pd.read_csv('../data/processed/lazypredict_models.csv')"
   ]
  },
  {
   "cell_type": "markdown",
   "metadata": {},
   "source": [
    "In the previous notebook, we saved a copy of LazyPredict's summary for different classification models and their results. We import the DataFrame, that had been saved as a csv file, to help us decide which model we will begin with. "
   ]
  },
  {
   "cell_type": "code",
   "execution_count": 4,
   "metadata": {},
   "outputs": [
    {
     "data": {
      "text/html": [
       "<div>\n",
       "<style scoped>\n",
       "    .dataframe tbody tr th:only-of-type {\n",
       "        vertical-align: middle;\n",
       "    }\n",
       "\n",
       "    .dataframe tbody tr th {\n",
       "        vertical-align: top;\n",
       "    }\n",
       "\n",
       "    .dataframe thead th {\n",
       "        text-align: right;\n",
       "    }\n",
       "</style>\n",
       "<table border=\"1\" class=\"dataframe\">\n",
       "  <thead>\n",
       "    <tr style=\"text-align: right;\">\n",
       "      <th></th>\n",
       "      <th>Model</th>\n",
       "      <th>Accuracy</th>\n",
       "      <th>Balanced Accuracy</th>\n",
       "      <th>ROC AUC</th>\n",
       "      <th>F1 Score</th>\n",
       "      <th>Time Taken</th>\n",
       "    </tr>\n",
       "  </thead>\n",
       "  <tbody>\n",
       "    <tr>\n",
       "      <th>9</th>\n",
       "      <td>XGBClassifier</td>\n",
       "      <td>0.842045</td>\n",
       "      <td>0.518938</td>\n",
       "      <td>0.518938</td>\n",
       "      <td>0.789942</td>\n",
       "      <td>0.222200</td>\n",
       "    </tr>\n",
       "    <tr>\n",
       "      <th>11</th>\n",
       "      <td>BernoulliNB</td>\n",
       "      <td>0.841004</td>\n",
       "      <td>0.518324</td>\n",
       "      <td>0.518324</td>\n",
       "      <td>0.789329</td>\n",
       "      <td>0.063057</td>\n",
       "    </tr>\n",
       "    <tr>\n",
       "      <th>13</th>\n",
       "      <td>LinearDiscriminantAnalysis</td>\n",
       "      <td>0.848813</td>\n",
       "      <td>0.512170</td>\n",
       "      <td>0.512170</td>\n",
       "      <td>0.787517</td>\n",
       "      <td>0.137125</td>\n",
       "    </tr>\n",
       "    <tr>\n",
       "      <th>12</th>\n",
       "      <td>BaggingClassifier</td>\n",
       "      <td>0.838505</td>\n",
       "      <td>0.514305</td>\n",
       "      <td>0.514305</td>\n",
       "      <td>0.786484</td>\n",
       "      <td>5.020552</td>\n",
       "    </tr>\n",
       "    <tr>\n",
       "      <th>10</th>\n",
       "      <td>KNeighborsClassifier</td>\n",
       "      <td>0.829654</td>\n",
       "      <td>0.518714</td>\n",
       "      <td>0.518714</td>\n",
       "      <td>0.786165</td>\n",
       "      <td>0.725659</td>\n",
       "    </tr>\n",
       "    <tr>\n",
       "      <th>14</th>\n",
       "      <td>LGBMClassifier</td>\n",
       "      <td>0.849021</td>\n",
       "      <td>0.508047</td>\n",
       "      <td>0.508047</td>\n",
       "      <td>0.784907</td>\n",
       "      <td>0.224205</td>\n",
       "    </tr>\n",
       "    <tr>\n",
       "      <th>15</th>\n",
       "      <td>CalibratedClassifierCV</td>\n",
       "      <td>0.849438</td>\n",
       "      <td>0.507726</td>\n",
       "      <td>0.507726</td>\n",
       "      <td>0.784757</td>\n",
       "      <td>0.399363</td>\n",
       "    </tr>\n",
       "    <tr>\n",
       "      <th>16</th>\n",
       "      <td>AdaBoostClassifier</td>\n",
       "      <td>0.848605</td>\n",
       "      <td>0.507519</td>\n",
       "      <td>0.507519</td>\n",
       "      <td>0.784500</td>\n",
       "      <td>2.017842</td>\n",
       "    </tr>\n",
       "    <tr>\n",
       "      <th>17</th>\n",
       "      <td>ExtraTreesClassifier</td>\n",
       "      <td>0.848605</td>\n",
       "      <td>0.506670</td>\n",
       "      <td>0.506670</td>\n",
       "      <td>0.783941</td>\n",
       "      <td>3.796458</td>\n",
       "    </tr>\n",
       "    <tr>\n",
       "      <th>18</th>\n",
       "      <td>LogisticRegression</td>\n",
       "      <td>0.848709</td>\n",
       "      <td>0.505882</td>\n",
       "      <td>0.505882</td>\n",
       "      <td>0.783432</td>\n",
       "      <td>0.075068</td>\n",
       "    </tr>\n",
       "    <tr>\n",
       "      <th>4</th>\n",
       "      <td>Perceptron</td>\n",
       "      <td>0.803311</td>\n",
       "      <td>0.535178</td>\n",
       "      <td>0.535178</td>\n",
       "      <td>0.782287</td>\n",
       "      <td>0.082075</td>\n",
       "    </tr>\n",
       "    <tr>\n",
       "      <th>19</th>\n",
       "      <td>RandomForestClassifier</td>\n",
       "      <td>0.847980</td>\n",
       "      <td>0.502340</td>\n",
       "      <td>0.502340</td>\n",
       "      <td>0.780952</td>\n",
       "      <td>8.730942</td>\n",
       "    </tr>\n",
       "    <tr>\n",
       "      <th>20</th>\n",
       "      <td>SGDClassifier</td>\n",
       "      <td>0.848292</td>\n",
       "      <td>0.501391</td>\n",
       "      <td>0.501391</td>\n",
       "      <td>0.780330</td>\n",
       "      <td>0.161146</td>\n",
       "    </tr>\n",
       "    <tr>\n",
       "      <th>21</th>\n",
       "      <td>RidgeClassifier</td>\n",
       "      <td>0.848709</td>\n",
       "      <td>0.500788</td>\n",
       "      <td>0.500788</td>\n",
       "      <td>0.779948</td>\n",
       "      <td>0.049045</td>\n",
       "    </tr>\n",
       "    <tr>\n",
       "      <th>22</th>\n",
       "      <td>RidgeClassifierCV</td>\n",
       "      <td>0.848709</td>\n",
       "      <td>0.500788</td>\n",
       "      <td>0.500788</td>\n",
       "      <td>0.779948</td>\n",
       "      <td>0.079072</td>\n",
       "    </tr>\n",
       "    <tr>\n",
       "      <th>23</th>\n",
       "      <td>LinearSVC</td>\n",
       "      <td>0.848709</td>\n",
       "      <td>0.500788</td>\n",
       "      <td>0.500788</td>\n",
       "      <td>0.779948</td>\n",
       "      <td>2.909643</td>\n",
       "    </tr>\n",
       "    <tr>\n",
       "      <th>24</th>\n",
       "      <td>SVC</td>\n",
       "      <td>0.848813</td>\n",
       "      <td>0.500000</td>\n",
       "      <td>0.500000</td>\n",
       "      <td>0.779401</td>\n",
       "      <td>57.211876</td>\n",
       "    </tr>\n",
       "    <tr>\n",
       "      <th>25</th>\n",
       "      <td>DummyClassifier</td>\n",
       "      <td>0.848813</td>\n",
       "      <td>0.500000</td>\n",
       "      <td>0.500000</td>\n",
       "      <td>0.779401</td>\n",
       "      <td>0.039036</td>\n",
       "    </tr>\n",
       "    <tr>\n",
       "      <th>1</th>\n",
       "      <td>GaussianNB</td>\n",
       "      <td>0.776239</td>\n",
       "      <td>0.567627</td>\n",
       "      <td>0.567627</td>\n",
       "      <td>0.777022</td>\n",
       "      <td>0.052038</td>\n",
       "    </tr>\n",
       "    <tr>\n",
       "      <th>2</th>\n",
       "      <td>QuadraticDiscriminantAnalysis</td>\n",
       "      <td>0.763953</td>\n",
       "      <td>0.558974</td>\n",
       "      <td>0.558974</td>\n",
       "      <td>0.768150</td>\n",
       "      <td>0.065059</td>\n",
       "    </tr>\n",
       "    <tr>\n",
       "      <th>7</th>\n",
       "      <td>LabelSpreading</td>\n",
       "      <td>0.761974</td>\n",
       "      <td>0.529507</td>\n",
       "      <td>0.529507</td>\n",
       "      <td>0.760323</td>\n",
       "      <td>53.788873</td>\n",
       "    </tr>\n",
       "    <tr>\n",
       "      <th>8</th>\n",
       "      <td>LabelPropagation</td>\n",
       "      <td>0.761141</td>\n",
       "      <td>0.529299</td>\n",
       "      <td>0.529299</td>\n",
       "      <td>0.759835</td>\n",
       "      <td>49.494972</td>\n",
       "    </tr>\n",
       "    <tr>\n",
       "      <th>3</th>\n",
       "      <td>DecisionTreeClassifier</td>\n",
       "      <td>0.751874</td>\n",
       "      <td>0.541388</td>\n",
       "      <td>0.541388</td>\n",
       "      <td>0.757579</td>\n",
       "      <td>0.750681</td>\n",
       "    </tr>\n",
       "    <tr>\n",
       "      <th>6</th>\n",
       "      <td>ExtraTreeClassifier</td>\n",
       "      <td>0.748959</td>\n",
       "      <td>0.529765</td>\n",
       "      <td>0.529765</td>\n",
       "      <td>0.753423</td>\n",
       "      <td>0.083076</td>\n",
       "    </tr>\n",
       "    <tr>\n",
       "      <th>5</th>\n",
       "      <td>PassiveAggressiveClassifier</td>\n",
       "      <td>0.737818</td>\n",
       "      <td>0.530843</td>\n",
       "      <td>0.530843</td>\n",
       "      <td>0.747462</td>\n",
       "      <td>0.076068</td>\n",
       "    </tr>\n",
       "    <tr>\n",
       "      <th>0</th>\n",
       "      <td>NearestCentroid</td>\n",
       "      <td>0.644002</td>\n",
       "      <td>0.628977</td>\n",
       "      <td>0.628977</td>\n",
       "      <td>0.693346</td>\n",
       "      <td>0.045041</td>\n",
       "    </tr>\n",
       "  </tbody>\n",
       "</table>\n",
       "</div>"
      ],
      "text/plain": [
       "                            Model  Accuracy  Balanced Accuracy   ROC AUC  \\\n",
       "9                   XGBClassifier  0.842045           0.518938  0.518938   \n",
       "11                    BernoulliNB  0.841004           0.518324  0.518324   \n",
       "13     LinearDiscriminantAnalysis  0.848813           0.512170  0.512170   \n",
       "12              BaggingClassifier  0.838505           0.514305  0.514305   \n",
       "10           KNeighborsClassifier  0.829654           0.518714  0.518714   \n",
       "14                 LGBMClassifier  0.849021           0.508047  0.508047   \n",
       "15         CalibratedClassifierCV  0.849438           0.507726  0.507726   \n",
       "16             AdaBoostClassifier  0.848605           0.507519  0.507519   \n",
       "17           ExtraTreesClassifier  0.848605           0.506670  0.506670   \n",
       "18             LogisticRegression  0.848709           0.505882  0.505882   \n",
       "4                      Perceptron  0.803311           0.535178  0.535178   \n",
       "19         RandomForestClassifier  0.847980           0.502340  0.502340   \n",
       "20                  SGDClassifier  0.848292           0.501391  0.501391   \n",
       "21                RidgeClassifier  0.848709           0.500788  0.500788   \n",
       "22              RidgeClassifierCV  0.848709           0.500788  0.500788   \n",
       "23                      LinearSVC  0.848709           0.500788  0.500788   \n",
       "24                            SVC  0.848813           0.500000  0.500000   \n",
       "25                DummyClassifier  0.848813           0.500000  0.500000   \n",
       "1                      GaussianNB  0.776239           0.567627  0.567627   \n",
       "2   QuadraticDiscriminantAnalysis  0.763953           0.558974  0.558974   \n",
       "7                  LabelSpreading  0.761974           0.529507  0.529507   \n",
       "8                LabelPropagation  0.761141           0.529299  0.529299   \n",
       "3          DecisionTreeClassifier  0.751874           0.541388  0.541388   \n",
       "6             ExtraTreeClassifier  0.748959           0.529765  0.529765   \n",
       "5     PassiveAggressiveClassifier  0.737818           0.530843  0.530843   \n",
       "0                 NearestCentroid  0.644002           0.628977  0.628977   \n",
       "\n",
       "    F1 Score  Time Taken  \n",
       "9   0.789942    0.222200  \n",
       "11  0.789329    0.063057  \n",
       "13  0.787517    0.137125  \n",
       "12  0.786484    5.020552  \n",
       "10  0.786165    0.725659  \n",
       "14  0.784907    0.224205  \n",
       "15  0.784757    0.399363  \n",
       "16  0.784500    2.017842  \n",
       "17  0.783941    3.796458  \n",
       "18  0.783432    0.075068  \n",
       "4   0.782287    0.082075  \n",
       "19  0.780952    8.730942  \n",
       "20  0.780330    0.161146  \n",
       "21  0.779948    0.049045  \n",
       "22  0.779948    0.079072  \n",
       "23  0.779948    2.909643  \n",
       "24  0.779401   57.211876  \n",
       "25  0.779401    0.039036  \n",
       "1   0.777022    0.052038  \n",
       "2   0.768150    0.065059  \n",
       "7   0.760323   53.788873  \n",
       "8   0.759835   49.494972  \n",
       "3   0.757579    0.750681  \n",
       "6   0.753423    0.083076  \n",
       "5   0.747462    0.076068  \n",
       "0   0.693346    0.045041  "
      ]
     },
     "execution_count": 4,
     "metadata": {},
     "output_type": "execute_result"
    }
   ],
   "source": [
    "models.sort_values(['F1 Score','Accuracy'], ascending=False)"
   ]
  },
  {
   "cell_type": "markdown",
   "metadata": {},
   "source": [
    "We sort the models by F1 score and accuracy. The F1 score will be a crucial component in optimizing our model due to the nature of our problem. A loan default is a case that doesn't occur often; therefore, accuracy alone will provide a misleading account for how well the model performs since there is a class imbalance.\n",
    "\n",
    "It is evident from the ROC AUC that the models are currently only as good as guessing that all loans are non-defaulted, since they are close to 50%. The top three models that we will take a deeper dive into are: XGBClassifier, BernoulliNB, and LinearDiscriminantAnalysis. We will attempt to optimize the three models and see which one yields the best results."
   ]
  },
  {
   "cell_type": "markdown",
   "metadata": {},
   "source": [
    "## 4.6 XGBoost Classifier<a id='4.6_XGBoost_Classifier'></a>"
   ]
  },
  {
   "cell_type": "code",
   "execution_count": 5,
   "metadata": {},
   "outputs": [],
   "source": [
    "X = df_encoded.drop(columns=['addr_state','earliest_cr_line','repay_fail'])\n",
    "y = df_encoded.repay_fail\n",
    "\n",
    "X_train, X_test, y_train, y_test = train_test_split(X, y, test_size=0.25, random_state=42, stratify=y)"
   ]
  },
  {
   "cell_type": "markdown",
   "metadata": {},
   "source": [
    "We begin with the XGBoost Classifier by splitting the data into training and test datasets. We make sure to stratify the data based on the class we want to predict: `repay_fail`."
   ]
  },
  {
   "cell_type": "markdown",
   "metadata": {},
   "source": [
    "### 4.6.1 Initial Fit<a id='4.6.1_Initial_Fit'></a>"
   ]
  },
  {
   "cell_type": "code",
   "execution_count": 6,
   "metadata": {
    "scrolled": true
   },
   "outputs": [
    {
     "data": {
      "text/html": [
       "<div>\n",
       "<style scoped>\n",
       "    .dataframe tbody tr th:only-of-type {\n",
       "        vertical-align: middle;\n",
       "    }\n",
       "\n",
       "    .dataframe tbody tr th {\n",
       "        vertical-align: top;\n",
       "    }\n",
       "\n",
       "    .dataframe thead th {\n",
       "        text-align: right;\n",
       "    }\n",
       "</style>\n",
       "<table border=\"1\" class=\"dataframe\">\n",
       "  <thead>\n",
       "    <tr style=\"text-align: right;\">\n",
       "      <th></th>\n",
       "      <th>precision</th>\n",
       "      <th>recall</th>\n",
       "      <th>f1-score</th>\n",
       "      <th>support</th>\n",
       "    </tr>\n",
       "  </thead>\n",
       "  <tbody>\n",
       "    <tr>\n",
       "      <th>0</th>\n",
       "      <td>0.853791</td>\n",
       "      <td>0.982090</td>\n",
       "      <td>0.913458</td>\n",
       "      <td>8152.000000</td>\n",
       "    </tr>\n",
       "    <tr>\n",
       "      <th>1</th>\n",
       "      <td>0.356828</td>\n",
       "      <td>0.055785</td>\n",
       "      <td>0.096486</td>\n",
       "      <td>1452.000000</td>\n",
       "    </tr>\n",
       "    <tr>\n",
       "      <th>accuracy</th>\n",
       "      <td>0.842045</td>\n",
       "      <td>0.842045</td>\n",
       "      <td>0.842045</td>\n",
       "      <td>0.842045</td>\n",
       "    </tr>\n",
       "    <tr>\n",
       "      <th>macro avg</th>\n",
       "      <td>0.605310</td>\n",
       "      <td>0.518938</td>\n",
       "      <td>0.504972</td>\n",
       "      <td>9604.000000</td>\n",
       "    </tr>\n",
       "    <tr>\n",
       "      <th>weighted avg</th>\n",
       "      <td>0.778657</td>\n",
       "      <td>0.842045</td>\n",
       "      <td>0.789942</td>\n",
       "      <td>9604.000000</td>\n",
       "    </tr>\n",
       "  </tbody>\n",
       "</table>\n",
       "</div>"
      ],
      "text/plain": [
       "              precision    recall  f1-score      support\n",
       "0              0.853791  0.982090  0.913458  8152.000000\n",
       "1              0.356828  0.055785  0.096486  1452.000000\n",
       "accuracy       0.842045  0.842045  0.842045     0.842045\n",
       "macro avg      0.605310  0.518938  0.504972  9604.000000\n",
       "weighted avg   0.778657  0.842045  0.789942  9604.000000"
      ]
     },
     "metadata": {},
     "output_type": "display_data"
    },
    {
     "name": "stdout",
     "output_type": "stream",
     "text": [
      "XGBoost AUC:  0.6773195477389652\n"
     ]
    }
   ],
   "source": [
    "# Initialize model\n",
    "xgb_model = XGBClassifier(random_state=42)\n",
    "\n",
    "# Fit model to training data\n",
    "xgb_model.fit(X_train, y_train)\n",
    "\n",
    "# Predict on test data\n",
    "xgb_predictions = xgb_model.predict(X_test)\n",
    "\n",
    "# Get prediction probabilities\n",
    "xgb_probs = xgb_model.predict_proba(X_test)[:,1]\n",
    "\n",
    "# Evaluate predictions\n",
    "display(pd.DataFrame(classification_report(y_test, xgb_predictions,output_dict=True)).T)\n",
    "print(\"XGBoost AUC: \", roc_auc_score(y_test, xgb_probs))"
   ]
  },
  {
   "cell_type": "markdown",
   "metadata": {},
   "source": [
    "Based on the accuracy of the initial fit, it is evident the model is as good at guessing that all loans are non-defaulted because the amount of defaulted loans is 15%, and the precision of the model for the non-defaulted loans is 85%."
   ]
  },
  {
   "cell_type": "code",
   "execution_count": 7,
   "metadata": {},
   "outputs": [
    {
     "data": {
      "text/plain": [
       "0    0.848835\n",
       "1    0.151165\n",
       "Name: repay_fail, dtype: float64"
      ]
     },
     "execution_count": 7,
     "metadata": {},
     "output_type": "execute_result"
    }
   ],
   "source": [
    "df_encoded.repay_fail.value_counts(normalize=True)"
   ]
  },
  {
   "cell_type": "markdown",
   "metadata": {},
   "source": [
    "Here we confirm our suspicion by displaying the proportion of defaulted and non-defaulted loans."
   ]
  },
  {
   "cell_type": "markdown",
   "metadata": {},
   "source": [
    "### 4.6.2 Oversampling<a id='4.6.2_Oversampling'></a>"
   ]
  },
  {
   "cell_type": "markdown",
   "metadata": {},
   "source": [
    "The technique we will utilize to counteract the imbalance of classes is oversampling the defaulted loans."
   ]
  },
  {
   "cell_type": "code",
   "execution_count": 8,
   "metadata": {},
   "outputs": [
    {
     "data": {
      "text/plain": [
       "0    0.848835\n",
       "1    0.151165\n",
       "Name: repay_fail, dtype: float64"
      ]
     },
     "execution_count": 8,
     "metadata": {},
     "output_type": "execute_result"
    }
   ],
   "source": [
    "df_encoded.repay_fail.value_counts(normalize=True)"
   ]
  },
  {
   "cell_type": "markdown",
   "metadata": {},
   "source": [
    "We can see that only 15% of the loans in our dataset are defaults, which explains why our model isn't good at predicting defaults."
   ]
  },
  {
   "cell_type": "code",
   "execution_count": 9,
   "metadata": {},
   "outputs": [],
   "source": [
    "# Create two different dataframe of majority and minority class \n",
    "df_majority = df_encoded[df_encoded['repay_fail']==0]\n",
    "df_minority = df_encoded[df_encoded['repay_fail']==1]\n",
    "\n",
    "# Upsample minority class\n",
    "df_minority_upsampled = resample(df_minority, \n",
    "                                 replace=True,\n",
    "                                 n_samples= 32608,\n",
    "                                 random_state=42)\n",
    "\n",
    "# Concatenate the DataFrames with the upsampled minority class and the majority class\n",
    "df_upsampled = pd.concat([df_minority_upsampled, df_majority])"
   ]
  },
  {
   "cell_type": "markdown",
   "metadata": {},
   "source": [
    "We create an upsampled DataFrame to have an equal amount of defaulted and non-defaulted loans."
   ]
  },
  {
   "cell_type": "code",
   "execution_count": 10,
   "metadata": {},
   "outputs": [
    {
     "data": {
      "text/plain": [
       "1    32608\n",
       "0    32608\n",
       "Name: repay_fail, dtype: int64"
      ]
     },
     "execution_count": 10,
     "metadata": {},
     "output_type": "execute_result"
    }
   ],
   "source": [
    "df_upsampled['repay_fail'].value_counts()"
   ]
  },
  {
   "cell_type": "markdown",
   "metadata": {},
   "source": [
    "Now there are an equal amount of both classes."
   ]
  },
  {
   "cell_type": "code",
   "execution_count": 11,
   "metadata": {},
   "outputs": [],
   "source": [
    "X_o = df_upsampled.drop(columns=['addr_state','earliest_cr_line','repay_fail'])\n",
    "y_o = df_upsampled.repay_fail"
   ]
  },
  {
   "cell_type": "markdown",
   "metadata": {},
   "source": [
    "The data gets split once again into the features we will use to train the model and the feature we want to predict. A suffix `_o` is added to represent 'oversampled' data."
   ]
  },
  {
   "cell_type": "code",
   "execution_count": 12,
   "metadata": {},
   "outputs": [],
   "source": [
    "X_train_o, X_test_o, y_train_o, y_test_o = train_test_split(X_o, y_o, test_size=0.25, random_state=42)"
   ]
  },
  {
   "cell_type": "markdown",
   "metadata": {},
   "source": [
    "This time over we will not have to stratify since there are an equal amount of both classes."
   ]
  },
  {
   "cell_type": "code",
   "execution_count": 13,
   "metadata": {
    "scrolled": true
   },
   "outputs": [
    {
     "data": {
      "text/html": [
       "<div>\n",
       "<style scoped>\n",
       "    .dataframe tbody tr th:only-of-type {\n",
       "        vertical-align: middle;\n",
       "    }\n",
       "\n",
       "    .dataframe tbody tr th {\n",
       "        vertical-align: top;\n",
       "    }\n",
       "\n",
       "    .dataframe thead th {\n",
       "        text-align: right;\n",
       "    }\n",
       "</style>\n",
       "<table border=\"1\" class=\"dataframe\">\n",
       "  <thead>\n",
       "    <tr style=\"text-align: right;\">\n",
       "      <th></th>\n",
       "      <th>precision</th>\n",
       "      <th>recall</th>\n",
       "      <th>f1-score</th>\n",
       "      <th>support</th>\n",
       "    </tr>\n",
       "  </thead>\n",
       "  <tbody>\n",
       "    <tr>\n",
       "      <th>0</th>\n",
       "      <td>0.972117</td>\n",
       "      <td>0.821148</td>\n",
       "      <td>0.890278</td>\n",
       "      <td>8152.000000</td>\n",
       "    </tr>\n",
       "    <tr>\n",
       "      <th>1</th>\n",
       "      <td>0.463576</td>\n",
       "      <td>0.867769</td>\n",
       "      <td>0.604317</td>\n",
       "      <td>1452.000000</td>\n",
       "    </tr>\n",
       "    <tr>\n",
       "      <th>accuracy</th>\n",
       "      <td>0.828197</td>\n",
       "      <td>0.828197</td>\n",
       "      <td>0.828197</td>\n",
       "      <td>0.828197</td>\n",
       "    </tr>\n",
       "    <tr>\n",
       "      <th>macro avg</th>\n",
       "      <td>0.717847</td>\n",
       "      <td>0.844458</td>\n",
       "      <td>0.747297</td>\n",
       "      <td>9604.000000</td>\n",
       "    </tr>\n",
       "    <tr>\n",
       "      <th>weighted avg</th>\n",
       "      <td>0.895233</td>\n",
       "      <td>0.828197</td>\n",
       "      <td>0.847044</td>\n",
       "      <td>9604.000000</td>\n",
       "    </tr>\n",
       "  </tbody>\n",
       "</table>\n",
       "</div>"
      ],
      "text/plain": [
       "              precision    recall  f1-score      support\n",
       "0              0.972117  0.821148  0.890278  8152.000000\n",
       "1              0.463576  0.867769  0.604317  1452.000000\n",
       "accuracy       0.828197  0.828197  0.828197     0.828197\n",
       "macro avg      0.717847  0.844458  0.747297  9604.000000\n",
       "weighted avg   0.895233  0.828197  0.847044  9604.000000"
      ]
     },
     "metadata": {},
     "output_type": "display_data"
    },
    {
     "name": "stdout",
     "output_type": "stream",
     "text": [
      "XGBoost AUC:  0.921127874786765\n"
     ]
    }
   ],
   "source": [
    "# Initialize the model\n",
    "xgb_o = XGBClassifier(random_state=42)\n",
    "\n",
    "#Fit model to training data\n",
    "xgb_o.fit(X_train_o, y_train_o)\n",
    "\n",
    "# Predict on test data\n",
    "xgb_pred_o = xgb_o.predict(X_test)\n",
    "\n",
    "# Obtain prediction probabilities\n",
    "xgb_probs_o = xgb_o.predict_proba(X_test)[:,1]\n",
    "\n",
    "# Evaluate predictions\n",
    "display(pd.DataFrame(classification_report(y_test, xgb_pred_o,output_dict=True)).T)\n",
    "print(\"XGBoost AUC: \", roc_auc_score(y_test, xgb_probs_o))"
   ]
  },
  {
   "cell_type": "markdown",
   "metadata": {},
   "source": [
    "The model has improved with the oversampled data; however, it seems it does not have great precision when it comes to predicting the defaulted loans; however, when it does predict that a loan is defaulted, it is correct a lot of the time."
   ]
  },
  {
   "cell_type": "markdown",
   "metadata": {},
   "source": [
    "### 4.6.3 Cross Validation<a id='4.6.3_Cross_Validation'></a>"
   ]
  },
  {
   "cell_type": "code",
   "execution_count": 14,
   "metadata": {},
   "outputs": [
    {
     "name": "stdout",
     "output_type": "stream",
     "text": [
      "Fitting 3 folds for each of 512 candidates, totalling 1536 fits\n",
      "Best parameters found:  {'colsample_bytree': 1.0, 'gamma': 0, 'learning_rate': 0.1, 'max_depth': 6, 'min_child_weight': 1, 'n_estimators': 200, 'reg_alpha': 0.1, 'reg_lambda': 1, 'subsample': 0.8}\n",
      "Best F1 found:  0.7788276195217919\n"
     ]
    }
   ],
   "source": [
    "# Create parameter grid\n",
    "param_grid = {\n",
    "    'n_estimators': [100, 200],\n",
    "    'learning_rate': [0.01, 0.1],\n",
    "    'max_depth': [3, 6],\n",
    "    'min_child_weight': [1, 5],\n",
    "    'gamma': [0, 0.1],\n",
    "    'subsample': [0.8, 1.0],\n",
    "    'colsample_bytree': [0.8, 1.0],\n",
    "    'reg_alpha': [0, 0.1],\n",
    "    'reg_lambda': [1, 1.5],\n",
    "}\n",
    "\n",
    "# Initialize model\n",
    "xgb_o_2 = XGBClassifier(random_state=42)\n",
    "\n",
    "# Fit model to training data\n",
    "xgb_o_2.fit(X_train_o, y_train_o)\n",
    "\n",
    "# Initialize the grid search\n",
    "xgb_grid_search = GridSearchCV(estimator=xgb_o_2, \n",
    "                           param_grid=param_grid, \n",
    "                           scoring='f1', \n",
    "                           n_jobs=-1, \n",
    "                           cv=3, \n",
    "                           verbose=1)\n",
    "\n",
    "# Fit the grid search to the data\n",
    "xgb_grid_search.fit(X_train_o, y_train_o)\n",
    "\n",
    "# Print the best parameters found\n",
    "print(\"Best parameters found: \", xgb_grid_search.best_params_)\n",
    "print(\"Best F1 found: \", xgb_grid_search.best_score_)"
   ]
  },
  {
   "cell_type": "markdown",
   "metadata": {},
   "source": [
    "We have tuned the hyperparamters via cross-validtion while focusing on maximizing the F1 score, which is appropriate for our class-imbalance problem. The F1 aligns closely to the scores we received before; therefore, it's likely the model did not improve with cross-validation."
   ]
  },
  {
   "cell_type": "code",
   "execution_count": 15,
   "metadata": {},
   "outputs": [
    {
     "data": {
      "text/html": [
       "<div>\n",
       "<style scoped>\n",
       "    .dataframe tbody tr th:only-of-type {\n",
       "        vertical-align: middle;\n",
       "    }\n",
       "\n",
       "    .dataframe tbody tr th {\n",
       "        vertical-align: top;\n",
       "    }\n",
       "\n",
       "    .dataframe thead th {\n",
       "        text-align: right;\n",
       "    }\n",
       "</style>\n",
       "<table border=\"1\" class=\"dataframe\">\n",
       "  <thead>\n",
       "    <tr style=\"text-align: right;\">\n",
       "      <th></th>\n",
       "      <th>precision</th>\n",
       "      <th>recall</th>\n",
       "      <th>f1-score</th>\n",
       "      <th>support</th>\n",
       "    </tr>\n",
       "  </thead>\n",
       "  <tbody>\n",
       "    <tr>\n",
       "      <th>0</th>\n",
       "      <td>0.964972</td>\n",
       "      <td>0.794161</td>\n",
       "      <td>0.871274</td>\n",
       "      <td>8152.000000</td>\n",
       "    </tr>\n",
       "    <tr>\n",
       "      <th>1</th>\n",
       "      <td>0.420380</td>\n",
       "      <td>0.838154</td>\n",
       "      <td>0.559926</td>\n",
       "      <td>1452.000000</td>\n",
       "    </tr>\n",
       "    <tr>\n",
       "      <th>accuracy</th>\n",
       "      <td>0.800812</td>\n",
       "      <td>0.800812</td>\n",
       "      <td>0.800812</td>\n",
       "      <td>0.800812</td>\n",
       "    </tr>\n",
       "    <tr>\n",
       "      <th>macro avg</th>\n",
       "      <td>0.692676</td>\n",
       "      <td>0.816158</td>\n",
       "      <td>0.715600</td>\n",
       "      <td>9604.000000</td>\n",
       "    </tr>\n",
       "    <tr>\n",
       "      <th>weighted avg</th>\n",
       "      <td>0.882637</td>\n",
       "      <td>0.800812</td>\n",
       "      <td>0.824202</td>\n",
       "      <td>9604.000000</td>\n",
       "    </tr>\n",
       "  </tbody>\n",
       "</table>\n",
       "</div>"
      ],
      "text/plain": [
       "              precision    recall  f1-score      support\n",
       "0              0.964972  0.794161  0.871274  8152.000000\n",
       "1              0.420380  0.838154  0.559926  1452.000000\n",
       "accuracy       0.800812  0.800812  0.800812     0.800812\n",
       "macro avg      0.692676  0.816158  0.715600  9604.000000\n",
       "weighted avg   0.882637  0.800812  0.824202  9604.000000"
      ]
     },
     "metadata": {},
     "output_type": "display_data"
    },
    {
     "name": "stdout",
     "output_type": "stream",
     "text": [
      "XGBClassifier AUC:  0.901691594214065\n"
     ]
    }
   ],
   "source": [
    "# Predict on test data\n",
    "xgb_grid_search_pred = xgb_grid_search.predict(X_test)\n",
    "\n",
    "# Get prediction probabilities\n",
    "xgb_grid_search_prob = xgb_grid_search.predict_proba(X_test)[:,1]\n",
    "\n",
    "# Evaluate predictions\n",
    "display(pd.DataFrame(classification_report(y_test, xgb_grid_search_pred,output_dict=True)).T)\n",
    "print(\"XGBClassifier AUC: \", roc_auc_score(y_test, xgb_grid_search_prob))"
   ]
  },
  {
   "cell_type": "markdown",
   "metadata": {},
   "source": [
    "The model seems to have performed better before cross-validation, although the results are fairly close. The results support XGBClassifier as our best candidate for achieving our goal."
   ]
  },
  {
   "cell_type": "markdown",
   "metadata": {},
   "source": [
    "## 4.7 Bernoulli Naive Bayes<a id='4.7_Bernoulli_Naive_Bayes'></a>"
   ]
  },
  {
   "cell_type": "markdown",
   "metadata": {},
   "source": [
    "### 4.7.1 Initial Fit<a id='4.7.1_Initial_Fit'></a>"
   ]
  },
  {
   "cell_type": "code",
   "execution_count": 16,
   "metadata": {},
   "outputs": [
    {
     "data": {
      "text/html": [
       "<div>\n",
       "<style scoped>\n",
       "    .dataframe tbody tr th:only-of-type {\n",
       "        vertical-align: middle;\n",
       "    }\n",
       "\n",
       "    .dataframe tbody tr th {\n",
       "        vertical-align: top;\n",
       "    }\n",
       "\n",
       "    .dataframe thead th {\n",
       "        text-align: right;\n",
       "    }\n",
       "</style>\n",
       "<table border=\"1\" class=\"dataframe\">\n",
       "  <thead>\n",
       "    <tr style=\"text-align: right;\">\n",
       "      <th></th>\n",
       "      <th>precision</th>\n",
       "      <th>recall</th>\n",
       "      <th>f1-score</th>\n",
       "      <th>support</th>\n",
       "    </tr>\n",
       "  </thead>\n",
       "  <tbody>\n",
       "    <tr>\n",
       "      <th>0</th>\n",
       "      <td>0.848813</td>\n",
       "      <td>1.000000</td>\n",
       "      <td>0.918225</td>\n",
       "      <td>8152.000000</td>\n",
       "    </tr>\n",
       "    <tr>\n",
       "      <th>1</th>\n",
       "      <td>0.000000</td>\n",
       "      <td>0.000000</td>\n",
       "      <td>0.000000</td>\n",
       "      <td>1452.000000</td>\n",
       "    </tr>\n",
       "    <tr>\n",
       "      <th>accuracy</th>\n",
       "      <td>0.848813</td>\n",
       "      <td>0.848813</td>\n",
       "      <td>0.848813</td>\n",
       "      <td>0.848813</td>\n",
       "    </tr>\n",
       "    <tr>\n",
       "      <th>macro avg</th>\n",
       "      <td>0.424406</td>\n",
       "      <td>0.500000</td>\n",
       "      <td>0.459112</td>\n",
       "      <td>9604.000000</td>\n",
       "    </tr>\n",
       "    <tr>\n",
       "      <th>weighted avg</th>\n",
       "      <td>0.720483</td>\n",
       "      <td>0.848813</td>\n",
       "      <td>0.779401</td>\n",
       "      <td>9604.000000</td>\n",
       "    </tr>\n",
       "  </tbody>\n",
       "</table>\n",
       "</div>"
      ],
      "text/plain": [
       "              precision    recall  f1-score      support\n",
       "0              0.848813  1.000000  0.918225  8152.000000\n",
       "1              0.000000  0.000000  0.000000  1452.000000\n",
       "accuracy       0.848813  0.848813  0.848813     0.848813\n",
       "macro avg      0.424406  0.500000  0.459112  9604.000000\n",
       "weighted avg   0.720483  0.848813  0.779401  9604.000000"
      ]
     },
     "metadata": {},
     "output_type": "display_data"
    },
    {
     "name": "stdout",
     "output_type": "stream",
     "text": [
      "BernoulliNB AUC:  0.6013184075566982\n"
     ]
    }
   ],
   "source": [
    "# Initialize the model\n",
    "bnb_model = BernoulliNB()\n",
    "\n",
    "# Fit the model to training data\n",
    "bnb_model.fit(X_train, y_train)\n",
    "\n",
    "# Predict on test data\n",
    "bnb_pred = bnb_model.predict(X_test)\n",
    "\n",
    "# Get prediction probabilities\n",
    "bnb_probs = bnb_model.predict_proba(X_test)[:,1]\n",
    "\n",
    "# Evaluate predictions\n",
    "display(pd.DataFrame(classification_report(y_test, bnb_pred,output_dict=True)).T)\n",
    "print(\"BernoulliNB AUC: \", roc_auc_score(y_test, bnb_probs))"
   ]
  },
  {
   "cell_type": "markdown",
   "metadata": {},
   "source": [
    "Next we test the BernoulliNB model. The classification report portrays the model's tendency to guess that all loans are non-defaulted, as before."
   ]
  },
  {
   "cell_type": "markdown",
   "metadata": {},
   "source": [
    "### 4.7.2 Oversampling<a id='4.7.2_Oversampling'></a>"
   ]
  },
  {
   "cell_type": "code",
   "execution_count": 17,
   "metadata": {},
   "outputs": [
    {
     "data": {
      "text/html": [
       "<div>\n",
       "<style scoped>\n",
       "    .dataframe tbody tr th:only-of-type {\n",
       "        vertical-align: middle;\n",
       "    }\n",
       "\n",
       "    .dataframe tbody tr th {\n",
       "        vertical-align: top;\n",
       "    }\n",
       "\n",
       "    .dataframe thead th {\n",
       "        text-align: right;\n",
       "    }\n",
       "</style>\n",
       "<table border=\"1\" class=\"dataframe\">\n",
       "  <thead>\n",
       "    <tr style=\"text-align: right;\">\n",
       "      <th></th>\n",
       "      <th>precision</th>\n",
       "      <th>recall</th>\n",
       "      <th>f1-score</th>\n",
       "      <th>support</th>\n",
       "    </tr>\n",
       "  </thead>\n",
       "  <tbody>\n",
       "    <tr>\n",
       "      <th>0</th>\n",
       "      <td>0.884697</td>\n",
       "      <td>0.563788</td>\n",
       "      <td>0.688694</td>\n",
       "      <td>8152.000000</td>\n",
       "    </tr>\n",
       "    <tr>\n",
       "      <th>1</th>\n",
       "      <td>0.193468</td>\n",
       "      <td>0.587466</td>\n",
       "      <td>0.291077</td>\n",
       "      <td>1452.000000</td>\n",
       "    </tr>\n",
       "    <tr>\n",
       "      <th>accuracy</th>\n",
       "      <td>0.567368</td>\n",
       "      <td>0.567368</td>\n",
       "      <td>0.567368</td>\n",
       "      <td>0.567368</td>\n",
       "    </tr>\n",
       "    <tr>\n",
       "      <th>macro avg</th>\n",
       "      <td>0.539082</td>\n",
       "      <td>0.575627</td>\n",
       "      <td>0.489885</td>\n",
       "      <td>9604.000000</td>\n",
       "    </tr>\n",
       "    <tr>\n",
       "      <th>weighted avg</th>\n",
       "      <td>0.780192</td>\n",
       "      <td>0.567368</td>\n",
       "      <td>0.628579</td>\n",
       "      <td>9604.000000</td>\n",
       "    </tr>\n",
       "  </tbody>\n",
       "</table>\n",
       "</div>"
      ],
      "text/plain": [
       "              precision    recall  f1-score      support\n",
       "0              0.884697  0.563788  0.688694  8152.000000\n",
       "1              0.193468  0.587466  0.291077  1452.000000\n",
       "accuracy       0.567368  0.567368  0.567368     0.567368\n",
       "macro avg      0.539082  0.575627  0.489885  9604.000000\n",
       "weighted avg   0.780192  0.567368  0.628579  9604.000000"
      ]
     },
     "metadata": {},
     "output_type": "display_data"
    },
    {
     "name": "stdout",
     "output_type": "stream",
     "text": [
      "BernoulliNB AUC:  0.604187533962157\n"
     ]
    }
   ],
   "source": [
    "# Initialize the model\n",
    "bnb_model_o = BernoulliNB()\n",
    "\n",
    "# Fit the model to training data\n",
    "bnb_model_o.fit(X_train_o, y_train_o)\n",
    "\n",
    "# Predict on test data\n",
    "bnb_pred_o = bnb_model_o.predict(X_test)\n",
    "\n",
    "# Get prediction probabilities\n",
    "bnb_probs_o = bnb_model_o.predict_proba(X_test)[:,1]\n",
    "\n",
    "# Evaluate predictions\n",
    "display(pd.DataFrame(classification_report(y_test, bnb_pred_o,output_dict=True)).T)\n",
    "print(\"BernoulliNB AUC: \", roc_auc_score(y_test, bnb_probs_o))"
   ]
  },
  {
   "cell_type": "markdown",
   "metadata": {},
   "source": [
    "After using the oversampled data, the results are better; however, the XGBClassifier is still better at predicting."
   ]
  },
  {
   "cell_type": "markdown",
   "metadata": {},
   "source": [
    "### 4.7.3 Cross Validation<a id='4.7.3_Cross_Validation'></a>"
   ]
  },
  {
   "cell_type": "code",
   "execution_count": 18,
   "metadata": {
    "scrolled": true
   },
   "outputs": [
    {
     "name": "stdout",
     "output_type": "stream",
     "text": [
      "Fitting 3 folds for each of 16 candidates, totalling 48 fits\n",
      "Best parameters found:  {'alpha': 0.01, 'binarize': 0.2}\n",
      "Best F1 found:  0.5694216317671819\n"
     ]
    }
   ],
   "source": [
    "# Create parameter grid\n",
    "param_grid = {\n",
    "    'alpha': [0.01, 0.1, 0.5, 1.0],\n",
    "    'binarize': [0.0, 0.1, 0.2, 0.5]\n",
    "}\n",
    "\n",
    "# Initialize the model\n",
    "bnb_o_2 = BernoulliNB()\n",
    "\n",
    "# Fit model to training data\n",
    "bnb_o_2.fit(X_train_o, y_train_o)\n",
    "\n",
    "# Initialize the grid search\n",
    "bnb_grid_search = GridSearchCV(estimator=bnb_o_2, \n",
    "                           param_grid=param_grid, \n",
    "                           scoring='f1', \n",
    "                           n_jobs=-1, \n",
    "                           cv=3, \n",
    "                           verbose=1)\n",
    "\n",
    "# Fit the grid search to the data\n",
    "bnb_grid_search.fit(X_train_o, y_train_o)\n",
    "\n",
    "# Print the best parameters found\n",
    "print(\"Best parameters found: \", bnb_grid_search.best_params_)\n",
    "print(\"Best F1 found: \", bnb_grid_search.best_score_)"
   ]
  },
  {
   "cell_type": "markdown",
   "metadata": {},
   "source": [
    "Here we completed the cross-validation via GridSearch for the BernoulliNB. The F1 score seems to show that the model performs slightly worse after completing the hyperparameter tuning."
   ]
  },
  {
   "cell_type": "code",
   "execution_count": 19,
   "metadata": {},
   "outputs": [
    {
     "data": {
      "text/html": [
       "<div>\n",
       "<style scoped>\n",
       "    .dataframe tbody tr th:only-of-type {\n",
       "        vertical-align: middle;\n",
       "    }\n",
       "\n",
       "    .dataframe tbody tr th {\n",
       "        vertical-align: top;\n",
       "    }\n",
       "\n",
       "    .dataframe thead th {\n",
       "        text-align: right;\n",
       "    }\n",
       "</style>\n",
       "<table border=\"1\" class=\"dataframe\">\n",
       "  <thead>\n",
       "    <tr style=\"text-align: right;\">\n",
       "      <th></th>\n",
       "      <th>precision</th>\n",
       "      <th>recall</th>\n",
       "      <th>f1-score</th>\n",
       "      <th>support</th>\n",
       "    </tr>\n",
       "  </thead>\n",
       "  <tbody>\n",
       "    <tr>\n",
       "      <th>0</th>\n",
       "      <td>0.884512</td>\n",
       "      <td>0.564647</td>\n",
       "      <td>0.689278</td>\n",
       "      <td>8152.000000</td>\n",
       "    </tr>\n",
       "    <tr>\n",
       "      <th>1</th>\n",
       "      <td>0.193409</td>\n",
       "      <td>0.586088</td>\n",
       "      <td>0.290841</td>\n",
       "      <td>1452.000000</td>\n",
       "    </tr>\n",
       "    <tr>\n",
       "      <th>accuracy</th>\n",
       "      <td>0.567888</td>\n",
       "      <td>0.567888</td>\n",
       "      <td>0.567888</td>\n",
       "      <td>0.567888</td>\n",
       "    </tr>\n",
       "    <tr>\n",
       "      <th>macro avg</th>\n",
       "      <td>0.538961</td>\n",
       "      <td>0.575367</td>\n",
       "      <td>0.490059</td>\n",
       "      <td>9604.000000</td>\n",
       "    </tr>\n",
       "    <tr>\n",
       "      <th>weighted avg</th>\n",
       "      <td>0.780026</td>\n",
       "      <td>0.567888</td>\n",
       "      <td>0.629040</td>\n",
       "      <td>9604.000000</td>\n",
       "    </tr>\n",
       "  </tbody>\n",
       "</table>\n",
       "</div>"
      ],
      "text/plain": [
       "              precision    recall  f1-score      support\n",
       "0              0.884512  0.564647  0.689278  8152.000000\n",
       "1              0.193409  0.586088  0.290841  1452.000000\n",
       "accuracy       0.567888  0.567888  0.567888     0.567888\n",
       "macro avg      0.538961  0.575367  0.490059  9604.000000\n",
       "weighted avg   0.780026  0.567888  0.629040  9604.000000"
      ]
     },
     "metadata": {},
     "output_type": "display_data"
    },
    {
     "name": "stdout",
     "output_type": "stream",
     "text": [
      "BernoulliNB AUC:  0.6039284246695702\n"
     ]
    }
   ],
   "source": [
    "# Predict on test data\n",
    "bnb_grid_search_pred = bnb_grid_search.predict(X_test)\n",
    "\n",
    "# Get prediction probabilities\n",
    "bnb_grid_search_prob = bnb_grid_search.predict_proba(X_test)[:,1]\n",
    "\n",
    "# Evaluate predictions\n",
    "display(pd.DataFrame(classification_report(y_test, bnb_grid_search_pred,output_dict=True)).T)\n",
    "print(\"BernoulliNB AUC: \", roc_auc_score(y_test, bnb_grid_search_prob))"
   ]
  },
  {
   "cell_type": "markdown",
   "metadata": {},
   "source": [
    "The model performance did not improve after the cross-validation. Our best candidate is still the XGBClassifier. "
   ]
  },
  {
   "cell_type": "markdown",
   "metadata": {},
   "source": [
    "## 4.8 Linear Discriminant Analysis<a id='4.8_Linear_Discriminant_Analysis'></a>"
   ]
  },
  {
   "cell_type": "markdown",
   "metadata": {},
   "source": [
    "### 4.8.1 Initial Fit<a id='4.8.1_Initial_Fit'></a>"
   ]
  },
  {
   "cell_type": "code",
   "execution_count": 20,
   "metadata": {
    "scrolled": false
   },
   "outputs": [
    {
     "data": {
      "text/html": [
       "<div>\n",
       "<style scoped>\n",
       "    .dataframe tbody tr th:only-of-type {\n",
       "        vertical-align: middle;\n",
       "    }\n",
       "\n",
       "    .dataframe tbody tr th {\n",
       "        vertical-align: top;\n",
       "    }\n",
       "\n",
       "    .dataframe thead th {\n",
       "        text-align: right;\n",
       "    }\n",
       "</style>\n",
       "<table border=\"1\" class=\"dataframe\">\n",
       "  <thead>\n",
       "    <tr style=\"text-align: right;\">\n",
       "      <th></th>\n",
       "      <th>precision</th>\n",
       "      <th>recall</th>\n",
       "      <th>f1-score</th>\n",
       "      <th>support</th>\n",
       "    </tr>\n",
       "  </thead>\n",
       "  <tbody>\n",
       "    <tr>\n",
       "      <th>0</th>\n",
       "      <td>0.851965</td>\n",
       "      <td>0.994725</td>\n",
       "      <td>0.917827</td>\n",
       "      <td>8152.000000</td>\n",
       "    </tr>\n",
       "    <tr>\n",
       "      <th>1</th>\n",
       "      <td>0.500000</td>\n",
       "      <td>0.029614</td>\n",
       "      <td>0.055917</td>\n",
       "      <td>1452.000000</td>\n",
       "    </tr>\n",
       "    <tr>\n",
       "      <th>accuracy</th>\n",
       "      <td>0.848813</td>\n",
       "      <td>0.848813</td>\n",
       "      <td>0.848813</td>\n",
       "      <td>0.848813</td>\n",
       "    </tr>\n",
       "    <tr>\n",
       "      <th>macro avg</th>\n",
       "      <td>0.675982</td>\n",
       "      <td>0.512170</td>\n",
       "      <td>0.486872</td>\n",
       "      <td>9604.000000</td>\n",
       "    </tr>\n",
       "    <tr>\n",
       "      <th>weighted avg</th>\n",
       "      <td>0.798752</td>\n",
       "      <td>0.848813</td>\n",
       "      <td>0.787517</td>\n",
       "      <td>9604.000000</td>\n",
       "    </tr>\n",
       "  </tbody>\n",
       "</table>\n",
       "</div>"
      ],
      "text/plain": [
       "              precision    recall  f1-score      support\n",
       "0              0.851965  0.994725  0.917827  8152.000000\n",
       "1              0.500000  0.029614  0.055917  1452.000000\n",
       "accuracy       0.848813  0.848813  0.848813     0.848813\n",
       "macro avg      0.675982  0.512170  0.486872  9604.000000\n",
       "weighted avg   0.798752  0.848813  0.787517  9604.000000"
      ]
     },
     "metadata": {},
     "output_type": "display_data"
    },
    {
     "name": "stdout",
     "output_type": "stream",
     "text": [
      "LinearDiscriminantAnalysis AUC:  0.7091479182042568\n"
     ]
    }
   ],
   "source": [
    "# Initialize the model\n",
    "lda_model = LinearDiscriminantAnalysis()\n",
    "\n",
    "# Fit model to the training data\n",
    "lda_model.fit(X_train, y_train)\n",
    "\n",
    "# Predict on test data\n",
    "lda_pred = lda_model.predict(X_test)\n",
    "\n",
    "# Get prediction probabilities\n",
    "lda_probs = lda_model.predict_proba(X_test)[:,1]\n",
    "\n",
    "# Evaluate predictions\n",
    "display(pd.DataFrame(classification_report(y_test, lda_pred,output_dict=True)).T)\n",
    "print(\"LinearDiscriminantAnalysis AUC: \", roc_auc_score(y_test, lda_probs))"
   ]
  },
  {
   "cell_type": "markdown",
   "metadata": {},
   "source": [
    "Next we test the LinearDiscriminantAnalysis model. The classification report, once again, displays the model's tendency to guess that all loans are non-defaulted."
   ]
  },
  {
   "cell_type": "markdown",
   "metadata": {},
   "source": [
    "### 4.8.2 Oversampling<a id='4.8.2_Oversampling'></a>"
   ]
  },
  {
   "cell_type": "code",
   "execution_count": 21,
   "metadata": {
    "scrolled": true
   },
   "outputs": [
    {
     "data": {
      "text/html": [
       "<div>\n",
       "<style scoped>\n",
       "    .dataframe tbody tr th:only-of-type {\n",
       "        vertical-align: middle;\n",
       "    }\n",
       "\n",
       "    .dataframe tbody tr th {\n",
       "        vertical-align: top;\n",
       "    }\n",
       "\n",
       "    .dataframe thead th {\n",
       "        text-align: right;\n",
       "    }\n",
       "</style>\n",
       "<table border=\"1\" class=\"dataframe\">\n",
       "  <thead>\n",
       "    <tr style=\"text-align: right;\">\n",
       "      <th></th>\n",
       "      <th>precision</th>\n",
       "      <th>recall</th>\n",
       "      <th>f1-score</th>\n",
       "      <th>support</th>\n",
       "    </tr>\n",
       "  </thead>\n",
       "  <tbody>\n",
       "    <tr>\n",
       "      <th>0</th>\n",
       "      <td>0.911366</td>\n",
       "      <td>0.652110</td>\n",
       "      <td>0.760243</td>\n",
       "      <td>8152.000000</td>\n",
       "    </tr>\n",
       "    <tr>\n",
       "      <th>1</th>\n",
       "      <td>0.247945</td>\n",
       "      <td>0.643939</td>\n",
       "      <td>0.358032</td>\n",
       "      <td>1452.000000</td>\n",
       "    </tr>\n",
       "    <tr>\n",
       "      <th>accuracy</th>\n",
       "      <td>0.650875</td>\n",
       "      <td>0.650875</td>\n",
       "      <td>0.650875</td>\n",
       "      <td>0.650875</td>\n",
       "    </tr>\n",
       "    <tr>\n",
       "      <th>macro avg</th>\n",
       "      <td>0.579656</td>\n",
       "      <td>0.648025</td>\n",
       "      <td>0.559137</td>\n",
       "      <td>9604.000000</td>\n",
       "    </tr>\n",
       "    <tr>\n",
       "      <th>weighted avg</th>\n",
       "      <td>0.811066</td>\n",
       "      <td>0.650875</td>\n",
       "      <td>0.699434</td>\n",
       "      <td>9604.000000</td>\n",
       "    </tr>\n",
       "  </tbody>\n",
       "</table>\n",
       "</div>"
      ],
      "text/plain": [
       "              precision    recall  f1-score      support\n",
       "0              0.911366  0.652110  0.760243  8152.000000\n",
       "1              0.247945  0.643939  0.358032  1452.000000\n",
       "accuracy       0.650875  0.650875  0.650875     0.650875\n",
       "macro avg      0.579656  0.648025  0.559137  9604.000000\n",
       "weighted avg   0.811066  0.650875  0.699434  9604.000000"
      ]
     },
     "metadata": {},
     "output_type": "display_data"
    },
    {
     "name": "stdout",
     "output_type": "stream",
     "text": [
      "LinearDiscriminantAnalysis AUC:  0.7103123470858104\n"
     ]
    }
   ],
   "source": [
    "lda_o = LinearDiscriminantAnalysis()\n",
    "\n",
    "lda_o.fit(X_train_o, y_train_o)\n",
    "\n",
    "# Predict on test data\n",
    "lda_pred_o = lda_o.predict(X_test)\n",
    "\n",
    "# Get prediction probabilities\n",
    "lda_probs_o = lda_o.predict_proba(X_test)[:,1]\n",
    "\n",
    "# Evaluate predictions\n",
    "display(pd.DataFrame(classification_report(y_test, lda_pred_o,output_dict=True)).T)\n",
    "print(\"LinearDiscriminantAnalysis AUC: \", roc_auc_score(y_test, lda_probs_o))"
   ]
  },
  {
   "cell_type": "markdown",
   "metadata": {},
   "source": [
    "The model had slightly has improved when utilizing the oversampled data; however, it is performing more closely to the BernoulliNB. "
   ]
  },
  {
   "cell_type": "markdown",
   "metadata": {},
   "source": [
    "### 4.8.3 Cross Validation<a id='4.8.3_Cross_Validation'></a>"
   ]
  },
  {
   "cell_type": "code",
   "execution_count": 22,
   "metadata": {},
   "outputs": [
    {
     "name": "stdout",
     "output_type": "stream",
     "text": [
      "Fitting 3 folds for each of 45 candidates, totalling 135 fits\n",
      "Best parameters found:  {'shrinkage': 'auto', 'solver': 'lsqr', 'tol': 0.0001}\n",
      "Best F1 found:  0.6440942491872834\n"
     ]
    }
   ],
   "source": [
    "# Create parameter grid\n",
    "param_grid = {\n",
    "    'solver': ['svd', 'lsqr', 'eigen'],\n",
    "    'shrinkage': [None, 'auto', 0.0, 0.5, 1.0],\n",
    "    'tol': [0.0001, 0.0002, 0.0005]\n",
    "}\n",
    "\n",
    "# Initialize model\n",
    "lda_o_2 = LinearDiscriminantAnalysis()\n",
    "\n",
    "# Fit model to the training data\n",
    "lda_o_2.fit(X_train_o, y_train_o)\n",
    "\n",
    "# Initialize the grid search\n",
    "lda_grid_search = GridSearchCV(estimator=lda_o_2, \n",
    "                           param_grid=param_grid, \n",
    "                           scoring='f1', \n",
    "                           n_jobs=-1, \n",
    "                           cv=3, \n",
    "                           verbose=1)\n",
    "\n",
    "# Fit the grid search to the data\n",
    "lda_grid_search.fit(X_train_o, y_train_o)\n",
    "\n",
    "# Print the best parameters found\n",
    "print(\"Best parameters found: \", lda_grid_search.best_params_)\n",
    "print(\"Best F1 found: \", lda_grid_search.best_score_)"
   ]
  },
  {
   "cell_type": "markdown",
   "metadata": {},
   "source": [
    "The F1 score suggest that the model didn't improve from cross-validation."
   ]
  },
  {
   "cell_type": "code",
   "execution_count": 23,
   "metadata": {
    "scrolled": true
   },
   "outputs": [
    {
     "data": {
      "text/html": [
       "<div>\n",
       "<style scoped>\n",
       "    .dataframe tbody tr th:only-of-type {\n",
       "        vertical-align: middle;\n",
       "    }\n",
       "\n",
       "    .dataframe tbody tr th {\n",
       "        vertical-align: top;\n",
       "    }\n",
       "\n",
       "    .dataframe thead th {\n",
       "        text-align: right;\n",
       "    }\n",
       "</style>\n",
       "<table border=\"1\" class=\"dataframe\">\n",
       "  <thead>\n",
       "    <tr style=\"text-align: right;\">\n",
       "      <th></th>\n",
       "      <th>precision</th>\n",
       "      <th>recall</th>\n",
       "      <th>f1-score</th>\n",
       "      <th>support</th>\n",
       "    </tr>\n",
       "  </thead>\n",
       "  <tbody>\n",
       "    <tr>\n",
       "      <th>0</th>\n",
       "      <td>0.912082</td>\n",
       "      <td>0.652846</td>\n",
       "      <td>0.760992</td>\n",
       "      <td>8152.000000</td>\n",
       "    </tr>\n",
       "    <tr>\n",
       "      <th>1</th>\n",
       "      <td>0.249138</td>\n",
       "      <td>0.646694</td>\n",
       "      <td>0.359701</td>\n",
       "      <td>1452.000000</td>\n",
       "    </tr>\n",
       "    <tr>\n",
       "      <th>accuracy</th>\n",
       "      <td>0.651916</td>\n",
       "      <td>0.651916</td>\n",
       "      <td>0.651916</td>\n",
       "      <td>0.651916</td>\n",
       "    </tr>\n",
       "    <tr>\n",
       "      <th>macro avg</th>\n",
       "      <td>0.580610</td>\n",
       "      <td>0.649770</td>\n",
       "      <td>0.560347</td>\n",
       "      <td>9604.000000</td>\n",
       "    </tr>\n",
       "    <tr>\n",
       "      <th>weighted avg</th>\n",
       "      <td>0.811854</td>\n",
       "      <td>0.651916</td>\n",
       "      <td>0.700322</td>\n",
       "      <td>9604.000000</td>\n",
       "    </tr>\n",
       "  </tbody>\n",
       "</table>\n",
       "</div>"
      ],
      "text/plain": [
       "              precision    recall  f1-score      support\n",
       "0              0.912082  0.652846  0.760992  8152.000000\n",
       "1              0.249138  0.646694  0.359701  1452.000000\n",
       "accuracy       0.651916  0.651916  0.651916     0.651916\n",
       "macro avg      0.580610  0.649770  0.560347  9604.000000\n",
       "weighted avg   0.811854  0.651916  0.700322  9604.000000"
      ]
     },
     "metadata": {},
     "output_type": "display_data"
    },
    {
     "name": "stdout",
     "output_type": "stream",
     "text": [
      "LinearDiscriminantAnalysis AUC:  0.7102626710949265\n"
     ]
    }
   ],
   "source": [
    "lda_best_model = lda_grid_search.best_estimator_\n",
    "lda_predictions_cv = lda_best_model.predict(X_test)\n",
    "lda_probs_cv = lda_best_model.predict_proba(X_test)[:,1]\n",
    "\n",
    "display(pd.DataFrame(classification_report(y_test, lda_predictions_cv,output_dict=True)).T)\n",
    "print(\"LinearDiscriminantAnalysis AUC: \", roc_auc_score(y_test, lda_probs_cv))"
   ]
  },
  {
   "cell_type": "markdown",
   "metadata": {},
   "source": [
    "Our suspicion has been confirmed, the model did not improve after hyperparameter tuning. We will continue in optimizing XGBoost Classifier to create a model for predicting loan default."
   ]
  },
  {
   "cell_type": "markdown",
   "metadata": {},
   "source": [
    "## 4.9 Optimizing XGBoost<a id='4.9_Optimizing_XGBoost'></a>"
   ]
  },
  {
   "cell_type": "markdown",
   "metadata": {},
   "source": [
    "To optimize XGBClassifier, we will find out which hyperparameters create the greatest change in the model's F1 score. That way, we can leave the hyperparameters that don't greatly affect the model's ability to predict as the hyperparameter values that we found previously, and run a cross-validation grid search with only the hyperparameters that do greatly affect the model's ability to predict."
   ]
  },
  {
   "cell_type": "code",
   "execution_count": 24,
   "metadata": {},
   "outputs": [],
   "source": [
    "# Create parameter grid with potential values for various hyperparameters\n",
    "potential_grid = {\n",
    "    'n_estimators': [50, 100, 200, 300, 400],\n",
    "    'learning_rate': [0.01, 0.05, 0.1, 0.2, 0.3],\n",
    "    'max_depth': [3, 4, 5, 6, 7, 8],\n",
    "    'min_child_weight': [1, 2, 3, 4, 5],\n",
    "    'gamma': [0, 0.05, 0.1, 0.2, 0.3],\n",
    "    'subsample': [0.6, 0.7, 0.8, 0.9, 1.0],\n",
    "    'colsample_bytree': [0.6, 0.7, 0.8, 0.9, 1.0],\n",
    "    'reg_alpha': [0, 0.05, 0.1, 0.2, 0.3],\n",
    "    'reg_lambda': [0.8, 1.0, 1.2, 1.5, 1.7],\n",
    "    }\n",
    "\n",
    "# Initialize empty parameter dictionary\n",
    "param_dict = {}\n",
    "\n",
    "# Iterate through potential parameter grid\n",
    "for param, values in potential_grid.items():\n",
    "    \n",
    "    # Initialize optimal parameters dictionary\n",
    "    # The current values are the optimal values found after CV of XGBoost\n",
    "    optimal_params = {'colsample_bytree': 1.0, 'gamma': 0, 'learning_rate': 0.1, 'max_depth': 6, 'min_child_weight': 1, \n",
    "                  'n_estimators': 200, 'reg_alpha': 0.1, 'reg_lambda': 1, 'subsample': 0.8}\n",
    "    \n",
    "    # Add parameter as a key to param_dict if not already created\n",
    "    if param not in param_dict:\n",
    "        param_dict[param] = {}\n",
    "    \n",
    "    # Iterate through the list of values for each hyperparamter\n",
    "    for value in values:\n",
    "        \n",
    "        # Change value for hyperparameter in optimal_params while keeping all others the same\n",
    "        optimal_params[param] = value\n",
    "        \n",
    "        # Initialize temporary model\n",
    "        xgb_temp = XGBClassifier(**optimal_params, random_state=42)\n",
    "\n",
    "        # Fit temporary model to the training data\n",
    "        xgb_temp.fit(X_train_o, y_train_o)\n",
    "\n",
    "        # Predict on test data\n",
    "        xgb_pred_temp = xgb_temp.predict(X_test)\n",
    "\n",
    "        # Save F1 score to the param_dict\n",
    "        param_dict[param][value] = f1_score(y_test, xgb_pred_temp)"
   ]
  },
  {
   "cell_type": "markdown",
   "metadata": {},
   "source": [
    "We create a dictionary that stores the f1 score of the model while changing one of the hyperparameter's values and keeping all the other ones the same."
   ]
  },
  {
   "cell_type": "code",
   "execution_count": 25,
   "metadata": {},
   "outputs": [
    {
     "data": {
      "image/png": "[encoded data removed]",
      "text/plain": [
       "<Figure size 1200x1200 with 9 Axes>"
      ]
     },
     "metadata": {},
     "output_type": "display_data"
    }
   ],
   "source": [
    "# Initialize empty list\n",
    "data = []\n",
    "\n",
    "# Iterate through param_dict dictionary\n",
    "for param, values in param_dict.items():\n",
    "    \n",
    "    # Iterate through list for each hyperparameter\n",
    "    for value, score in values.items():\n",
    "        \n",
    "        # Append a dictionary that stores the paramter name, value and F1 score\n",
    "        data.append({'Parameter': param, 'Value': value, 'F1 Score': score})\n",
    "        \n",
    "# Convert the list into a DataFrame\n",
    "df = pd.DataFrame(data)\n",
    "\n",
    "# Create a FacetGrid plotting separating each column by parameter \n",
    "g = sns.FacetGrid(df, col=\"Parameter\", col_wrap=3, height=4, sharey=True, sharex=False)\n",
    "g.map(plt.plot, \"Value\", \"F1 Score\", marker=\"o\")\n",
    "\n",
    "# Add labels and titles\n",
    "g.set_axis_labels(\"\", \"F1 Score\")\n",
    "g.set_titles(\"{col_name}\")\n",
    "\n",
    "# Adjust layout to prevent overlap\n",
    "plt.tight_layout()\n",
    "\n",
    "# Show the plots\n",
    "plt.show()"
   ]
  },
  {
   "cell_type": "markdown",
   "metadata": {},
   "source": [
    "It is evident here which hyperparamters greatly affect the F1 score the most.\n",
    "\n",
    "Significant hyperparameters:\n",
    " - learning_rate\n",
    " - max_depth\n",
    " - n_estimators\n",
    " \n",
    "Insiginificant hyperparameters:\n",
    " - gamma\n",
    " - colsample_bytree\n",
    " - min_child_weight\n",
    " - subsample\n",
    " - reg_lambda\n",
    " - reg_alpha"
   ]
  },
  {
   "cell_type": "code",
   "execution_count": 26,
   "metadata": {},
   "outputs": [
    {
     "name": "stdout",
     "output_type": "stream",
     "text": [
      "Fitting 3 folds for each of 150 candidates, totalling 450 fits\n",
      "Best parameters found:  {'learning_rate': 0.3, 'max_depth': 8, 'n_estimators': 400}\n",
      "Best F1 found:  0.9127963682131309\n"
     ]
    }
   ],
   "source": [
    "# Create parameter grid\n",
    "new_param_grid = {\n",
    "    'n_estimators': [50, 100, 200, 300, 400],\n",
    "    'learning_rate': [0.01, 0.05, 0.1, 0.2, 0.3],\n",
    "    'max_depth': [3, 4, 5, 6, 7, 8],\n",
    "}\n",
    "\n",
    "# Initialize optimal parameters dictionary with values found previously\n",
    "optimal_params = {'colsample_bytree': 1.0, 'gamma': 0.1, 'min_child_weight': 1, 'reg_alpha': 0.1,\n",
    "                  'reg_lambda': 1, 'subsample': 0.8}\n",
    "\n",
    "# Initialize model\n",
    "xgb_o_3 = XGBClassifier(**optimal_params, random_state=42)\n",
    "\n",
    "# Fit model to the training data\n",
    "xgb_o_3.fit(X_train_o, y_train_o)\n",
    "\n",
    "# Initialize the grid search\n",
    "xgb_grid_search_2 = GridSearchCV(estimator=xgb_o_3, \n",
    "                           param_grid=new_param_grid, \n",
    "                           scoring='f1', \n",
    "                           n_jobs=-1, \n",
    "                           cv=3, \n",
    "                           verbose=1)\n",
    "\n",
    "# Fit the grid search to the data\n",
    "xgb_grid_search_2.fit(X_train_o, y_train_o)\n",
    "\n",
    "# Print the best parameters found\n",
    "print(\"Best parameters found: \", xgb_grid_search_2.best_params_)\n",
    "print(\"Best F1 found: \", xgb_grid_search_2.best_score_)"
   ]
  },
  {
   "cell_type": "markdown",
   "metadata": {},
   "source": [
    "Leaving the insignificant hyperparameters at the optimized values found when first using grid search cross-validation, we use another grid search with a larger range of values for the significant hyperparameters. It is evident from the F1 that the model has improved since the score has increased to over 91%."
   ]
  },
  {
   "cell_type": "code",
   "execution_count": 27,
   "metadata": {},
   "outputs": [
    {
     "data": {
      "text/html": [
       "<div>\n",
       "<style scoped>\n",
       "    .dataframe tbody tr th:only-of-type {\n",
       "        vertical-align: middle;\n",
       "    }\n",
       "\n",
       "    .dataframe tbody tr th {\n",
       "        vertical-align: top;\n",
       "    }\n",
       "\n",
       "    .dataframe thead th {\n",
       "        text-align: right;\n",
       "    }\n",
       "</style>\n",
       "<table border=\"1\" class=\"dataframe\">\n",
       "  <thead>\n",
       "    <tr style=\"text-align: right;\">\n",
       "      <th></th>\n",
       "      <th>precision</th>\n",
       "      <th>recall</th>\n",
       "      <th>f1-score</th>\n",
       "      <th>support</th>\n",
       "    </tr>\n",
       "  </thead>\n",
       "  <tbody>\n",
       "    <tr>\n",
       "      <th>0</th>\n",
       "      <td>0.998495</td>\n",
       "      <td>0.976938</td>\n",
       "      <td>0.987599</td>\n",
       "      <td>8152.000000</td>\n",
       "    </tr>\n",
       "    <tr>\n",
       "      <th>1</th>\n",
       "      <td>0.884521</td>\n",
       "      <td>0.991736</td>\n",
       "      <td>0.935065</td>\n",
       "      <td>1452.000000</td>\n",
       "    </tr>\n",
       "    <tr>\n",
       "      <th>accuracy</th>\n",
       "      <td>0.979175</td>\n",
       "      <td>0.979175</td>\n",
       "      <td>0.979175</td>\n",
       "      <td>0.979175</td>\n",
       "    </tr>\n",
       "    <tr>\n",
       "      <th>macro avg</th>\n",
       "      <td>0.941508</td>\n",
       "      <td>0.984337</td>\n",
       "      <td>0.961332</td>\n",
       "      <td>9604.000000</td>\n",
       "    </tr>\n",
       "    <tr>\n",
       "      <th>weighted avg</th>\n",
       "      <td>0.981264</td>\n",
       "      <td>0.979175</td>\n",
       "      <td>0.979657</td>\n",
       "      <td>9604.000000</td>\n",
       "    </tr>\n",
       "  </tbody>\n",
       "</table>\n",
       "</div>"
      ],
      "text/plain": [
       "              precision    recall  f1-score      support\n",
       "0              0.998495  0.976938  0.987599  8152.000000\n",
       "1              0.884521  0.991736  0.935065  1452.000000\n",
       "accuracy       0.979175  0.979175  0.979175     0.979175\n",
       "macro avg      0.941508  0.984337  0.961332  9604.000000\n",
       "weighted avg   0.981264  0.979175  0.979657  9604.000000"
      ]
     },
     "metadata": {},
     "output_type": "display_data"
    },
    {
     "name": "stdout",
     "output_type": "stream",
     "text": [
      "XGBoost AUC:  0.9962265678013068\n"
     ]
    }
   ],
   "source": [
    "y_pred_2 = xgb_grid_search_2.predict(X_test)\n",
    "y_probs_2 = xgb_grid_search_2.predict_proba(X_test)[:,1]\n",
    "\n",
    "display(pd.DataFrame(classification_report(y_test, y_pred_2,output_dict=True)).T)\n",
    "print(\"XGBoost AUC: \", roc_auc_score(y_test, y_probs_2))"
   ]
  },
  {
   "cell_type": "markdown",
   "metadata": {},
   "source": [
    "The scores are seriously high now, almost at 100%. This suggests that the model has overfit to the training data."
   ]
  },
  {
   "cell_type": "markdown",
   "metadata": {},
   "source": [
    "## 4.10 Test On Unseen Data<a id='4.10_Test_On_Unseen_Data'></a>"
   ]
  },
  {
   "cell_type": "markdown",
   "metadata": {},
   "source": [
    "What we will do since the model has likely overfit to the data is test the model on unseen data. "
   ]
  },
  {
   "cell_type": "markdown",
   "metadata": {},
   "source": [
    "### 4.10.1 Load Data<a id='4.10.1_Load_Data'></a>"
   ]
  },
  {
   "cell_type": "code",
   "execution_count": 28,
   "metadata": {},
   "outputs": [],
   "source": [
    "loan_test_data = pd.read_csv('../data/raw/loan_default_test_data.csv')"
   ]
  },
  {
   "cell_type": "markdown",
   "metadata": {},
   "source": [
    "We have gathered a new dataset with similar features."
   ]
  },
  {
   "cell_type": "code",
   "execution_count": 29,
   "metadata": {},
   "outputs": [
    {
     "data": {
      "text/html": [
       "<div>\n",
       "<style scoped>\n",
       "    .dataframe tbody tr th:only-of-type {\n",
       "        vertical-align: middle;\n",
       "    }\n",
       "\n",
       "    .dataframe tbody tr th {\n",
       "        vertical-align: top;\n",
       "    }\n",
       "\n",
       "    .dataframe thead th {\n",
       "        text-align: right;\n",
       "    }\n",
       "</style>\n",
       "<table border=\"1\" class=\"dataframe\">\n",
       "  <thead>\n",
       "    <tr style=\"text-align: right;\">\n",
       "      <th></th>\n",
       "      <th>LoanID</th>\n",
       "      <th>Age</th>\n",
       "      <th>Income</th>\n",
       "      <th>LoanAmount</th>\n",
       "      <th>CreditScore</th>\n",
       "      <th>MonthsEmployed</th>\n",
       "      <th>NumCreditLines</th>\n",
       "      <th>InterestRate</th>\n",
       "      <th>LoanTerm</th>\n",
       "      <th>DTIRatio</th>\n",
       "      <th>Education</th>\n",
       "      <th>EmploymentType</th>\n",
       "      <th>MaritalStatus</th>\n",
       "      <th>HasMortgage</th>\n",
       "      <th>HasDependents</th>\n",
       "      <th>LoanPurpose</th>\n",
       "      <th>HasCoSigner</th>\n",
       "      <th>Default</th>\n",
       "    </tr>\n",
       "  </thead>\n",
       "  <tbody>\n",
       "    <tr>\n",
       "      <th>0</th>\n",
       "      <td>I38PQUQS96</td>\n",
       "      <td>56</td>\n",
       "      <td>85994</td>\n",
       "      <td>50587</td>\n",
       "      <td>520</td>\n",
       "      <td>80</td>\n",
       "      <td>4</td>\n",
       "      <td>15.23</td>\n",
       "      <td>36</td>\n",
       "      <td>0.44</td>\n",
       "      <td>Bachelor's</td>\n",
       "      <td>Full-time</td>\n",
       "      <td>Divorced</td>\n",
       "      <td>Yes</td>\n",
       "      <td>Yes</td>\n",
       "      <td>Other</td>\n",
       "      <td>Yes</td>\n",
       "      <td>0</td>\n",
       "    </tr>\n",
       "    <tr>\n",
       "      <th>1</th>\n",
       "      <td>HPSK72WA7R</td>\n",
       "      <td>69</td>\n",
       "      <td>50432</td>\n",
       "      <td>124440</td>\n",
       "      <td>458</td>\n",
       "      <td>15</td>\n",
       "      <td>1</td>\n",
       "      <td>4.81</td>\n",
       "      <td>60</td>\n",
       "      <td>0.68</td>\n",
       "      <td>Master's</td>\n",
       "      <td>Full-time</td>\n",
       "      <td>Married</td>\n",
       "      <td>No</td>\n",
       "      <td>No</td>\n",
       "      <td>Other</td>\n",
       "      <td>Yes</td>\n",
       "      <td>0</td>\n",
       "    </tr>\n",
       "    <tr>\n",
       "      <th>2</th>\n",
       "      <td>C1OZ6DPJ8Y</td>\n",
       "      <td>46</td>\n",
       "      <td>84208</td>\n",
       "      <td>129188</td>\n",
       "      <td>451</td>\n",
       "      <td>26</td>\n",
       "      <td>3</td>\n",
       "      <td>21.17</td>\n",
       "      <td>24</td>\n",
       "      <td>0.31</td>\n",
       "      <td>Master's</td>\n",
       "      <td>Unemployed</td>\n",
       "      <td>Divorced</td>\n",
       "      <td>Yes</td>\n",
       "      <td>Yes</td>\n",
       "      <td>Auto</td>\n",
       "      <td>No</td>\n",
       "      <td>1</td>\n",
       "    </tr>\n",
       "    <tr>\n",
       "      <th>3</th>\n",
       "      <td>V2KKSFM3UN</td>\n",
       "      <td>32</td>\n",
       "      <td>31713</td>\n",
       "      <td>44799</td>\n",
       "      <td>743</td>\n",
       "      <td>0</td>\n",
       "      <td>3</td>\n",
       "      <td>7.07</td>\n",
       "      <td>24</td>\n",
       "      <td>0.23</td>\n",
       "      <td>High School</td>\n",
       "      <td>Full-time</td>\n",
       "      <td>Married</td>\n",
       "      <td>No</td>\n",
       "      <td>No</td>\n",
       "      <td>Business</td>\n",
       "      <td>No</td>\n",
       "      <td>0</td>\n",
       "    </tr>\n",
       "    <tr>\n",
       "      <th>4</th>\n",
       "      <td>EY08JDHTZP</td>\n",
       "      <td>60</td>\n",
       "      <td>20437</td>\n",
       "      <td>9139</td>\n",
       "      <td>633</td>\n",
       "      <td>8</td>\n",
       "      <td>4</td>\n",
       "      <td>6.51</td>\n",
       "      <td>48</td>\n",
       "      <td>0.73</td>\n",
       "      <td>Bachelor's</td>\n",
       "      <td>Unemployed</td>\n",
       "      <td>Divorced</td>\n",
       "      <td>No</td>\n",
       "      <td>Yes</td>\n",
       "      <td>Auto</td>\n",
       "      <td>No</td>\n",
       "      <td>0</td>\n",
       "    </tr>\n",
       "  </tbody>\n",
       "</table>\n",
       "</div>"
      ],
      "text/plain": [
       "       LoanID  Age  Income  LoanAmount  CreditScore  MonthsEmployed  \\\n",
       "0  I38PQUQS96   56   85994       50587          520              80   \n",
       "1  HPSK72WA7R   69   50432      124440          458              15   \n",
       "2  C1OZ6DPJ8Y   46   84208      129188          451              26   \n",
       "3  V2KKSFM3UN   32   31713       44799          743               0   \n",
       "4  EY08JDHTZP   60   20437        9139          633               8   \n",
       "\n",
       "   NumCreditLines  InterestRate  LoanTerm  DTIRatio    Education  \\\n",
       "0               4         15.23        36      0.44   Bachelor's   \n",
       "1               1          4.81        60      0.68     Master's   \n",
       "2               3         21.17        24      0.31     Master's   \n",
       "3               3          7.07        24      0.23  High School   \n",
       "4               4          6.51        48      0.73   Bachelor's   \n",
       "\n",
       "  EmploymentType MaritalStatus HasMortgage HasDependents LoanPurpose  \\\n",
       "0      Full-time      Divorced         Yes           Yes       Other   \n",
       "1      Full-time       Married          No            No       Other   \n",
       "2     Unemployed      Divorced         Yes           Yes        Auto   \n",
       "3      Full-time       Married          No            No    Business   \n",
       "4     Unemployed      Divorced          No           Yes        Auto   \n",
       "\n",
       "  HasCoSigner  Default  \n",
       "0         Yes        0  \n",
       "1         Yes        0  \n",
       "2          No        1  \n",
       "3          No        0  \n",
       "4          No        0  "
      ]
     },
     "execution_count": 29,
     "metadata": {},
     "output_type": "execute_result"
    }
   ],
   "source": [
    "loan_test_data.head()"
   ]
  },
  {
   "cell_type": "markdown",
   "metadata": {},
   "source": [
    "Here is an overview of the new dataset's features."
   ]
  },
  {
   "cell_type": "code",
   "execution_count": 30,
   "metadata": {},
   "outputs": [
    {
     "name": "stdout",
     "output_type": "stream",
     "text": [
      "<class 'pandas.core.frame.DataFrame'>\n",
      "RangeIndex: 255347 entries, 0 to 255346\n",
      "Data columns (total 18 columns):\n",
      " #   Column          Non-Null Count   Dtype  \n",
      "---  ------          --------------   -----  \n",
      " 0   LoanID          255347 non-null  object \n",
      " 1   Age             255347 non-null  int64  \n",
      " 2   Income          255347 non-null  int64  \n",
      " 3   LoanAmount      255347 non-null  int64  \n",
      " 4   CreditScore     255347 non-null  int64  \n",
      " 5   MonthsEmployed  255347 non-null  int64  \n",
      " 6   NumCreditLines  255347 non-null  int64  \n",
      " 7   InterestRate    255347 non-null  float64\n",
      " 8   LoanTerm        255347 non-null  int64  \n",
      " 9   DTIRatio        255347 non-null  float64\n",
      " 10  Education       255347 non-null  object \n",
      " 11  EmploymentType  255347 non-null  object \n",
      " 12  MaritalStatus   255347 non-null  object \n",
      " 13  HasMortgage     255347 non-null  object \n",
      " 14  HasDependents   255347 non-null  object \n",
      " 15  LoanPurpose     255347 non-null  object \n",
      " 16  HasCoSigner     255347 non-null  object \n",
      " 17  Default         255347 non-null  int64  \n",
      "dtypes: float64(2), int64(8), object(8)\n",
      "memory usage: 35.1+ MB\n"
     ]
    }
   ],
   "source": [
    "loan_test_data.info()"
   ]
  },
  {
   "cell_type": "markdown",
   "metadata": {},
   "source": [
    "Here we run the .info() method on the new dataset. We can see that the new dataset is much larger with over 250,000 rows of data. We will need to convert the features to match our dataset's before we can make predictions with our model."
   ]
  },
  {
   "cell_type": "markdown",
   "metadata": {},
   "source": [
    "### 4.10.2 Data Wrangling<a id='4.10.2_Data_Wrangling'></a>"
   ]
  },
  {
   "cell_type": "code",
   "execution_count": 31,
   "metadata": {},
   "outputs": [
    {
     "data": {
      "text/html": [
       "<div>\n",
       "<style scoped>\n",
       "    .dataframe tbody tr th:only-of-type {\n",
       "        vertical-align: middle;\n",
       "    }\n",
       "\n",
       "    .dataframe tbody tr th {\n",
       "        vertical-align: top;\n",
       "    }\n",
       "\n",
       "    .dataframe thead th {\n",
       "        text-align: right;\n",
       "    }\n",
       "</style>\n",
       "<table border=\"1\" class=\"dataframe\">\n",
       "  <thead>\n",
       "    <tr style=\"text-align: right;\">\n",
       "      <th></th>\n",
       "      <th>count</th>\n",
       "      <th>%</th>\n",
       "    </tr>\n",
       "  </thead>\n",
       "  <tbody>\n",
       "    <tr>\n",
       "      <th>LoanID</th>\n",
       "      <td>0</td>\n",
       "      <td>0.0</td>\n",
       "    </tr>\n",
       "    <tr>\n",
       "      <th>Age</th>\n",
       "      <td>0</td>\n",
       "      <td>0.0</td>\n",
       "    </tr>\n",
       "    <tr>\n",
       "      <th>HasCoSigner</th>\n",
       "      <td>0</td>\n",
       "      <td>0.0</td>\n",
       "    </tr>\n",
       "    <tr>\n",
       "      <th>LoanPurpose</th>\n",
       "      <td>0</td>\n",
       "      <td>0.0</td>\n",
       "    </tr>\n",
       "    <tr>\n",
       "      <th>HasDependents</th>\n",
       "      <td>0</td>\n",
       "      <td>0.0</td>\n",
       "    </tr>\n",
       "    <tr>\n",
       "      <th>HasMortgage</th>\n",
       "      <td>0</td>\n",
       "      <td>0.0</td>\n",
       "    </tr>\n",
       "    <tr>\n",
       "      <th>MaritalStatus</th>\n",
       "      <td>0</td>\n",
       "      <td>0.0</td>\n",
       "    </tr>\n",
       "    <tr>\n",
       "      <th>EmploymentType</th>\n",
       "      <td>0</td>\n",
       "      <td>0.0</td>\n",
       "    </tr>\n",
       "    <tr>\n",
       "      <th>Education</th>\n",
       "      <td>0</td>\n",
       "      <td>0.0</td>\n",
       "    </tr>\n",
       "    <tr>\n",
       "      <th>DTIRatio</th>\n",
       "      <td>0</td>\n",
       "      <td>0.0</td>\n",
       "    </tr>\n",
       "    <tr>\n",
       "      <th>LoanTerm</th>\n",
       "      <td>0</td>\n",
       "      <td>0.0</td>\n",
       "    </tr>\n",
       "    <tr>\n",
       "      <th>InterestRate</th>\n",
       "      <td>0</td>\n",
       "      <td>0.0</td>\n",
       "    </tr>\n",
       "    <tr>\n",
       "      <th>NumCreditLines</th>\n",
       "      <td>0</td>\n",
       "      <td>0.0</td>\n",
       "    </tr>\n",
       "    <tr>\n",
       "      <th>MonthsEmployed</th>\n",
       "      <td>0</td>\n",
       "      <td>0.0</td>\n",
       "    </tr>\n",
       "    <tr>\n",
       "      <th>CreditScore</th>\n",
       "      <td>0</td>\n",
       "      <td>0.0</td>\n",
       "    </tr>\n",
       "    <tr>\n",
       "      <th>LoanAmount</th>\n",
       "      <td>0</td>\n",
       "      <td>0.0</td>\n",
       "    </tr>\n",
       "    <tr>\n",
       "      <th>Income</th>\n",
       "      <td>0</td>\n",
       "      <td>0.0</td>\n",
       "    </tr>\n",
       "    <tr>\n",
       "      <th>Default</th>\n",
       "      <td>0</td>\n",
       "      <td>0.0</td>\n",
       "    </tr>\n",
       "  </tbody>\n",
       "</table>\n",
       "</div>"
      ],
      "text/plain": [
       "                count    %\n",
       "LoanID              0  0.0\n",
       "Age                 0  0.0\n",
       "HasCoSigner         0  0.0\n",
       "LoanPurpose         0  0.0\n",
       "HasDependents       0  0.0\n",
       "HasMortgage         0  0.0\n",
       "MaritalStatus       0  0.0\n",
       "EmploymentType      0  0.0\n",
       "Education           0  0.0\n",
       "DTIRatio            0  0.0\n",
       "LoanTerm            0  0.0\n",
       "InterestRate        0  0.0\n",
       "NumCreditLines      0  0.0\n",
       "MonthsEmployed      0  0.0\n",
       "CreditScore         0  0.0\n",
       "LoanAmount          0  0.0\n",
       "Income              0  0.0\n",
       "Default             0  0.0"
      ]
     },
     "execution_count": 31,
     "metadata": {},
     "output_type": "execute_result"
    }
   ],
   "source": [
    "missing = pd.concat([loan_test_data.isnull().sum(), 100 * loan_test_data.isnull().mean()], axis=1)\n",
    "missing.columns=['count', '%']\n",
    "missing.sort_values(by=['count'], ascending = False)"
   ]
  },
  {
   "cell_type": "markdown",
   "metadata": {},
   "source": [
    "First, we take a look to see if the dataset contains any missing values. Fortunately, there is no missing data."
   ]
  },
  {
   "cell_type": "code",
   "execution_count": 32,
   "metadata": {},
   "outputs": [],
   "source": [
    "u_data_filtered = loan_test_data.loc[:,['LoanPurpose','HasMortgage','DTIRatio',\n",
    "                                           'LoanTerm','InterestRate','NumCreditLines','MonthsEmployed',\n",
    "                                          'LoanAmount','Income','Default']]"
   ]
  },
  {
   "cell_type": "markdown",
   "metadata": {},
   "source": [
    "The features that closely match with our dataset are shown in the cell above as those are the only ones we keep from the unseen dataset. Note that the prefix `u_` was used to represent 'unseen' data."
   ]
  },
  {
   "cell_type": "code",
   "execution_count": 33,
   "metadata": {},
   "outputs": [],
   "source": [
    "column_names = {'LoanPurpose':'purpose',\n",
    "               'HasMortgage':'home_ownership',\n",
    "               'DTIRatio':'dti',\n",
    "               'LoanTerm':'term',\n",
    "               'InterestRate':'int_rate',\n",
    "               'NumCreditLines':'open_acc',\n",
    "               'MonthsEmployed':'emp_length',\n",
    "               'LoanAmount':'loan_amnt',\n",
    "               'Income':'annual_inc',\n",
    "               'Default':'repay_fail'}\n",
    "\n",
    "u_data_filtered.rename(columns=column_names,inplace=True)"
   ]
  },
  {
   "cell_type": "markdown",
   "metadata": {},
   "source": [
    "We change the names to match the names of the features in the original dataset."
   ]
  },
  {
   "cell_type": "code",
   "execution_count": 34,
   "metadata": {},
   "outputs": [
    {
     "data": {
      "text/plain": [
       "Business     51298\n",
       "Home         51286\n",
       "Education    51005\n",
       "Other        50914\n",
       "Auto         50844\n",
       "Name: purpose, dtype: int64"
      ]
     },
     "execution_count": 34,
     "metadata": {},
     "output_type": "execute_result"
    }
   ],
   "source": [
    "u_data_filtered.purpose.value_counts()"
   ]
  },
  {
   "cell_type": "markdown",
   "metadata": {},
   "source": [
    "We first check the `purpose` feature and the unique values present."
   ]
  },
  {
   "cell_type": "code",
   "execution_count": 35,
   "metadata": {},
   "outputs": [],
   "source": [
    "new_labels = {'Business':'small_business',\n",
    "             'Home':'home_improvement',\n",
    "             'Education':'educational',\n",
    "             'Other':'other',\n",
    "             'Auto':'car'}\n",
    "\n",
    "u_data_filtered.purpose.replace(new_labels,inplace=True)"
   ]
  },
  {
   "cell_type": "markdown",
   "metadata": {},
   "source": [
    "The labels are converted to match the labels in the original dataset."
   ]
  },
  {
   "cell_type": "code",
   "execution_count": 36,
   "metadata": {},
   "outputs": [
    {
     "data": {
      "text/plain": [
       "Yes    127677\n",
       "No     127670\n",
       "Name: home_ownership, dtype: int64"
      ]
     },
     "execution_count": 36,
     "metadata": {},
     "output_type": "execute_result"
    }
   ],
   "source": [
    "u_data_filtered.home_ownership.value_counts()"
   ]
  },
  {
   "cell_type": "markdown",
   "metadata": {},
   "source": [
    "Next, we take a look at the `home_ownership` unique values."
   ]
  },
  {
   "cell_type": "code",
   "execution_count": 37,
   "metadata": {},
   "outputs": [
    {
     "data": {
      "image/png": "[encoded data removed]",
      "text/plain": [
       "<Figure size 1000x500 with 2 Axes>"
      ]
     },
     "metadata": {},
     "output_type": "display_data"
    }
   ],
   "source": [
    "order = u_data_filtered['home_ownership'].value_counts().index\n",
    "ax = sns.catplot(x = 'home_ownership', kind='count', col = 'repay_fail', data=u_data_filtered, sharey=False,\n",
    "                order = order)\n",
    "ax.set_xticklabels(rotation=90)\n",
    "plt.show()"
   ]
  },
  {
   "cell_type": "markdown",
   "metadata": {},
   "source": [
    "There are only two unique values in the unseen dataset's `home_ownership` column and the original dataset has three: `MORTGAGE`, `RENT`, and `OWN`. In the unseen dataset, there is `Yes` and `No`. When exploring the original dataset, we found that there were more defaults in homes that were under `RENT` ownership status. That pattern is also followed in the unseen dataset; therefore, it is appropriate to change `Yes` to `MORTGAGE`, and `No` to `RENT` since they follow the same pattern and disregard the `OWN` label given it was a lower proportion of the data."
   ]
  },
  {
   "cell_type": "code",
   "execution_count": 38,
   "metadata": {},
   "outputs": [],
   "source": [
    "new_labels = {'Yes':'MORTGAGE',\n",
    "             'No':'RENT'}\n",
    "\n",
    "u_data_filtered.loc[:,'home_ownership'].replace(new_labels, inplace=True)"
   ]
  },
  {
   "cell_type": "markdown",
   "metadata": {},
   "source": [
    "Here we replace the labels and update the dataset."
   ]
  },
  {
   "cell_type": "code",
   "execution_count": 39,
   "metadata": {},
   "outputs": [],
   "source": [
    "u_data_filtered.loc[:,'dti'] = u_data_filtered.loc[:,'dti'] * 100"
   ]
  },
  {
   "cell_type": "markdown",
   "metadata": {},
   "source": [
    "From inspection of the summary of the unseen dataset, the DTI ratios are in decimal format. To convert them to percentage format we multiply by 100."
   ]
  },
  {
   "cell_type": "code",
   "execution_count": 40,
   "metadata": {},
   "outputs": [],
   "source": [
    "u_data_filtered.loc[:,'open_acc'] = u_data_filtered.loc[:,'open_acc'].astype('float')"
   ]
  },
  {
   "cell_type": "markdown",
   "metadata": {},
   "source": [
    "The `open_acc` column is currently integer type; therefore we convert it to float type."
   ]
  },
  {
   "cell_type": "code",
   "execution_count": 41,
   "metadata": {},
   "outputs": [],
   "source": [
    "u_data_filtered.loc[:,'emp_length'] = u_data_filtered.loc[:,'emp_length'] / 12\n",
    "u_data_filtered['emp_length'] = u_data_filtered['emp_length'].apply(np.floor)\n",
    "\n",
    "u_data_filtered['emp_length'] = u_data_filtered['emp_length'].astype(int)"
   ]
  },
  {
   "cell_type": "markdown",
   "metadata": {},
   "source": [
    "The `emp_length` column are in terms of months; therefore, we convert them to years by dividing by 12 and rounding them to a whole number. Then, we convert the column to integer type. "
   ]
  },
  {
   "cell_type": "code",
   "execution_count": 42,
   "metadata": {},
   "outputs": [],
   "source": [
    "u_data_filtered.loc[:,'loan_amnt'] = u_data_filtered.loc[:,'loan_amnt'].astype('float')"
   ]
  },
  {
   "cell_type": "markdown",
   "metadata": {},
   "source": [
    "The `loan_amnt` column is correctly converted to a float type."
   ]
  },
  {
   "cell_type": "code",
   "execution_count": 43,
   "metadata": {},
   "outputs": [],
   "source": [
    "u_data_filtered.loc[:,'annual_inc'] = u_data_filtered.loc[:,'annual_inc'].astype('float')"
   ]
  },
  {
   "cell_type": "markdown",
   "metadata": {},
   "source": [
    "The `annual_inc` column is correctly converted to a float type."
   ]
  },
  {
   "cell_type": "markdown",
   "metadata": {},
   "source": [
    "### 4.10.3 Missing Features<a id='4.10.3_Missing_Features'></a>"
   ]
  },
  {
   "cell_type": "markdown",
   "metadata": {},
   "source": [
    "Let's import the data after exploratory data analysis to review which features are missing still."
   ]
  },
  {
   "cell_type": "code",
   "execution_count": 44,
   "metadata": {},
   "outputs": [],
   "source": [
    "explored_data = pd.read_csv('../data/interim/explored_data.csv', index_col=0)"
   ]
  },
  {
   "cell_type": "markdown",
   "metadata": {},
   "source": [
    "First we import explored_data as a DataFrame."
   ]
  },
  {
   "cell_type": "code",
   "execution_count": 45,
   "metadata": {},
   "outputs": [
    {
     "data": {
      "text/plain": [
       "Index(['installment', 'verification_status', 'addr_state', 'delinq_2yrs',\n",
       "       'earliest_cr_line', 'inq_last_6mths', 'pub_rec', 'revol_bal',\n",
       "       'revol_util', 'total_acc', 'annual_inc_log', 'revol_bal_log',\n",
       "       'years_of_credit'],\n",
       "      dtype='object')"
      ]
     },
     "execution_count": 45,
     "metadata": {},
     "output_type": "execute_result"
    }
   ],
   "source": [
    "explored_data.columns[~explored_data.columns.isin(u_data_filtered.columns)]"
   ]
  },
  {
   "cell_type": "markdown",
   "metadata": {},
   "source": [
    "Here we can see which features are in the `explored_data` DataFrame and not in our unseen data. We will go down the list to impute the values for the missing features."
   ]
  },
  {
   "cell_type": "code",
   "execution_count": 46,
   "metadata": {},
   "outputs": [
    {
     "data": {
      "text/html": [
       "<div>\n",
       "<style scoped>\n",
       "    .dataframe tbody tr th:only-of-type {\n",
       "        vertical-align: middle;\n",
       "    }\n",
       "\n",
       "    .dataframe tbody tr th {\n",
       "        vertical-align: top;\n",
       "    }\n",
       "\n",
       "    .dataframe thead th {\n",
       "        text-align: right;\n",
       "    }\n",
       "</style>\n",
       "<table border=\"1\" class=\"dataframe\">\n",
       "  <thead>\n",
       "    <tr style=\"text-align: right;\">\n",
       "      <th></th>\n",
       "      <th>installment</th>\n",
       "      <th>loan_amnt</th>\n",
       "      <th>term</th>\n",
       "      <th>int_rate</th>\n",
       "    </tr>\n",
       "  </thead>\n",
       "  <tbody>\n",
       "    <tr>\n",
       "      <th>3</th>\n",
       "      <td>85.42</td>\n",
       "      <td>2500.0</td>\n",
       "      <td>36</td>\n",
       "      <td>13.98</td>\n",
       "    </tr>\n",
       "    <tr>\n",
       "      <th>4</th>\n",
       "      <td>175.67</td>\n",
       "      <td>5000.0</td>\n",
       "      <td>36</td>\n",
       "      <td>15.95</td>\n",
       "    </tr>\n",
       "    <tr>\n",
       "      <th>5</th>\n",
       "      <td>225.58</td>\n",
       "      <td>7000.0</td>\n",
       "      <td>36</td>\n",
       "      <td>9.91</td>\n",
       "    </tr>\n",
       "    <tr>\n",
       "      <th>6</th>\n",
       "      <td>60.32</td>\n",
       "      <td>2000.0</td>\n",
       "      <td>36</td>\n",
       "      <td>5.42</td>\n",
       "    </tr>\n",
       "    <tr>\n",
       "      <th>7</th>\n",
       "      <td>116.59</td>\n",
       "      <td>3600.0</td>\n",
       "      <td>36</td>\n",
       "      <td>10.25</td>\n",
       "    </tr>\n",
       "    <tr>\n",
       "      <th>...</th>\n",
       "      <td>...</td>\n",
       "      <td>...</td>\n",
       "      <td>...</td>\n",
       "      <td>...</td>\n",
       "    </tr>\n",
       "    <tr>\n",
       "      <th>38476</th>\n",
       "      <td>99.63</td>\n",
       "      <td>3000.0</td>\n",
       "      <td>36</td>\n",
       "      <td>11.99</td>\n",
       "    </tr>\n",
       "    <tr>\n",
       "      <th>38477</th>\n",
       "      <td>352.88</td>\n",
       "      <td>10400.0</td>\n",
       "      <td>36</td>\n",
       "      <td>13.49</td>\n",
       "    </tr>\n",
       "    <tr>\n",
       "      <th>38478</th>\n",
       "      <td>250.77</td>\n",
       "      <td>16000.0</td>\n",
       "      <td>60</td>\n",
       "      <td>14.96</td>\n",
       "    </tr>\n",
       "    <tr>\n",
       "      <th>38479</th>\n",
       "      <td>355.99</td>\n",
       "      <td>10000.0</td>\n",
       "      <td>36</td>\n",
       "      <td>16.89</td>\n",
       "    </tr>\n",
       "    <tr>\n",
       "      <th>38480</th>\n",
       "      <td>108.58</td>\n",
       "      <td>3200.0</td>\n",
       "      <td>36</td>\n",
       "      <td>13.49</td>\n",
       "    </tr>\n",
       "  </tbody>\n",
       "</table>\n",
       "<p>38415 rows × 4 columns</p>\n",
       "</div>"
      ],
      "text/plain": [
       "       installment  loan_amnt  term  int_rate\n",
       "3            85.42     2500.0    36     13.98\n",
       "4           175.67     5000.0    36     15.95\n",
       "5           225.58     7000.0    36      9.91\n",
       "6            60.32     2000.0    36      5.42\n",
       "7           116.59     3600.0    36     10.25\n",
       "...            ...        ...   ...       ...\n",
       "38476        99.63     3000.0    36     11.99\n",
       "38477       352.88    10400.0    36     13.49\n",
       "38478       250.77    16000.0    60     14.96\n",
       "38479       355.99    10000.0    36     16.89\n",
       "38480       108.58     3200.0    36     13.49\n",
       "\n",
       "[38415 rows x 4 columns]"
      ]
     },
     "execution_count": 46,
     "metadata": {},
     "output_type": "execute_result"
    }
   ],
   "source": [
    "installment_df = explored_data.loc[:,['installment','loan_amnt','term','int_rate']]\n",
    "\n",
    "installment_df"
   ]
  },
  {
   "cell_type": "markdown",
   "metadata": {},
   "source": [
    "We create an `installment_df` DataFrame to inspect the variables needed to calculate the installment of the loan. The forumula to calculate the installment is:\n",
    "\n",
    "$$ \\Large A = P\\frac{i(1+i)^n}{(1+i)^n-1} $$"
   ]
  },
  {
   "cell_type": "markdown",
   "metadata": {},
   "source": [
    "Where `A` is the installment, `i` is the interest rate divided by the number of compounding periods (in our case 12 for a year),  and `n` is the term (in months for our scenario). Given the formula and the variables, we can figure out if the installments follow this formula by verifying with the known installments and variables in the original data."
   ]
  },
  {
   "cell_type": "code",
   "execution_count": 47,
   "metadata": {},
   "outputs": [],
   "source": [
    "# Define variables\n",
    "P = installment_df.loan_amnt\n",
    "i = (installment_df.int_rate/100)/12\n",
    "n = installment_df.term\n",
    "\n",
    "var = (1+i)**n\n",
    "\n",
    "# Create a column that calculates the installment with the amortization formula\n",
    "installment_df['installment_calc'] = P*(i*var)/(var-1)"
   ]
  },
  {
   "cell_type": "code",
   "execution_count": 48,
   "metadata": {
    "scrolled": false
   },
   "outputs": [
    {
     "data": {
      "text/html": [
       "<div>\n",
       "<style scoped>\n",
       "    .dataframe tbody tr th:only-of-type {\n",
       "        vertical-align: middle;\n",
       "    }\n",
       "\n",
       "    .dataframe tbody tr th {\n",
       "        vertical-align: top;\n",
       "    }\n",
       "\n",
       "    .dataframe thead th {\n",
       "        text-align: right;\n",
       "    }\n",
       "</style>\n",
       "<table border=\"1\" class=\"dataframe\">\n",
       "  <thead>\n",
       "    <tr style=\"text-align: right;\">\n",
       "      <th></th>\n",
       "      <th>installment</th>\n",
       "      <th>installment_calc</th>\n",
       "    </tr>\n",
       "  </thead>\n",
       "  <tbody>\n",
       "    <tr>\n",
       "      <th>3</th>\n",
       "      <td>85.42</td>\n",
       "      <td>85.419792</td>\n",
       "    </tr>\n",
       "    <tr>\n",
       "      <th>4</th>\n",
       "      <td>175.67</td>\n",
       "      <td>175.661765</td>\n",
       "    </tr>\n",
       "    <tr>\n",
       "      <th>5</th>\n",
       "      <td>225.58</td>\n",
       "      <td>225.574645</td>\n",
       "    </tr>\n",
       "    <tr>\n",
       "      <th>6</th>\n",
       "      <td>60.32</td>\n",
       "      <td>60.319663</td>\n",
       "    </tr>\n",
       "    <tr>\n",
       "      <th>7</th>\n",
       "      <td>116.59</td>\n",
       "      <td>116.584877</td>\n",
       "    </tr>\n",
       "    <tr>\n",
       "      <th>...</th>\n",
       "      <td>...</td>\n",
       "      <td>...</td>\n",
       "    </tr>\n",
       "    <tr>\n",
       "      <th>38476</th>\n",
       "      <td>99.63</td>\n",
       "      <td>99.628601</td>\n",
       "    </tr>\n",
       "    <tr>\n",
       "      <th>38477</th>\n",
       "      <td>352.88</td>\n",
       "      <td>352.876688</td>\n",
       "    </tr>\n",
       "    <tr>\n",
       "      <th>38478</th>\n",
       "      <td>250.77</td>\n",
       "      <td>380.303020</td>\n",
       "    </tr>\n",
       "    <tr>\n",
       "      <th>38479</th>\n",
       "      <td>355.99</td>\n",
       "      <td>355.980063</td>\n",
       "    </tr>\n",
       "    <tr>\n",
       "      <th>38480</th>\n",
       "      <td>108.58</td>\n",
       "      <td>108.577442</td>\n",
       "    </tr>\n",
       "  </tbody>\n",
       "</table>\n",
       "<p>38415 rows × 2 columns</p>\n",
       "</div>"
      ],
      "text/plain": [
       "       installment  installment_calc\n",
       "3            85.42         85.419792\n",
       "4           175.67        175.661765\n",
       "5           225.58        225.574645\n",
       "6            60.32         60.319663\n",
       "7           116.59        116.584877\n",
       "...            ...               ...\n",
       "38476        99.63         99.628601\n",
       "38477       352.88        352.876688\n",
       "38478       250.77        380.303020\n",
       "38479       355.99        355.980063\n",
       "38480       108.58        108.577442\n",
       "\n",
       "[38415 rows x 2 columns]"
      ]
     },
     "execution_count": 48,
     "metadata": {},
     "output_type": "execute_result"
    }
   ],
   "source": [
    "installment_df[['installment','installment_calc']]"
   ]
  },
  {
   "cell_type": "markdown",
   "metadata": {},
   "source": [
    "As we can see, the installments are almost exactly the same, meaning they do follow the formula above. Therefore, we will impute the missing values for `installment` with the formula."
   ]
  },
  {
   "cell_type": "code",
   "execution_count": 49,
   "metadata": {},
   "outputs": [],
   "source": [
    "P = u_data_filtered.loan_amnt\n",
    "i = (u_data_filtered.int_rate/100)/12\n",
    "n = u_data_filtered.term\n",
    "\n",
    "var = (1+i)**n\n",
    "\n",
    "u_data_filtered['installment'] = P*(i*var)/(var-1)"
   ]
  },
  {
   "cell_type": "markdown",
   "metadata": {},
   "source": [
    "The `installment` feature has successfully been created for the unseen data."
   ]
  },
  {
   "cell_type": "code",
   "execution_count": 50,
   "metadata": {},
   "outputs": [],
   "source": [
    "u_data_filtered['verification_status'] = explored_data.verification_status.mode()[0]"
   ]
  },
  {
   "cell_type": "markdown",
   "metadata": {},
   "source": [
    "We impute the missing values for verification_status with the mode, since the majority of the loans in the original data are verified."
   ]
  },
  {
   "cell_type": "code",
   "execution_count": 51,
   "metadata": {},
   "outputs": [],
   "source": [
    "u_data_filtered['delinq_2yrs'] = explored_data.delinq_2yrs.mode()[0]"
   ]
  },
  {
   "cell_type": "markdown",
   "metadata": {},
   "source": [
    "We impute the missing values for `delinq_2yrs` with the mode, since an overwhelming majority of the delinquencies in the original data are 0."
   ]
  },
  {
   "cell_type": "code",
   "execution_count": 52,
   "metadata": {},
   "outputs": [],
   "source": [
    "u_data_filtered['inq_last_6mths'] = explored_data.inq_last_6mths.mode()[0]"
   ]
  },
  {
   "cell_type": "markdown",
   "metadata": {},
   "source": [
    "We impute the missing values for `inq_last_6mths` with the mode, since the majority of the inquiries in the original data are 0."
   ]
  },
  {
   "cell_type": "code",
   "execution_count": 53,
   "metadata": {},
   "outputs": [],
   "source": [
    "u_data_filtered['pub_rec'] = explored_data.pub_rec.mode()[0]"
   ]
  },
  {
   "cell_type": "markdown",
   "metadata": {},
   "source": [
    "We impute the missing values for `pub_rec` with the mode, since an overwhelming majority of the public records in the original data are 0."
   ]
  },
  {
   "cell_type": "code",
   "execution_count": 54,
   "metadata": {},
   "outputs": [],
   "source": [
    "u_data_filtered['total_acc'] = u_data_filtered.open_acc"
   ]
  },
  {
   "cell_type": "markdown",
   "metadata": {},
   "source": [
    "Since there is no way to know what the number closed of accounts are for a client in the unseen data, we will set the total number of accounts equal to the number of open accounts they have."
   ]
  },
  {
   "cell_type": "code",
   "execution_count": 55,
   "metadata": {},
   "outputs": [],
   "source": [
    "u_data_filtered['years_of_credit'] = explored_data.years_of_credit.mode()[0]"
   ]
  },
  {
   "cell_type": "markdown",
   "metadata": {},
   "source": [
    "Since we do not have any data in regard to how long clients have had credit in the unseen data, we will set the number of years in the unseen data to 0 since in the original data a majority of clients have 0 years of credit."
   ]
  },
  {
   "cell_type": "code",
   "execution_count": 56,
   "metadata": {},
   "outputs": [],
   "source": [
    "u_data_filtered.loc[:,'annual_inc_log'] = np.log(u_data_filtered['annual_inc'])"
   ]
  },
  {
   "cell_type": "markdown",
   "metadata": {},
   "source": [
    "To get `annual_inc_log` we simply transform the annual income feature of the unseen data by taking the log of the annual income. "
   ]
  },
  {
   "cell_type": "markdown",
   "metadata": {},
   "source": [
    "The missing features still unaccounted for are `revol_bal`, `revol_bal_log` and `revol_util`. These features are the balance of credit card debt and the percentage of their credit limit utilized. With the information we have now, there is no way to calculate the missing data for the revolving debt. Moreover, we cannot simply impute with a mode because the revolving debt varies per customer. There is also `verification_status`, which has about an equal amount of all three statuses. We would not be able to guess what the verification status for each loan is. Therefore, we will take a different approach."
   ]
  },
  {
   "cell_type": "markdown",
   "metadata": {},
   "source": [
    "### 4.10.4 Retrain Model<a id='4.10.4_Retrain_Model'></a>"
   ]
  },
  {
   "cell_type": "markdown",
   "metadata": {},
   "source": [
    "To be able to test on the unseen data and really understand the power of our model, rather than imputing the missing features of the unseen data for the revolving debt, we can retrain a new model that does not include the three missing features and compare how much predictive power the model loses from the missing features. If the model doesn't lose lots of predicitive power, then it is safe that we don't need the features to make predictions."
   ]
  },
  {
   "cell_type": "code",
   "execution_count": 57,
   "metadata": {},
   "outputs": [],
   "source": [
    "filtered_data = explored_data.drop(columns=['revol_bal', 'revol_bal_log', 'revol_util', 'addr_state', 'earliest_cr_line'])"
   ]
  },
  {
   "cell_type": "markdown",
   "metadata": {},
   "source": [
    "First, we take the `explored_data` DataFrame and filter out the features we will not need."
   ]
  },
  {
   "cell_type": "code",
   "execution_count": 58,
   "metadata": {},
   "outputs": [
    {
     "data": {
      "text/plain": [
       "debt_consolidation    17901\n",
       "credit_card            4970\n",
       "other                  3936\n",
       "home_improvement       3280\n",
       "major_purchase         2071\n",
       "small_business         1807\n",
       "car                    1477\n",
       "wedding                 908\n",
       "medical                 673\n",
       "moving                  559\n",
       "educational             383\n",
       "vacation                359\n",
       "renewable_energy         91\n",
       "Name: purpose, dtype: int64"
      ]
     },
     "execution_count": 58,
     "metadata": {},
     "output_type": "execute_result"
    }
   ],
   "source": [
    "filtered_data.purpose.value_counts()"
   ]
  },
  {
   "cell_type": "markdown",
   "metadata": {},
   "source": [
    "Before re-training the model, we could also simplify the `purpose` feature to have a less sparse dataset. We simplify by only keeping the labels that exist in both datasets."
   ]
  },
  {
   "cell_type": "code",
   "execution_count": 59,
   "metadata": {},
   "outputs": [],
   "source": [
    "new_labels = {'moving':'other',\n",
    "             'vacation':'other',\n",
    "             'renewable_energy':'other',\n",
    "             'major_purchase':'other',\n",
    "             'medical':'other',\n",
    "             'wedding':'other'}\n",
    "\n",
    "filtered_data.purpose.replace(new_labels, inplace=True)"
   ]
  },
  {
   "cell_type": "markdown",
   "metadata": {},
   "source": [
    "Now the labels are more simplified."
   ]
  },
  {
   "cell_type": "code",
   "execution_count": 60,
   "metadata": {},
   "outputs": [
    {
     "data": {
      "text/plain": [
       "debt_consolidation    17901\n",
       "other                  8597\n",
       "credit_card            4970\n",
       "home_improvement       3280\n",
       "small_business         1807\n",
       "car                    1477\n",
       "educational             383\n",
       "Name: purpose, dtype: int64"
      ]
     },
     "execution_count": 60,
     "metadata": {},
     "output_type": "execute_result"
    }
   ],
   "source": [
    "filtered_data.purpose.value_counts()"
   ]
  },
  {
   "cell_type": "markdown",
   "metadata": {},
   "source": [
    "Here is a snapshot of the new categories."
   ]
  },
  {
   "cell_type": "code",
   "execution_count": 61,
   "metadata": {},
   "outputs": [],
   "source": [
    "df_encoded_2 = pd.get_dummies(filtered_data, drop_first=True)"
   ]
  },
  {
   "cell_type": "markdown",
   "metadata": {},
   "source": [
    "We encode the new filtered dataset."
   ]
  },
  {
   "cell_type": "code",
   "execution_count": 62,
   "metadata": {},
   "outputs": [],
   "source": [
    "# Create two different dataframe of majority and minority class \n",
    "df_majority = df_encoded_2[(df_encoded_2['repay_fail']==0)]\n",
    "df_minority = df_encoded_2[(df_encoded_2['repay_fail']==1)]\n",
    "\n",
    "# Upsample minority class\n",
    "df_minority_upsampled = resample(df_minority, \n",
    "                                 replace=True,\n",
    "                                 n_samples= 32608,\n",
    "                                 random_state=42)\n",
    "\n",
    "# Concatenate the DataFrames with the upsampled minority class and the majority class\n",
    "df_upsampled_2 = pd.concat([df_minority_upsampled, df_majority])"
   ]
  },
  {
   "cell_type": "markdown",
   "metadata": {},
   "source": [
    "We oversample the new encoded dataset to train the data with."
   ]
  },
  {
   "cell_type": "code",
   "execution_count": 63,
   "metadata": {},
   "outputs": [],
   "source": [
    "X_filt = df_upsampled_2.drop(columns=['repay_fail'])\n",
    "y_filt = df_upsampled_2.repay_fail\n",
    "\n",
    "X_train_filt, X_test_filt, y_train_filt, y_test_filt = train_test_split(X_filt, y_filt, test_size=0.25, random_state=42)"
   ]
  },
  {
   "cell_type": "markdown",
   "metadata": {},
   "source": [
    "The data is then split."
   ]
  },
  {
   "cell_type": "code",
   "execution_count": 64,
   "metadata": {
    "scrolled": true
   },
   "outputs": [
    {
     "data": {
      "text/html": [
       "<div>\n",
       "<style scoped>\n",
       "    .dataframe tbody tr th:only-of-type {\n",
       "        vertical-align: middle;\n",
       "    }\n",
       "\n",
       "    .dataframe tbody tr th {\n",
       "        vertical-align: top;\n",
       "    }\n",
       "\n",
       "    .dataframe thead th {\n",
       "        text-align: right;\n",
       "    }\n",
       "</style>\n",
       "<table border=\"1\" class=\"dataframe\">\n",
       "  <thead>\n",
       "    <tr style=\"text-align: right;\">\n",
       "      <th></th>\n",
       "      <th>precision</th>\n",
       "      <th>recall</th>\n",
       "      <th>f1-score</th>\n",
       "      <th>support</th>\n",
       "    </tr>\n",
       "  </thead>\n",
       "  <tbody>\n",
       "    <tr>\n",
       "      <th>0</th>\n",
       "      <td>0.964286</td>\n",
       "      <td>0.804833</td>\n",
       "      <td>0.877374</td>\n",
       "      <td>8152.000000</td>\n",
       "    </tr>\n",
       "    <tr>\n",
       "      <th>1</th>\n",
       "      <td>0.431786</td>\n",
       "      <td>0.832645</td>\n",
       "      <td>0.568674</td>\n",
       "      <td>1452.000000</td>\n",
       "    </tr>\n",
       "    <tr>\n",
       "      <th>accuracy</th>\n",
       "      <td>0.809038</td>\n",
       "      <td>0.809038</td>\n",
       "      <td>0.809038</td>\n",
       "      <td>0.809038</td>\n",
       "    </tr>\n",
       "    <tr>\n",
       "      <th>macro avg</th>\n",
       "      <td>0.698036</td>\n",
       "      <td>0.818739</td>\n",
       "      <td>0.723024</td>\n",
       "      <td>9604.000000</td>\n",
       "    </tr>\n",
       "    <tr>\n",
       "      <th>weighted avg</th>\n",
       "      <td>0.883779</td>\n",
       "      <td>0.809038</td>\n",
       "      <td>0.830702</td>\n",
       "      <td>9604.000000</td>\n",
       "    </tr>\n",
       "  </tbody>\n",
       "</table>\n",
       "</div>"
      ],
      "text/plain": [
       "              precision    recall  f1-score      support\n",
       "0              0.964286  0.804833  0.877374  8152.000000\n",
       "1              0.431786  0.832645  0.568674  1452.000000\n",
       "accuracy       0.809038  0.809038  0.809038     0.809038\n",
       "macro avg      0.698036  0.818739  0.723024  9604.000000\n",
       "weighted avg   0.883779  0.809038  0.830702  9604.000000"
      ]
     },
     "metadata": {},
     "output_type": "display_data"
    },
    {
     "name": "stdout",
     "output_type": "stream",
     "text": [
      "XGBoost AUC:  0.9049068051376464\n"
     ]
    }
   ],
   "source": [
    "# Initialize model\n",
    "xgb_filt = XGBClassifier(random_state=42)\n",
    "\n",
    "# Fit model to training data\n",
    "xgb_filt.fit(X_train_filt, y_train_filt)\n",
    "\n",
    "# Remove columns in the original test data\n",
    "X_test_retrain = X_test.drop(columns=['purpose_renewable_energy', 'purpose_vacation', 'purpose_moving', \n",
    "                                      'revol_bal', 'revol_util', 'purpose_wedding', 'revol_bal_log', \n",
    "                                      'purpose_medical', 'purpose_major_purchase'])\n",
    "\n",
    "# Predict on test data\n",
    "y_pred_filt = xgb_filt.predict(X_test_retrain)\n",
    "\n",
    "# Get prediction probabilities\n",
    "y_probs_filt = xgb_filt.predict_proba(X_test_retrain)[:,1]\n",
    "\n",
    "# Evaluate predictions\n",
    "display(pd.DataFrame(classification_report(y_test, y_pred_filt,output_dict=True)).T)\n",
    "print(\"XGBoost AUC: \", roc_auc_score(y_test, y_probs_filt))"
   ]
  },
  {
   "cell_type": "markdown",
   "metadata": {},
   "source": [
    "When retraining the model, we drop the columns that no longer exist in the training data to make predicitions on our original test set. We name the subset of the `X_test` DataFrame `X_test_retrain` to represent the retraining of the model. The results are very close to what we obtained originally; therefore, it is safe to assume we didn't lose much predicitive power in the model when removing the features that could not be imputed."
   ]
  },
  {
   "cell_type": "code",
   "execution_count": 65,
   "metadata": {},
   "outputs": [],
   "source": [
    "# Create parameter grid with potential values for various hyperparameters\n",
    "potential_grid = {\n",
    "    'n_estimators': [50, 100, 200, 300, 400],\n",
    "    'learning_rate': [0.01, 0.05, 0.1, 0.2, 0.3],\n",
    "    'max_depth': [3, 4, 5, 6, 7, 8],\n",
    "    'min_child_weight': [1, 2, 3, 4, 5],\n",
    "    'gamma': [0, 0.05, 0.1, 0.2, 0.3],\n",
    "    'subsample': [0.6, 0.7, 0.8, 0.9, 1.0],\n",
    "    'colsample_bytree': [0.6, 0.7, 0.8, 0.9, 1.0],\n",
    "    'reg_alpha': [0, 0.05, 0.1, 0.2, 0.3],\n",
    "    'reg_lambda': [0.8, 1.0, 1.2, 1.5, 1.7],\n",
    "    }\n",
    "\n",
    "# Initialize empty parameter dictionary\n",
    "param_dict = {}\n",
    "\n",
    "# Iterate through potential parameter grid\n",
    "for param, values in potential_grid.items():\n",
    "    \n",
    "    # Initialize optimal parameters dictionary\n",
    "    # The current values are the optimal values found after CV of XGBoost\n",
    "    optimal_params = {'colsample_bytree': 1.0, 'gamma': 0, 'learning_rate': 0.1, 'max_depth': 6, 'min_child_weight': 1, \n",
    "                  'n_estimators': 200, 'reg_alpha': 0.1, 'reg_lambda': 1, 'subsample': 0.8}\n",
    "    \n",
    "    # Add parameter as a key to param_dict if not already created\n",
    "    if param not in param_dict:\n",
    "        param_dict[param] = {}\n",
    "    \n",
    "    # Iterate through the list of values for each hyperparamter\n",
    "    for value in values:\n",
    "        \n",
    "        # Change value for hyperparameter in optimal_params while keeping all others the same\n",
    "        optimal_params[param] = value\n",
    "        \n",
    "        # Initialize temporary model\n",
    "        xgb_temp = XGBClassifier(**optimal_params, random_state=42)\n",
    "\n",
    "        # Fit temporary model to the training data\n",
    "        xgb_temp.fit(X_train_filt, y_train_filt)\n",
    "        \n",
    "        # Predict on test data\n",
    "        xgb_pred = xgb_temp.predict(X_test_filt)\n",
    "\n",
    "        # Save F1 score to the param_dict\n",
    "        param_dict[param][value] = f1_score(y_test_filt, xgb_pred)"
   ]
  },
  {
   "cell_type": "markdown",
   "metadata": {},
   "source": [
    "To optimize the model's predictive power, we follow the same method as before to find which hyperparameters make the biggest difference."
   ]
  },
  {
   "cell_type": "code",
   "execution_count": 66,
   "metadata": {},
   "outputs": [
    {
     "data": {
      "image/png": "[encoded data removed]",
      "text/plain": [
       "<Figure size 1200x1200 with 9 Axes>"
      ]
     },
     "metadata": {},
     "output_type": "display_data"
    }
   ],
   "source": [
    "# Initialize empty list\n",
    "data = []\n",
    "\n",
    "# Iterate through param_dict dictionary\n",
    "for param, values in param_dict.items():\n",
    "    \n",
    "    # Iterate through list for each hyperparameter\n",
    "    for value, score in values.items():\n",
    "        \n",
    "        # Append a dictionary that stores the paramter name, value and F1 score\n",
    "        data.append({'Parameter': param, 'Value': value, 'F1 Score': score})\n",
    "        \n",
    "# Convert the list into a DataFrame\n",
    "df = pd.DataFrame(data)\n",
    "\n",
    "# Create a FacetGrid plotting separating each column by parameter \n",
    "g = sns.FacetGrid(df, col=\"Parameter\", col_wrap=3, height=4, sharey=True, sharex=False)\n",
    "g.map(plt.plot, \"Value\", \"F1 Score\", marker=\"o\")\n",
    "\n",
    "# Adding labels and titles\n",
    "g.set_axis_labels(\"\", \"F1 Score\")\n",
    "g.set_titles(\"{col_name}\")\n",
    "\n",
    "# Adjust layout to prevent overlap\n",
    "plt.tight_layout()\n",
    "\n",
    "# Show the plots\n",
    "plt.show()"
   ]
  },
  {
   "cell_type": "markdown",
   "metadata": {},
   "source": [
    "The plots show once again that `n_estimators`, `learning_rate` and `max_depth` are the most significant hyperparameters in making a difference. "
   ]
  },
  {
   "cell_type": "code",
   "execution_count": 67,
   "metadata": {},
   "outputs": [
    {
     "name": "stdout",
     "output_type": "stream",
     "text": [
      "Fitting 3 folds for each of 64 candidates, totalling 192 fits\n",
      "Best parameters found:  {'colsample_bytree': 1.0, 'gamma': 0.1, 'min_child_weight': 1, 'reg_alpha': 0, 'reg_lambda': 1.5, 'subsample': 0.8}\n"
     ]
    }
   ],
   "source": [
    "# Create parameter grid\n",
    "param_grid = {\n",
    "    'min_child_weight': [1, 5],\n",
    "    'gamma': [0, 0.1],\n",
    "    'subsample': [0.8, 1.0],\n",
    "    'colsample_bytree': [0.8, 1.0],\n",
    "    'reg_alpha': [0, 0.1],\n",
    "    'reg_lambda': [1, 1.5]\n",
    "}\n",
    "\n",
    "# Initialize temporary model\n",
    "xgb_temp = XGBClassifier(random_state=42)\n",
    "\n",
    "# Fit temporary model to training data\n",
    "xgb_temp.fit(X_train_filt, y_train_filt)\n",
    "\n",
    "# Initialize the grid search\n",
    "xgb_grid_search_filt = GridSearchCV(estimator=xgb_temp, \n",
    "                           param_grid=param_grid, \n",
    "                           scoring='f1', \n",
    "                           n_jobs=-1, \n",
    "                           cv=3, \n",
    "                           verbose=1)\n",
    "\n",
    "# Fit the grid search to the data\n",
    "xgb_grid_search_filt.fit(X_train_filt, y_train_filt)\n",
    "\n",
    "# Print the best parameters found\n",
    "print(\"Best parameters found: \", xgb_grid_search_filt.best_params_)"
   ]
  },
  {
   "cell_type": "markdown",
   "metadata": {},
   "source": [
    "We find the optimal hyperparameters without the three most significant hyperparameters."
   ]
  },
  {
   "cell_type": "code",
   "execution_count": 68,
   "metadata": {},
   "outputs": [
    {
     "name": "stdout",
     "output_type": "stream",
     "text": [
      "Fitting 3 folds for each of 150 candidates, totalling 450 fits\n",
      "Best parameters found:  {'learning_rate': 0.3, 'max_depth': 8, 'n_estimators': 400}\n",
      "Best F1 found:  0.9075204927849728\n"
     ]
    }
   ],
   "source": [
    "# Create parameter grid\n",
    "param_grid = {\n",
    "    'n_estimators': [50, 100, 200, 300, 400],\n",
    "    'learning_rate': [0.01, 0.05, 0.1, 0.2, 0.3],\n",
    "    'max_depth': [3, 4, 5, 6, 7, 8],\n",
    "}\n",
    "\n",
    "# Initialize optimal parameters dictionary with values found previously\n",
    "optimal_params = {'colsample_bytree': 1.0, 'gamma': 0.1, 'min_child_weight': 1, \n",
    "                  'reg_alpha': 0, 'reg_lambda': 1.5, 'subsample': 0.8}\n",
    "\n",
    "# Initialize temporary model\n",
    "xgb_temp = XGBClassifier(**optimal_params, random_state=42)\n",
    "\n",
    "# Fit temporary model to training data\n",
    "xgb_temp.fit(X_train_filt, y_train_filt)\n",
    "\n",
    "# Initialize the grid search\n",
    "xgb_grid_search_filt = GridSearchCV(estimator=xgb_temp, \n",
    "                           param_grid=param_grid, \n",
    "                           scoring='f1', \n",
    "                           n_jobs=-1, \n",
    "                           cv=3, \n",
    "                           verbose=1)\n",
    "\n",
    "# Fit the grid search to the data\n",
    "xgb_grid_search_filt.fit(X_train_filt, y_train_filt)\n",
    "\n",
    "# Print the best parameters found\n",
    "print(\"Best parameters found: \", xgb_grid_search_filt.best_params_)\n",
    "print(\"Best F1 found: \", xgb_grid_search_filt.best_score_)"
   ]
  },
  {
   "cell_type": "markdown",
   "metadata": {},
   "source": [
    "The best F1 score found suggests possible overfitting of the model since it is over 90%."
   ]
  },
  {
   "cell_type": "code",
   "execution_count": 69,
   "metadata": {},
   "outputs": [
    {
     "data": {
      "text/html": [
       "<div>\n",
       "<style scoped>\n",
       "    .dataframe tbody tr th:only-of-type {\n",
       "        vertical-align: middle;\n",
       "    }\n",
       "\n",
       "    .dataframe tbody tr th {\n",
       "        vertical-align: top;\n",
       "    }\n",
       "\n",
       "    .dataframe thead th {\n",
       "        text-align: right;\n",
       "    }\n",
       "</style>\n",
       "<table border=\"1\" class=\"dataframe\">\n",
       "  <thead>\n",
       "    <tr style=\"text-align: right;\">\n",
       "      <th></th>\n",
       "      <th>precision</th>\n",
       "      <th>recall</th>\n",
       "      <th>f1-score</th>\n",
       "      <th>support</th>\n",
       "    </tr>\n",
       "  </thead>\n",
       "  <tbody>\n",
       "    <tr>\n",
       "      <th>0</th>\n",
       "      <td>0.998492</td>\n",
       "      <td>0.974730</td>\n",
       "      <td>0.986468</td>\n",
       "      <td>8152.000000</td>\n",
       "    </tr>\n",
       "    <tr>\n",
       "      <th>1</th>\n",
       "      <td>0.874848</td>\n",
       "      <td>0.991736</td>\n",
       "      <td>0.929632</td>\n",
       "      <td>1452.000000</td>\n",
       "    </tr>\n",
       "    <tr>\n",
       "      <th>accuracy</th>\n",
       "      <td>0.977301</td>\n",
       "      <td>0.977301</td>\n",
       "      <td>0.977301</td>\n",
       "      <td>0.977301</td>\n",
       "    </tr>\n",
       "    <tr>\n",
       "      <th>macro avg</th>\n",
       "      <td>0.936670</td>\n",
       "      <td>0.983233</td>\n",
       "      <td>0.958050</td>\n",
       "      <td>9604.000000</td>\n",
       "    </tr>\n",
       "    <tr>\n",
       "      <th>weighted avg</th>\n",
       "      <td>0.979799</td>\n",
       "      <td>0.977301</td>\n",
       "      <td>0.977875</td>\n",
       "      <td>9604.000000</td>\n",
       "    </tr>\n",
       "  </tbody>\n",
       "</table>\n",
       "</div>"
      ],
      "text/plain": [
       "              precision    recall  f1-score      support\n",
       "0              0.998492  0.974730  0.986468  8152.000000\n",
       "1              0.874848  0.991736  0.929632  1452.000000\n",
       "accuracy       0.977301  0.977301  0.977301     0.977301\n",
       "macro avg      0.936670  0.983233  0.958050  9604.000000\n",
       "weighted avg   0.979799  0.977301  0.977875  9604.000000"
      ]
     },
     "metadata": {},
     "output_type": "display_data"
    },
    {
     "name": "stdout",
     "output_type": "stream",
     "text": [
      "XGBoost AUC:  0.994733077721636\n"
     ]
    }
   ],
   "source": [
    "# Predict on test data\n",
    "y_pred_gs_filt = xgb_grid_search_filt.predict(X_test_retrain)\n",
    "\n",
    "# Get prediction probabilities\n",
    "y_probs_gs_filt = xgb_grid_search_filt.predict_proba(X_test_retrain)[:,1]\n",
    "\n",
    "# Evaluate predictions\n",
    "display(pd.DataFrame(classification_report(y_test, y_pred_gs_filt,output_dict=True)).T)\n",
    "print(\"XGBoost AUC: \", roc_auc_score(y_test, y_probs_gs_filt))"
   ]
  },
  {
   "cell_type": "markdown",
   "metadata": {},
   "source": [
    "Our suspicion is confirmed when testing on the original test data that the model is likely overfit. The predictive power of the model did not go down much from the removal of the features. "
   ]
  },
  {
   "cell_type": "markdown",
   "metadata": {},
   "source": [
    "### 4.10.5 One-Hot Encoding<a id='4.10.5_One-Hot_Encoding'></a>"
   ]
  },
  {
   "cell_type": "code",
   "execution_count": 70,
   "metadata": {},
   "outputs": [],
   "source": [
    "u_data_encoded = pd.get_dummies(u_data_filtered, drop_first=True)"
   ]
  },
  {
   "cell_type": "markdown",
   "metadata": {},
   "source": [
    "We prepare the unseen data for testing by one-hot encoding."
   ]
  },
  {
   "cell_type": "code",
   "execution_count": 71,
   "metadata": {},
   "outputs": [],
   "source": [
    "u_data_encoded.loc[:, 'home_ownership_OWN'] = 0\n",
    "u_data_encoded.loc[:, 'home_ownership_OTHER'] = 0\n",
    "u_data_encoded.loc[:, 'purpose_debt_consolidation'] = 0\n",
    "u_data_encoded.loc[:, 'purpose_credit_card'] = 0\n",
    "u_data_encoded.loc[:, 'verification_status_Verified'] = 0"
   ]
  },
  {
   "cell_type": "markdown",
   "metadata": {},
   "source": [
    "Since we imputed by the mode, we manually add the encoded columns that are in the training data that do not appear in the unseen data."
   ]
  },
  {
   "cell_type": "markdown",
   "metadata": {},
   "source": [
    "### 4.10.6 Test Model<a id='4.10.6_Test_Model'></a>"
   ]
  },
  {
   "cell_type": "code",
   "execution_count": 72,
   "metadata": {},
   "outputs": [],
   "source": [
    "X_u_data = u_data_encoded.drop(columns='repay_fail')\n",
    "y_u_data = u_data_encoded.repay_fail\n",
    "\n",
    "# Reordering columns of X_u_data to match the training data's feature order\n",
    "X_u_data = X_u_data[['loan_amnt', 'term', 'int_rate', 'installment', \n",
    "                     'emp_length', 'annual_inc', 'dti', 'delinq_2yrs', \n",
    "                     'inq_last_6mths', 'open_acc', 'pub_rec', 'total_acc', \n",
    "                     'annual_inc_log', 'years_of_credit', 'home_ownership_OTHER', \n",
    "                     'home_ownership_OWN', 'home_ownership_RENT', 'verification_status_Verified',\n",
    "                     'purpose_credit_card', 'purpose_debt_consolidation', 'purpose_educational', \n",
    "                     'purpose_home_improvement', 'purpose_other', 'purpose_small_business']]"
   ]
  },
  {
   "cell_type": "markdown",
   "metadata": {},
   "source": [
    "To successfully test on the unseen data, we must reorder the unseen data to match the order of the training data."
   ]
  },
  {
   "cell_type": "code",
   "execution_count": 73,
   "metadata": {},
   "outputs": [
    {
     "data": {
      "text/html": [
       "<div>\n",
       "<style scoped>\n",
       "    .dataframe tbody tr th:only-of-type {\n",
       "        vertical-align: middle;\n",
       "    }\n",
       "\n",
       "    .dataframe tbody tr th {\n",
       "        vertical-align: top;\n",
       "    }\n",
       "\n",
       "    .dataframe thead th {\n",
       "        text-align: right;\n",
       "    }\n",
       "</style>\n",
       "<table border=\"1\" class=\"dataframe\">\n",
       "  <thead>\n",
       "    <tr style=\"text-align: right;\">\n",
       "      <th></th>\n",
       "      <th>precision</th>\n",
       "      <th>recall</th>\n",
       "      <th>f1-score</th>\n",
       "      <th>support</th>\n",
       "    </tr>\n",
       "  </thead>\n",
       "  <tbody>\n",
       "    <tr>\n",
       "      <th>0</th>\n",
       "      <td>0.884522</td>\n",
       "      <td>0.952475</td>\n",
       "      <td>0.917242</td>\n",
       "      <td>225694.000000</td>\n",
       "    </tr>\n",
       "    <tr>\n",
       "      <th>1</th>\n",
       "      <td>0.128959</td>\n",
       "      <td>0.053553</td>\n",
       "      <td>0.075679</td>\n",
       "      <td>29653.000000</td>\n",
       "    </tr>\n",
       "    <tr>\n",
       "      <th>accuracy</th>\n",
       "      <td>0.848085</td>\n",
       "      <td>0.848085</td>\n",
       "      <td>0.848085</td>\n",
       "      <td>0.848085</td>\n",
       "    </tr>\n",
       "    <tr>\n",
       "      <th>macro avg</th>\n",
       "      <td>0.506740</td>\n",
       "      <td>0.503014</td>\n",
       "      <td>0.496460</td>\n",
       "      <td>255347.000000</td>\n",
       "    </tr>\n",
       "    <tr>\n",
       "      <th>weighted avg</th>\n",
       "      <td>0.796780</td>\n",
       "      <td>0.848085</td>\n",
       "      <td>0.819513</td>\n",
       "      <td>255347.000000</td>\n",
       "    </tr>\n",
       "  </tbody>\n",
       "</table>\n",
       "</div>"
      ],
      "text/plain": [
       "              precision    recall  f1-score        support\n",
       "0              0.884522  0.952475  0.917242  225694.000000\n",
       "1              0.128959  0.053553  0.075679   29653.000000\n",
       "accuracy       0.848085  0.848085  0.848085       0.848085\n",
       "macro avg      0.506740  0.503014  0.496460  255347.000000\n",
       "weighted avg   0.796780  0.848085  0.819513  255347.000000"
      ]
     },
     "metadata": {},
     "output_type": "display_data"
    },
    {
     "name": "stdout",
     "output_type": "stream",
     "text": [
      "XGBoost AUC:  0.5203389717508285\n"
     ]
    }
   ],
   "source": [
    "# Predict on test data\n",
    "y_pred_u_data = xgb_grid_search_filt.predict(X_u_data)\n",
    "\n",
    "# Get prediction probabilities\n",
    "y_probs_u_data = xgb_grid_search_filt.predict_proba(X_u_data)[:,1]\n",
    "\n",
    "# Evaluate predictions\n",
    "display(pd.DataFrame(classification_report(y_u_data, y_pred_u_data,output_dict=True)).T)\n",
    "print(\"XGBoost AUC: \", roc_auc_score(y_u_data, y_probs_u_data))"
   ]
  },
  {
   "cell_type": "markdown",
   "metadata": {},
   "source": [
    "The result is that the model is simply most loans are non-defaulted. This is likely due to the model being overfit to our data. "
   ]
  },
  {
   "cell_type": "markdown",
   "metadata": {},
   "source": [
    "## 4.11 Retrain with Unseen Data<a id='4.11_Retrain_with_Unseen_Data'></a>"
   ]
  },
  {
   "cell_type": "markdown",
   "metadata": {},
   "source": [
    "To combat the overfitting of the model to our original data, we will retrain the model by adding some of the unseen data into the training. That way we will have more generalized data in the training, giving our model more predictive power when it comes to unseen data."
   ]
  },
  {
   "cell_type": "code",
   "execution_count": 74,
   "metadata": {},
   "outputs": [],
   "source": [
    "# Create two different dataframe of majority and minority class \n",
    "df_majority = u_data_encoded[(u_data_encoded['repay_fail']==0)]\n",
    "df_minority = u_data_encoded[(u_data_encoded['repay_fail']==1)]\n",
    "\n",
    "# Downsample majority class\n",
    "df_majority_downsampled = resample(df_majority, \n",
    "                                 replace=False,\n",
    "                                 n_samples= len(df_minority),\n",
    "                                 random_state=42)\n",
    "\n",
    "# Concatenate the DataFrames with the minority class and the downsampled majority class\n",
    "u_downsampled = pd.concat([df_majority_downsampled, df_minority])"
   ]
  },
  {
   "cell_type": "markdown",
   "metadata": {},
   "source": [
    "First, we downsample the unseen dataset to have an equal amount of defaulted and non-defaulted loans. Since the majority of loans are non-defaulted, we are essentially removing a majority of non-defaulted loans that way there are an equal amount of non-defaulted and defaulted loans in the new `u_downsampled` dataset."
   ]
  },
  {
   "cell_type": "code",
   "execution_count": 75,
   "metadata": {},
   "outputs": [],
   "source": [
    "# Split the unseen data into equal halves\n",
    "X_u = u_downsampled.drop(columns='repay_fail')\n",
    "y_u = u_downsampled.repay_fail\n",
    "\n",
    "X_u_train, X_u_test, y_u_train, y_u_test = train_test_split(X_u, y_u, test_size=0.5, random_state=42, stratify=y_u)\n",
    "\n",
    "# Combine training and test data\n",
    "u_data_train = pd.concat([X_u_train, y_u_train], axis=1)\n",
    "u_data_test = pd.concat([X_u_test, y_u_test], axis=1)"
   ]
  },
  {
   "cell_type": "markdown",
   "metadata": {},
   "source": [
    "We want to set aside half of the unseen data so we can test the model on that half and analyze the result without intereference of the original dataset, in case the model is being overfit to the original data. We achieve this by splitting the downsampled dataset in half and naming one of the DataFrames `u_data_train` and the other `u_data_test`."
   ]
  },
  {
   "cell_type": "code",
   "execution_count": 76,
   "metadata": {},
   "outputs": [],
   "source": [
    "u_data_train.rename(columns = {0:'repay_fail'}, inplace=True)\n",
    "u_data_test.rename(columns = {0:'repay_fail'}, inplace=True)"
   ]
  },
  {
   "cell_type": "markdown",
   "metadata": {},
   "source": [
    "Performing this even split will rename the `repay_fail` column to `0` in the y datasets. Therefore, we need to rename the columns to be `repay_fail` again that way we receive any errors when training the model."
   ]
  },
  {
   "cell_type": "code",
   "execution_count": 77,
   "metadata": {},
   "outputs": [],
   "source": [
    "new_training_data = pd.concat([df_upsampled_2,u_data_train])"
   ]
  },
  {
   "cell_type": "markdown",
   "metadata": {},
   "source": [
    "We concatenate our original training data and `u_data_train` training data for the new model will now include a portion of the unseen data to give a more generalized model."
   ]
  },
  {
   "cell_type": "code",
   "execution_count": 78,
   "metadata": {},
   "outputs": [],
   "source": [
    "X_new = new_training_data.drop(columns='repay_fail')\n",
    "y_new = new_training_data.repay_fail\n",
    "\n",
    "X_train_2, X_test_2, y_train_2, y_test_2 = train_test_split(X_new, y_new, test_size=0.25, random_state=42)"
   ]
  },
  {
   "cell_type": "markdown",
   "metadata": {},
   "source": [
    "We create a new X and y variable and perform a split as before."
   ]
  },
  {
   "cell_type": "code",
   "execution_count": 79,
   "metadata": {},
   "outputs": [
    {
     "name": "stdout",
     "output_type": "stream",
     "text": [
      "Fitting 3 folds for each of 64 candidates, totalling 192 fits\n",
      "Best parameters found:  {'colsample_bytree': 0.8, 'gamma': 0.1, 'min_child_weight': 1, 'reg_alpha': 0, 'reg_lambda': 1, 'subsample': 1.0}\n",
      "Best F1 found:  0.7201750267321643\n"
     ]
    }
   ],
   "source": [
    "# Create parameter grid\n",
    "param_grid = {\n",
    "    'min_child_weight': [1, 5],\n",
    "    'gamma': [0, 0.1],\n",
    "    'subsample': [0.8, 1.0],\n",
    "    'colsample_bytree': [0.8, 1.0],\n",
    "    'reg_alpha': [0, 0.1],\n",
    "    'reg_lambda': [1, 1.5]\n",
    "}\n",
    "\n",
    "# Initialize temporary model\n",
    "xgb_temp = XGBClassifier(random_state=42)\n",
    "\n",
    "# Fit temporary model to the training data\n",
    "xgb_temp.fit(X_train_2, y_train_2)\n",
    "\n",
    "# Initialize the grid search\n",
    "xgb_gs_temp = GridSearchCV(estimator=xgb_temp, \n",
    "                           param_grid=param_grid, \n",
    "                           scoring='f1', \n",
    "                           n_jobs=-1, \n",
    "                           cv=3, \n",
    "                           verbose=1)\n",
    "\n",
    "# Fit the grid search to the data\n",
    "xgb_gs_temp.fit(X_train_2, y_train_2)\n",
    "\n",
    "# Print the best parameters found\n",
    "print(\"Best parameters found: \", xgb_gs_temp.best_params_)\n",
    "print(\"Best F1 found: \", xgb_gs_temp.best_score_)"
   ]
  },
  {
   "cell_type": "markdown",
   "metadata": {},
   "source": [
    "It is safe to assume that the hyperparameters that will play the biggest role will still be `n_estimators`, `learning_rate` and `max_depth`; therefore, we split the training into two parts once again."
   ]
  },
  {
   "cell_type": "code",
   "execution_count": 80,
   "metadata": {},
   "outputs": [
    {
     "name": "stdout",
     "output_type": "stream",
     "text": [
      "Fitting 3 folds for each of 150 candidates, totalling 450 fits\n",
      "Best parameters found:  {'learning_rate': 0.3, 'max_depth': 8, 'n_estimators': 300}\n",
      "Best F1 found:  0.801387383374656\n"
     ]
    }
   ],
   "source": [
    "# Create parameter grid\n",
    "param_grid = {\n",
    "    'n_estimators': [50, 100, 200, 300, 400],\n",
    "    'learning_rate': [0.01, 0.05, 0.1, 0.2, 0.3],\n",
    "    'max_depth': [3, 4, 5, 6, 7, 8]\n",
    "}\n",
    "\n",
    "# Initialize optimal parameters dictionary with values found previously\n",
    "optimal_params = {'colsample_bytree': 0.8, 'gamma': 0.1, 'min_child_weight': 1, \n",
    "                  'reg_alpha': 0.1, 'reg_lambda': 1, 'subsample': 1.0}\n",
    "\n",
    "# Initialize temporary model\n",
    "xgb_temp = XGBClassifier(**optimal_params, random_state=42)\n",
    "\n",
    "# Fit temporary model to the training data\n",
    "xgb_temp.fit(X_train_2, y_train_2)\n",
    "\n",
    "# Initialize the grid search\n",
    "xgb_gs_new = GridSearchCV(estimator=xgb_temp, \n",
    "                           param_grid=param_grid, \n",
    "                           scoring='f1', \n",
    "                           n_jobs=-1, \n",
    "                           cv=3, \n",
    "                           verbose=1)\n",
    "\n",
    "# Fit the grid search to the data\n",
    "xgb_gs_new.fit(X_train_2, y_train_2)\n",
    "\n",
    "# Print the best parameters found\n",
    "print(\"Best parameters found: \", xgb_gs_new.best_params_)\n",
    "print(\"Best F1 found: \", xgb_gs_new.best_score_)"
   ]
  },
  {
   "cell_type": "markdown",
   "metadata": {},
   "source": [
    "The best F1 found is now over 80%, meaning the model likely did not overfit this time around."
   ]
  },
  {
   "cell_type": "code",
   "execution_count": 81,
   "metadata": {
    "scrolled": true
   },
   "outputs": [
    {
     "data": {
      "text/html": [
       "<div>\n",
       "<style scoped>\n",
       "    .dataframe tbody tr th:only-of-type {\n",
       "        vertical-align: middle;\n",
       "    }\n",
       "\n",
       "    .dataframe tbody tr th {\n",
       "        vertical-align: top;\n",
       "    }\n",
       "\n",
       "    .dataframe thead th {\n",
       "        text-align: right;\n",
       "    }\n",
       "</style>\n",
       "<table border=\"1\" class=\"dataframe\">\n",
       "  <thead>\n",
       "    <tr style=\"text-align: right;\">\n",
       "      <th></th>\n",
       "      <th>precision</th>\n",
       "      <th>recall</th>\n",
       "      <th>f1-score</th>\n",
       "      <th>support</th>\n",
       "    </tr>\n",
       "  </thead>\n",
       "  <tbody>\n",
       "    <tr>\n",
       "      <th>0</th>\n",
       "      <td>0.848400</td>\n",
       "      <td>0.790013</td>\n",
       "      <td>0.818166</td>\n",
       "      <td>11915.000000</td>\n",
       "    </tr>\n",
       "    <tr>\n",
       "      <th>1</th>\n",
       "      <td>0.801790</td>\n",
       "      <td>0.857494</td>\n",
       "      <td>0.828707</td>\n",
       "      <td>11803.000000</td>\n",
       "    </tr>\n",
       "    <tr>\n",
       "      <th>accuracy</th>\n",
       "      <td>0.823594</td>\n",
       "      <td>0.823594</td>\n",
       "      <td>0.823594</td>\n",
       "      <td>0.823594</td>\n",
       "    </tr>\n",
       "    <tr>\n",
       "      <th>macro avg</th>\n",
       "      <td>0.825095</td>\n",
       "      <td>0.823753</td>\n",
       "      <td>0.823437</td>\n",
       "      <td>23718.000000</td>\n",
       "    </tr>\n",
       "    <tr>\n",
       "      <th>weighted avg</th>\n",
       "      <td>0.825205</td>\n",
       "      <td>0.823594</td>\n",
       "      <td>0.823412</td>\n",
       "      <td>23718.000000</td>\n",
       "    </tr>\n",
       "  </tbody>\n",
       "</table>\n",
       "</div>"
      ],
      "text/plain": [
       "              precision    recall  f1-score       support\n",
       "0              0.848400  0.790013  0.818166  11915.000000\n",
       "1              0.801790  0.857494  0.828707  11803.000000\n",
       "accuracy       0.823594  0.823594  0.823594      0.823594\n",
       "macro avg      0.825095  0.823753  0.823437  23718.000000\n",
       "weighted avg   0.825205  0.823594  0.823412  23718.000000"
      ]
     },
     "metadata": {},
     "output_type": "display_data"
    },
    {
     "name": "stdout",
     "output_type": "stream",
     "text": [
      "XGBoost AUC:  0.9139455714954579\n"
     ]
    }
   ],
   "source": [
    "# Predict on test data\n",
    "y_pred_new = xgb_gs_new.predict(X_test_2)\n",
    "\n",
    "# Get prediction probabilities\n",
    "y_probs_new = xgb_gs_new.predict_proba(X_test_2)[:,1]\n",
    "\n",
    "# Evaluate predictions\n",
    "display(pd.DataFrame(classification_report(y_test_2, y_pred_new,output_dict=True)).T)\n",
    "print(\"XGBoost AUC: \", roc_auc_score(y_test_2, y_probs_new))"
   ]
  },
  {
   "cell_type": "markdown",
   "metadata": {},
   "source": [
    "The scores are now very balanced; however, they include the data we have trained on previously. We want to see how the model will perform on only the unseen data."
   ]
  },
  {
   "cell_type": "code",
   "execution_count": 82,
   "metadata": {},
   "outputs": [
    {
     "data": {
      "text/html": [
       "<div>\n",
       "<style scoped>\n",
       "    .dataframe tbody tr th:only-of-type {\n",
       "        vertical-align: middle;\n",
       "    }\n",
       "\n",
       "    .dataframe tbody tr th {\n",
       "        vertical-align: top;\n",
       "    }\n",
       "\n",
       "    .dataframe thead th {\n",
       "        text-align: right;\n",
       "    }\n",
       "</style>\n",
       "<table border=\"1\" class=\"dataframe\">\n",
       "  <thead>\n",
       "    <tr style=\"text-align: right;\">\n",
       "      <th></th>\n",
       "      <th>precision</th>\n",
       "      <th>recall</th>\n",
       "      <th>f1-score</th>\n",
       "      <th>support</th>\n",
       "    </tr>\n",
       "  </thead>\n",
       "  <tbody>\n",
       "    <tr>\n",
       "      <th>0</th>\n",
       "      <td>0.995678</td>\n",
       "      <td>0.960746</td>\n",
       "      <td>0.977900</td>\n",
       "      <td>8152.00000</td>\n",
       "    </tr>\n",
       "    <tr>\n",
       "      <th>1</th>\n",
       "      <td>0.815880</td>\n",
       "      <td>0.976584</td>\n",
       "      <td>0.889028</td>\n",
       "      <td>1452.00000</td>\n",
       "    </tr>\n",
       "    <tr>\n",
       "      <th>accuracy</th>\n",
       "      <td>0.963140</td>\n",
       "      <td>0.963140</td>\n",
       "      <td>0.963140</td>\n",
       "      <td>0.96314</td>\n",
       "    </tr>\n",
       "    <tr>\n",
       "      <th>macro avg</th>\n",
       "      <td>0.905779</td>\n",
       "      <td>0.968665</td>\n",
       "      <td>0.933464</td>\n",
       "      <td>9604.00000</td>\n",
       "    </tr>\n",
       "    <tr>\n",
       "      <th>weighted avg</th>\n",
       "      <td>0.968495</td>\n",
       "      <td>0.963140</td>\n",
       "      <td>0.964464</td>\n",
       "      <td>9604.00000</td>\n",
       "    </tr>\n",
       "  </tbody>\n",
       "</table>\n",
       "</div>"
      ],
      "text/plain": [
       "              precision    recall  f1-score     support\n",
       "0              0.995678  0.960746  0.977900  8152.00000\n",
       "1              0.815880  0.976584  0.889028  1452.00000\n",
       "accuracy       0.963140  0.963140  0.963140     0.96314\n",
       "macro avg      0.905779  0.968665  0.933464  9604.00000\n",
       "weighted avg   0.968495  0.963140  0.964464  9604.00000"
      ]
     },
     "metadata": {},
     "output_type": "display_data"
    },
    {
     "name": "stdout",
     "output_type": "stream",
     "text": [
      "XGBoost AUC:  0.9917128957520608\n"
     ]
    }
   ],
   "source": [
    "# Predict on test data\n",
    "y_pred_new = xgb_gs_new.predict(X_test_retrain)\n",
    "\n",
    "# Get prediction probabilities\n",
    "y_probs_new = xgb_gs_new.predict_proba(X_test_retrain)[:,1]\n",
    "\n",
    "# Evaluate predictions\n",
    "display(pd.DataFrame(classification_report(y_test, y_pred_new,output_dict=True)).T)\n",
    "print(\"XGBoost AUC: \", roc_auc_score(y_test, y_probs_new))"
   ]
  },
  {
   "cell_type": "markdown",
   "metadata": {},
   "source": [
    "Here we can see how the new model is still too good at predicting the test original data."
   ]
  },
  {
   "cell_type": "code",
   "execution_count": 83,
   "metadata": {},
   "outputs": [],
   "source": [
    "# Initialize empty results dictionary\n",
    "results_dict = {}\n",
    "\n",
    "# Iterate 100 times with steps of 2\n",
    "for i in range(0,201,2):\n",
    "    \n",
    "    # Take a sample of 100 from the unseen test data\n",
    "    u_data_futile = u_data_test.sample(100)\n",
    "    \n",
    "    # Split the data\n",
    "    X_futile = u_data_futile.drop(columns='repay_fail')\n",
    "    y_futile = u_data_futile.repay_fail\n",
    "    \n",
    "    # Reordering columns of X_futile to match the training data's feature order\n",
    "    X_futile = X_futile[['loan_amnt', 'term', 'int_rate', 'installment', \n",
    "                         'emp_length', 'annual_inc', 'dti', 'delinq_2yrs', \n",
    "                         'inq_last_6mths', 'open_acc', 'pub_rec', 'total_acc', \n",
    "                         'annual_inc_log', 'years_of_credit', 'home_ownership_OTHER', \n",
    "                         'home_ownership_OWN', 'home_ownership_RENT', 'verification_status_Verified',\n",
    "                         'purpose_credit_card', 'purpose_debt_consolidation', 'purpose_educational', \n",
    "                         'purpose_home_improvement', 'purpose_other', 'purpose_small_business']]\n",
    "    \n",
    "    # Predict on test data\n",
    "    y_pred_futile = xgb_gs_new.predict(X_futile)\n",
    "    \n",
    "    # Get prediction probabilities\n",
    "    y_probs_futile = xgb_gs_new.predict_proba(X_futile)[:,1]\n",
    "    \n",
    "    # Evaluate predictions\n",
    "    report = classification_report(y_futile, y_pred_futile, output_dict=True)\n",
    "    \n",
    "    # Create an iterator object that iterates through reports values\n",
    "    iterator = iter(report.values())\n",
    "    \n",
    "    # Store the value for non-defaulted loans in the first key \n",
    "    results_dict[i] = next(iterator)\n",
    "    \n",
    "    # Create a new key for 'repay_fail' and set the value to 0 for non-defaulted \n",
    "    results_dict[i]['repay_fail'] = 0\n",
    "    \n",
    "    # Store the value for defaulted loans in the second key \n",
    "    results_dict[i+1] = next(iterator)\n",
    "    \n",
    "     # Create a new key for 'repay_fail' and set the value to 1 for defaulted\n",
    "    results_dict[i+1]['repay_fail'] = 1\n",
    "\n",
    "# Convert the dictionary into a DataFrame\n",
    "results_df = pd.DataFrame(results_dict).T"
   ]
  },
  {
   "cell_type": "markdown",
   "metadata": {},
   "source": [
    "We take the DataFrame `u_data_test` that we set aside earlier, and take samples of 100 as if we are setting up a scenario where the model is taking 100 applications at a time and deciding which loans are defaulted and non-defaulted. We store the results into a DataFrame named `results_df`."
   ]
  },
  {
   "cell_type": "code",
   "execution_count": 84,
   "metadata": {
    "scrolled": false
   },
   "outputs": [
    {
     "data": {
      "image/png": "[encoded data removed]",
      "text/plain": [
       "<Figure size 1000x500 with 2 Axes>"
      ]
     },
     "metadata": {},
     "output_type": "display_data"
    },
    {
     "data": {
      "image/png": "[encoded data removed]",
      "text/plain": [
       "<Figure size 1000x500 with 2 Axes>"
      ]
     },
     "metadata": {},
     "output_type": "display_data"
    },
    {
     "data": {
      "image/png": "[encoded data removed]",
      "text/plain": [
       "<Figure size 1000x500 with 2 Axes>"
      ]
     },
     "metadata": {},
     "output_type": "display_data"
    }
   ],
   "source": [
    "# Iterate through the DataFrame's columns\n",
    "for col in results_df.columns:\n",
    "    \n",
    "    # Do not iterate through the 'support' or 'repay_fail' columns\n",
    "    if col not in ['support', 'repay_fail']:\n",
    "        \n",
    "        # Plot the distribution of precision, recall and F1 score with columns split by loan defult status\n",
    "        g = sns.displot(x=col, kind='hist', col = 'repay_fail', data=results_df)\n",
    "        \n",
    "        # Show plot\n",
    "        plt.show()"
   ]
  },
  {
   "cell_type": "markdown",
   "metadata": {},
   "source": [
    "Then, we plot the distribution of the precision, recall and F1 scores for the different samples of 100. The model averages around a 60% score for all three regardless of the loan being defaulted or non-defaulted."
   ]
  },
  {
   "cell_type": "code",
   "execution_count": 85,
   "metadata": {},
   "outputs": [
    {
     "data": {
      "text/html": [
       "<div>\n",
       "<style scoped>\n",
       "    .dataframe tbody tr th:only-of-type {\n",
       "        vertical-align: middle;\n",
       "    }\n",
       "\n",
       "    .dataframe tbody tr th {\n",
       "        vertical-align: top;\n",
       "    }\n",
       "\n",
       "    .dataframe thead th {\n",
       "        text-align: right;\n",
       "    }\n",
       "</style>\n",
       "<table border=\"1\" class=\"dataframe\">\n",
       "  <thead>\n",
       "    <tr style=\"text-align: right;\">\n",
       "      <th></th>\n",
       "      <th>precision</th>\n",
       "      <th>recall</th>\n",
       "      <th>f1-score</th>\n",
       "      <th>support</th>\n",
       "    </tr>\n",
       "  </thead>\n",
       "  <tbody>\n",
       "    <tr>\n",
       "      <th>0</th>\n",
       "      <td>0.601826</td>\n",
       "      <td>0.613678</td>\n",
       "      <td>0.607694</td>\n",
       "      <td>14827.000000</td>\n",
       "    </tr>\n",
       "    <tr>\n",
       "      <th>1</th>\n",
       "      <td>0.605890</td>\n",
       "      <td>0.593957</td>\n",
       "      <td>0.599864</td>\n",
       "      <td>14826.000000</td>\n",
       "    </tr>\n",
       "    <tr>\n",
       "      <th>accuracy</th>\n",
       "      <td>0.603817</td>\n",
       "      <td>0.603817</td>\n",
       "      <td>0.603817</td>\n",
       "      <td>0.603817</td>\n",
       "    </tr>\n",
       "    <tr>\n",
       "      <th>macro avg</th>\n",
       "      <td>0.603858</td>\n",
       "      <td>0.603817</td>\n",
       "      <td>0.603779</td>\n",
       "      <td>29653.000000</td>\n",
       "    </tr>\n",
       "    <tr>\n",
       "      <th>weighted avg</th>\n",
       "      <td>0.603858</td>\n",
       "      <td>0.603817</td>\n",
       "      <td>0.603779</td>\n",
       "      <td>29653.000000</td>\n",
       "    </tr>\n",
       "  </tbody>\n",
       "</table>\n",
       "</div>"
      ],
      "text/plain": [
       "              precision    recall  f1-score       support\n",
       "0              0.601826  0.613678  0.607694  14827.000000\n",
       "1              0.605890  0.593957  0.599864  14826.000000\n",
       "accuracy       0.603817  0.603817  0.603817      0.603817\n",
       "macro avg      0.603858  0.603817  0.603779  29653.000000\n",
       "weighted avg   0.603858  0.603817  0.603779  29653.000000"
      ]
     },
     "metadata": {},
     "output_type": "display_data"
    },
    {
     "name": "stdout",
     "output_type": "stream",
     "text": [
      "XGBoost AUC:  0.6488826626360442\n"
     ]
    }
   ],
   "source": [
    "# Split data\n",
    "X_futile = u_data_test.drop(columns='repay_fail')\n",
    "y_futile = u_data_test.repay_fail\n",
    "\n",
    "# Reordering columns of X_futile to match the training data's feature order\n",
    "X_futile = X_futile[['loan_amnt', 'term', 'int_rate', 'installment', \n",
    "                     'emp_length', 'annual_inc', 'dti', 'delinq_2yrs', \n",
    "                     'inq_last_6mths', 'open_acc', 'pub_rec', 'total_acc', \n",
    "                     'annual_inc_log', 'years_of_credit', 'home_ownership_OTHER', \n",
    "                     'home_ownership_OWN', 'home_ownership_RENT', 'verification_status_Verified',\n",
    "                     'purpose_credit_card', 'purpose_debt_consolidation', 'purpose_educational', \n",
    "                     'purpose_home_improvement', 'purpose_other', 'purpose_small_business']]\n",
    "\n",
    "# Predict on test data\n",
    "y_pred_futile = xgb_gs_new.predict(X_futile)\n",
    "\n",
    "# Get prediction probabilities\n",
    "y_probs_futile = xgb_gs_new.predict_proba(X_futile)[:,1]\n",
    "\n",
    "# Evaluate predictions\n",
    "display(pd.DataFrame(classification_report(y_futile, y_pred_futile,output_dict=True)).T)\n",
    "print(\"XGBoost AUC: \", roc_auc_score(y_futile, y_probs_futile))"
   ]
  },
  {
   "cell_type": "markdown",
   "metadata": {},
   "source": [
    "Overall on the test set, as we noticed in the distributions, the model averages around 60% for all scores. The model is still overfit to the original training data, but now has more predictive ability for unseen data with the addition of the new dataset. \n",
    "\n",
    "It is evident that the XGBoost Classifier model has reached its peak performance through the introduction of an unseen dataset. Despite fine-tuning the hyperparameters and enhancing the training data, the model's performance has plateaued, showing no significant improvement. The plateau suggests that the model has grown increasingly complex, and we're now experiencing diminishing marginal returns in terms of its predictive accuracy. While we could continue to refine the parameters and further augment the training data, the expected gains would be minimal compared to the effort needed for further improvement."
   ]
  },
  {
   "cell_type": "markdown",
   "metadata": {},
   "source": [
    "## 4.12 References<a id='4.11_References'></a>"
   ]
  },
  {
   "cell_type": "markdown",
   "metadata": {},
   "source": [
    "1. https://machinelearningmastery.com/hyperparameters-for-classification-machine-learning-algorithms/\n",
    "2. https://towardsdatascience.com/hyperparameter-tuning-the-random-forest-in-python-using-scikit-learn-28d2aa77dd74\n",
    "3. https://www.analyticsvidhya.com/blog/2021/06/5-techniques-to-handle-imbalanced-data-for-a-classification-problem/"
   ]
  }
 ],
 "metadata": {
  "kernelspec": {
   "display_name": "Python 3 (ipykernel)",
   "language": "python",
   "name": "python3"
  },
  "language_info": {
   "codemirror_mode": {
    "name": "ipython",
    "version": 3
   },
   "file_extension": ".py",
   "mimetype": "text/x-python",
   "name": "python",
   "nbconvert_exporter": "python",
   "pygments_lexer": "ipython3",
   "version": "3.10.9"
  },
  "toc": {
   "base_numbering": 1,
   "nav_menu": {},
   "number_sections": true,
   "sideBar": true,
   "skip_h1_title": false,
   "title_cell": "Table of Contents",
   "title_sidebar": "Contents",
   "toc_cell": false,
   "toc_position": {},
   "toc_section_display": true,
   "toc_window_display": true
  },
  "varInspector": {
   "cols": {
    "lenName": 16,
    "lenType": 16,
    "lenVar": 40
   },
   "kernels_config": {
    "python": {
     "delete_cmd_postfix": "",
     "delete_cmd_prefix": "del ",
     "library": "var_list.py",
     "varRefreshCmd": "print(var_dic_list())"
    },
    "r": {
     "delete_cmd_postfix": ") ",
     "delete_cmd_prefix": "rm(",
     "library": "var_list.r",
     "varRefreshCmd": "cat(var_dic_list()) "
    }
   },
   "types_to_exclude": [
    "module",
    "function",
    "builtin_function_or_method",
    "instance",
    "_Feature"
   ],
   "window_display": false
  }
 },
 "nbformat": 4,
 "nbformat_minor": 4
}
