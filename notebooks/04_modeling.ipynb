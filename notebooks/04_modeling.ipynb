{
 "cells": [
  {
   "cell_type": "markdown",
   "metadata": {},
   "source": [
    "# 4 Modeling<a id='4_Modeling'></a>"
   ]
  },
  {
   "cell_type": "markdown",
   "metadata": {},
   "source": [
    "## 4.1 Contents<a id='4.1_Contents'></a>\n",
    "* [4 Modeling](#3_Modeling)\n",
    "  * [4.1 Imports](#4.1_Imports)\n",
    "  * [4.2 Load Data](#4.4_Load_Data)\n",
    "  * [4.5 One-Hot Encoding](#4.5_One-Hot_Encoding)\n",
    "  * [4.6 XGBoost Classifier](#4.6_XGBoost_Classifier)\n",
    "      * [4.6.1 Initial Fit](#4.6.1_Initial_Fit)\n",
    "      * [4.6.2 ](#4.6.2_)\n",
    "      * [4.6.3 ](#4.6.3_)\n",
    "  * [4.7 Bernoulli Naive Bayes](#4.7_Bernoulli_Naive_Bayes)\n",
    "  * [4.8 Linear Discriminant Analysis](#4.8_Linear_Discriminant_Analysis)\n",
    "  * [4.8 Optimizing XGBoost](#4.9_Optimizing_XGBoost)"
   ]
  },
  {
   "cell_type": "markdown",
   "metadata": {},
   "source": [
    "## 4.3 Imports<a id='4.3_Imports'></a>"
   ]
  },
  {
   "cell_type": "code",
   "execution_count": 1,
   "metadata": {},
   "outputs": [],
   "source": [
    "import pandas as pd\n",
    "import numpy as np\n",
    "import os\n",
    "import matplotlib.pyplot as plt\n",
    "import seaborn as sns\n",
    "from sklearn.model_selection import train_test_split, GridSearchCV\n",
    "from sklearn.metrics import classification_report, roc_auc_score, precision_recall_curve, f1_score\n",
    "from sklearn.naive_bayes import BernoulliNB\n",
    "from sklearn.discriminant_analysis import LinearDiscriminantAnalysis\n",
    "from sklearn.utils import resample\n",
    "from sklearn.model_selection import cross_val_score, learning_curve, validation_curve\n",
    "from sklearn.impute import KNNImputer\n",
    "from xgboost import XGBClassifier\n",
    "import warnings\n",
    "warnings.filterwarnings('ignore')\n",
    "\n",
    "sns.set()\n",
    "pd.set_option('display.max_columns',50)"
   ]
  },
  {
   "cell_type": "markdown",
   "metadata": {},
   "source": [
    "## 4.4 Load Data<a id='4.4_Load_Data'></a>"
   ]
  },
  {
   "cell_type": "code",
   "execution_count": 2,
   "metadata": {
    "scrolled": false
   },
   "outputs": [],
   "source": [
    "df_encoded = pd.read_csv('../data/processed/df_encoded.csv', index_col=0)"
   ]
  },
  {
   "cell_type": "markdown",
   "metadata": {},
   "source": [
    "We first load in the encoded dataset. We will not review with .head() since there are many columns now created from the one-hot encoding."
   ]
  },
  {
   "cell_type": "markdown",
   "metadata": {},
   "source": [
    "## 4.5 Reviewing Superficial Modeling<a id='4.5_Reviewing_Superficial_Modeling'></a>"
   ]
  },
  {
   "cell_type": "code",
   "execution_count": 3,
   "metadata": {},
   "outputs": [],
   "source": [
    "models = pd.read_csv('../data/processed/lazypredict_models.csv')"
   ]
  },
  {
   "cell_type": "code",
   "execution_count": 4,
   "metadata": {},
   "outputs": [
    {
     "data": {
      "text/html": [
       "<div>\n",
       "<style scoped>\n",
       "    .dataframe tbody tr th:only-of-type {\n",
       "        vertical-align: middle;\n",
       "    }\n",
       "\n",
       "    .dataframe tbody tr th {\n",
       "        vertical-align: top;\n",
       "    }\n",
       "\n",
       "    .dataframe thead th {\n",
       "        text-align: right;\n",
       "    }\n",
       "</style>\n",
       "<table border=\"1\" class=\"dataframe\">\n",
       "  <thead>\n",
       "    <tr style=\"text-align: right;\">\n",
       "      <th></th>\n",
       "      <th>Model</th>\n",
       "      <th>Accuracy</th>\n",
       "      <th>Balanced Accuracy</th>\n",
       "      <th>ROC AUC</th>\n",
       "      <th>F1 Score</th>\n",
       "      <th>Time Taken</th>\n",
       "    </tr>\n",
       "  </thead>\n",
       "  <tbody>\n",
       "    <tr>\n",
       "      <th>7</th>\n",
       "      <td>XGBClassifier</td>\n",
       "      <td>0.843711</td>\n",
       "      <td>0.524447</td>\n",
       "      <td>0.524447</td>\n",
       "      <td>0.793367</td>\n",
       "      <td>0.308411</td>\n",
       "    </tr>\n",
       "    <tr>\n",
       "      <th>8</th>\n",
       "      <td>BernoulliNB</td>\n",
       "      <td>0.839963</td>\n",
       "      <td>0.520258</td>\n",
       "      <td>0.520258</td>\n",
       "      <td>0.790074</td>\n",
       "      <td>0.112741</td>\n",
       "    </tr>\n",
       "    <tr>\n",
       "      <th>10</th>\n",
       "      <td>LinearDiscriminantAnalysis</td>\n",
       "      <td>0.847772</td>\n",
       "      <td>0.513255</td>\n",
       "      <td>0.513255</td>\n",
       "      <td>0.787993</td>\n",
       "      <td>0.358339</td>\n",
       "    </tr>\n",
       "    <tr>\n",
       "      <th>9</th>\n",
       "      <td>BaggingClassifier</td>\n",
       "      <td>0.840796</td>\n",
       "      <td>0.515372</td>\n",
       "      <td>0.515372</td>\n",
       "      <td>0.787655</td>\n",
       "      <td>6.418692</td>\n",
       "    </tr>\n",
       "    <tr>\n",
       "      <th>12</th>\n",
       "      <td>LGBMClassifier</td>\n",
       "      <td>0.849229</td>\n",
       "      <td>0.510434</td>\n",
       "      <td>0.510434</td>\n",
       "      <td>0.786488</td>\n",
       "      <td>0.335969</td>\n",
       "    </tr>\n",
       "    <tr>\n",
       "      <th>13</th>\n",
       "      <td>AdaBoostClassifier</td>\n",
       "      <td>0.848501</td>\n",
       "      <td>0.509722</td>\n",
       "      <td>0.509722</td>\n",
       "      <td>0.785910</td>\n",
       "      <td>2.571018</td>\n",
       "    </tr>\n",
       "    <tr>\n",
       "      <th>11</th>\n",
       "      <td>KNeighborsClassifier</td>\n",
       "      <td>0.834444</td>\n",
       "      <td>0.511630</td>\n",
       "      <td>0.511630</td>\n",
       "      <td>0.783982</td>\n",
       "      <td>0.923021</td>\n",
       "    </tr>\n",
       "    <tr>\n",
       "      <th>15</th>\n",
       "      <td>CalibratedClassifierCV</td>\n",
       "      <td>0.848605</td>\n",
       "      <td>0.506104</td>\n",
       "      <td>0.506104</td>\n",
       "      <td>0.783566</td>\n",
       "      <td>2.037228</td>\n",
       "    </tr>\n",
       "    <tr>\n",
       "      <th>16</th>\n",
       "      <td>LogisticRegression</td>\n",
       "      <td>0.847876</td>\n",
       "      <td>0.505957</td>\n",
       "      <td>0.505957</td>\n",
       "      <td>0.783369</td>\n",
       "      <td>0.329325</td>\n",
       "    </tr>\n",
       "    <tr>\n",
       "      <th>18</th>\n",
       "      <td>ExtraTreesClassifier</td>\n",
       "      <td>0.847876</td>\n",
       "      <td>0.502844</td>\n",
       "      <td>0.502844</td>\n",
       "      <td>0.781284</td>\n",
       "      <td>5.393083</td>\n",
       "    </tr>\n",
       "    <tr>\n",
       "      <th>19</th>\n",
       "      <td>RandomForestClassifier</td>\n",
       "      <td>0.848292</td>\n",
       "      <td>0.501674</td>\n",
       "      <td>0.501674</td>\n",
       "      <td>0.780526</td>\n",
       "      <td>8.449196</td>\n",
       "    </tr>\n",
       "    <tr>\n",
       "      <th>20</th>\n",
       "      <td>SGDClassifier</td>\n",
       "      <td>0.847980</td>\n",
       "      <td>0.500641</td>\n",
       "      <td>0.500641</td>\n",
       "      <td>0.779780</td>\n",
       "      <td>0.539528</td>\n",
       "    </tr>\n",
       "    <tr>\n",
       "      <th>21</th>\n",
       "      <td>RidgeClassifier</td>\n",
       "      <td>0.848501</td>\n",
       "      <td>0.500382</td>\n",
       "      <td>0.500382</td>\n",
       "      <td>0.779645</td>\n",
       "      <td>0.114115</td>\n",
       "    </tr>\n",
       "    <tr>\n",
       "      <th>22</th>\n",
       "      <td>RidgeClassifierCV</td>\n",
       "      <td>0.848501</td>\n",
       "      <td>0.500382</td>\n",
       "      <td>0.500382</td>\n",
       "      <td>0.779645</td>\n",
       "      <td>0.241796</td>\n",
       "    </tr>\n",
       "    <tr>\n",
       "      <th>23</th>\n",
       "      <td>LinearSVC</td>\n",
       "      <td>0.848501</td>\n",
       "      <td>0.500382</td>\n",
       "      <td>0.500382</td>\n",
       "      <td>0.779645</td>\n",
       "      <td>7.636044</td>\n",
       "    </tr>\n",
       "    <tr>\n",
       "      <th>24</th>\n",
       "      <td>DummyClassifier</td>\n",
       "      <td>0.848813</td>\n",
       "      <td>0.500000</td>\n",
       "      <td>0.500000</td>\n",
       "      <td>0.779401</td>\n",
       "      <td>0.084909</td>\n",
       "    </tr>\n",
       "    <tr>\n",
       "      <th>25</th>\n",
       "      <td>SVC</td>\n",
       "      <td>0.848605</td>\n",
       "      <td>0.499877</td>\n",
       "      <td>0.499877</td>\n",
       "      <td>0.779298</td>\n",
       "      <td>104.128198</td>\n",
       "    </tr>\n",
       "    <tr>\n",
       "      <th>6</th>\n",
       "      <td>Perceptron</td>\n",
       "      <td>0.794565</td>\n",
       "      <td>0.529743</td>\n",
       "      <td>0.529743</td>\n",
       "      <td>0.776485</td>\n",
       "      <td>0.117612</td>\n",
       "    </tr>\n",
       "    <tr>\n",
       "      <th>1</th>\n",
       "      <td>PassiveAggressiveClassifier</td>\n",
       "      <td>0.765410</td>\n",
       "      <td>0.555588</td>\n",
       "      <td>0.555588</td>\n",
       "      <td>0.768254</td>\n",
       "      <td>0.144145</td>\n",
       "    </tr>\n",
       "    <tr>\n",
       "      <th>4</th>\n",
       "      <td>LabelPropagation</td>\n",
       "      <td>0.776135</td>\n",
       "      <td>0.530490</td>\n",
       "      <td>0.530490</td>\n",
       "      <td>0.767831</td>\n",
       "      <td>59.008243</td>\n",
       "    </tr>\n",
       "    <tr>\n",
       "      <th>5</th>\n",
       "      <td>LabelSpreading</td>\n",
       "      <td>0.776135</td>\n",
       "      <td>0.530207</td>\n",
       "      <td>0.530207</td>\n",
       "      <td>0.767753</td>\n",
       "      <td>62.853799</td>\n",
       "    </tr>\n",
       "    <tr>\n",
       "      <th>2</th>\n",
       "      <td>ExtraTreeClassifier</td>\n",
       "      <td>0.764473</td>\n",
       "      <td>0.540885</td>\n",
       "      <td>0.540885</td>\n",
       "      <td>0.764406</td>\n",
       "      <td>0.146133</td>\n",
       "    </tr>\n",
       "    <tr>\n",
       "      <th>3</th>\n",
       "      <td>DecisionTreeClassifier</td>\n",
       "      <td>0.758330</td>\n",
       "      <td>0.539813</td>\n",
       "      <td>0.539813</td>\n",
       "      <td>0.760814</td>\n",
       "      <td>0.970172</td>\n",
       "    </tr>\n",
       "    <tr>\n",
       "      <th>0</th>\n",
       "      <td>NearestCentroid</td>\n",
       "      <td>0.647751</td>\n",
       "      <td>0.633166</td>\n",
       "      <td>0.633166</td>\n",
       "      <td>0.696475</td>\n",
       "      <td>0.100091</td>\n",
       "    </tr>\n",
       "    <tr>\n",
       "      <th>14</th>\n",
       "      <td>GaussianNB</td>\n",
       "      <td>0.234798</td>\n",
       "      <td>0.509063</td>\n",
       "      <td>0.509063</td>\n",
       "      <td>0.213374</td>\n",
       "      <td>0.123112</td>\n",
       "    </tr>\n",
       "    <tr>\n",
       "      <th>17</th>\n",
       "      <td>QuadraticDiscriminantAnalysis</td>\n",
       "      <td>0.215743</td>\n",
       "      <td>0.505480</td>\n",
       "      <td>0.505480</td>\n",
       "      <td>0.178220</td>\n",
       "      <td>0.162151</td>\n",
       "    </tr>\n",
       "  </tbody>\n",
       "</table>\n",
       "</div>"
      ],
      "text/plain": [
       "                            Model  Accuracy  Balanced Accuracy   ROC AUC  \\\n",
       "7                   XGBClassifier  0.843711           0.524447  0.524447   \n",
       "8                     BernoulliNB  0.839963           0.520258  0.520258   \n",
       "10     LinearDiscriminantAnalysis  0.847772           0.513255  0.513255   \n",
       "9               BaggingClassifier  0.840796           0.515372  0.515372   \n",
       "12                 LGBMClassifier  0.849229           0.510434  0.510434   \n",
       "13             AdaBoostClassifier  0.848501           0.509722  0.509722   \n",
       "11           KNeighborsClassifier  0.834444           0.511630  0.511630   \n",
       "15         CalibratedClassifierCV  0.848605           0.506104  0.506104   \n",
       "16             LogisticRegression  0.847876           0.505957  0.505957   \n",
       "18           ExtraTreesClassifier  0.847876           0.502844  0.502844   \n",
       "19         RandomForestClassifier  0.848292           0.501674  0.501674   \n",
       "20                  SGDClassifier  0.847980           0.500641  0.500641   \n",
       "21                RidgeClassifier  0.848501           0.500382  0.500382   \n",
       "22              RidgeClassifierCV  0.848501           0.500382  0.500382   \n",
       "23                      LinearSVC  0.848501           0.500382  0.500382   \n",
       "24                DummyClassifier  0.848813           0.500000  0.500000   \n",
       "25                            SVC  0.848605           0.499877  0.499877   \n",
       "6                      Perceptron  0.794565           0.529743  0.529743   \n",
       "1     PassiveAggressiveClassifier  0.765410           0.555588  0.555588   \n",
       "4                LabelPropagation  0.776135           0.530490  0.530490   \n",
       "5                  LabelSpreading  0.776135           0.530207  0.530207   \n",
       "2             ExtraTreeClassifier  0.764473           0.540885  0.540885   \n",
       "3          DecisionTreeClassifier  0.758330           0.539813  0.539813   \n",
       "0                 NearestCentroid  0.647751           0.633166  0.633166   \n",
       "14                     GaussianNB  0.234798           0.509063  0.509063   \n",
       "17  QuadraticDiscriminantAnalysis  0.215743           0.505480  0.505480   \n",
       "\n",
       "    F1 Score  Time Taken  \n",
       "7   0.793367    0.308411  \n",
       "8   0.790074    0.112741  \n",
       "10  0.787993    0.358339  \n",
       "9   0.787655    6.418692  \n",
       "12  0.786488    0.335969  \n",
       "13  0.785910    2.571018  \n",
       "11  0.783982    0.923021  \n",
       "15  0.783566    2.037228  \n",
       "16  0.783369    0.329325  \n",
       "18  0.781284    5.393083  \n",
       "19  0.780526    8.449196  \n",
       "20  0.779780    0.539528  \n",
       "21  0.779645    0.114115  \n",
       "22  0.779645    0.241796  \n",
       "23  0.779645    7.636044  \n",
       "24  0.779401    0.084909  \n",
       "25  0.779298  104.128198  \n",
       "6   0.776485    0.117612  \n",
       "1   0.768254    0.144145  \n",
       "4   0.767831   59.008243  \n",
       "5   0.767753   62.853799  \n",
       "2   0.764406    0.146133  \n",
       "3   0.760814    0.970172  \n",
       "0   0.696475    0.100091  \n",
       "14  0.213374    0.123112  \n",
       "17  0.178220    0.162151  "
      ]
     },
     "execution_count": 4,
     "metadata": {},
     "output_type": "execute_result"
    }
   ],
   "source": [
    "models.sort_values(['F1 Score','Accuracy'], ascending=False)"
   ]
  },
  {
   "cell_type": "markdown",
   "metadata": {},
   "source": [
    "## 4.6 XGBoost Classifier<a id='4.6_XGBoost_Classifier'></a>"
   ]
  },
  {
   "cell_type": "code",
   "execution_count": 5,
   "metadata": {},
   "outputs": [],
   "source": [
    "X = df_encoded.drop(columns=['earliest_cr_line','repay_fail'])\n",
    "y = df_encoded.repay_fail\n",
    "\n",
    "X_train, X_test, y_train, y_test = train_test_split(X, y, test_size=0.25, random_state=42, stratify=y)"
   ]
  },
  {
   "cell_type": "markdown",
   "metadata": {},
   "source": [
    "### 4.6.1 Initial Fit<a id='4.6.1_Initial_Fit'></a>"
   ]
  },
  {
   "cell_type": "code",
   "execution_count": 6,
   "metadata": {
    "scrolled": true
   },
   "outputs": [
    {
     "data": {
      "text/html": [
       "<div>\n",
       "<style scoped>\n",
       "    .dataframe tbody tr th:only-of-type {\n",
       "        vertical-align: middle;\n",
       "    }\n",
       "\n",
       "    .dataframe tbody tr th {\n",
       "        vertical-align: top;\n",
       "    }\n",
       "\n",
       "    .dataframe thead th {\n",
       "        text-align: right;\n",
       "    }\n",
       "</style>\n",
       "<table border=\"1\" class=\"dataframe\">\n",
       "  <thead>\n",
       "    <tr style=\"text-align: right;\">\n",
       "      <th></th>\n",
       "      <th>precision</th>\n",
       "      <th>recall</th>\n",
       "      <th>f1-score</th>\n",
       "      <th>support</th>\n",
       "    </tr>\n",
       "  </thead>\n",
       "  <tbody>\n",
       "    <tr>\n",
       "      <th>0</th>\n",
       "      <td>0.855251</td>\n",
       "      <td>0.982090</td>\n",
       "      <td>0.914292</td>\n",
       "      <td>8152.000000</td>\n",
       "    </tr>\n",
       "    <tr>\n",
       "      <th>1</th>\n",
       "      <td>0.399177</td>\n",
       "      <td>0.066804</td>\n",
       "      <td>0.114454</td>\n",
       "      <td>1452.000000</td>\n",
       "    </tr>\n",
       "    <tr>\n",
       "      <th>accuracy</th>\n",
       "      <td>0.843711</td>\n",
       "      <td>0.843711</td>\n",
       "      <td>0.843711</td>\n",
       "      <td>0.843711</td>\n",
       "    </tr>\n",
       "    <tr>\n",
       "      <th>macro avg</th>\n",
       "      <td>0.627214</td>\n",
       "      <td>0.524447</td>\n",
       "      <td>0.514373</td>\n",
       "      <td>9604.000000</td>\n",
       "    </tr>\n",
       "    <tr>\n",
       "      <th>weighted avg</th>\n",
       "      <td>0.786298</td>\n",
       "      <td>0.843711</td>\n",
       "      <td>0.793367</td>\n",
       "      <td>9604.000000</td>\n",
       "    </tr>\n",
       "  </tbody>\n",
       "</table>\n",
       "</div>"
      ],
      "text/plain": [
       "              precision    recall  f1-score      support\n",
       "0              0.855251  0.982090  0.914292  8152.000000\n",
       "1              0.399177  0.066804  0.114454  1452.000000\n",
       "accuracy       0.843711  0.843711  0.843711     0.843711\n",
       "macro avg      0.627214  0.524447  0.514373  9604.000000\n",
       "weighted avg   0.786298  0.843711  0.793367  9604.000000"
      ]
     },
     "metadata": {},
     "output_type": "display_data"
    },
    {
     "name": "stdout",
     "output_type": "stream",
     "text": [
      "XGBoost AUC:  0.6877861438454489\n"
     ]
    }
   ],
   "source": [
    "xgb_model = XGBClassifier(random_state=42)\n",
    "\n",
    "xgb_model.fit(X_train, y_train)\n",
    "\n",
    "# Predict on test data\n",
    "xgb_predictions = xgb_model.predict(X_test)\n",
    "\n",
    "# Optionally, get prediction probabilities\n",
    "xgb_probs = xgb_model.predict_proba(X_test)[:,1]\n",
    "\n",
    "# Evaluate predictions\n",
    "display(pd.DataFrame(classification_report(y_test, xgb_predictions,output_dict=True)).T)\n",
    "print(\"XGBoost AUC: \", roc_auc_score(y_test, xgb_probs))"
   ]
  },
  {
   "cell_type": "markdown",
   "metadata": {},
   "source": [
    "Based on the accuracy of the initial fit, it is evident the model is as good at randomly guessing which loans defaulted because the amount of defaulted loans is 15%, and the accuracy of the model is 85%."
   ]
  },
  {
   "cell_type": "code",
   "execution_count": 7,
   "metadata": {},
   "outputs": [
    {
     "data": {
      "text/plain": [
       "0    0.848835\n",
       "1    0.151165\n",
       "Name: repay_fail, dtype: float64"
      ]
     },
     "execution_count": 7,
     "metadata": {},
     "output_type": "execute_result"
    }
   ],
   "source": [
    "df_encoded.repay_fail.value_counts(normalize=True)"
   ]
  },
  {
   "cell_type": "markdown",
   "metadata": {},
   "source": [
    "Here we confirm our suspicion by displaying the proportion of defaulted and non-defaulted loans."
   ]
  },
  {
   "cell_type": "markdown",
   "metadata": {},
   "source": [
    "### 4.6.2 Oversampling<a id='4.6.2_Oversampling'></a>"
   ]
  },
  {
   "cell_type": "code",
   "execution_count": 8,
   "metadata": {},
   "outputs": [
    {
     "data": {
      "text/plain": [
       "0    32608\n",
       "1     5807\n",
       "Name: repay_fail, dtype: int64"
      ]
     },
     "execution_count": 8,
     "metadata": {},
     "output_type": "execute_result"
    }
   ],
   "source": [
    "df_encoded.repay_fail.value_counts()"
   ]
  },
  {
   "cell_type": "code",
   "execution_count": 9,
   "metadata": {},
   "outputs": [
    {
     "data": {
      "text/plain": [
       "0    0.848835\n",
       "1    0.151165\n",
       "Name: repay_fail, dtype: float64"
      ]
     },
     "execution_count": 9,
     "metadata": {},
     "output_type": "execute_result"
    }
   ],
   "source": [
    "df_encoded.repay_fail.value_counts(normalize=True)"
   ]
  },
  {
   "cell_type": "markdown",
   "metadata": {},
   "source": [
    "We can see that only 15% of the loans in our dataset are defaults, which may explain why our model isn't good at predicting defaults."
   ]
  },
  {
   "cell_type": "code",
   "execution_count": 10,
   "metadata": {},
   "outputs": [],
   "source": [
    "#create two different dataframe of majority and minority class \n",
    "df_majority = df_encoded[df_encoded['repay_fail']==0]\n",
    "df_minority = df_encoded[df_encoded['repay_fail']==1]\n",
    "\n",
    "# upsample minority class\n",
    "df_minority_upsampled = resample(df_minority, \n",
    "                                 replace=True,\n",
    "                                 n_samples= 32608,\n",
    "                                 random_state=42)\n",
    "\n",
    "df_upsampled = pd.concat([df_minority_upsampled, df_majority])"
   ]
  },
  {
   "cell_type": "code",
   "execution_count": 11,
   "metadata": {},
   "outputs": [
    {
     "data": {
      "text/plain": [
       "1    32608\n",
       "0    32608\n",
       "Name: repay_fail, dtype: int64"
      ]
     },
     "execution_count": 11,
     "metadata": {},
     "output_type": "execute_result"
    }
   ],
   "source": [
    "df_upsampled['repay_fail'].value_counts()"
   ]
  },
  {
   "cell_type": "code",
   "execution_count": 12,
   "metadata": {},
   "outputs": [],
   "source": [
    "X_over = df_upsampled.drop(columns=['earliest_cr_line','repay_fail'])\n",
    "y_over = df_upsampled.repay_fail"
   ]
  },
  {
   "cell_type": "code",
   "execution_count": 13,
   "metadata": {},
   "outputs": [],
   "source": [
    "X_train_o, X_test_o, y_train_o, y_test_o = train_test_split(X_over, y_over, test_size=0.25, random_state=42)"
   ]
  },
  {
   "cell_type": "code",
   "execution_count": 14,
   "metadata": {
    "scrolled": true
   },
   "outputs": [
    {
     "data": {
      "text/html": [
       "<div>\n",
       "<style scoped>\n",
       "    .dataframe tbody tr th:only-of-type {\n",
       "        vertical-align: middle;\n",
       "    }\n",
       "\n",
       "    .dataframe tbody tr th {\n",
       "        vertical-align: top;\n",
       "    }\n",
       "\n",
       "    .dataframe thead th {\n",
       "        text-align: right;\n",
       "    }\n",
       "</style>\n",
       "<table border=\"1\" class=\"dataframe\">\n",
       "  <thead>\n",
       "    <tr style=\"text-align: right;\">\n",
       "      <th></th>\n",
       "      <th>precision</th>\n",
       "      <th>recall</th>\n",
       "      <th>f1-score</th>\n",
       "      <th>support</th>\n",
       "    </tr>\n",
       "  </thead>\n",
       "  <tbody>\n",
       "    <tr>\n",
       "      <th>0</th>\n",
       "      <td>0.828905</td>\n",
       "      <td>0.747433</td>\n",
       "      <td>0.786063</td>\n",
       "      <td>8180.000000</td>\n",
       "    </tr>\n",
       "    <tr>\n",
       "      <th>1</th>\n",
       "      <td>0.768593</td>\n",
       "      <td>0.844658</td>\n",
       "      <td>0.804832</td>\n",
       "      <td>8124.000000</td>\n",
       "    </tr>\n",
       "    <tr>\n",
       "      <th>accuracy</th>\n",
       "      <td>0.795878</td>\n",
       "      <td>0.795878</td>\n",
       "      <td>0.795878</td>\n",
       "      <td>0.795878</td>\n",
       "    </tr>\n",
       "    <tr>\n",
       "      <th>macro avg</th>\n",
       "      <td>0.798749</td>\n",
       "      <td>0.796045</td>\n",
       "      <td>0.795448</td>\n",
       "      <td>16304.000000</td>\n",
       "    </tr>\n",
       "    <tr>\n",
       "      <th>weighted avg</th>\n",
       "      <td>0.798852</td>\n",
       "      <td>0.795878</td>\n",
       "      <td>0.795416</td>\n",
       "      <td>16304.000000</td>\n",
       "    </tr>\n",
       "  </tbody>\n",
       "</table>\n",
       "</div>"
      ],
      "text/plain": [
       "              precision    recall  f1-score       support\n",
       "0              0.828905  0.747433  0.786063   8180.000000\n",
       "1              0.768593  0.844658  0.804832   8124.000000\n",
       "accuracy       0.795878  0.795878  0.795878      0.795878\n",
       "macro avg      0.798749  0.796045  0.795448  16304.000000\n",
       "weighted avg   0.798852  0.795878  0.795416  16304.000000"
      ]
     },
     "metadata": {},
     "output_type": "display_data"
    },
    {
     "name": "stdout",
     "output_type": "stream",
     "text": [
      "XGBoost AUC:  0.8751213615608435\n"
     ]
    }
   ],
   "source": [
    "xgb_over = XGBClassifier(random_state=42)\n",
    "\n",
    "xgb_over.fit(X_train_o, y_train_o)\n",
    "\n",
    "# Predict on test data\n",
    "xgb_predictions_over = xgb_over.predict(X_test_o)\n",
    "\n",
    "# Optionally, get prediction probabilities\n",
    "xgb_probs_over = xgb_over.predict_proba(X_test_o)[:,1]\n",
    "\n",
    "# Evaluate predictions\n",
    "display(pd.DataFrame(classification_report(y_test_o, xgb_predictions_over,output_dict=True)).T)\n",
    "print(\"XGBoost AUC: \", roc_auc_score(y_test_o, xgb_probs_over))"
   ]
  },
  {
   "cell_type": "markdown",
   "metadata": {},
   "source": [
    "This is a remarkable improvement to the model!"
   ]
  },
  {
   "cell_type": "markdown",
   "metadata": {},
   "source": [
    "### 4.6.3 Cross Validation<a id='4.6.3_Cross_Validation'></a>"
   ]
  },
  {
   "cell_type": "code",
   "execution_count": 15,
   "metadata": {},
   "outputs": [
    {
     "name": "stdout",
     "output_type": "stream",
     "text": [
      "Fitting 3 folds for each of 512 candidates, totalling 1536 fits\n",
      "Best parameters found:  {'colsample_bytree': 1.0, 'gamma': 0.1, 'learning_rate': 0.1, 'max_depth': 6, 'min_child_weight': 1, 'n_estimators': 200, 'reg_alpha': 0.1, 'reg_lambda': 1, 'subsample': 0.8}\n",
      "Best F1 found:  0.7796344072993517\n"
     ]
    }
   ],
   "source": [
    "param_grid = {\n",
    "    'n_estimators': [100, 200],\n",
    "    'learning_rate': [0.01, 0.1],\n",
    "    'max_depth': [3, 6],\n",
    "    'min_child_weight': [1, 5],\n",
    "    'gamma': [0, 0.1],\n",
    "    'subsample': [0.8, 1.0],\n",
    "    'colsample_bytree': [0.8, 1.0],\n",
    "    'reg_alpha': [0, 0.1],\n",
    "    'reg_lambda': [1, 1.5],\n",
    "}\n",
    "\n",
    "xgb_over_2 = XGBClassifier(random_state=42)\n",
    "\n",
    "xgb_over_2.fit(X_train_o, y_train_o)\n",
    "\n",
    "# Initialize the GridSearchCV object\n",
    "xgb_grid_search = GridSearchCV(estimator=xgb_over_2, \n",
    "                           param_grid=param_grid, \n",
    "                           scoring='f1', \n",
    "                           n_jobs=-1, \n",
    "                           cv=3, \n",
    "                           verbose=1)\n",
    "\n",
    "# Fit the grid search to the data\n",
    "xgb_grid_search.fit(X_train_o, y_train_o)\n",
    "\n",
    "# Print the best parameters found\n",
    "print(\"Best parameters found: \", xgb_grid_search.best_params_)\n",
    "print(\"Best F1 found: \", xgb_grid_search.best_score_)"
   ]
  },
  {
   "cell_type": "markdown",
   "metadata": {},
   "source": [
    "## 4.7 Bernoulli Naive Bayes<a id='4.7_Bernoulli_Naive_Bayes'></a>"
   ]
  },
  {
   "cell_type": "markdown",
   "metadata": {},
   "source": [
    "### 4.7.1 Initial Fit<a id='4.7.1_Initial_Fit'></a>"
   ]
  },
  {
   "cell_type": "code",
   "execution_count": 16,
   "metadata": {},
   "outputs": [
    {
     "data": {
      "text/html": [
       "<div>\n",
       "<style scoped>\n",
       "    .dataframe tbody tr th:only-of-type {\n",
       "        vertical-align: middle;\n",
       "    }\n",
       "\n",
       "    .dataframe tbody tr th {\n",
       "        vertical-align: top;\n",
       "    }\n",
       "\n",
       "    .dataframe thead th {\n",
       "        text-align: right;\n",
       "    }\n",
       "</style>\n",
       "<table border=\"1\" class=\"dataframe\">\n",
       "  <thead>\n",
       "    <tr style=\"text-align: right;\">\n",
       "      <th></th>\n",
       "      <th>precision</th>\n",
       "      <th>recall</th>\n",
       "      <th>f1-score</th>\n",
       "      <th>support</th>\n",
       "    </tr>\n",
       "  </thead>\n",
       "  <tbody>\n",
       "    <tr>\n",
       "      <th>0</th>\n",
       "      <td>0.848911</td>\n",
       "      <td>0.999387</td>\n",
       "      <td>0.918024</td>\n",
       "      <td>8152.000000</td>\n",
       "    </tr>\n",
       "    <tr>\n",
       "      <th>1</th>\n",
       "      <td>0.285714</td>\n",
       "      <td>0.001377</td>\n",
       "      <td>0.002742</td>\n",
       "      <td>1452.000000</td>\n",
       "    </tr>\n",
       "    <tr>\n",
       "      <th>accuracy</th>\n",
       "      <td>0.848501</td>\n",
       "      <td>0.848501</td>\n",
       "      <td>0.848501</td>\n",
       "      <td>0.848501</td>\n",
       "    </tr>\n",
       "    <tr>\n",
       "      <th>macro avg</th>\n",
       "      <td>0.567313</td>\n",
       "      <td>0.500382</td>\n",
       "      <td>0.460383</td>\n",
       "      <td>9604.000000</td>\n",
       "    </tr>\n",
       "    <tr>\n",
       "      <th>weighted avg</th>\n",
       "      <td>0.763763</td>\n",
       "      <td>0.848501</td>\n",
       "      <td>0.779645</td>\n",
       "      <td>9604.000000</td>\n",
       "    </tr>\n",
       "  </tbody>\n",
       "</table>\n",
       "</div>"
      ],
      "text/plain": [
       "              precision    recall  f1-score      support\n",
       "0              0.848911  0.999387  0.918024  8152.000000\n",
       "1              0.285714  0.001377  0.002742  1452.000000\n",
       "accuracy       0.848501  0.848501  0.848501     0.848501\n",
       "macro avg      0.567313  0.500382  0.460383  9604.000000\n",
       "weighted avg   0.763763  0.848501  0.779645  9604.000000"
      ]
     },
     "metadata": {},
     "output_type": "display_data"
    },
    {
     "name": "stdout",
     "output_type": "stream",
     "text": [
      "BernoulliNB AUC:  0.6089592592667689\n"
     ]
    }
   ],
   "source": [
    "bnb_model = BernoulliNB()\n",
    "\n",
    "bnb_model.fit(X_train, y_train)\n",
    "\n",
    "# Predict on test data\n",
    "bnb_predictions = bnb_model.predict(X_test)\n",
    "\n",
    "# Optionally, get prediction probabilities\n",
    "bnb_probs = bnb_model.predict_proba(X_test)[:,1]\n",
    "\n",
    "# Evaluate predictions\n",
    "display(pd.DataFrame(classification_report(y_test, bnb_predictions,output_dict=True)).T)\n",
    "print(\"BernoulliNB AUC: \", roc_auc_score(y_test, bnb_probs))"
   ]
  },
  {
   "cell_type": "markdown",
   "metadata": {},
   "source": [
    "### 4.7.2 Oversampling<a id='4.7.2_Oversampling'></a>"
   ]
  },
  {
   "cell_type": "code",
   "execution_count": 17,
   "metadata": {},
   "outputs": [
    {
     "data": {
      "text/html": [
       "<div>\n",
       "<style scoped>\n",
       "    .dataframe tbody tr th:only-of-type {\n",
       "        vertical-align: middle;\n",
       "    }\n",
       "\n",
       "    .dataframe tbody tr th {\n",
       "        vertical-align: top;\n",
       "    }\n",
       "\n",
       "    .dataframe thead th {\n",
       "        text-align: right;\n",
       "    }\n",
       "</style>\n",
       "<table border=\"1\" class=\"dataframe\">\n",
       "  <thead>\n",
       "    <tr style=\"text-align: right;\">\n",
       "      <th></th>\n",
       "      <th>precision</th>\n",
       "      <th>recall</th>\n",
       "      <th>f1-score</th>\n",
       "      <th>support</th>\n",
       "    </tr>\n",
       "  </thead>\n",
       "  <tbody>\n",
       "    <tr>\n",
       "      <th>0</th>\n",
       "      <td>0.575062</td>\n",
       "      <td>0.597066</td>\n",
       "      <td>0.585857</td>\n",
       "      <td>8180.000000</td>\n",
       "    </tr>\n",
       "    <tr>\n",
       "      <th>1</th>\n",
       "      <td>0.578031</td>\n",
       "      <td>0.555761</td>\n",
       "      <td>0.566677</td>\n",
       "      <td>8124.000000</td>\n",
       "    </tr>\n",
       "    <tr>\n",
       "      <th>accuracy</th>\n",
       "      <td>0.576484</td>\n",
       "      <td>0.576484</td>\n",
       "      <td>0.576484</td>\n",
       "      <td>0.576484</td>\n",
       "    </tr>\n",
       "    <tr>\n",
       "      <th>macro avg</th>\n",
       "      <td>0.576546</td>\n",
       "      <td>0.576413</td>\n",
       "      <td>0.576267</td>\n",
       "      <td>16304.000000</td>\n",
       "    </tr>\n",
       "    <tr>\n",
       "      <th>weighted avg</th>\n",
       "      <td>0.576541</td>\n",
       "      <td>0.576484</td>\n",
       "      <td>0.576300</td>\n",
       "      <td>16304.000000</td>\n",
       "    </tr>\n",
       "  </tbody>\n",
       "</table>\n",
       "</div>"
      ],
      "text/plain": [
       "              precision    recall  f1-score       support\n",
       "0              0.575062  0.597066  0.585857   8180.000000\n",
       "1              0.578031  0.555761  0.566677   8124.000000\n",
       "accuracy       0.576484  0.576484  0.576484      0.576484\n",
       "macro avg      0.576546  0.576413  0.576267  16304.000000\n",
       "weighted avg   0.576541  0.576484  0.576300  16304.000000"
      ]
     },
     "metadata": {},
     "output_type": "display_data"
    },
    {
     "name": "stdout",
     "output_type": "stream",
     "text": [
      "BernoulliNB AUC:  0.6114555457041769\n"
     ]
    }
   ],
   "source": [
    "bnb_model_over = BernoulliNB()\n",
    "\n",
    "bnb_model_over.fit(X_train_o, y_train_o)\n",
    "\n",
    "# Predict on test data\n",
    "bnb_predictions_over = bnb_model_over.predict(X_test_o)\n",
    "\n",
    "# Optionally, get prediction probabilities\n",
    "bnb_probs_over = bnb_model_over.predict_proba(X_test_o)[:,1]\n",
    "\n",
    "# Evaluate predictions\n",
    "display(pd.DataFrame(classification_report(y_test_o, bnb_predictions_over,output_dict=True)).T)\n",
    "print(\"BernoulliNB AUC: \", roc_auc_score(y_test_o, bnb_probs_over))"
   ]
  },
  {
   "cell_type": "markdown",
   "metadata": {},
   "source": [
    "### 4.7.3 Cross Validation<a id='4.7.3_Cross_Validation'></a>"
   ]
  },
  {
   "cell_type": "code",
   "execution_count": 18,
   "metadata": {
    "scrolled": true
   },
   "outputs": [
    {
     "name": "stdout",
     "output_type": "stream",
     "text": [
      "Fitting 3 folds for each of 16 candidates, totalling 48 fits\n",
      "Best parameters found:  {'alpha': 1.0, 'binarize': 0.5}\n",
      "Best F1 found:  0.5652814260222789\n"
     ]
    }
   ],
   "source": [
    "param_grid = {\n",
    "    'alpha': [0.01, 0.1, 0.5, 1.0],\n",
    "    'binarize': [0.0, 0.1, 0.2, 0.5]\n",
    "}\n",
    "\n",
    "bnb_over_2 = BernoulliNB()\n",
    "\n",
    "bnb_over_2.fit(X_train_o, y_train_o)\n",
    "\n",
    "# Initialize the GridSearchCV object\n",
    "bnb_grid_search = GridSearchCV(estimator=bnb_over_2, \n",
    "                           param_grid=param_grid, \n",
    "                           scoring='f1', \n",
    "                           n_jobs=-1, \n",
    "                           cv=3, \n",
    "                           verbose=1)\n",
    "\n",
    "# Fit the grid search to the data\n",
    "bnb_grid_search.fit(X_train_o, y_train_o)\n",
    "\n",
    "# Print the best parameters found\n",
    "print(\"Best parameters found: \", bnb_grid_search.best_params_)\n",
    "print(\"Best F1 found: \", bnb_grid_search.best_score_)"
   ]
  },
  {
   "cell_type": "markdown",
   "metadata": {},
   "source": [
    "## 4.8 Linear Discriminant Analysis<a id='4.8_Linear_Discriminant_Analysis'></a>"
   ]
  },
  {
   "cell_type": "markdown",
   "metadata": {},
   "source": [
    "### 4.8.1 Initial Fit<a id='4.8.1_Initial_Fit'></a>"
   ]
  },
  {
   "cell_type": "code",
   "execution_count": 19,
   "metadata": {
    "scrolled": false
   },
   "outputs": [
    {
     "data": {
      "text/html": [
       "<div>\n",
       "<style scoped>\n",
       "    .dataframe tbody tr th:only-of-type {\n",
       "        vertical-align: middle;\n",
       "    }\n",
       "\n",
       "    .dataframe tbody tr th {\n",
       "        vertical-align: top;\n",
       "    }\n",
       "\n",
       "    .dataframe thead th {\n",
       "        text-align: right;\n",
       "    }\n",
       "</style>\n",
       "<table border=\"1\" class=\"dataframe\">\n",
       "  <thead>\n",
       "    <tr style=\"text-align: right;\">\n",
       "      <th></th>\n",
       "      <th>precision</th>\n",
       "      <th>recall</th>\n",
       "      <th>f1-score</th>\n",
       "      <th>support</th>\n",
       "    </tr>\n",
       "  </thead>\n",
       "  <tbody>\n",
       "    <tr>\n",
       "      <th>0</th>\n",
       "      <td>0.852254</td>\n",
       "      <td>0.992763</td>\n",
       "      <td>0.917158</td>\n",
       "      <td>8152.000000</td>\n",
       "    </tr>\n",
       "    <tr>\n",
       "      <th>1</th>\n",
       "      <td>0.453704</td>\n",
       "      <td>0.033747</td>\n",
       "      <td>0.062821</td>\n",
       "      <td>1452.000000</td>\n",
       "    </tr>\n",
       "    <tr>\n",
       "      <th>accuracy</th>\n",
       "      <td>0.847772</td>\n",
       "      <td>0.847772</td>\n",
       "      <td>0.847772</td>\n",
       "      <td>0.847772</td>\n",
       "    </tr>\n",
       "    <tr>\n",
       "      <th>macro avg</th>\n",
       "      <td>0.652979</td>\n",
       "      <td>0.513255</td>\n",
       "      <td>0.489989</td>\n",
       "      <td>9604.000000</td>\n",
       "    </tr>\n",
       "    <tr>\n",
       "      <th>weighted avg</th>\n",
       "      <td>0.791998</td>\n",
       "      <td>0.847772</td>\n",
       "      <td>0.787993</td>\n",
       "      <td>9604.000000</td>\n",
       "    </tr>\n",
       "  </tbody>\n",
       "</table>\n",
       "</div>"
      ],
      "text/plain": [
       "              precision    recall  f1-score      support\n",
       "0              0.852254  0.992763  0.917158  8152.000000\n",
       "1              0.453704  0.033747  0.062821  1452.000000\n",
       "accuracy       0.847772  0.847772  0.847772     0.847772\n",
       "macro avg      0.652979  0.513255  0.489989  9604.000000\n",
       "weighted avg   0.791998  0.847772  0.787993  9604.000000"
      ]
     },
     "metadata": {},
     "output_type": "display_data"
    },
    {
     "name": "stdout",
     "output_type": "stream",
     "text": [
      "LinearDiscriminantAnalysis AUC:  0.7136600695599046\n"
     ]
    }
   ],
   "source": [
    "lda_model = LinearDiscriminantAnalysis()\n",
    "\n",
    "lda_model.fit(X_train, y_train)\n",
    "\n",
    "# Predict on test data\n",
    "lda_predictions = lda_model.predict(X_test)\n",
    "\n",
    "# Optionally, get prediction probabilities\n",
    "lda_probs = lda_model.predict_proba(X_test)[:,1]\n",
    "\n",
    "# Evaluate predictions\n",
    "display(pd.DataFrame(classification_report(y_test, lda_predictions,output_dict=True)).T)\n",
    "print(\"LinearDiscriminantAnalysis AUC: \", roc_auc_score(y_test, lda_probs))"
   ]
  },
  {
   "cell_type": "markdown",
   "metadata": {},
   "source": [
    "### 4.8.2 Oversampling<a id='4.8.2_Oversampling'></a>"
   ]
  },
  {
   "cell_type": "code",
   "execution_count": 20,
   "metadata": {},
   "outputs": [
    {
     "data": {
      "text/html": [
       "<div>\n",
       "<style scoped>\n",
       "    .dataframe tbody tr th:only-of-type {\n",
       "        vertical-align: middle;\n",
       "    }\n",
       "\n",
       "    .dataframe tbody tr th {\n",
       "        vertical-align: top;\n",
       "    }\n",
       "\n",
       "    .dataframe thead th {\n",
       "        text-align: right;\n",
       "    }\n",
       "</style>\n",
       "<table border=\"1\" class=\"dataframe\">\n",
       "  <thead>\n",
       "    <tr style=\"text-align: right;\">\n",
       "      <th></th>\n",
       "      <th>precision</th>\n",
       "      <th>recall</th>\n",
       "      <th>f1-score</th>\n",
       "      <th>support</th>\n",
       "    </tr>\n",
       "  </thead>\n",
       "  <tbody>\n",
       "    <tr>\n",
       "      <th>0</th>\n",
       "      <td>0.647655</td>\n",
       "      <td>0.656601</td>\n",
       "      <td>0.652097</td>\n",
       "      <td>8180.000000</td>\n",
       "    </tr>\n",
       "    <tr>\n",
       "      <th>1</th>\n",
       "      <td>0.649357</td>\n",
       "      <td>0.640325</td>\n",
       "      <td>0.644809</td>\n",
       "      <td>8124.000000</td>\n",
       "    </tr>\n",
       "    <tr>\n",
       "      <th>accuracy</th>\n",
       "      <td>0.648491</td>\n",
       "      <td>0.648491</td>\n",
       "      <td>0.648491</td>\n",
       "      <td>0.648491</td>\n",
       "    </tr>\n",
       "    <tr>\n",
       "      <th>macro avg</th>\n",
       "      <td>0.648506</td>\n",
       "      <td>0.648463</td>\n",
       "      <td>0.648453</td>\n",
       "      <td>16304.000000</td>\n",
       "    </tr>\n",
       "    <tr>\n",
       "      <th>weighted avg</th>\n",
       "      <td>0.648503</td>\n",
       "      <td>0.648491</td>\n",
       "      <td>0.648466</td>\n",
       "      <td>16304.000000</td>\n",
       "    </tr>\n",
       "  </tbody>\n",
       "</table>\n",
       "</div>"
      ],
      "text/plain": [
       "              precision    recall  f1-score       support\n",
       "0              0.647655  0.656601  0.652097   8180.000000\n",
       "1              0.649357  0.640325  0.644809   8124.000000\n",
       "accuracy       0.648491  0.648491  0.648491      0.648491\n",
       "macro avg      0.648506  0.648463  0.648453  16304.000000\n",
       "weighted avg   0.648503  0.648491  0.648466  16304.000000"
      ]
     },
     "metadata": {},
     "output_type": "display_data"
    },
    {
     "name": "stdout",
     "output_type": "stream",
     "text": [
      "LinearDiscriminantAnalysis AUC:  0.7044071927904763\n"
     ]
    }
   ],
   "source": [
    "lda_over = LinearDiscriminantAnalysis()\n",
    "\n",
    "lda_over.fit(X_train_o, y_train_o)\n",
    "\n",
    "# Predict on test data\n",
    "lda_predictions_over = lda_over.predict(X_test_o)\n",
    "\n",
    "# Optionally, get prediction probabilities\n",
    "lda_probs_over = lda_over.predict_proba(X_test_o)[:,1]\n",
    "\n",
    "# Evaluate predictions\n",
    "display(pd.DataFrame(classification_report(y_test_o, lda_predictions_over,output_dict=True)).T)\n",
    "print(\"LinearDiscriminantAnalysis AUC: \", roc_auc_score(y_test_o, lda_probs_over))"
   ]
  },
  {
   "cell_type": "markdown",
   "metadata": {},
   "source": [
    "### 4.8.3 Cross Validation<a id='4.8.3_Cross_Validation'></a>"
   ]
  },
  {
   "cell_type": "code",
   "execution_count": 21,
   "metadata": {},
   "outputs": [
    {
     "name": "stdout",
     "output_type": "stream",
     "text": [
      "Fitting 3 folds for each of 45 candidates, totalling 135 fits\n",
      "Best parameters found:  {'shrinkage': None, 'solver': 'lsqr', 'tol': 0.0001}\n",
      "Best F1 found:  0.6463892121558846\n"
     ]
    }
   ],
   "source": [
    "param_grid = {\n",
    "    'solver': ['svd', 'lsqr', 'eigen'],\n",
    "    'shrinkage': [None, 'auto', 0.0, 0.5, 1.0],\n",
    "    'tol': [0.0001, 0.0002, 0.0005]\n",
    "}\n",
    "\n",
    "lda_over_2 = LinearDiscriminantAnalysis()\n",
    "\n",
    "lda_over_2.fit(X_train_o, y_train_o)\n",
    "\n",
    "# Initialize the GridSearchCV object\n",
    "lda_grid_search = GridSearchCV(estimator=lda_over_2, \n",
    "                           param_grid=param_grid, \n",
    "                           scoring='f1', \n",
    "                           n_jobs=-1, \n",
    "                           cv=3, \n",
    "                           verbose=1)\n",
    "\n",
    "# Fit the grid search to the data\n",
    "lda_grid_search.fit(X_train_o, y_train_o)\n",
    "\n",
    "# Print the best parameters found\n",
    "print(\"Best parameters found: \", lda_grid_search.best_params_)\n",
    "print(\"Best F1 found: \", lda_grid_search.best_score_)"
   ]
  },
  {
   "cell_type": "code",
   "execution_count": 22,
   "metadata": {
    "scrolled": true
   },
   "outputs": [
    {
     "data": {
      "text/html": [
       "<div>\n",
       "<style scoped>\n",
       "    .dataframe tbody tr th:only-of-type {\n",
       "        vertical-align: middle;\n",
       "    }\n",
       "\n",
       "    .dataframe tbody tr th {\n",
       "        vertical-align: top;\n",
       "    }\n",
       "\n",
       "    .dataframe thead th {\n",
       "        text-align: right;\n",
       "    }\n",
       "</style>\n",
       "<table border=\"1\" class=\"dataframe\">\n",
       "  <thead>\n",
       "    <tr style=\"text-align: right;\">\n",
       "      <th></th>\n",
       "      <th>precision</th>\n",
       "      <th>recall</th>\n",
       "      <th>f1-score</th>\n",
       "      <th>support</th>\n",
       "    </tr>\n",
       "  </thead>\n",
       "  <tbody>\n",
       "    <tr>\n",
       "      <th>0</th>\n",
       "      <td>0.647045</td>\n",
       "      <td>0.657090</td>\n",
       "      <td>0.652029</td>\n",
       "      <td>8180.000000</td>\n",
       "    </tr>\n",
       "    <tr>\n",
       "      <th>1</th>\n",
       "      <td>0.649243</td>\n",
       "      <td>0.639094</td>\n",
       "      <td>0.644129</td>\n",
       "      <td>8124.000000</td>\n",
       "    </tr>\n",
       "    <tr>\n",
       "      <th>accuracy</th>\n",
       "      <td>0.648123</td>\n",
       "      <td>0.648123</td>\n",
       "      <td>0.648123</td>\n",
       "      <td>0.648123</td>\n",
       "    </tr>\n",
       "    <tr>\n",
       "      <th>macro avg</th>\n",
       "      <td>0.648144</td>\n",
       "      <td>0.648092</td>\n",
       "      <td>0.648079</td>\n",
       "      <td>16304.000000</td>\n",
       "    </tr>\n",
       "    <tr>\n",
       "      <th>weighted avg</th>\n",
       "      <td>0.648140</td>\n",
       "      <td>0.648123</td>\n",
       "      <td>0.648092</td>\n",
       "      <td>16304.000000</td>\n",
       "    </tr>\n",
       "  </tbody>\n",
       "</table>\n",
       "</div>"
      ],
      "text/plain": [
       "              precision    recall  f1-score       support\n",
       "0              0.647045  0.657090  0.652029   8180.000000\n",
       "1              0.649243  0.639094  0.644129   8124.000000\n",
       "accuracy       0.648123  0.648123  0.648123      0.648123\n",
       "macro avg      0.648144  0.648092  0.648079  16304.000000\n",
       "weighted avg   0.648140  0.648123  0.648092  16304.000000"
      ]
     },
     "metadata": {},
     "output_type": "display_data"
    },
    {
     "name": "stdout",
     "output_type": "stream",
     "text": [
      "LinearDiscriminantAnalysis AUC:  0.7044032953764331\n"
     ]
    }
   ],
   "source": [
    "lda_best_model = lda_grid_search.best_estimator_\n",
    "lda_predictions_cv = lda_best_model.predict(X_test_o)\n",
    "lda_probs_cv = lda_best_model.predict_proba(X_test_o)[:,1]\n",
    "\n",
    "display(pd.DataFrame(classification_report(y_test_o, lda_predictions_cv,output_dict=True)).T)\n",
    "print(\"LinearDiscriminantAnalysis AUC: \", roc_auc_score(y_test_o, lda_probs_cv))"
   ]
  },
  {
   "cell_type": "markdown",
   "metadata": {},
   "source": [
    "## 4.9 Optimizing XGBoost<a id='4.9_Optimizing_XGBoost'></a>"
   ]
  },
  {
   "cell_type": "code",
   "execution_count": 23,
   "metadata": {},
   "outputs": [],
   "source": [
    "potential_grid = {\n",
    "    'n_estimators': [50, 100, 200, 300, 400],\n",
    "    'learning_rate': [0.01, 0.05, 0.1, 0.2, 0.3],\n",
    "    'max_depth': [3, 4, 5, 6, 7, 8],\n",
    "    'min_child_weight': [1, 2, 3, 4, 5],\n",
    "    'gamma': [0, 0.05, 0.1, 0.2, 0.3],\n",
    "    'subsample': [0.6, 0.7, 0.8, 0.9, 1.0],\n",
    "    'colsample_bytree': [0.6, 0.7, 0.8, 0.9, 1.0],\n",
    "    'reg_alpha': [0, 0.05, 0.1, 0.2, 0.3],\n",
    "    'reg_lambda': [0.8, 1.0, 1.2, 1.5, 1.7],\n",
    "    }\n",
    "\n",
    "param_dict = {}\n",
    "\n",
    "for param, values in potential_grid.items():\n",
    "    \n",
    "    optimal_params = {'colsample_bytree': 1.0, 'gamma': 0, 'learning_rate': 0.1, 'max_depth': 6, 'min_child_weight': 1, \n",
    "                  'n_estimators': 200, 'reg_alpha': 0.1, 'reg_lambda': 1, 'subsample': 0.8}\n",
    "    \n",
    "    if param not in param_dict:\n",
    "        param_dict[param] = {}\n",
    "    \n",
    "    for value in values:\n",
    "        \n",
    "        optimal_params[param] = value\n",
    "\n",
    "        xgb_temp = XGBClassifier(**optimal_params, random_state=42)\n",
    "\n",
    "        xgb_temp.fit(X_train_o, y_train_o)\n",
    "\n",
    "        xgb_pred_over = xgb_temp.predict(X_test_o)\n",
    "\n",
    "        \n",
    "        param_dict[param][value] = f1_score(y_test_o, xgb_pred_over)"
   ]
  },
  {
   "cell_type": "code",
   "execution_count": 24,
   "metadata": {},
   "outputs": [
    {
     "data": {
      "image/png": "[encoded data removed]",
      "text/plain": [
       "<Figure size 1200x1200 with 9 Axes>"
      ]
     },
     "metadata": {},
     "output_type": "display_data"
    }
   ],
   "source": [
    "data = []\n",
    "\n",
    "for param, values in param_dict.items():\n",
    "    for value, score in values.items():\n",
    "        data.append({'Parameter': param, 'Value': value, 'F1 Score': score})\n",
    "        \n",
    "df = pd.DataFrame(data)\n",
    "\n",
    "g = sns.FacetGrid(df, col=\"Parameter\", col_wrap=3, height=4, sharey=True, sharex=False)\n",
    "g.map(plt.plot, \"Value\", \"F1 Score\", marker=\"o\")\n",
    "\n",
    "# Adding labels and titles\n",
    "g.set_axis_labels(\"\", \"F1 Score\")\n",
    "g.set_titles(\"{col_name}\")\n",
    "\n",
    "# Adjust layout to prevent overlap\n",
    "plt.tight_layout()\n",
    "\n",
    "# Show the plots\n",
    "plt.show()"
   ]
  },
  {
   "cell_type": "markdown",
   "metadata": {},
   "source": [
    "Significant hyperparameters:\n",
    " - learning_rate\n",
    " - max_depth\n",
    " - n_estimators\n",
    " \n",
    "Redundant hyperparameters:\n",
    " - gamma\n",
    " - colsample_bytree\n",
    " - min_child_weight\n",
    " - subsample\n",
    " - reg_lambda\n",
    " - reg_alpha"
   ]
  },
  {
   "cell_type": "code",
   "execution_count": 25,
   "metadata": {},
   "outputs": [
    {
     "name": "stdout",
     "output_type": "stream",
     "text": [
      "Fitting 3 folds for each of 150 candidates, totalling 450 fits\n",
      "Best parameters found:  {'learning_rate': 0.3, 'max_depth': 8, 'n_estimators': 400}\n",
      "Best F1 found:  0.9146917307835946\n"
     ]
    }
   ],
   "source": [
    "new_param_grid = {\n",
    "    'n_estimators': [50, 100, 200, 300, 400],\n",
    "    'learning_rate': [0.01, 0.05, 0.1, 0.2, 0.3],\n",
    "    'max_depth': [3, 4, 5, 6, 7, 8],\n",
    "}\n",
    "\n",
    "optimal_params = {'colsample_bytree': 1.0, 'gamma': 0.1, 'min_child_weight': 1, 'reg_alpha': 0.1,\n",
    "                  'reg_lambda': 1, 'subsample': 0.8}\n",
    "\n",
    "xgb_over_3 = XGBClassifier(**optimal_params, random_state=42)\n",
    "\n",
    "xgb_over_3.fit(X_train_o, y_train_o)\n",
    "\n",
    "# Initialize the GridSearchCV object\n",
    "xgb_grid_search_2 = GridSearchCV(estimator=xgb_over_3, \n",
    "                           param_grid=new_param_grid, \n",
    "                           scoring='f1', \n",
    "                           n_jobs=-1, \n",
    "                           cv=3, \n",
    "                           verbose=1)\n",
    "\n",
    "# Fit the grid search to the data\n",
    "xgb_grid_search_2.fit(X_train_o, y_train_o)\n",
    "\n",
    "# Print the best parameters found\n",
    "print(\"Best parameters found: \", xgb_grid_search_2.best_params_)\n",
    "print(\"Best F1 found: \", xgb_grid_search_2.best_score_)"
   ]
  },
  {
   "cell_type": "code",
   "execution_count": 26,
   "metadata": {},
   "outputs": [
    {
     "data": {
      "text/html": [
       "<div>\n",
       "<style scoped>\n",
       "    .dataframe tbody tr th:only-of-type {\n",
       "        vertical-align: middle;\n",
       "    }\n",
       "\n",
       "    .dataframe tbody tr th {\n",
       "        vertical-align: top;\n",
       "    }\n",
       "\n",
       "    .dataframe thead th {\n",
       "        text-align: right;\n",
       "    }\n",
       "</style>\n",
       "<table border=\"1\" class=\"dataframe\">\n",
       "  <thead>\n",
       "    <tr style=\"text-align: right;\">\n",
       "      <th></th>\n",
       "      <th>precision</th>\n",
       "      <th>recall</th>\n",
       "      <th>f1-score</th>\n",
       "      <th>support</th>\n",
       "    </tr>\n",
       "  </thead>\n",
       "  <tbody>\n",
       "    <tr>\n",
       "      <th>0</th>\n",
       "      <td>0.997994</td>\n",
       "      <td>0.976447</td>\n",
       "      <td>0.987103</td>\n",
       "      <td>8152.000000</td>\n",
       "    </tr>\n",
       "    <tr>\n",
       "      <th>1</th>\n",
       "      <td>0.882064</td>\n",
       "      <td>0.988981</td>\n",
       "      <td>0.932468</td>\n",
       "      <td>1452.000000</td>\n",
       "    </tr>\n",
       "    <tr>\n",
       "      <th>accuracy</th>\n",
       "      <td>0.978342</td>\n",
       "      <td>0.978342</td>\n",
       "      <td>0.978342</td>\n",
       "      <td>0.978342</td>\n",
       "    </tr>\n",
       "    <tr>\n",
       "      <th>macro avg</th>\n",
       "      <td>0.940029</td>\n",
       "      <td>0.982714</td>\n",
       "      <td>0.959785</td>\n",
       "      <td>9604.000000</td>\n",
       "    </tr>\n",
       "    <tr>\n",
       "      <th>weighted avg</th>\n",
       "      <td>0.980467</td>\n",
       "      <td>0.978342</td>\n",
       "      <td>0.978843</td>\n",
       "      <td>9604.000000</td>\n",
       "    </tr>\n",
       "  </tbody>\n",
       "</table>\n",
       "</div>"
      ],
      "text/plain": [
       "              precision    recall  f1-score      support\n",
       "0              0.997994  0.976447  0.987103  8152.000000\n",
       "1              0.882064  0.988981  0.932468  1452.000000\n",
       "accuracy       0.978342  0.978342  0.978342     0.978342\n",
       "macro avg      0.940029  0.982714  0.959785  9604.000000\n",
       "weighted avg   0.980467  0.978342  0.978843  9604.000000"
      ]
     },
     "metadata": {},
     "output_type": "display_data"
    },
    {
     "name": "stdout",
     "output_type": "stream",
     "text": [
      "XGBoost AUC:  0.9970399699105428\n"
     ]
    }
   ],
   "source": [
    "y_pred_2 = xgb_grid_search_2.predict(X_test)\n",
    "y_probs_2 = xgb_grid_search_2.predict_proba(X_test)[:,1]\n",
    "\n",
    "display(pd.DataFrame(classification_report(y_test, y_pred_2,output_dict=True)).T)\n",
    "print(\"XGBoost AUC: \", roc_auc_score(y_test, y_probs_2))"
   ]
  },
  {
   "cell_type": "markdown",
   "metadata": {},
   "source": [
    "## 4.10 Test On Unseen Data"
   ]
  },
  {
   "cell_type": "markdown",
   "metadata": {},
   "source": [
    "### 4.10.1 Load Data"
   ]
  },
  {
   "cell_type": "code",
   "execution_count": 27,
   "metadata": {},
   "outputs": [],
   "source": [
    "loan_test_data = pd.read_csv('../data/raw/loan_default_test_data.csv')"
   ]
  },
  {
   "cell_type": "code",
   "execution_count": 28,
   "metadata": {},
   "outputs": [
    {
     "data": {
      "text/html": [
       "<div>\n",
       "<style scoped>\n",
       "    .dataframe tbody tr th:only-of-type {\n",
       "        vertical-align: middle;\n",
       "    }\n",
       "\n",
       "    .dataframe tbody tr th {\n",
       "        vertical-align: top;\n",
       "    }\n",
       "\n",
       "    .dataframe thead th {\n",
       "        text-align: right;\n",
       "    }\n",
       "</style>\n",
       "<table border=\"1\" class=\"dataframe\">\n",
       "  <thead>\n",
       "    <tr style=\"text-align: right;\">\n",
       "      <th></th>\n",
       "      <th>LoanID</th>\n",
       "      <th>Age</th>\n",
       "      <th>Income</th>\n",
       "      <th>LoanAmount</th>\n",
       "      <th>CreditScore</th>\n",
       "      <th>MonthsEmployed</th>\n",
       "      <th>NumCreditLines</th>\n",
       "      <th>InterestRate</th>\n",
       "      <th>LoanTerm</th>\n",
       "      <th>DTIRatio</th>\n",
       "      <th>Education</th>\n",
       "      <th>EmploymentType</th>\n",
       "      <th>MaritalStatus</th>\n",
       "      <th>HasMortgage</th>\n",
       "      <th>HasDependents</th>\n",
       "      <th>LoanPurpose</th>\n",
       "      <th>HasCoSigner</th>\n",
       "      <th>Default</th>\n",
       "    </tr>\n",
       "  </thead>\n",
       "  <tbody>\n",
       "    <tr>\n",
       "      <th>0</th>\n",
       "      <td>I38PQUQS96</td>\n",
       "      <td>56</td>\n",
       "      <td>85994</td>\n",
       "      <td>50587</td>\n",
       "      <td>520</td>\n",
       "      <td>80</td>\n",
       "      <td>4</td>\n",
       "      <td>15.23</td>\n",
       "      <td>36</td>\n",
       "      <td>0.44</td>\n",
       "      <td>Bachelor's</td>\n",
       "      <td>Full-time</td>\n",
       "      <td>Divorced</td>\n",
       "      <td>Yes</td>\n",
       "      <td>Yes</td>\n",
       "      <td>Other</td>\n",
       "      <td>Yes</td>\n",
       "      <td>0</td>\n",
       "    </tr>\n",
       "    <tr>\n",
       "      <th>1</th>\n",
       "      <td>HPSK72WA7R</td>\n",
       "      <td>69</td>\n",
       "      <td>50432</td>\n",
       "      <td>124440</td>\n",
       "      <td>458</td>\n",
       "      <td>15</td>\n",
       "      <td>1</td>\n",
       "      <td>4.81</td>\n",
       "      <td>60</td>\n",
       "      <td>0.68</td>\n",
       "      <td>Master's</td>\n",
       "      <td>Full-time</td>\n",
       "      <td>Married</td>\n",
       "      <td>No</td>\n",
       "      <td>No</td>\n",
       "      <td>Other</td>\n",
       "      <td>Yes</td>\n",
       "      <td>0</td>\n",
       "    </tr>\n",
       "    <tr>\n",
       "      <th>2</th>\n",
       "      <td>C1OZ6DPJ8Y</td>\n",
       "      <td>46</td>\n",
       "      <td>84208</td>\n",
       "      <td>129188</td>\n",
       "      <td>451</td>\n",
       "      <td>26</td>\n",
       "      <td>3</td>\n",
       "      <td>21.17</td>\n",
       "      <td>24</td>\n",
       "      <td>0.31</td>\n",
       "      <td>Master's</td>\n",
       "      <td>Unemployed</td>\n",
       "      <td>Divorced</td>\n",
       "      <td>Yes</td>\n",
       "      <td>Yes</td>\n",
       "      <td>Auto</td>\n",
       "      <td>No</td>\n",
       "      <td>1</td>\n",
       "    </tr>\n",
       "    <tr>\n",
       "      <th>3</th>\n",
       "      <td>V2KKSFM3UN</td>\n",
       "      <td>32</td>\n",
       "      <td>31713</td>\n",
       "      <td>44799</td>\n",
       "      <td>743</td>\n",
       "      <td>0</td>\n",
       "      <td>3</td>\n",
       "      <td>7.07</td>\n",
       "      <td>24</td>\n",
       "      <td>0.23</td>\n",
       "      <td>High School</td>\n",
       "      <td>Full-time</td>\n",
       "      <td>Married</td>\n",
       "      <td>No</td>\n",
       "      <td>No</td>\n",
       "      <td>Business</td>\n",
       "      <td>No</td>\n",
       "      <td>0</td>\n",
       "    </tr>\n",
       "    <tr>\n",
       "      <th>4</th>\n",
       "      <td>EY08JDHTZP</td>\n",
       "      <td>60</td>\n",
       "      <td>20437</td>\n",
       "      <td>9139</td>\n",
       "      <td>633</td>\n",
       "      <td>8</td>\n",
       "      <td>4</td>\n",
       "      <td>6.51</td>\n",
       "      <td>48</td>\n",
       "      <td>0.73</td>\n",
       "      <td>Bachelor's</td>\n",
       "      <td>Unemployed</td>\n",
       "      <td>Divorced</td>\n",
       "      <td>No</td>\n",
       "      <td>Yes</td>\n",
       "      <td>Auto</td>\n",
       "      <td>No</td>\n",
       "      <td>0</td>\n",
       "    </tr>\n",
       "  </tbody>\n",
       "</table>\n",
       "</div>"
      ],
      "text/plain": [
       "       LoanID  Age  Income  LoanAmount  CreditScore  MonthsEmployed  \\\n",
       "0  I38PQUQS96   56   85994       50587          520              80   \n",
       "1  HPSK72WA7R   69   50432      124440          458              15   \n",
       "2  C1OZ6DPJ8Y   46   84208      129188          451              26   \n",
       "3  V2KKSFM3UN   32   31713       44799          743               0   \n",
       "4  EY08JDHTZP   60   20437        9139          633               8   \n",
       "\n",
       "   NumCreditLines  InterestRate  LoanTerm  DTIRatio    Education  \\\n",
       "0               4         15.23        36      0.44   Bachelor's   \n",
       "1               1          4.81        60      0.68     Master's   \n",
       "2               3         21.17        24      0.31     Master's   \n",
       "3               3          7.07        24      0.23  High School   \n",
       "4               4          6.51        48      0.73   Bachelor's   \n",
       "\n",
       "  EmploymentType MaritalStatus HasMortgage HasDependents LoanPurpose  \\\n",
       "0      Full-time      Divorced         Yes           Yes       Other   \n",
       "1      Full-time       Married          No            No       Other   \n",
       "2     Unemployed      Divorced         Yes           Yes        Auto   \n",
       "3      Full-time       Married          No            No    Business   \n",
       "4     Unemployed      Divorced          No           Yes        Auto   \n",
       "\n",
       "  HasCoSigner  Default  \n",
       "0         Yes        0  \n",
       "1         Yes        0  \n",
       "2          No        1  \n",
       "3          No        0  \n",
       "4          No        0  "
      ]
     },
     "execution_count": 28,
     "metadata": {},
     "output_type": "execute_result"
    }
   ],
   "source": [
    "loan_test_data.head()"
   ]
  },
  {
   "cell_type": "code",
   "execution_count": 29,
   "metadata": {},
   "outputs": [
    {
     "name": "stdout",
     "output_type": "stream",
     "text": [
      "<class 'pandas.core.frame.DataFrame'>\n",
      "RangeIndex: 255347 entries, 0 to 255346\n",
      "Data columns (total 18 columns):\n",
      " #   Column          Non-Null Count   Dtype  \n",
      "---  ------          --------------   -----  \n",
      " 0   LoanID          255347 non-null  object \n",
      " 1   Age             255347 non-null  int64  \n",
      " 2   Income          255347 non-null  int64  \n",
      " 3   LoanAmount      255347 non-null  int64  \n",
      " 4   CreditScore     255347 non-null  int64  \n",
      " 5   MonthsEmployed  255347 non-null  int64  \n",
      " 6   NumCreditLines  255347 non-null  int64  \n",
      " 7   InterestRate    255347 non-null  float64\n",
      " 8   LoanTerm        255347 non-null  int64  \n",
      " 9   DTIRatio        255347 non-null  float64\n",
      " 10  Education       255347 non-null  object \n",
      " 11  EmploymentType  255347 non-null  object \n",
      " 12  MaritalStatus   255347 non-null  object \n",
      " 13  HasMortgage     255347 non-null  object \n",
      " 14  HasDependents   255347 non-null  object \n",
      " 15  LoanPurpose     255347 non-null  object \n",
      " 16  HasCoSigner     255347 non-null  object \n",
      " 17  Default         255347 non-null  int64  \n",
      "dtypes: float64(2), int64(8), object(8)\n",
      "memory usage: 35.1+ MB\n"
     ]
    }
   ],
   "source": [
    "loan_test_data.info()"
   ]
  },
  {
   "cell_type": "markdown",
   "metadata": {},
   "source": [
    "### 4.10.2 Data Wrangling"
   ]
  },
  {
   "cell_type": "code",
   "execution_count": 30,
   "metadata": {},
   "outputs": [
    {
     "data": {
      "text/html": [
       "<div>\n",
       "<style scoped>\n",
       "    .dataframe tbody tr th:only-of-type {\n",
       "        vertical-align: middle;\n",
       "    }\n",
       "\n",
       "    .dataframe tbody tr th {\n",
       "        vertical-align: top;\n",
       "    }\n",
       "\n",
       "    .dataframe thead th {\n",
       "        text-align: right;\n",
       "    }\n",
       "</style>\n",
       "<table border=\"1\" class=\"dataframe\">\n",
       "  <thead>\n",
       "    <tr style=\"text-align: right;\">\n",
       "      <th></th>\n",
       "      <th>count</th>\n",
       "      <th>%</th>\n",
       "    </tr>\n",
       "  </thead>\n",
       "  <tbody>\n",
       "    <tr>\n",
       "      <th>LoanID</th>\n",
       "      <td>0</td>\n",
       "      <td>0.0</td>\n",
       "    </tr>\n",
       "    <tr>\n",
       "      <th>Age</th>\n",
       "      <td>0</td>\n",
       "      <td>0.0</td>\n",
       "    </tr>\n",
       "    <tr>\n",
       "      <th>HasCoSigner</th>\n",
       "      <td>0</td>\n",
       "      <td>0.0</td>\n",
       "    </tr>\n",
       "    <tr>\n",
       "      <th>LoanPurpose</th>\n",
       "      <td>0</td>\n",
       "      <td>0.0</td>\n",
       "    </tr>\n",
       "    <tr>\n",
       "      <th>HasDependents</th>\n",
       "      <td>0</td>\n",
       "      <td>0.0</td>\n",
       "    </tr>\n",
       "    <tr>\n",
       "      <th>HasMortgage</th>\n",
       "      <td>0</td>\n",
       "      <td>0.0</td>\n",
       "    </tr>\n",
       "    <tr>\n",
       "      <th>MaritalStatus</th>\n",
       "      <td>0</td>\n",
       "      <td>0.0</td>\n",
       "    </tr>\n",
       "    <tr>\n",
       "      <th>EmploymentType</th>\n",
       "      <td>0</td>\n",
       "      <td>0.0</td>\n",
       "    </tr>\n",
       "    <tr>\n",
       "      <th>Education</th>\n",
       "      <td>0</td>\n",
       "      <td>0.0</td>\n",
       "    </tr>\n",
       "    <tr>\n",
       "      <th>DTIRatio</th>\n",
       "      <td>0</td>\n",
       "      <td>0.0</td>\n",
       "    </tr>\n",
       "    <tr>\n",
       "      <th>LoanTerm</th>\n",
       "      <td>0</td>\n",
       "      <td>0.0</td>\n",
       "    </tr>\n",
       "    <tr>\n",
       "      <th>InterestRate</th>\n",
       "      <td>0</td>\n",
       "      <td>0.0</td>\n",
       "    </tr>\n",
       "    <tr>\n",
       "      <th>NumCreditLines</th>\n",
       "      <td>0</td>\n",
       "      <td>0.0</td>\n",
       "    </tr>\n",
       "    <tr>\n",
       "      <th>MonthsEmployed</th>\n",
       "      <td>0</td>\n",
       "      <td>0.0</td>\n",
       "    </tr>\n",
       "    <tr>\n",
       "      <th>CreditScore</th>\n",
       "      <td>0</td>\n",
       "      <td>0.0</td>\n",
       "    </tr>\n",
       "    <tr>\n",
       "      <th>LoanAmount</th>\n",
       "      <td>0</td>\n",
       "      <td>0.0</td>\n",
       "    </tr>\n",
       "    <tr>\n",
       "      <th>Income</th>\n",
       "      <td>0</td>\n",
       "      <td>0.0</td>\n",
       "    </tr>\n",
       "    <tr>\n",
       "      <th>Default</th>\n",
       "      <td>0</td>\n",
       "      <td>0.0</td>\n",
       "    </tr>\n",
       "  </tbody>\n",
       "</table>\n",
       "</div>"
      ],
      "text/plain": [
       "                count    %\n",
       "LoanID              0  0.0\n",
       "Age                 0  0.0\n",
       "HasCoSigner         0  0.0\n",
       "LoanPurpose         0  0.0\n",
       "HasDependents       0  0.0\n",
       "HasMortgage         0  0.0\n",
       "MaritalStatus       0  0.0\n",
       "EmploymentType      0  0.0\n",
       "Education           0  0.0\n",
       "DTIRatio            0  0.0\n",
       "LoanTerm            0  0.0\n",
       "InterestRate        0  0.0\n",
       "NumCreditLines      0  0.0\n",
       "MonthsEmployed      0  0.0\n",
       "CreditScore         0  0.0\n",
       "LoanAmount          0  0.0\n",
       "Income              0  0.0\n",
       "Default             0  0.0"
      ]
     },
     "execution_count": 30,
     "metadata": {},
     "output_type": "execute_result"
    }
   ],
   "source": [
    "missing = pd.concat([loan_test_data.isnull().sum(), 100 * loan_test_data.isnull().mean()], axis=1)\n",
    "missing.columns=['count', '%']\n",
    "missing.sort_values(by=['count'], ascending = False)"
   ]
  },
  {
   "cell_type": "markdown",
   "metadata": {},
   "source": [
    "This is a very clean dataset where there are no missing values."
   ]
  },
  {
   "cell_type": "code",
   "execution_count": 31,
   "metadata": {},
   "outputs": [],
   "source": [
    "test_data_filtered = loan_test_data.loc[:,['LoanPurpose','HasMortgage','DTIRatio',\n",
    "                                           'LoanTerm','InterestRate','NumCreditLines','MonthsEmployed',\n",
    "                                          'LoanAmount','Income','Default']]"
   ]
  },
  {
   "cell_type": "code",
   "execution_count": 32,
   "metadata": {},
   "outputs": [],
   "source": [
    "column_names = {'LoanPurpose':'purpose',\n",
    "               'HasMortgage':'home_ownership',\n",
    "               'DTIRatio':'dti',\n",
    "               'LoanTerm':'term',\n",
    "               'InterestRate':'int_rate',\n",
    "               'NumCreditLines':'open_acc',\n",
    "               'MonthsEmployed':'emp_length',\n",
    "               'LoanAmount':'loan_amnt',\n",
    "               'Income':'annual_inc',\n",
    "               'Default':'repay_fail'}\n",
    "\n",
    "test_data_filtered.rename(columns=column_names,inplace=True)"
   ]
  },
  {
   "cell_type": "code",
   "execution_count": 33,
   "metadata": {},
   "outputs": [
    {
     "data": {
      "text/plain": [
       "Business     51298\n",
       "Home         51286\n",
       "Education    51005\n",
       "Other        50914\n",
       "Auto         50844\n",
       "Name: purpose, dtype: int64"
      ]
     },
     "execution_count": 33,
     "metadata": {},
     "output_type": "execute_result"
    }
   ],
   "source": [
    "test_data_filtered.purpose.value_counts()"
   ]
  },
  {
   "cell_type": "code",
   "execution_count": 34,
   "metadata": {},
   "outputs": [],
   "source": [
    "new_labels = {'Business':'small_business',\n",
    "             'Home':'home_improvement',\n",
    "             'Education':'educational',\n",
    "             'Other':'other',\n",
    "             'Auto':'car'}\n",
    "\n",
    "test_data_filtered.purpose.replace(new_labels,inplace=True)"
   ]
  },
  {
   "cell_type": "code",
   "execution_count": 35,
   "metadata": {},
   "outputs": [
    {
     "data": {
      "text/plain": [
       "Yes    127677\n",
       "No     127670\n",
       "Name: home_ownership, dtype: int64"
      ]
     },
     "execution_count": 35,
     "metadata": {},
     "output_type": "execute_result"
    }
   ],
   "source": [
    "test_data_filtered.home_ownership.value_counts()"
   ]
  },
  {
   "cell_type": "code",
   "execution_count": 36,
   "metadata": {},
   "outputs": [
    {
     "data": {
      "image/png": "[encoded data removed]",
      "text/plain": [
       "<Figure size 1000x500 with 2 Axes>"
      ]
     },
     "metadata": {},
     "output_type": "display_data"
    }
   ],
   "source": [
    "order = test_data_filtered['home_ownership'].value_counts().index\n",
    "ax = sns.catplot(x = 'home_ownership', kind='count', col = 'repay_fail', data=test_data_filtered, sharey=False,\n",
    "                order = order)\n",
    "ax.set_xticklabels(rotation=90)\n",
    "plt.show()"
   ]
  },
  {
   "cell_type": "code",
   "execution_count": 37,
   "metadata": {},
   "outputs": [],
   "source": [
    "new_labels = {'Yes':'MORTGAGE',\n",
    "             'No':'RENT'}\n",
    "\n",
    "test_data_filtered.loc[:,'home_ownership'].replace(new_labels, inplace=True)"
   ]
  },
  {
   "cell_type": "code",
   "execution_count": 38,
   "metadata": {},
   "outputs": [],
   "source": [
    "test_data_filtered.loc[:,'dti'] = test_data_filtered.loc[:,'dti'] * 100"
   ]
  },
  {
   "cell_type": "code",
   "execution_count": 39,
   "metadata": {},
   "outputs": [],
   "source": [
    "test_data_filtered.loc[:,'open_acc'] = test_data_filtered.loc[:,'open_acc'].astype('float')"
   ]
  },
  {
   "cell_type": "code",
   "execution_count": 40,
   "metadata": {},
   "outputs": [],
   "source": [
    "test_data_filtered.loc[:,'emp_length'] = test_data_filtered.loc[:,'emp_length'] / 12\n",
    "test_data_filtered['emp_length'] = test_data_filtered['emp_length'].apply(np.floor)\n",
    "\n",
    "test_data_filtered['emp_length'] = test_data_filtered['emp_length'].astype(int)"
   ]
  },
  {
   "cell_type": "code",
   "execution_count": 41,
   "metadata": {},
   "outputs": [],
   "source": [
    "test_data_filtered.loc[:,'loan_amnt'] = test_data_filtered.loc[:,'loan_amnt'].astype('float')"
   ]
  },
  {
   "cell_type": "code",
   "execution_count": 42,
   "metadata": {},
   "outputs": [],
   "source": [
    "test_data_filtered.loc[:,'annual_inc'] = test_data_filtered.loc[:,'annual_inc'].astype('float')"
   ]
  },
  {
   "cell_type": "markdown",
   "metadata": {},
   "source": [
    "### 4.10.3 Missing Features"
   ]
  },
  {
   "cell_type": "markdown",
   "metadata": {},
   "source": [
    "Let's import the data after exploratory data analysis to review which features are missing still."
   ]
  },
  {
   "cell_type": "code",
   "execution_count": 43,
   "metadata": {},
   "outputs": [],
   "source": [
    "explored_data = pd.read_csv('../data/interim/explored_data.csv', index_col=0)"
   ]
  },
  {
   "cell_type": "code",
   "execution_count": 44,
   "metadata": {},
   "outputs": [
    {
     "data": {
      "text/plain": [
       "Index(['installment', 'verification_status', 'addr_state', 'delinq_2yrs',\n",
       "       'earliest_cr_line', 'inq_last_6mths', 'pub_rec', 'revol_bal',\n",
       "       'revol_util', 'total_acc', 'annual_inc_log', 'revol_bal_log',\n",
       "       'years_of_credit'],\n",
       "      dtype='object')"
      ]
     },
     "execution_count": 44,
     "metadata": {},
     "output_type": "execute_result"
    }
   ],
   "source": [
    "explored_data.columns[~explored_data.columns.isin(test_data_filtered.columns)]"
   ]
  },
  {
   "cell_type": "code",
   "execution_count": 45,
   "metadata": {},
   "outputs": [
    {
     "data": {
      "text/html": [
       "<div>\n",
       "<style scoped>\n",
       "    .dataframe tbody tr th:only-of-type {\n",
       "        vertical-align: middle;\n",
       "    }\n",
       "\n",
       "    .dataframe tbody tr th {\n",
       "        vertical-align: top;\n",
       "    }\n",
       "\n",
       "    .dataframe thead th {\n",
       "        text-align: right;\n",
       "    }\n",
       "</style>\n",
       "<table border=\"1\" class=\"dataframe\">\n",
       "  <thead>\n",
       "    <tr style=\"text-align: right;\">\n",
       "      <th></th>\n",
       "      <th>installment</th>\n",
       "      <th>loan_amnt</th>\n",
       "      <th>term</th>\n",
       "      <th>int_rate</th>\n",
       "    </tr>\n",
       "  </thead>\n",
       "  <tbody>\n",
       "    <tr>\n",
       "      <th>3</th>\n",
       "      <td>85.42</td>\n",
       "      <td>2500.0</td>\n",
       "      <td>36</td>\n",
       "      <td>13.98</td>\n",
       "    </tr>\n",
       "    <tr>\n",
       "      <th>4</th>\n",
       "      <td>175.67</td>\n",
       "      <td>5000.0</td>\n",
       "      <td>36</td>\n",
       "      <td>15.95</td>\n",
       "    </tr>\n",
       "    <tr>\n",
       "      <th>5</th>\n",
       "      <td>225.58</td>\n",
       "      <td>7000.0</td>\n",
       "      <td>36</td>\n",
       "      <td>9.91</td>\n",
       "    </tr>\n",
       "    <tr>\n",
       "      <th>6</th>\n",
       "      <td>60.32</td>\n",
       "      <td>2000.0</td>\n",
       "      <td>36</td>\n",
       "      <td>5.42</td>\n",
       "    </tr>\n",
       "    <tr>\n",
       "      <th>7</th>\n",
       "      <td>116.59</td>\n",
       "      <td>3600.0</td>\n",
       "      <td>36</td>\n",
       "      <td>10.25</td>\n",
       "    </tr>\n",
       "    <tr>\n",
       "      <th>...</th>\n",
       "      <td>...</td>\n",
       "      <td>...</td>\n",
       "      <td>...</td>\n",
       "      <td>...</td>\n",
       "    </tr>\n",
       "    <tr>\n",
       "      <th>38476</th>\n",
       "      <td>99.63</td>\n",
       "      <td>3000.0</td>\n",
       "      <td>36</td>\n",
       "      <td>11.99</td>\n",
       "    </tr>\n",
       "    <tr>\n",
       "      <th>38477</th>\n",
       "      <td>352.88</td>\n",
       "      <td>10400.0</td>\n",
       "      <td>36</td>\n",
       "      <td>13.49</td>\n",
       "    </tr>\n",
       "    <tr>\n",
       "      <th>38478</th>\n",
       "      <td>250.77</td>\n",
       "      <td>16000.0</td>\n",
       "      <td>60</td>\n",
       "      <td>14.96</td>\n",
       "    </tr>\n",
       "    <tr>\n",
       "      <th>38479</th>\n",
       "      <td>355.99</td>\n",
       "      <td>10000.0</td>\n",
       "      <td>36</td>\n",
       "      <td>16.89</td>\n",
       "    </tr>\n",
       "    <tr>\n",
       "      <th>38480</th>\n",
       "      <td>108.58</td>\n",
       "      <td>3200.0</td>\n",
       "      <td>36</td>\n",
       "      <td>13.49</td>\n",
       "    </tr>\n",
       "  </tbody>\n",
       "</table>\n",
       "<p>38415 rows × 4 columns</p>\n",
       "</div>"
      ],
      "text/plain": [
       "       installment  loan_amnt  term  int_rate\n",
       "3            85.42     2500.0    36     13.98\n",
       "4           175.67     5000.0    36     15.95\n",
       "5           225.58     7000.0    36      9.91\n",
       "6            60.32     2000.0    36      5.42\n",
       "7           116.59     3600.0    36     10.25\n",
       "...            ...        ...   ...       ...\n",
       "38476        99.63     3000.0    36     11.99\n",
       "38477       352.88    10400.0    36     13.49\n",
       "38478       250.77    16000.0    60     14.96\n",
       "38479       355.99    10000.0    36     16.89\n",
       "38480       108.58     3200.0    36     13.49\n",
       "\n",
       "[38415 rows x 4 columns]"
      ]
     },
     "execution_count": 45,
     "metadata": {},
     "output_type": "execute_result"
    }
   ],
   "source": [
    "installment_df = explored_data.loc[:,['installment','loan_amnt','term','int_rate']]\n",
    "\n",
    "installment_df"
   ]
  },
  {
   "cell_type": "code",
   "execution_count": 46,
   "metadata": {},
   "outputs": [],
   "source": [
    "P = installment_df.loan_amnt\n",
    "i = (installment_df.int_rate/100)/12\n",
    "n = installment_df.term\n",
    "\n",
    "var = (1+i)**n\n",
    "\n",
    "installment_df['installment_calc'] = P*(i*var)/(var-1)"
   ]
  },
  {
   "cell_type": "code",
   "execution_count": 47,
   "metadata": {
    "scrolled": false
   },
   "outputs": [
    {
     "data": {
      "text/html": [
       "<div>\n",
       "<style scoped>\n",
       "    .dataframe tbody tr th:only-of-type {\n",
       "        vertical-align: middle;\n",
       "    }\n",
       "\n",
       "    .dataframe tbody tr th {\n",
       "        vertical-align: top;\n",
       "    }\n",
       "\n",
       "    .dataframe thead th {\n",
       "        text-align: right;\n",
       "    }\n",
       "</style>\n",
       "<table border=\"1\" class=\"dataframe\">\n",
       "  <thead>\n",
       "    <tr style=\"text-align: right;\">\n",
       "      <th></th>\n",
       "      <th>installment</th>\n",
       "      <th>installment_calc</th>\n",
       "    </tr>\n",
       "  </thead>\n",
       "  <tbody>\n",
       "    <tr>\n",
       "      <th>3</th>\n",
       "      <td>85.42</td>\n",
       "      <td>85.419792</td>\n",
       "    </tr>\n",
       "    <tr>\n",
       "      <th>4</th>\n",
       "      <td>175.67</td>\n",
       "      <td>175.661765</td>\n",
       "    </tr>\n",
       "    <tr>\n",
       "      <th>5</th>\n",
       "      <td>225.58</td>\n",
       "      <td>225.574645</td>\n",
       "    </tr>\n",
       "    <tr>\n",
       "      <th>6</th>\n",
       "      <td>60.32</td>\n",
       "      <td>60.319663</td>\n",
       "    </tr>\n",
       "    <tr>\n",
       "      <th>7</th>\n",
       "      <td>116.59</td>\n",
       "      <td>116.584877</td>\n",
       "    </tr>\n",
       "    <tr>\n",
       "      <th>...</th>\n",
       "      <td>...</td>\n",
       "      <td>...</td>\n",
       "    </tr>\n",
       "    <tr>\n",
       "      <th>38476</th>\n",
       "      <td>99.63</td>\n",
       "      <td>99.628601</td>\n",
       "    </tr>\n",
       "    <tr>\n",
       "      <th>38477</th>\n",
       "      <td>352.88</td>\n",
       "      <td>352.876688</td>\n",
       "    </tr>\n",
       "    <tr>\n",
       "      <th>38478</th>\n",
       "      <td>250.77</td>\n",
       "      <td>380.303020</td>\n",
       "    </tr>\n",
       "    <tr>\n",
       "      <th>38479</th>\n",
       "      <td>355.99</td>\n",
       "      <td>355.980063</td>\n",
       "    </tr>\n",
       "    <tr>\n",
       "      <th>38480</th>\n",
       "      <td>108.58</td>\n",
       "      <td>108.577442</td>\n",
       "    </tr>\n",
       "  </tbody>\n",
       "</table>\n",
       "<p>38415 rows × 2 columns</p>\n",
       "</div>"
      ],
      "text/plain": [
       "       installment  installment_calc\n",
       "3            85.42         85.419792\n",
       "4           175.67        175.661765\n",
       "5           225.58        225.574645\n",
       "6            60.32         60.319663\n",
       "7           116.59        116.584877\n",
       "...            ...               ...\n",
       "38476        99.63         99.628601\n",
       "38477       352.88        352.876688\n",
       "38478       250.77        380.303020\n",
       "38479       355.99        355.980063\n",
       "38480       108.58        108.577442\n",
       "\n",
       "[38415 rows x 2 columns]"
      ]
     },
     "execution_count": 47,
     "metadata": {},
     "output_type": "execute_result"
    }
   ],
   "source": [
    "installment_df[['installment','installment_calc']]"
   ]
  },
  {
   "cell_type": "code",
   "execution_count": 48,
   "metadata": {},
   "outputs": [],
   "source": [
    "P = test_data_filtered.loan_amnt\n",
    "i = (test_data_filtered.int_rate/100)/12\n",
    "n = test_data_filtered.term\n",
    "\n",
    "var = (1+i)**n\n",
    "\n",
    "test_data_filtered['installment'] = P*(i*var)/(var-1)"
   ]
  },
  {
   "cell_type": "code",
   "execution_count": 49,
   "metadata": {},
   "outputs": [],
   "source": [
    "test_data_filtered['delinq_2yrs'] = explored_data.delinq_2yrs.mode()[0]"
   ]
  },
  {
   "cell_type": "code",
   "execution_count": 50,
   "metadata": {},
   "outputs": [],
   "source": [
    "test_data_filtered['inq_last_6mths'] = explored_data.inq_last_6mths.mode()[0]"
   ]
  },
  {
   "cell_type": "code",
   "execution_count": 51,
   "metadata": {},
   "outputs": [],
   "source": [
    "test_data_filtered['pub_rec'] = explored_data.pub_rec.mode()[0]"
   ]
  },
  {
   "cell_type": "code",
   "execution_count": 52,
   "metadata": {},
   "outputs": [],
   "source": [
    "test_data_filtered['total_acc'] = test_data_filtered.open_acc"
   ]
  },
  {
   "cell_type": "code",
   "execution_count": 53,
   "metadata": {},
   "outputs": [],
   "source": [
    "test_data_filtered['years_of_credit'] = explored_data.years_of_credit.mode()[0]"
   ]
  },
  {
   "cell_type": "code",
   "execution_count": 54,
   "metadata": {},
   "outputs": [],
   "source": [
    "test_data_filtered.loc[:,'annual_inc_log'] = np.log(test_data_filtered['annual_inc'])"
   ]
  },
  {
   "cell_type": "markdown",
   "metadata": {},
   "source": [
    "### 4.10.4 Retrain Model"
   ]
  },
  {
   "cell_type": "markdown",
   "metadata": {},
   "source": [
    "To be able to test on the unseen data and really understand the power of our model, rather than imputing the missing features of the unseen data, we can try and retrain a new model that doesn't include the three missing features that require imputing and see how it affects the original results. If the model doesn't lose lots of predicitive power, then it is safe that we don't need the features to make predictions."
   ]
  },
  {
   "cell_type": "code",
   "execution_count": 55,
   "metadata": {},
   "outputs": [],
   "source": [
    "filtered_data = explored_data.drop(columns=['verification_status', 'revol_bal', 'revol_bal_log', 'revol_util', \n",
    "                                            'addr_state', 'earliest_cr_line'])"
   ]
  },
  {
   "cell_type": "code",
   "execution_count": 56,
   "metadata": {},
   "outputs": [
    {
     "name": "stdout",
     "output_type": "stream",
     "text": [
      "<class 'pandas.core.frame.DataFrame'>\n",
      "Int64Index: 38415 entries, 3 to 38480\n",
      "Data columns (total 23 columns):\n",
      " #   Column               Non-Null Count  Dtype  \n",
      "---  ------               --------------  -----  \n",
      " 0   loan_amnt            38415 non-null  float64\n",
      " 1   term                 38415 non-null  int64  \n",
      " 2   int_rate             38415 non-null  float64\n",
      " 3   installment          38415 non-null  float64\n",
      " 4   emp_length           38415 non-null  int64  \n",
      " 5   home_ownership       38415 non-null  object \n",
      " 6   annual_inc           38415 non-null  float64\n",
      " 7   verification_status  38415 non-null  object \n",
      " 8   purpose              38415 non-null  object \n",
      " 9   addr_state           38415 non-null  object \n",
      " 10  dti                  38415 non-null  float64\n",
      " 11  delinq_2yrs          38415 non-null  float64\n",
      " 12  earliest_cr_line     38415 non-null  object \n",
      " 13  inq_last_6mths       38415 non-null  float64\n",
      " 14  open_acc             38415 non-null  float64\n",
      " 15  pub_rec              38415 non-null  float64\n",
      " 16  revol_bal            38415 non-null  float64\n",
      " 17  revol_util           38415 non-null  float64\n",
      " 18  total_acc            38415 non-null  float64\n",
      " 19  repay_fail           38415 non-null  int64  \n",
      " 20  annual_inc_log       38415 non-null  float64\n",
      " 21  revol_bal_log        38415 non-null  float64\n",
      " 22  years_of_credit      38415 non-null  int64  \n",
      "dtypes: float64(14), int64(4), object(5)\n",
      "memory usage: 7.0+ MB\n"
     ]
    }
   ],
   "source": [
    "explored_data.info()"
   ]
  },
  {
   "cell_type": "code",
   "execution_count": 57,
   "metadata": {},
   "outputs": [
    {
     "data": {
      "text/plain": [
       "debt_consolidation    17901\n",
       "credit_card            4970\n",
       "other                  3936\n",
       "home_improvement       3280\n",
       "major_purchase         2071\n",
       "small_business         1807\n",
       "car                    1477\n",
       "wedding                 908\n",
       "medical                 673\n",
       "moving                  559\n",
       "educational             383\n",
       "vacation                359\n",
       "renewable_energy         91\n",
       "Name: purpose, dtype: int64"
      ]
     },
     "execution_count": 57,
     "metadata": {},
     "output_type": "execute_result"
    }
   ],
   "source": [
    "filtered_data.purpose.value_counts()"
   ]
  },
  {
   "cell_type": "code",
   "execution_count": 58,
   "metadata": {},
   "outputs": [],
   "source": [
    "new_labels = {'moving':'other',\n",
    "             'vacation':'other',\n",
    "             'renewable_energy':'other',\n",
    "             'major_purchase':'other',\n",
    "             'medical':'other',\n",
    "             'wedding':'other'}\n",
    "\n",
    "filtered_data.purpose.replace(new_labels, inplace=True)"
   ]
  },
  {
   "cell_type": "code",
   "execution_count": 59,
   "metadata": {},
   "outputs": [
    {
     "data": {
      "text/plain": [
       "debt_consolidation    17901\n",
       "other                  8597\n",
       "credit_card            4970\n",
       "home_improvement       3280\n",
       "small_business         1807\n",
       "car                    1477\n",
       "educational             383\n",
       "Name: purpose, dtype: int64"
      ]
     },
     "execution_count": 59,
     "metadata": {},
     "output_type": "execute_result"
    }
   ],
   "source": [
    "filtered_data.purpose.value_counts()"
   ]
  },
  {
   "cell_type": "code",
   "execution_count": 60,
   "metadata": {},
   "outputs": [],
   "source": [
    "df_encoded_2 = pd.get_dummies(filtered_data, drop_first=True)"
   ]
  },
  {
   "cell_type": "code",
   "execution_count": 61,
   "metadata": {},
   "outputs": [],
   "source": [
    "#create two different dataframe of majority and minority class \n",
    "df_majority = df_encoded_2[(df_encoded_2['repay_fail']==0)]\n",
    "df_minority = df_encoded_2[(df_encoded_2['repay_fail']==1)]\n",
    "\n",
    "# upsample minority class\n",
    "df_minority_upsampled = resample(df_minority, \n",
    "                                 replace=True,\n",
    "                                 n_samples= 32608,\n",
    "                                 random_state=42)\n",
    "\n",
    "df_upsampled_2 = pd.concat([df_minority_upsampled, df_majority])"
   ]
  },
  {
   "cell_type": "code",
   "execution_count": 62,
   "metadata": {},
   "outputs": [],
   "source": [
    "X_filt = df_upsampled_2.drop(columns=['repay_fail'])\n",
    "y_filt = df_upsampled_2.repay_fail"
   ]
  },
  {
   "cell_type": "code",
   "execution_count": 63,
   "metadata": {},
   "outputs": [],
   "source": [
    "X_train_filt, X_test_filt, y_train_filt, y_test_filt = train_test_split(X_filt, y_filt, test_size=0.25, random_state=42)"
   ]
  },
  {
   "cell_type": "code",
   "execution_count": 64,
   "metadata": {
    "scrolled": true
   },
   "outputs": [
    {
     "data": {
      "text/html": [
       "<div>\n",
       "<style scoped>\n",
       "    .dataframe tbody tr th:only-of-type {\n",
       "        vertical-align: middle;\n",
       "    }\n",
       "\n",
       "    .dataframe tbody tr th {\n",
       "        vertical-align: top;\n",
       "    }\n",
       "\n",
       "    .dataframe thead th {\n",
       "        text-align: right;\n",
       "    }\n",
       "</style>\n",
       "<table border=\"1\" class=\"dataframe\">\n",
       "  <thead>\n",
       "    <tr style=\"text-align: right;\">\n",
       "      <th></th>\n",
       "      <th>precision</th>\n",
       "      <th>recall</th>\n",
       "      <th>f1-score</th>\n",
       "      <th>support</th>\n",
       "    </tr>\n",
       "  </thead>\n",
       "  <tbody>\n",
       "    <tr>\n",
       "      <th>0</th>\n",
       "      <td>0.806181</td>\n",
       "      <td>0.739853</td>\n",
       "      <td>0.771594</td>\n",
       "      <td>8180.000000</td>\n",
       "    </tr>\n",
       "    <tr>\n",
       "      <th>1</th>\n",
       "      <td>0.758099</td>\n",
       "      <td>0.820901</td>\n",
       "      <td>0.788251</td>\n",
       "      <td>8124.000000</td>\n",
       "    </tr>\n",
       "    <tr>\n",
       "      <th>accuracy</th>\n",
       "      <td>0.780238</td>\n",
       "      <td>0.780238</td>\n",
       "      <td>0.780238</td>\n",
       "      <td>0.780238</td>\n",
       "    </tr>\n",
       "    <tr>\n",
       "      <th>macro avg</th>\n",
       "      <td>0.782140</td>\n",
       "      <td>0.780377</td>\n",
       "      <td>0.779923</td>\n",
       "      <td>16304.000000</td>\n",
       "    </tr>\n",
       "    <tr>\n",
       "      <th>weighted avg</th>\n",
       "      <td>0.782223</td>\n",
       "      <td>0.780238</td>\n",
       "      <td>0.779894</td>\n",
       "      <td>16304.000000</td>\n",
       "    </tr>\n",
       "  </tbody>\n",
       "</table>\n",
       "</div>"
      ],
      "text/plain": [
       "              precision    recall  f1-score       support\n",
       "0              0.806181  0.739853  0.771594   8180.000000\n",
       "1              0.758099  0.820901  0.788251   8124.000000\n",
       "accuracy       0.780238  0.780238  0.780238      0.780238\n",
       "macro avg      0.782140  0.780377  0.779923  16304.000000\n",
       "weighted avg   0.782223  0.780238  0.779894  16304.000000"
      ]
     },
     "metadata": {},
     "output_type": "display_data"
    },
    {
     "name": "stdout",
     "output_type": "stream",
     "text": [
      "XGBoost AUC:  0.8586232693374938\n"
     ]
    }
   ],
   "source": [
    "xgb_filt = XGBClassifier(random_state=42)\n",
    "\n",
    "xgb_filt.fit(X_train_filt, y_train_filt)\n",
    "\n",
    "# Predict on test data\n",
    "y_pred_filt = xgb_filt.predict(X_test_filt)\n",
    "\n",
    "# Optionally, get prediction probabilities\n",
    "y_probs_filt = xgb_filt.predict_proba(X_test_filt)[:,1]\n",
    "\n",
    "# Evaluate predictions\n",
    "display(pd.DataFrame(classification_report(y_test_filt, y_pred_filt,output_dict=True)).T)\n",
    "print(\"XGBoost AUC: \", roc_auc_score(y_test_filt, y_probs_filt))"
   ]
  },
  {
   "cell_type": "code",
   "execution_count": 65,
   "metadata": {},
   "outputs": [],
   "source": [
    "potential_grid = {\n",
    "    'n_estimators': [50, 100, 200, 300, 400],\n",
    "    'learning_rate': [0.01, 0.05, 0.1, 0.2, 0.3],\n",
    "    'max_depth': [3, 4, 5, 6, 7, 8],\n",
    "    'min_child_weight': [1, 2, 3, 4, 5],\n",
    "    'gamma': [0, 0.05, 0.1, 0.2, 0.3],\n",
    "    'subsample': [0.6, 0.7, 0.8, 0.9, 1.0],\n",
    "    'colsample_bytree': [0.6, 0.7, 0.8, 0.9, 1.0],\n",
    "    'reg_alpha': [0, 0.05, 0.1, 0.2, 0.3],\n",
    "    'reg_lambda': [0.8, 1.0, 1.2, 1.5, 1.7],\n",
    "    }\n",
    "\n",
    "param_dict = {}\n",
    "\n",
    "for param, values in potential_grid.items():\n",
    "    \n",
    "    optimal_params = {'colsample_bytree': 1.0, 'gamma': 0, 'learning_rate': 0.1, 'max_depth': 6, 'min_child_weight': 1, \n",
    "                  'n_estimators': 200, 'reg_alpha': 0.1, 'reg_lambda': 1, 'subsample': 0.8}\n",
    "    \n",
    "    if param not in param_dict:\n",
    "        param_dict[param] = {}\n",
    "    \n",
    "    for value in values:\n",
    "        \n",
    "        optimal_params[param] = value\n",
    "\n",
    "        xgb_temp = XGBClassifier(**optimal_params, random_state=42)\n",
    "\n",
    "        xgb_temp.fit(X_train_filt, y_train_filt)\n",
    "\n",
    "        xgb_pred = xgb_temp.predict(X_test_filt)\n",
    "\n",
    "        \n",
    "        param_dict[param][value] = f1_score(y_test_filt, xgb_pred)"
   ]
  },
  {
   "cell_type": "code",
   "execution_count": 66,
   "metadata": {},
   "outputs": [
    {
     "data": {
      "image/png": "[encoded data removed]",
      "text/plain": [
       "<Figure size 1200x1200 with 9 Axes>"
      ]
     },
     "metadata": {},
     "output_type": "display_data"
    }
   ],
   "source": [
    "data = []\n",
    "for param, values in param_dict.items():\n",
    "    for value, score in values.items():\n",
    "        data.append({'Parameter': param, 'Value': value, 'F1 Score': score})\n",
    "df = pd.DataFrame(data)\n",
    "\n",
    "g = sns.FacetGrid(df, col=\"Parameter\", col_wrap=3, height=4, sharey=True, sharex=False)\n",
    "g.map(plt.plot, \"Value\", \"F1 Score\", marker=\"o\")\n",
    "\n",
    "# Adding labels and titles\n",
    "g.set_axis_labels(\"\", \"F1 Score\")\n",
    "g.set_titles(\"{col_name}\")\n",
    "\n",
    "# Adjust layout to prevent overlap\n",
    "plt.tight_layout()\n",
    "\n",
    "# Show the plots\n",
    "plt.show()"
   ]
  },
  {
   "cell_type": "code",
   "execution_count": 67,
   "metadata": {},
   "outputs": [
    {
     "name": "stdout",
     "output_type": "stream",
     "text": [
      "Fitting 3 folds for each of 64 candidates, totalling 192 fits\n",
      "Best parameters found:  {'colsample_bytree': 1.0, 'gamma': 0.1, 'min_child_weight': 1, 'reg_alpha': 0.1, 'reg_lambda': 1, 'subsample': 0.8}\n"
     ]
    }
   ],
   "source": [
    "param_grid = {\n",
    "    'min_child_weight': [1, 5],\n",
    "    'gamma': [0, 0.1],\n",
    "    'subsample': [0.8, 1.0],\n",
    "    'colsample_bytree': [0.8, 1.0],\n",
    "    'reg_alpha': [0, 0.1],\n",
    "    'reg_lambda': [1, 1.5]\n",
    "}\n",
    "\n",
    "xgb_temp = XGBClassifier(random_state=42)\n",
    "\n",
    "xgb_temp.fit(X_train_filt, y_train_filt)\n",
    "\n",
    "# Initialize the GridSearchCV object\n",
    "xgb_grid_search_filt = GridSearchCV(estimator=xgb_temp, \n",
    "                           param_grid=param_grid, \n",
    "                           scoring='f1', \n",
    "                           n_jobs=-1, \n",
    "                           cv=3, \n",
    "                           verbose=1)\n",
    "\n",
    "# Fit the grid search to the data\n",
    "xgb_grid_search_filt.fit(X_train_filt, y_train_filt)\n",
    "\n",
    "# Print the best parameters found\n",
    "print(\"Best parameters found: \", xgb_grid_search_filt.best_params_)"
   ]
  },
  {
   "cell_type": "code",
   "execution_count": 68,
   "metadata": {},
   "outputs": [
    {
     "name": "stdout",
     "output_type": "stream",
     "text": [
      "Fitting 3 folds for each of 150 candidates, totalling 450 fits\n",
      "Best parameters found:  {'learning_rate': 0.3, 'max_depth': 8, 'n_estimators': 400}\n",
      "Best F1 found:  0.9100481927447795\n"
     ]
    }
   ],
   "source": [
    "param_grid = {\n",
    "    'n_estimators': [50, 100, 200, 300, 400],\n",
    "    'learning_rate': [0.01, 0.05, 0.1, 0.2, 0.3],\n",
    "    'max_depth': [3, 4, 5, 6, 7, 8],\n",
    "}\n",
    "\n",
    "optimal_params = {'colsample_bytree': 1.0, 'gamma': 0, 'min_child_weight': 1, \n",
    "                  'reg_alpha': 0.1, 'reg_lambda': 1, 'subsample': 0.8}\n",
    "\n",
    "xgb_temp = XGBClassifier(**optimal_params, random_state=42)\n",
    "\n",
    "xgb_temp.fit(X_train_filt, y_train_filt)\n",
    "\n",
    "# Initialize the GridSearchCV object\n",
    "xgb_grid_search_filt = GridSearchCV(estimator=xgb_temp, \n",
    "                           param_grid=param_grid, \n",
    "                           scoring='f1', \n",
    "                           n_jobs=-1, \n",
    "                           cv=3, \n",
    "                           verbose=1)\n",
    "\n",
    "# Fit the grid search to the data\n",
    "xgb_grid_search_filt.fit(X_train_filt, y_train_filt)\n",
    "\n",
    "# Print the best parameters found\n",
    "print(\"Best parameters found: \", xgb_grid_search_filt.best_params_)\n",
    "print(\"Best F1 found: \", xgb_grid_search_filt.best_score_)"
   ]
  },
  {
   "cell_type": "code",
   "execution_count": 69,
   "metadata": {},
   "outputs": [
    {
     "data": {
      "text/html": [
       "<div>\n",
       "<style scoped>\n",
       "    .dataframe tbody tr th:only-of-type {\n",
       "        vertical-align: middle;\n",
       "    }\n",
       "\n",
       "    .dataframe tbody tr th {\n",
       "        vertical-align: top;\n",
       "    }\n",
       "\n",
       "    .dataframe thead th {\n",
       "        text-align: right;\n",
       "    }\n",
       "</style>\n",
       "<table border=\"1\" class=\"dataframe\">\n",
       "  <thead>\n",
       "    <tr style=\"text-align: right;\">\n",
       "      <th></th>\n",
       "      <th>precision</th>\n",
       "      <th>recall</th>\n",
       "      <th>f1-score</th>\n",
       "      <th>support</th>\n",
       "    </tr>\n",
       "  </thead>\n",
       "  <tbody>\n",
       "    <tr>\n",
       "      <th>0</th>\n",
       "      <td>0.987493</td>\n",
       "      <td>0.897677</td>\n",
       "      <td>0.940446</td>\n",
       "      <td>8180.000000</td>\n",
       "    </tr>\n",
       "    <tr>\n",
       "      <th>1</th>\n",
       "      <td>0.905616</td>\n",
       "      <td>0.988552</td>\n",
       "      <td>0.945268</td>\n",
       "      <td>8124.000000</td>\n",
       "    </tr>\n",
       "    <tr>\n",
       "      <th>accuracy</th>\n",
       "      <td>0.942959</td>\n",
       "      <td>0.942959</td>\n",
       "      <td>0.942959</td>\n",
       "      <td>0.942959</td>\n",
       "    </tr>\n",
       "    <tr>\n",
       "      <th>macro avg</th>\n",
       "      <td>0.946554</td>\n",
       "      <td>0.943115</td>\n",
       "      <td>0.942857</td>\n",
       "      <td>16304.000000</td>\n",
       "    </tr>\n",
       "    <tr>\n",
       "      <th>weighted avg</th>\n",
       "      <td>0.946695</td>\n",
       "      <td>0.942959</td>\n",
       "      <td>0.942849</td>\n",
       "      <td>16304.000000</td>\n",
       "    </tr>\n",
       "  </tbody>\n",
       "</table>\n",
       "</div>"
      ],
      "text/plain": [
       "              precision    recall  f1-score       support\n",
       "0              0.987493  0.897677  0.940446   8180.000000\n",
       "1              0.905616  0.988552  0.945268   8124.000000\n",
       "accuracy       0.942959  0.942959  0.942959      0.942959\n",
       "macro avg      0.946554  0.943115  0.942857  16304.000000\n",
       "weighted avg   0.946695  0.942959  0.942849  16304.000000"
      ]
     },
     "metadata": {},
     "output_type": "display_data"
    },
    {
     "name": "stdout",
     "output_type": "stream",
     "text": [
      "XGBoost AUC:  0.9881353687766272\n"
     ]
    }
   ],
   "source": [
    "# Predict on test data\n",
    "y_pred_gs_filt = xgb_grid_search_filt.predict(X_test_filt)\n",
    "\n",
    "# Optionally, get prediction probabilities\n",
    "y_probs_gs_filt = xgb_grid_search_filt.predict_proba(X_test_filt)[:,1]\n",
    "\n",
    "# Evaluate predictions\n",
    "display(pd.DataFrame(classification_report(y_test_filt, y_pred_gs_filt,output_dict=True)).T)\n",
    "print(\"XGBoost AUC: \", roc_auc_score(y_test_filt, y_probs_gs_filt))"
   ]
  },
  {
   "cell_type": "markdown",
   "metadata": {},
   "source": [
    "### 4.10.4 One-Hot Encoding"
   ]
  },
  {
   "cell_type": "code",
   "execution_count": 70,
   "metadata": {},
   "outputs": [],
   "source": [
    "test_data_encoded = pd.get_dummies(test_data_filtered, drop_first=True)"
   ]
  },
  {
   "cell_type": "code",
   "execution_count": 71,
   "metadata": {},
   "outputs": [],
   "source": [
    "test_data_encoded.loc[:, 'home_ownership_OWN'] = 0\n",
    "test_data_encoded.loc[:, 'home_ownership_OTHER'] = 0\n",
    "test_data_encoded.loc[:, 'purpose_debt_consolidation'] = 0\n",
    "test_data_encoded.loc[:, 'purpose_credit_card'] = 0"
   ]
  },
  {
   "cell_type": "markdown",
   "metadata": {},
   "source": [
    "### 4.10.5 Test Model"
   ]
  },
  {
   "cell_type": "code",
   "execution_count": 72,
   "metadata": {},
   "outputs": [],
   "source": [
    "X_test_data = test_data_encoded.drop(columns='repay_fail')\n",
    "y_test_data = test_data_encoded.repay_fail\n",
    "\n",
    "# Reordering columns of X_test_data to match the training data's feature order\n",
    "X_test_data = X_test_data[['loan_amnt', 'term', 'int_rate', 'installment', \n",
    "                           'emp_length', 'annual_inc', 'dti', 'delinq_2yrs', \n",
    "                           'inq_last_6mths', 'open_acc', 'pub_rec', 'total_acc', \n",
    "                           'annual_inc_log', 'years_of_credit', 'home_ownership_OTHER', \n",
    "                           'home_ownership_OWN', 'home_ownership_RENT', 'purpose_credit_card', \n",
    "                           'purpose_debt_consolidation', 'purpose_educational', 'purpose_home_improvement', \n",
    "                           'purpose_other', 'purpose_small_business']]"
   ]
  },
  {
   "cell_type": "code",
   "execution_count": 73,
   "metadata": {},
   "outputs": [],
   "source": [
    "y_pred_test_data = xgb_grid_search_filt.predict(X_test_data)"
   ]
  },
  {
   "cell_type": "code",
   "execution_count": 74,
   "metadata": {},
   "outputs": [],
   "source": [
    "y_probs_test_data = xgb_grid_search_filt.predict_proba(X_test_data)[:,1]"
   ]
  },
  {
   "cell_type": "code",
   "execution_count": 75,
   "metadata": {},
   "outputs": [
    {
     "data": {
      "text/html": [
       "<div>\n",
       "<style scoped>\n",
       "    .dataframe tbody tr th:only-of-type {\n",
       "        vertical-align: middle;\n",
       "    }\n",
       "\n",
       "    .dataframe tbody tr th {\n",
       "        vertical-align: top;\n",
       "    }\n",
       "\n",
       "    .dataframe thead th {\n",
       "        text-align: right;\n",
       "    }\n",
       "</style>\n",
       "<table border=\"1\" class=\"dataframe\">\n",
       "  <thead>\n",
       "    <tr style=\"text-align: right;\">\n",
       "      <th></th>\n",
       "      <th>precision</th>\n",
       "      <th>recall</th>\n",
       "      <th>f1-score</th>\n",
       "      <th>support</th>\n",
       "    </tr>\n",
       "  </thead>\n",
       "  <tbody>\n",
       "    <tr>\n",
       "      <th>0</th>\n",
       "      <td>0.888055</td>\n",
       "      <td>0.939254</td>\n",
       "      <td>0.912937</td>\n",
       "      <td>225694.000000</td>\n",
       "    </tr>\n",
       "    <tr>\n",
       "      <th>1</th>\n",
       "      <td>0.176131</td>\n",
       "      <td>0.098843</td>\n",
       "      <td>0.126625</td>\n",
       "      <td>29653.000000</td>\n",
       "    </tr>\n",
       "    <tr>\n",
       "      <th>accuracy</th>\n",
       "      <td>0.841659</td>\n",
       "      <td>0.841659</td>\n",
       "      <td>0.841659</td>\n",
       "      <td>0.841659</td>\n",
       "    </tr>\n",
       "    <tr>\n",
       "      <th>macro avg</th>\n",
       "      <td>0.532093</td>\n",
       "      <td>0.519049</td>\n",
       "      <td>0.519781</td>\n",
       "      <td>255347.000000</td>\n",
       "    </tr>\n",
       "    <tr>\n",
       "      <th>weighted avg</th>\n",
       "      <td>0.805380</td>\n",
       "      <td>0.841659</td>\n",
       "      <td>0.821624</td>\n",
       "      <td>255347.000000</td>\n",
       "    </tr>\n",
       "  </tbody>\n",
       "</table>\n",
       "</div>"
      ],
      "text/plain": [
       "              precision    recall  f1-score        support\n",
       "0              0.888055  0.939254  0.912937  225694.000000\n",
       "1              0.176131  0.098843  0.126625   29653.000000\n",
       "accuracy       0.841659  0.841659  0.841659       0.841659\n",
       "macro avg      0.532093  0.519049  0.519781  255347.000000\n",
       "weighted avg   0.805380  0.841659  0.821624  255347.000000"
      ]
     },
     "metadata": {},
     "output_type": "display_data"
    },
    {
     "name": "stdout",
     "output_type": "stream",
     "text": [
      "XGBoost AUC:  0.5771639316847871\n"
     ]
    }
   ],
   "source": [
    "display(pd.DataFrame(classification_report(y_test_data, y_pred_test_data,output_dict=True)).T)\n",
    "print(\"XGBoost AUC: \", roc_auc_score(y_test_data, y_probs_test_data))"
   ]
  },
  {
   "cell_type": "markdown",
   "metadata": {},
   "source": [
    "## 4.11 Retrain with Unseen Data"
   ]
  },
  {
   "cell_type": "code",
   "execution_count": 76,
   "metadata": {},
   "outputs": [],
   "source": [
    "#create two different dataframe of majority and minority class \n",
    "df_majority = test_data_encoded[(test_data_encoded['repay_fail']==0)]\n",
    "df_minority = test_data_encoded[(test_data_encoded['repay_fail']==1)]\n",
    "\n",
    "# downsample majority class\n",
    "df_majority_downsampled = resample(df_majority, \n",
    "                                 replace=False,\n",
    "                                 n_samples= len(df_minority),\n",
    "                                 random_state=42)\n",
    "\n",
    "u_downsampled = pd.concat([df_majority_downsampled, df_minority])"
   ]
  },
  {
   "cell_type": "code",
   "execution_count": 77,
   "metadata": {},
   "outputs": [],
   "source": [
    "# u_defaulted = test_data_encoded[test_data_encoded.repay_fail == 1]\n",
    "# u_non_defaulted = test_data_encoded[test_data_encoded.repay_fail == 0]\n",
    "\n",
    "X_u = u_downsampled.drop(columns='repay_fail')\n",
    "y_u = u_downsampled.repay_fail\n",
    "\n",
    "X_u_train, X_u_test, y_u_train, y_u_test = train_test_split(X_u, y_u, test_size=0.5, random_state=42, stratify=y_u)\n",
    "\n",
    "u_data_train = pd.concat([X_u_train, y_u_train], axis=1)\n",
    "u_data_test = pd.concat([X_u_test, y_u_test], axis=1)"
   ]
  },
  {
   "cell_type": "markdown",
   "metadata": {},
   "source": [
    "Performing this even split will rename the `repay_fail` column to `0` in the y datasets. Therefore, we need to rename the columns to be `repay_fail` again that way we receive any errors when training the model."
   ]
  },
  {
   "cell_type": "code",
   "execution_count": 78,
   "metadata": {},
   "outputs": [],
   "source": [
    "u_data_train.rename(columns = {0:'repay_fail'}, inplace=True)\n",
    "u_data_test.rename(columns = {0:'repay_fail'}, inplace=True)"
   ]
  },
  {
   "cell_type": "code",
   "execution_count": 79,
   "metadata": {},
   "outputs": [],
   "source": [
    "new_training_data = pd.concat([df_upsampled_2,u_data_train])"
   ]
  },
  {
   "cell_type": "code",
   "execution_count": 80,
   "metadata": {},
   "outputs": [],
   "source": [
    "X_new = new_training_data.drop(columns='repay_fail')\n",
    "y_new = new_training_data.repay_fail\n",
    "\n",
    "X_train_2, X_test_2, y_train_2, y_test_2 = train_test_split(X_new, y_new, test_size=0.25, random_state=42)"
   ]
  },
  {
   "cell_type": "code",
   "execution_count": 81,
   "metadata": {},
   "outputs": [
    {
     "name": "stdout",
     "output_type": "stream",
     "text": [
      "Fitting 3 folds for each of 64 candidates, totalling 192 fits\n",
      "Best parameters found:  {'colsample_bytree': 1.0, 'gamma': 0, 'min_child_weight': 1, 'reg_alpha': 0.1, 'reg_lambda': 1, 'subsample': 1.0}\n",
      "Best F1 found:  0.7206180304703045\n"
     ]
    }
   ],
   "source": [
    "param_grid = {\n",
    "    'min_child_weight': [1, 5],\n",
    "    'gamma': [0, 0.1],\n",
    "    'subsample': [0.8, 1.0],\n",
    "    'colsample_bytree': [0.8, 1.0],\n",
    "    'reg_alpha': [0, 0.1],\n",
    "    'reg_lambda': [1, 1.5]\n",
    "}\n",
    "\n",
    "xgb_temp = XGBClassifier(random_state=42)\n",
    "\n",
    "xgb_temp.fit(X_train_2, y_train_2)\n",
    "\n",
    "# Initialize the GridSearchCV object\n",
    "xgb_gs_temp = GridSearchCV(estimator=xgb_temp, \n",
    "                           param_grid=param_grid, \n",
    "                           scoring='f1', \n",
    "                           n_jobs=-1, \n",
    "                           cv=3, \n",
    "                           verbose=1)\n",
    "\n",
    "# Fit the grid search to the data\n",
    "xgb_gs_temp.fit(X_train_2, y_train_2)\n",
    "\n",
    "# Print the best parameters found\n",
    "print(\"Best parameters found: \", xgb_gs_temp.best_params_)\n",
    "print(\"Best F1 found: \", xgb_gs_temp.best_score_)"
   ]
  },
  {
   "cell_type": "code",
   "execution_count": 82,
   "metadata": {},
   "outputs": [
    {
     "name": "stdout",
     "output_type": "stream",
     "text": [
      "Fitting 3 folds for each of 150 candidates, totalling 450 fits\n",
      "Best parameters found:  {'learning_rate': 0.3, 'max_depth': 8, 'n_estimators': 400}\n",
      "Best F1 found:  0.8120095636797532\n"
     ]
    }
   ],
   "source": [
    "param_grid = {\n",
    "    'n_estimators': [50, 100, 200, 300, 400],\n",
    "    'learning_rate': [0.01, 0.05, 0.1, 0.2, 0.3],\n",
    "    'max_depth': [3, 4, 5, 6, 7, 8]\n",
    "}\n",
    "\n",
    "optimal_params = {'colsample_bytree': 0.8, 'gamma': 0, 'min_child_weight': 1, \n",
    "                  'reg_alpha': 0, 'reg_lambda': 1, 'subsample': 1.0}\n",
    "\n",
    "xgb_temp = XGBClassifier(**optimal_params, random_state=42)\n",
    "\n",
    "xgb_temp.fit(X_train_2, y_train_2)\n",
    "\n",
    "# Initialize the GridSearchCV object\n",
    "xgb_gs_new = GridSearchCV(estimator=xgb_temp, \n",
    "                           param_grid=param_grid, \n",
    "                           scoring='f1', \n",
    "                           n_jobs=-1, \n",
    "                           cv=3, \n",
    "                           verbose=1)\n",
    "\n",
    "# Fit the grid search to the data\n",
    "xgb_gs_new.fit(X_train_2, y_train_2)\n",
    "\n",
    "# Print the best parameters found\n",
    "print(\"Best parameters found: \", xgb_gs_new.best_params_)\n",
    "print(\"Best F1 found: \", xgb_gs_new.best_score_)"
   ]
  },
  {
   "cell_type": "code",
   "execution_count": 83,
   "metadata": {
    "scrolled": true
   },
   "outputs": [
    {
     "data": {
      "text/html": [
       "<div>\n",
       "<style scoped>\n",
       "    .dataframe tbody tr th:only-of-type {\n",
       "        vertical-align: middle;\n",
       "    }\n",
       "\n",
       "    .dataframe tbody tr th {\n",
       "        vertical-align: top;\n",
       "    }\n",
       "\n",
       "    .dataframe thead th {\n",
       "        text-align: right;\n",
       "    }\n",
       "</style>\n",
       "<table border=\"1\" class=\"dataframe\">\n",
       "  <thead>\n",
       "    <tr style=\"text-align: right;\">\n",
       "      <th></th>\n",
       "      <th>precision</th>\n",
       "      <th>recall</th>\n",
       "      <th>f1-score</th>\n",
       "      <th>support</th>\n",
       "    </tr>\n",
       "  </thead>\n",
       "  <tbody>\n",
       "    <tr>\n",
       "      <th>0</th>\n",
       "      <td>0.850415</td>\n",
       "      <td>0.800168</td>\n",
       "      <td>0.824527</td>\n",
       "      <td>11915.000000</td>\n",
       "    </tr>\n",
       "    <tr>\n",
       "      <th>1</th>\n",
       "      <td>0.809627</td>\n",
       "      <td>0.857917</td>\n",
       "      <td>0.833073</td>\n",
       "      <td>11803.000000</td>\n",
       "    </tr>\n",
       "    <tr>\n",
       "      <th>accuracy</th>\n",
       "      <td>0.828906</td>\n",
       "      <td>0.828906</td>\n",
       "      <td>0.828906</td>\n",
       "      <td>0.828906</td>\n",
       "    </tr>\n",
       "    <tr>\n",
       "      <th>macro avg</th>\n",
       "      <td>0.830021</td>\n",
       "      <td>0.829043</td>\n",
       "      <td>0.828800</td>\n",
       "      <td>23718.000000</td>\n",
       "    </tr>\n",
       "    <tr>\n",
       "      <th>weighted avg</th>\n",
       "      <td>0.830117</td>\n",
       "      <td>0.828906</td>\n",
       "      <td>0.828779</td>\n",
       "      <td>23718.000000</td>\n",
       "    </tr>\n",
       "  </tbody>\n",
       "</table>\n",
       "</div>"
      ],
      "text/plain": [
       "              precision    recall  f1-score       support\n",
       "0              0.850415  0.800168  0.824527  11915.000000\n",
       "1              0.809627  0.857917  0.833073  11803.000000\n",
       "accuracy       0.828906  0.828906  0.828906      0.828906\n",
       "macro avg      0.830021  0.829043  0.828800  23718.000000\n",
       "weighted avg   0.830117  0.828906  0.828779  23718.000000"
      ]
     },
     "metadata": {},
     "output_type": "display_data"
    },
    {
     "name": "stdout",
     "output_type": "stream",
     "text": [
      "XGBoost AUC:  0.9198012098818095\n"
     ]
    }
   ],
   "source": [
    "y_pred_new = xgb_gs_new.predict(X_test_2)\n",
    "\n",
    "y_probs_new = xgb_gs_new.predict_proba(X_test_2)[:,1]\n",
    "\n",
    "display(pd.DataFrame(classification_report(y_test_2, y_pred_new,output_dict=True)).T)\n",
    "print(\"XGBoost AUC: \", roc_auc_score(y_test_2, y_probs_new))"
   ]
  },
  {
   "cell_type": "markdown",
   "metadata": {},
   "source": [
    "This score includes the data we have trained on previously. We want to see how the model will perform on only the unseen data."
   ]
  },
  {
   "cell_type": "code",
   "execution_count": 84,
   "metadata": {},
   "outputs": [],
   "source": [
    "results_dict = {}\n",
    "\n",
    "for i in range(0,201,2):\n",
    "\n",
    "    u_data_futile = u_data_test.sample(100)\n",
    "\n",
    "    X_futile = u_data_futile.drop(columns='repay_fail')\n",
    "    y_futile = u_data_futile.repay_fail\n",
    "\n",
    "    X_futile = X_futile[['loan_amnt', 'term', 'int_rate', 'installment', \n",
    "           'emp_length', 'annual_inc', 'dti', 'delinq_2yrs', \n",
    "           'inq_last_6mths', 'open_acc', 'pub_rec', 'total_acc', \n",
    "           'annual_inc_log', 'years_of_credit', 'home_ownership_OTHER', \n",
    "           'home_ownership_OWN', 'home_ownership_RENT', 'purpose_credit_card', \n",
    "           'purpose_debt_consolidation', 'purpose_educational', 'purpose_home_improvement', \n",
    "           'purpose_other', 'purpose_small_business']]\n",
    "\n",
    "    y_pred_futile = xgb_gs_new.predict(X_futile)\n",
    "    y_probs_futile = xgb_gs_new.predict_proba(X_futile)[:,1]\n",
    "    \n",
    "    report = classification_report(y_futile, y_pred_futile, output_dict=True)\n",
    "    \n",
    "    iterator = iter(report.values())\n",
    "\n",
    "    results_dict[i] = next(iterator)\n",
    "    results_dict[i]['repay_fail'] = 0\n",
    "    \n",
    "    results_dict[i+1] = next(iterator)\n",
    "    results_dict[i+1]['repay_fail'] = 1\n",
    "\n",
    "results_df = pd.DataFrame(results_dict).T"
   ]
  },
  {
   "cell_type": "code",
   "execution_count": 85,
   "metadata": {
    "scrolled": false
   },
   "outputs": [
    {
     "data": {
      "image/png": "[encoded data removed]",
      "text/plain": [
       "<Figure size 1000x500 with 2 Axes>"
      ]
     },
     "metadata": {},
     "output_type": "display_data"
    },
    {
     "data": {
      "image/png": "[encoded data removed]",
      "text/plain": [
       "<Figure size 1000x500 with 2 Axes>"
      ]
     },
     "metadata": {},
     "output_type": "display_data"
    },
    {
     "data": {
      "image/png": "[encoded data removed]",
      "text/plain": [
       "<Figure size 1000x500 with 2 Axes>"
      ]
     },
     "metadata": {},
     "output_type": "display_data"
    }
   ],
   "source": [
    "for col in results_df.columns:\n",
    "    if col not in ['support', 'repay_fail']:\n",
    "        g = sns.displot(x=col, kind='hist', col = 'repay_fail', data=results_df)\n",
    "        plt.show()"
   ]
  },
  {
   "cell_type": "markdown",
   "metadata": {},
   "source": [
    "\n",
    "References\n",
    "1. https://machinelearningmastery.com/hyperparameters-for-classification-machine-learning-algorithms/\n",
    "2. https://towardsdatascience.com/hyperparameter-tuning-the-random-forest-in-python-using-scikit-learn-28d2aa77dd74\n",
    "3. https://www.analyticsvidhya.com/blog/2021/06/5-techniques-to-handle-imbalanced-data-for-a-classification-problem/"
   ]
  }
 ],
 "metadata": {
  "kernelspec": {
   "display_name": "Python 3 (ipykernel)",
   "language": "python",
   "name": "python3"
  },
  "language_info": {
   "codemirror_mode": {
    "name": "ipython",
    "version": 3
   },
   "file_extension": ".py",
   "mimetype": "text/x-python",
   "name": "python",
   "nbconvert_exporter": "python",
   "pygments_lexer": "ipython3",
   "version": "3.10.9"
  },
  "toc": {
   "base_numbering": 1,
   "nav_menu": {},
   "number_sections": true,
   "sideBar": true,
   "skip_h1_title": false,
   "title_cell": "Table of Contents",
   "title_sidebar": "Contents",
   "toc_cell": false,
   "toc_position": {},
   "toc_section_display": true,
   "toc_window_display": true
  },
  "varInspector": {
   "cols": {
    "lenName": 16,
    "lenType": 16,
    "lenVar": 40
   },
   "kernels_config": {
    "python": {
     "delete_cmd_postfix": "",
     "delete_cmd_prefix": "del ",
     "library": "var_list.py",
     "varRefreshCmd": "print(var_dic_list())"
    },
    "r": {
     "delete_cmd_postfix": ") ",
     "delete_cmd_prefix": "rm(",
     "library": "var_list.r",
     "varRefreshCmd": "cat(var_dic_list()) "
    }
   },
   "types_to_exclude": [
    "module",
    "function",
    "builtin_function_or_method",
    "instance",
    "_Feature"
   ],
   "window_display": false
  }
 },
 "nbformat": 4,
 "nbformat_minor": 4
}
